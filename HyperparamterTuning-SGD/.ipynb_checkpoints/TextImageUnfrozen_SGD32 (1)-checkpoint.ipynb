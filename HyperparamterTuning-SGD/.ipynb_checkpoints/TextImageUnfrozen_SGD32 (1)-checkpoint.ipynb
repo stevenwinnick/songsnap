{
 "cells": [
  {
   "cell_type": "markdown",
   "metadata": {},
   "source": [
    "## Import Libraries"
   ]
  },
  {
   "cell_type": "code",
   "execution_count": 2,
   "metadata": {
    "id": "08gBRmUjVEU3"
   },
   "outputs": [],
   "source": [
    "import os\n",
    "import librosa\n",
    "import numpy as np\n",
    "import pandas as pd\n",
    "from tqdm import tqdm\n",
    "from sklearn.preprocessing import StandardScaler\n",
    "import tensorflow as tf\n",
    "from tensorflow.keras.preprocessing import image\n",
    "from tensorflow.keras.applications.efficientnet import preprocess_input\n",
    "import numpy as np\n",
    "from tensorflow.keras.layers import GlobalAveragePooling2D\n",
    "from transformers import BertModel, BertTokenizer\n",
    "import torchvision.models as models\n",
    "from efficientnet_pytorch import EfficientNet"
   ]
  },
  {
   "cell_type": "markdown",
   "metadata": {},
   "source": [
    "#### pip installs"
   ]
  },
  {
   "cell_type": "code",
   "execution_count": 1,
   "metadata": {
    "colab": {
     "base_uri": "https://localhost:8080/"
    },
    "id": "prbl7DdpQcHe",
    "outputId": "079b497a-edea-4551-ba03-862de5c2555e"
   },
   "outputs": [
    {
     "name": "stdout",
     "output_type": "stream",
     "text": [
      "Collecting efficientnet_pytorch\n",
      "  Downloading efficientnet_pytorch-0.7.1.tar.gz (21 kB)\n",
      "  Preparing metadata (setup.py) ... \u001b[?25l\u001b[?25hdone\n",
      "Requirement already satisfied: torch in /usr/local/lib/python3.10/dist-packages (from efficientnet_pytorch) (2.2.1+cu121)\n",
      "Requirement already satisfied: filelock in /usr/local/lib/python3.10/dist-packages (from torch->efficientnet_pytorch) (3.13.4)\n",
      "Requirement already satisfied: typing-extensions>=4.8.0 in /usr/local/lib/python3.10/dist-packages (from torch->efficientnet_pytorch) (4.11.0)\n",
      "Requirement already satisfied: sympy in /usr/local/lib/python3.10/dist-packages (from torch->efficientnet_pytorch) (1.12)\n",
      "Requirement already satisfied: networkx in /usr/local/lib/python3.10/dist-packages (from torch->efficientnet_pytorch) (3.3)\n",
      "Requirement already satisfied: jinja2 in /usr/local/lib/python3.10/dist-packages (from torch->efficientnet_pytorch) (3.1.3)\n",
      "Requirement already satisfied: fsspec in /usr/local/lib/python3.10/dist-packages (from torch->efficientnet_pytorch) (2023.6.0)\n",
      "Collecting nvidia-cuda-nvrtc-cu12==12.1.105 (from torch->efficientnet_pytorch)\n",
      "  Using cached nvidia_cuda_nvrtc_cu12-12.1.105-py3-none-manylinux1_x86_64.whl (23.7 MB)\n",
      "Collecting nvidia-cuda-runtime-cu12==12.1.105 (from torch->efficientnet_pytorch)\n",
      "  Using cached nvidia_cuda_runtime_cu12-12.1.105-py3-none-manylinux1_x86_64.whl (823 kB)\n",
      "Collecting nvidia-cuda-cupti-cu12==12.1.105 (from torch->efficientnet_pytorch)\n",
      "  Using cached nvidia_cuda_cupti_cu12-12.1.105-py3-none-manylinux1_x86_64.whl (14.1 MB)\n",
      "Collecting nvidia-cudnn-cu12==8.9.2.26 (from torch->efficientnet_pytorch)\n",
      "  Using cached nvidia_cudnn_cu12-8.9.2.26-py3-none-manylinux1_x86_64.whl (731.7 MB)\n",
      "Collecting nvidia-cublas-cu12==12.1.3.1 (from torch->efficientnet_pytorch)\n",
      "  Using cached nvidia_cublas_cu12-12.1.3.1-py3-none-manylinux1_x86_64.whl (410.6 MB)\n",
      "Collecting nvidia-cufft-cu12==11.0.2.54 (from torch->efficientnet_pytorch)\n",
      "  Using cached nvidia_cufft_cu12-11.0.2.54-py3-none-manylinux1_x86_64.whl (121.6 MB)\n",
      "Collecting nvidia-curand-cu12==10.3.2.106 (from torch->efficientnet_pytorch)\n",
      "  Using cached nvidia_curand_cu12-10.3.2.106-py3-none-manylinux1_x86_64.whl (56.5 MB)\n",
      "Collecting nvidia-cusolver-cu12==11.4.5.107 (from torch->efficientnet_pytorch)\n",
      "  Using cached nvidia_cusolver_cu12-11.4.5.107-py3-none-manylinux1_x86_64.whl (124.2 MB)\n",
      "Collecting nvidia-cusparse-cu12==12.1.0.106 (from torch->efficientnet_pytorch)\n",
      "  Using cached nvidia_cusparse_cu12-12.1.0.106-py3-none-manylinux1_x86_64.whl (196.0 MB)\n",
      "Collecting nvidia-nccl-cu12==2.19.3 (from torch->efficientnet_pytorch)\n",
      "  Using cached nvidia_nccl_cu12-2.19.3-py3-none-manylinux1_x86_64.whl (166.0 MB)\n",
      "Collecting nvidia-nvtx-cu12==12.1.105 (from torch->efficientnet_pytorch)\n",
      "  Using cached nvidia_nvtx_cu12-12.1.105-py3-none-manylinux1_x86_64.whl (99 kB)\n",
      "Requirement already satisfied: triton==2.2.0 in /usr/local/lib/python3.10/dist-packages (from torch->efficientnet_pytorch) (2.2.0)\n",
      "Collecting nvidia-nvjitlink-cu12 (from nvidia-cusolver-cu12==11.4.5.107->torch->efficientnet_pytorch)\n",
      "  Using cached nvidia_nvjitlink_cu12-12.4.127-py3-none-manylinux2014_x86_64.whl (21.1 MB)\n",
      "Requirement already satisfied: MarkupSafe>=2.0 in /usr/local/lib/python3.10/dist-packages (from jinja2->torch->efficientnet_pytorch) (2.1.5)\n",
      "Requirement already satisfied: mpmath>=0.19 in /usr/local/lib/python3.10/dist-packages (from sympy->torch->efficientnet_pytorch) (1.3.0)\n",
      "Building wheels for collected packages: efficientnet_pytorch\n",
      "  Building wheel for efficientnet_pytorch (setup.py) ... \u001b[?25l\u001b[?25hdone\n",
      "  Created wheel for efficientnet_pytorch: filename=efficientnet_pytorch-0.7.1-py3-none-any.whl size=16429 sha256=c01fd3be6ab993bb6ed324c9786a63712a07b3c9b10d15f85cbb577eb2c7c76b\n",
      "  Stored in directory: /root/.cache/pip/wheels/03/3f/e9/911b1bc46869644912bda90a56bcf7b960f20b5187feea3baf\n",
      "Successfully built efficientnet_pytorch\n",
      "Installing collected packages: nvidia-nvtx-cu12, nvidia-nvjitlink-cu12, nvidia-nccl-cu12, nvidia-curand-cu12, nvidia-cufft-cu12, nvidia-cuda-runtime-cu12, nvidia-cuda-nvrtc-cu12, nvidia-cuda-cupti-cu12, nvidia-cublas-cu12, nvidia-cusparse-cu12, nvidia-cudnn-cu12, nvidia-cusolver-cu12, efficientnet_pytorch\n",
      "Successfully installed efficientnet_pytorch-0.7.1 nvidia-cublas-cu12-12.1.3.1 nvidia-cuda-cupti-cu12-12.1.105 nvidia-cuda-nvrtc-cu12-12.1.105 nvidia-cuda-runtime-cu12-12.1.105 nvidia-cudnn-cu12-8.9.2.26 nvidia-cufft-cu12-11.0.2.54 nvidia-curand-cu12-10.3.2.106 nvidia-cusolver-cu12-11.4.5.107 nvidia-cusparse-cu12-12.1.0.106 nvidia-nccl-cu12-2.19.3 nvidia-nvjitlink-cu12-12.4.127 nvidia-nvtx-cu12-12.1.105\n"
     ]
    }
   ],
   "source": [
    "pip install efficientnet_pytorch\n"
   ]
  },
  {
   "cell_type": "markdown",
   "metadata": {},
   "source": [
    "## Data Loading"
   ]
  },
  {
   "cell_type": "code",
   "execution_count": 3,
   "metadata": {
    "colab": {
     "base_uri": "https://localhost:8080/",
     "height": 142
    },
    "id": "FO5SnxZc7LUh",
    "outputId": "ecfb6e77-81e3-48e2-cfbb-0a7e15ceb73f"
   },
   "outputs": [
    {
     "name": "stderr",
     "output_type": "stream",
     "text": [
      "Downloading...\n",
      "From (original): https://drive.google.com/uc?id=10WknIwgZsduZnPTYUHqjhcu-KKjRUUuU\n",
      "From (redirected): https://drive.google.com/uc?id=10WknIwgZsduZnPTYUHqjhcu-KKjRUUuU&confirm=t&uuid=94cede63-fda3-4615-8b5d-fc7ebee1da6c\n",
      "To: /content/song_snap.zip\n",
      "100%|██████████| 491M/491M [00:04<00:00, 121MB/s] \n"
     ]
    },
    {
     "data": {
      "application/vnd.google.colaboratory.intrinsic+json": {
       "type": "string"
      },
      "text/plain": [
       "'song_snap.zip'"
      ]
     },
     "execution_count": 3,
     "metadata": {},
     "output_type": "execute_result"
    }
   ],
   "source": [
    "import gdown\n",
    "\n",
    "file_url = \"https://drive.google.com/uc?id=10WknIwgZsduZnPTYUHqjhcu-KKjRUUuU\"\n",
    "\n",
    "\n",
    "# Define the output filename\n",
    "output_zip = \"song_snap.zip\"\n",
    "\n",
    "# Download the file\n",
    "gdown.download(file_url, output_zip, quiet=False)"
   ]
  },
  {
   "cell_type": "code",
   "execution_count": 4,
   "metadata": {
    "colab": {
     "base_uri": "https://localhost:8080/"
    },
    "id": "6uiaEKY2W4XA",
    "outputId": "f6768805-3ffa-4026-a949-07f76a1f99fa"
   },
   "outputs": [
    {
     "name": "stdout",
     "output_type": "stream",
     "text": [
      "Archive:  /content/song_snap.zip\n",
      "   creating: ./songsnap_data/\n",
      "  inflating: ./songsnap_data/.DS_Store  \n",
      "  inflating: ./__MACOSX/songsnap_data/._.DS_Store  \n",
      "  inflating: ./songsnap_data/X_image_spectogram.npy  \n",
      "  inflating: ./__MACOSX/songsnap_data/._X_image_spectogram.npy  \n",
      "  inflating: ./songsnap_data/X_lyrics.npy  \n",
      "  inflating: ./__MACOSX/songsnap_data/._X_lyrics.npy  \n",
      "  inflating: ./songsnap_data/targets.csv  \n",
      "  inflating: ./__MACOSX/songsnap_data/._targets.csv  \n",
      "  inflating: ./songsnap_data/X_sound.csv  \n",
      "  inflating: ./__MACOSX/songsnap_data/._X_sound.csv  \n"
     ]
    }
   ],
   "source": [
    "!unzip \"/content/song_snap.zip\" -d ."
   ]
  },
  {
   "cell_type": "code",
   "execution_count": 5,
   "metadata": {
    "colab": {
     "base_uri": "https://localhost:8080/"
    },
    "id": "no5hORFxW9hl",
    "outputId": "ba148e52-61f2-4c30-a9ed-e3a3de6c8e10"
   },
   "outputs": [
    {
     "name": "stdout",
     "output_type": "stream",
     "text": [
      "__MACOSX  sample_data  songsnap_data  song_snap.zip\n"
     ]
    }
   ],
   "source": [
    "!ls"
   ]
  },
  {
   "cell_type": "code",
   "execution_count": 6,
   "metadata": {
    "colab": {
     "base_uri": "https://localhost:8080/"
    },
    "id": "h6GBiuYlXNDj",
    "outputId": "5933a3e8-71b0-41a9-af07-c1a565a51074"
   },
   "outputs": [
    {
     "name": "stdout",
     "output_type": "stream",
     "text": [
      "Contents of the folder:\n",
      "targets.csv\n",
      "X_image_spectogram.npy\n",
      "X_sound.csv\n",
      "X_lyrics.npy\n",
      ".DS_Store\n"
     ]
    }
   ],
   "source": [
    "folder_contents = os.listdir(\"songsnap_data\")\n",
    "\n",
    "print(\"Contents of the folder:\")\n",
    "for item in folder_contents:\n",
    "    print(item)"
   ]
  },
  {
   "cell_type": "markdown",
   "metadata": {},
   "source": [
    "### Reading in Sound, Spectogram, and Lyrics Feature"
   ]
  },
  {
   "cell_type": "code",
   "execution_count": 37,
   "metadata": {
    "id": "GCrbciQsXaPk"
   },
   "outputs": [],
   "source": [
    "X_sound = pd.read_csv(\"./songsnap_data/X_sound.csv\")\n",
    "\n",
    "\n"
   ]
  },
  {
   "cell_type": "code",
   "execution_count": 38,
   "metadata": {
    "colab": {
     "base_uri": "https://localhost:8080/"
    },
    "id": "GJKqKpHCXmai",
    "outputId": "84c8ffcc-a497-406d-fbfb-1b3eec231613"
   },
   "outputs": [
    {
     "data": {
      "text/plain": [
       "(5006, 31)"
      ]
     },
     "execution_count": 38,
     "metadata": {},
     "output_type": "execute_result"
    }
   ],
   "source": [
    "\n",
    "X_sound.shape"
   ]
  },
  {
   "cell_type": "code",
   "execution_count": 39,
   "metadata": {
    "id": "jim9QkINaYlg"
   },
   "outputs": [],
   "source": [
    "num_columns_X_sound = X_sound.shape[1]"
   ]
  },
  {
   "cell_type": "code",
   "execution_count": 40,
   "metadata": {
    "id": "W8FE6qRwXrO5"
   },
   "outputs": [],
   "source": [
    "X_image_spectogram = np.load(\"./songsnap_data/X_image_spectogram.npy\")"
   ]
  },
  {
   "cell_type": "code",
   "execution_count": 44,
   "metadata": {
    "colab": {
     "base_uri": "https://localhost:8080/"
    },
    "id": "CJNPxbz9Xt4c",
    "outputId": "47187394-beb7-4728-8234-0e86c3e7be4f"
   },
   "outputs": [
    {
     "data": {
      "text/plain": [
       "(5006, 224, 224, 3)"
      ]
     },
     "execution_count": 44,
     "metadata": {},
     "output_type": "execute_result"
    }
   ],
   "source": [
    "X_image_spectogram.shape"
   ]
  },
  {
   "cell_type": "code",
   "execution_count": 45,
   "metadata": {
    "id": "hO05UqfTZUV2"
   },
   "outputs": [],
   "source": [
    "X_lyrics = np.load(\"./songsnap_data/X_lyrics.npy\")"
   ]
  },
  {
   "cell_type": "code",
   "execution_count": 46,
   "metadata": {
    "colab": {
     "base_uri": "https://localhost:8080/"
    },
    "id": "gaSImqnXZV1T",
    "outputId": "7746e25a-51bf-483f-839d-f3536e7661a8"
   },
   "outputs": [
    {
     "data": {
      "text/plain": [
       "(5006,)"
      ]
     },
     "execution_count": 46,
     "metadata": {},
     "output_type": "execute_result"
    }
   ],
   "source": [
    "X_lyrics.shape"
   ]
  },
  {
   "cell_type": "code",
   "execution_count": 47,
   "metadata": {
    "id": "JXABj3rHX_jY"
   },
   "outputs": [],
   "source": [
    "y = pd.read_csv(\"./songsnap_data/targets.csv\")"
   ]
  },
  {
   "cell_type": "code",
   "execution_count": 48,
   "metadata": {
    "colab": {
     "base_uri": "https://localhost:8080/"
    },
    "id": "1FHuIC2iYGxa",
    "outputId": "9d66a91b-a03f-46c7-ed0b-e824fd9c4177"
   },
   "outputs": [
    {
     "data": {
      "text/plain": [
       "(5006, 22)"
      ]
     },
     "execution_count": 48,
     "metadata": {},
     "output_type": "execute_result"
    }
   ],
   "source": [
    "y.shape"
   ]
  },
  {
   "cell_type": "code",
   "execution_count": 49,
   "metadata": {
    "id": "cuHHQvgwzpAA"
   },
   "outputs": [],
   "source": [
    "y[\"popularity\"] = y[\"target\"]"
   ]
  },
  {
   "cell_type": "code",
   "execution_count": 52,
   "metadata": {
    "colab": {
     "base_uri": "https://localhost:8080/",
     "height": 446
    },
    "id": "2uXKltyTYLEf",
    "outputId": "47d3aefb-13db-4fdb-8de4-90bae6287e39"
   },
   "outputs": [
    {
     "data": {
      "application/vnd.google.colaboratory.intrinsic+json": {
       "type": "dataframe",
       "variable_name": "y"
      },
      "text/html": [
       "\n",
       "  <div id=\"df-4a397634-6545-47aa-a9e1-79b68cbc15c4\" class=\"colab-df-container\">\n",
       "    <div>\n",
       "<style scoped>\n",
       "    .dataframe tbody tr th:only-of-type {\n",
       "        vertical-align: middle;\n",
       "    }\n",
       "\n",
       "    .dataframe tbody tr th {\n",
       "        vertical-align: top;\n",
       "    }\n",
       "\n",
       "    .dataframe thead th {\n",
       "        text-align: right;\n",
       "    }\n",
       "</style>\n",
       "<table border=\"1\" class=\"dataframe\">\n",
       "  <thead>\n",
       "    <tr style=\"text-align: right;\">\n",
       "      <th></th>\n",
       "      <th>file</th>\n",
       "      <th>Unnamed: 0</th>\n",
       "      <th>uri</th>\n",
       "      <th>danceability</th>\n",
       "      <th>energy</th>\n",
       "      <th>key</th>\n",
       "      <th>loudness</th>\n",
       "      <th>mode</th>\n",
       "      <th>speechiness</th>\n",
       "      <th>acousticness</th>\n",
       "      <th>...</th>\n",
       "      <th>tempo</th>\n",
       "      <th>duration_ms</th>\n",
       "      <th>time_signature</th>\n",
       "      <th>chorus_hit</th>\n",
       "      <th>sections</th>\n",
       "      <th>target</th>\n",
       "      <th>bucket</th>\n",
       "      <th>genre</th>\n",
       "      <th>lyrics</th>\n",
       "      <th>popularity</th>\n",
       "    </tr>\n",
       "  </thead>\n",
       "  <tbody>\n",
       "    <tr>\n",
       "      <th>0</th>\n",
       "      <td>BeiNacht-RioReiser</td>\n",
       "      <td>12991</td>\n",
       "      <td>spotify:track:1uHwyibZtAYFwtFuRboomt</td>\n",
       "      <td>0.648</td>\n",
       "      <td>0.243</td>\n",
       "      <td>9</td>\n",
       "      <td>-16.473</td>\n",
       "      <td>1</td>\n",
       "      <td>0.0395</td>\n",
       "      <td>0.39400</td>\n",
       "      <td>...</td>\n",
       "      <td>121.318</td>\n",
       "      <td>365200</td>\n",
       "      <td>4</td>\n",
       "      <td>61.45136</td>\n",
       "      <td>12</td>\n",
       "      <td>0</td>\n",
       "      <td>BeiNacht-RioReiser.wav</td>\n",
       "      <td>r&amp;b</td>\n",
       "      <td>2 ContributorsBei Nacht Lyrics[Strophe I:]\\nOh...</td>\n",
       "      <td>0</td>\n",
       "    </tr>\n",
       "    <tr>\n",
       "      <th>1</th>\n",
       "      <td>RetratoEmBrancoePreto-ChicoBuarque</td>\n",
       "      <td>1211</td>\n",
       "      <td>spotify:track:2SddU3HytJdbjTqSNVasY6</td>\n",
       "      <td>0.493</td>\n",
       "      <td>0.462</td>\n",
       "      <td>2</td>\n",
       "      <td>-8.773</td>\n",
       "      <td>1</td>\n",
       "      <td>0.0306</td>\n",
       "      <td>0.62400</td>\n",
       "      <td>...</td>\n",
       "      <td>104.237</td>\n",
       "      <td>199067</td>\n",
       "      <td>3</td>\n",
       "      <td>56.13959</td>\n",
       "      <td>9</td>\n",
       "      <td>0</td>\n",
       "      <td>RetratoEmBrancoePreto-ChicoBuarque.wav</td>\n",
       "      <td>pop</td>\n",
       "      <td>4 ContributorsRetrato em Branco e Preto Lyrics...</td>\n",
       "      <td>0</td>\n",
       "    </tr>\n",
       "    <tr>\n",
       "      <th>2</th>\n",
       "      <td>Disorder-2007Remaster-JoyDivision</td>\n",
       "      <td>7311</td>\n",
       "      <td>spotify:track:5fbQCQt91LsVgXusFS0CCD</td>\n",
       "      <td>0.320</td>\n",
       "      <td>0.798</td>\n",
       "      <td>10</td>\n",
       "      <td>-7.078</td>\n",
       "      <td>0</td>\n",
       "      <td>0.1240</td>\n",
       "      <td>0.00033</td>\n",
       "      <td>...</td>\n",
       "      <td>84.696</td>\n",
       "      <td>209040</td>\n",
       "      <td>4</td>\n",
       "      <td>19.35025</td>\n",
       "      <td>8</td>\n",
       "      <td>0</td>\n",
       "      <td>Disorder-2007Remaster-JoyDivision.wav</td>\n",
       "      <td>rock</td>\n",
       "      <td>3 ContributorsReflections on the Revolution in...</td>\n",
       "      <td>0</td>\n",
       "    </tr>\n",
       "    <tr>\n",
       "      <th>3</th>\n",
       "      <td>BonnieAndClyde-VermillionLies</td>\n",
       "      <td>27605</td>\n",
       "      <td>spotify:track:6YFtkgjVwyu74TS5eBvnVN</td>\n",
       "      <td>0.566</td>\n",
       "      <td>0.355</td>\n",
       "      <td>4</td>\n",
       "      <td>-8.261</td>\n",
       "      <td>1</td>\n",
       "      <td>0.0961</td>\n",
       "      <td>0.92500</td>\n",
       "      <td>...</td>\n",
       "      <td>82.260</td>\n",
       "      <td>166853</td>\n",
       "      <td>4</td>\n",
       "      <td>41.20301</td>\n",
       "      <td>9</td>\n",
       "      <td>0</td>\n",
       "      <td>BonnieAndClyde-VermillionLies.wav</td>\n",
       "      <td>pop</td>\n",
       "      <td>1 ContributorBonnie and clyde LyricsMy Dear Cl...</td>\n",
       "      <td>0</td>\n",
       "    </tr>\n",
       "    <tr>\n",
       "      <th>4</th>\n",
       "      <td>TurningWorld-SteveRoach</td>\n",
       "      <td>21476</td>\n",
       "      <td>spotify:track:2NZ8RIm64njysnW6OceMuO</td>\n",
       "      <td>0.510</td>\n",
       "      <td>0.422</td>\n",
       "      <td>8</td>\n",
       "      <td>-23.591</td>\n",
       "      <td>1</td>\n",
       "      <td>0.0366</td>\n",
       "      <td>0.64200</td>\n",
       "      <td>...</td>\n",
       "      <td>89.456</td>\n",
       "      <td>463840</td>\n",
       "      <td>4</td>\n",
       "      <td>32.64560</td>\n",
       "      <td>21</td>\n",
       "      <td>0</td>\n",
       "      <td>TurningWorld-SteveRoach.wav</td>\n",
       "      <td>r&amp;b</td>\n",
       "      <td>1 ContributorBismuth Lyrics[Open Int. Beach Ho...</td>\n",
       "      <td>0</td>\n",
       "    </tr>\n",
       "  </tbody>\n",
       "</table>\n",
       "<p>5 rows × 23 columns</p>\n",
       "</div>\n",
       "    <div class=\"colab-df-buttons\">\n",
       "\n",
       "  <div class=\"colab-df-container\">\n",
       "    <button class=\"colab-df-convert\" onclick=\"convertToInteractive('df-4a397634-6545-47aa-a9e1-79b68cbc15c4')\"\n",
       "            title=\"Convert this dataframe to an interactive table.\"\n",
       "            style=\"display:none;\">\n",
       "\n",
       "  <svg xmlns=\"http://www.w3.org/2000/svg\" height=\"24px\" viewBox=\"0 -960 960 960\">\n",
       "    <path d=\"M120-120v-720h720v720H120Zm60-500h600v-160H180v160Zm220 220h160v-160H400v160Zm0 220h160v-160H400v160ZM180-400h160v-160H180v160Zm440 0h160v-160H620v160ZM180-180h160v-160H180v160Zm440 0h160v-160H620v160Z\"/>\n",
       "  </svg>\n",
       "    </button>\n",
       "\n",
       "  <style>\n",
       "    .colab-df-container {\n",
       "      display:flex;\n",
       "      gap: 12px;\n",
       "    }\n",
       "\n",
       "    .colab-df-convert {\n",
       "      background-color: #E8F0FE;\n",
       "      border: none;\n",
       "      border-radius: 50%;\n",
       "      cursor: pointer;\n",
       "      display: none;\n",
       "      fill: #1967D2;\n",
       "      height: 32px;\n",
       "      padding: 0 0 0 0;\n",
       "      width: 32px;\n",
       "    }\n",
       "\n",
       "    .colab-df-convert:hover {\n",
       "      background-color: #E2EBFA;\n",
       "      box-shadow: 0px 1px 2px rgba(60, 64, 67, 0.3), 0px 1px 3px 1px rgba(60, 64, 67, 0.15);\n",
       "      fill: #174EA6;\n",
       "    }\n",
       "\n",
       "    .colab-df-buttons div {\n",
       "      margin-bottom: 4px;\n",
       "    }\n",
       "\n",
       "    [theme=dark] .colab-df-convert {\n",
       "      background-color: #3B4455;\n",
       "      fill: #D2E3FC;\n",
       "    }\n",
       "\n",
       "    [theme=dark] .colab-df-convert:hover {\n",
       "      background-color: #434B5C;\n",
       "      box-shadow: 0px 1px 3px 1px rgba(0, 0, 0, 0.15);\n",
       "      filter: drop-shadow(0px 1px 2px rgba(0, 0, 0, 0.3));\n",
       "      fill: #FFFFFF;\n",
       "    }\n",
       "  </style>\n",
       "\n",
       "    <script>\n",
       "      const buttonEl =\n",
       "        document.querySelector('#df-4a397634-6545-47aa-a9e1-79b68cbc15c4 button.colab-df-convert');\n",
       "      buttonEl.style.display =\n",
       "        google.colab.kernel.accessAllowed ? 'block' : 'none';\n",
       "\n",
       "      async function convertToInteractive(key) {\n",
       "        const element = document.querySelector('#df-4a397634-6545-47aa-a9e1-79b68cbc15c4');\n",
       "        const dataTable =\n",
       "          await google.colab.kernel.invokeFunction('convertToInteractive',\n",
       "                                                    [key], {});\n",
       "        if (!dataTable) return;\n",
       "\n",
       "        const docLinkHtml = 'Like what you see? Visit the ' +\n",
       "          '<a target=\"_blank\" href=https://colab.research.google.com/notebooks/data_table.ipynb>data table notebook</a>'\n",
       "          + ' to learn more about interactive tables.';\n",
       "        element.innerHTML = '';\n",
       "        dataTable['output_type'] = 'display_data';\n",
       "        await google.colab.output.renderOutput(dataTable, element);\n",
       "        const docLink = document.createElement('div');\n",
       "        docLink.innerHTML = docLinkHtml;\n",
       "        element.appendChild(docLink);\n",
       "      }\n",
       "    </script>\n",
       "  </div>\n",
       "\n",
       "\n",
       "<div id=\"df-281ce87a-3709-4732-be7e-a05f8ea42af0\">\n",
       "  <button class=\"colab-df-quickchart\" onclick=\"quickchart('df-281ce87a-3709-4732-be7e-a05f8ea42af0')\"\n",
       "            title=\"Suggest charts\"\n",
       "            style=\"display:none;\">\n",
       "\n",
       "<svg xmlns=\"http://www.w3.org/2000/svg\" height=\"24px\"viewBox=\"0 0 24 24\"\n",
       "     width=\"24px\">\n",
       "    <g>\n",
       "        <path d=\"M19 3H5c-1.1 0-2 .9-2 2v14c0 1.1.9 2 2 2h14c1.1 0 2-.9 2-2V5c0-1.1-.9-2-2-2zM9 17H7v-7h2v7zm4 0h-2V7h2v10zm4 0h-2v-4h2v4z\"/>\n",
       "    </g>\n",
       "</svg>\n",
       "  </button>\n",
       "\n",
       "<style>\n",
       "  .colab-df-quickchart {\n",
       "      --bg-color: #E8F0FE;\n",
       "      --fill-color: #1967D2;\n",
       "      --hover-bg-color: #E2EBFA;\n",
       "      --hover-fill-color: #174EA6;\n",
       "      --disabled-fill-color: #AAA;\n",
       "      --disabled-bg-color: #DDD;\n",
       "  }\n",
       "\n",
       "  [theme=dark] .colab-df-quickchart {\n",
       "      --bg-color: #3B4455;\n",
       "      --fill-color: #D2E3FC;\n",
       "      --hover-bg-color: #434B5C;\n",
       "      --hover-fill-color: #FFFFFF;\n",
       "      --disabled-bg-color: #3B4455;\n",
       "      --disabled-fill-color: #666;\n",
       "  }\n",
       "\n",
       "  .colab-df-quickchart {\n",
       "    background-color: var(--bg-color);\n",
       "    border: none;\n",
       "    border-radius: 50%;\n",
       "    cursor: pointer;\n",
       "    display: none;\n",
       "    fill: var(--fill-color);\n",
       "    height: 32px;\n",
       "    padding: 0;\n",
       "    width: 32px;\n",
       "  }\n",
       "\n",
       "  .colab-df-quickchart:hover {\n",
       "    background-color: var(--hover-bg-color);\n",
       "    box-shadow: 0 1px 2px rgba(60, 64, 67, 0.3), 0 1px 3px 1px rgba(60, 64, 67, 0.15);\n",
       "    fill: var(--button-hover-fill-color);\n",
       "  }\n",
       "\n",
       "  .colab-df-quickchart-complete:disabled,\n",
       "  .colab-df-quickchart-complete:disabled:hover {\n",
       "    background-color: var(--disabled-bg-color);\n",
       "    fill: var(--disabled-fill-color);\n",
       "    box-shadow: none;\n",
       "  }\n",
       "\n",
       "  .colab-df-spinner {\n",
       "    border: 2px solid var(--fill-color);\n",
       "    border-color: transparent;\n",
       "    border-bottom-color: var(--fill-color);\n",
       "    animation:\n",
       "      spin 1s steps(1) infinite;\n",
       "  }\n",
       "\n",
       "  @keyframes spin {\n",
       "    0% {\n",
       "      border-color: transparent;\n",
       "      border-bottom-color: var(--fill-color);\n",
       "      border-left-color: var(--fill-color);\n",
       "    }\n",
       "    20% {\n",
       "      border-color: transparent;\n",
       "      border-left-color: var(--fill-color);\n",
       "      border-top-color: var(--fill-color);\n",
       "    }\n",
       "    30% {\n",
       "      border-color: transparent;\n",
       "      border-left-color: var(--fill-color);\n",
       "      border-top-color: var(--fill-color);\n",
       "      border-right-color: var(--fill-color);\n",
       "    }\n",
       "    40% {\n",
       "      border-color: transparent;\n",
       "      border-right-color: var(--fill-color);\n",
       "      border-top-color: var(--fill-color);\n",
       "    }\n",
       "    60% {\n",
       "      border-color: transparent;\n",
       "      border-right-color: var(--fill-color);\n",
       "    }\n",
       "    80% {\n",
       "      border-color: transparent;\n",
       "      border-right-color: var(--fill-color);\n",
       "      border-bottom-color: var(--fill-color);\n",
       "    }\n",
       "    90% {\n",
       "      border-color: transparent;\n",
       "      border-bottom-color: var(--fill-color);\n",
       "    }\n",
       "  }\n",
       "</style>\n",
       "\n",
       "  <script>\n",
       "    async function quickchart(key) {\n",
       "      const quickchartButtonEl =\n",
       "        document.querySelector('#' + key + ' button');\n",
       "      quickchartButtonEl.disabled = true;  // To prevent multiple clicks.\n",
       "      quickchartButtonEl.classList.add('colab-df-spinner');\n",
       "      try {\n",
       "        const charts = await google.colab.kernel.invokeFunction(\n",
       "            'suggestCharts', [key], {});\n",
       "      } catch (error) {\n",
       "        console.error('Error during call to suggestCharts:', error);\n",
       "      }\n",
       "      quickchartButtonEl.classList.remove('colab-df-spinner');\n",
       "      quickchartButtonEl.classList.add('colab-df-quickchart-complete');\n",
       "    }\n",
       "    (() => {\n",
       "      let quickchartButtonEl =\n",
       "        document.querySelector('#df-281ce87a-3709-4732-be7e-a05f8ea42af0 button');\n",
       "      quickchartButtonEl.style.display =\n",
       "        google.colab.kernel.accessAllowed ? 'block' : 'none';\n",
       "    })();\n",
       "  </script>\n",
       "</div>\n",
       "    </div>\n",
       "  </div>\n"
      ],
      "text/plain": [
       "                                 file  Unnamed: 0  \\\n",
       "0                  BeiNacht-RioReiser       12991   \n",
       "1  RetratoEmBrancoePreto-ChicoBuarque        1211   \n",
       "2   Disorder-2007Remaster-JoyDivision        7311   \n",
       "3       BonnieAndClyde-VermillionLies       27605   \n",
       "4             TurningWorld-SteveRoach       21476   \n",
       "\n",
       "                                    uri  danceability  energy  key  loudness  \\\n",
       "0  spotify:track:1uHwyibZtAYFwtFuRboomt         0.648   0.243    9   -16.473   \n",
       "1  spotify:track:2SddU3HytJdbjTqSNVasY6         0.493   0.462    2    -8.773   \n",
       "2  spotify:track:5fbQCQt91LsVgXusFS0CCD         0.320   0.798   10    -7.078   \n",
       "3  spotify:track:6YFtkgjVwyu74TS5eBvnVN         0.566   0.355    4    -8.261   \n",
       "4  spotify:track:2NZ8RIm64njysnW6OceMuO         0.510   0.422    8   -23.591   \n",
       "\n",
       "   mode  speechiness  acousticness  ...    tempo  duration_ms  time_signature  \\\n",
       "0     1       0.0395       0.39400  ...  121.318       365200               4   \n",
       "1     1       0.0306       0.62400  ...  104.237       199067               3   \n",
       "2     0       0.1240       0.00033  ...   84.696       209040               4   \n",
       "3     1       0.0961       0.92500  ...   82.260       166853               4   \n",
       "4     1       0.0366       0.64200  ...   89.456       463840               4   \n",
       "\n",
       "   chorus_hit  sections  target                                  bucket  \\\n",
       "0    61.45136        12       0                  BeiNacht-RioReiser.wav   \n",
       "1    56.13959         9       0  RetratoEmBrancoePreto-ChicoBuarque.wav   \n",
       "2    19.35025         8       0   Disorder-2007Remaster-JoyDivision.wav   \n",
       "3    41.20301         9       0       BonnieAndClyde-VermillionLies.wav   \n",
       "4    32.64560        21       0             TurningWorld-SteveRoach.wav   \n",
       "\n",
       "   genre                                             lyrics popularity  \n",
       "0    r&b  2 ContributorsBei Nacht Lyrics[Strophe I:]\\nOh...          0  \n",
       "1    pop  4 ContributorsRetrato em Branco e Preto Lyrics...          0  \n",
       "2   rock  3 ContributorsReflections on the Revolution in...          0  \n",
       "3    pop  1 ContributorBonnie and clyde LyricsMy Dear Cl...          0  \n",
       "4    r&b  1 ContributorBismuth Lyrics[Open Int. Beach Ho...          0  \n",
       "\n",
       "[5 rows x 23 columns]"
      ]
     },
     "execution_count": 52,
     "metadata": {},
     "output_type": "execute_result"
    }
   ],
   "source": [
    "y.head()"
   ]
  },
  {
   "cell_type": "code",
   "execution_count": 53,
   "metadata": {
    "id": "9t7gLINxZ5TD"
   },
   "outputs": [],
   "source": [
    "y_genre = []\n",
    "y_popularity = []\n",
    "y_danceability =[]\n",
    "y_energy = []\n",
    "\n",
    "for index, row in y.iterrows():\n",
    "    y_popularity.append(row[\"popularity\"])\n",
    "    y_genre.append((row[\"genre\"]))\n",
    "    y_danceability.append(row[\"danceability\"])\n",
    "    y_energy.append(row[\"energy\"])\n"
   ]
  },
  {
   "cell_type": "code",
   "execution_count": 54,
   "metadata": {
    "id": "RSuUur2sZ9y_"
   },
   "outputs": [],
   "source": [
    "y_genre = np.array(y_genre)\n",
    "y_popularity = np.array(y_popularity)\n",
    "y_danceability = np.array(y_danceability)\n",
    "y_energy = np.array(y_energy)"
   ]
  },
  {
   "cell_type": "code",
   "execution_count": 55,
   "metadata": {
    "id": "9YfVTzSnaEzs"
   },
   "outputs": [],
   "source": [
    "from sklearn.preprocessing import LabelEncoder\n",
    "label_encoder = LabelEncoder()\n",
    "y_genre = label_encoder.fit_transform(y_genre)"
   ]
  },
  {
   "cell_type": "code",
   "execution_count": 56,
   "metadata": {
    "colab": {
     "base_uri": "https://localhost:8080/"
    },
    "id": "BH0-9CR6kFKA",
    "outputId": "8a55bc37-4a49-45d3-92ac-095a1a782e31"
   },
   "outputs": [
    {
     "name": "stdout",
     "output_type": "stream",
     "text": [
      "7\n"
     ]
    }
   ],
   "source": [
    "num_unique_genres = len(label_encoder.classes_)\n",
    "print(num_unique_genres)"
   ]
  },
  {
   "cell_type": "markdown",
   "metadata": {
    "id": "MMV7MEkvEuFi"
   },
   "source": [
    "# Train-test split"
   ]
  },
  {
   "cell_type": "code",
   "execution_count": 57,
   "metadata": {
    "colab": {
     "base_uri": "https://localhost:8080/"
    },
    "id": "-nB-E5yfkGxN",
    "outputId": "eaea20dd-79d7-42e6-9878-2d51d4d0988a"
   },
   "outputs": [
    {
     "data": {
      "text/plain": [
       "5006"
      ]
     },
     "execution_count": 57,
     "metadata": {},
     "output_type": "execute_result"
    }
   ],
   "source": [
    "total_elements = len(X_sound)\n",
    "total_elements"
   ]
  },
  {
   "cell_type": "code",
   "execution_count": 58,
   "metadata": {
    "colab": {
     "base_uri": "https://localhost:8080/"
    },
    "id": "n0asmKLSCAFk",
    "outputId": "bef75724-b376-4e81-ea12-2521bfd2d902"
   },
   "outputs": [
    {
     "name": "stdout",
     "output_type": "stream",
     "text": [
      "1001\n",
      "4005\n"
     ]
    }
   ],
   "source": [
    "import random\n",
    "num_test_indices = int(0.20 * total_elements)\n",
    "test_indices = random.sample(range(total_elements), num_test_indices)\n",
    "train_indices = [i for i in range(total_elements) if i not in test_indices]\n",
    "print(len(test_indices))\n",
    "print(len(train_indices))"
   ]
  },
  {
   "cell_type": "code",
   "execution_count": 59,
   "metadata": {
    "id": "diwLotMfCAHw"
   },
   "outputs": [],
   "source": [
    "X_sound_train = X_sound.iloc[train_indices]\n",
    "X_image_spectogram_train = X_image_spectogram[train_indices]\n",
    "X_lyrics_train = X_lyrics[train_indices]\n",
    "\n",
    "\n",
    "X_sound_test = X_sound.iloc[test_indices]\n",
    "X_image_spectogram_test = X_image_spectogram[test_indices]\n",
    "X_lyrics_test = X_lyrics[test_indices]"
   ]
  },
  {
   "cell_type": "code",
   "execution_count": 60,
   "metadata": {
    "id": "4SqU4F3uCAKa"
   },
   "outputs": [],
   "source": [
    "y_genre_train = [y_genre[i] for i in train_indices]\n",
    "y_popularity_train = [y_popularity[i] for i in train_indices]\n",
    "y_danceability_train = [y_danceability[i] for i in train_indices]\n",
    "y_energy_train = [y_energy[i] for i in train_indices]\n",
    "\n",
    "y_genre_test = [y_genre[i] for i in test_indices]\n",
    "y_popularity_test = [y_popularity[i] for i in test_indices]\n",
    "y_danceability_test = [y_danceability[i] for i in test_indices]\n",
    "y_energy_test = [y_energy[i] for i in test_indices]"
   ]
  },
  {
   "cell_type": "code",
   "execution_count": 60,
   "metadata": {
    "id": "zdpzPmcgjsAL"
   },
   "outputs": [],
   "source": []
  },
  {
   "cell_type": "code",
   "execution_count": 60,
   "metadata": {
    "id": "tzbpYKykjsCf"
   },
   "outputs": [],
   "source": []
  },
  {
   "cell_type": "markdown",
   "metadata": {
    "id": "R9NI5fkLHLdF"
   },
   "source": [
    "# Model Definition - UnFrozen Weights"
   ]
  },
  {
   "cell_type": "code",
   "execution_count": 61,
   "metadata": {
    "id": "W1oPMn8ajsEx"
   },
   "outputs": [],
   "source": [
    "import torch"
   ]
  },
  {
   "cell_type": "code",
   "execution_count": 62,
   "metadata": {
    "id": "NKgUUbvbjsHD"
   },
   "outputs": [],
   "source": [
    "device = torch.device(\"cuda\" if torch.cuda.is_available() else \"cpu\")\n"
   ]
  },
  {
   "cell_type": "code",
   "execution_count": 63,
   "metadata": {
    "colab": {
     "base_uri": "https://localhost:8080/"
    },
    "id": "yPvSBQHpjxTr",
    "outputId": "ebabc710-900d-4ebc-a11d-b9b08b9c1fb0"
   },
   "outputs": [
    {
     "data": {
      "text/plain": [
       "device(type='cuda')"
      ]
     },
     "execution_count": 63,
     "metadata": {},
     "output_type": "execute_result"
    }
   ],
   "source": [
    "device"
   ]
  },
  {
   "cell_type": "code",
   "execution_count": 64,
   "metadata": {
    "id": "hqLLA-UkuVx3"
   },
   "outputs": [],
   "source": [
    "import os\n",
    "os.environ['CUDA_LAUNCH_BLOCKING'] = '1'"
   ]
  },
  {
   "cell_type": "code",
   "execution_count": 65,
   "metadata": {
    "colab": {
     "base_uri": "https://localhost:8080/"
    },
    "id": "zrEfvO3jyyh2",
    "outputId": "be28352a-3920-4572-be4b-dc2a48c5e027"
   },
   "outputs": [
    {
     "name": "stdout",
     "output_type": "stream",
     "text": [
      "Loaded pretrained weights for efficientnet-b0\n",
      "<class 'pandas.core.frame.DataFrame'>\n"
     ]
    },
    {
     "name": "stderr",
     "output_type": "stream",
     "text": [
      "Token indices sequence length is longer than the specified maximum sequence length for this model (523 > 512). Running this sequence through the model will result in indexing errors\n"
     ]
    },
    {
     "name": "stdout",
     "output_type": "stream",
     "text": [
      "Epoch 1\n",
      "Genre loss: 1.937290906906128\n",
      "Popularity loss: 0.7024291753768921\n",
      "Danceability loss: 0.03436777740716934\n",
      "Energy loss: 0.05032629519701004\n",
      "\n",
      "Epoch 2\n",
      "Genre loss: 1.9364902973175049\n",
      "Popularity loss: 0.7025454044342041\n",
      "Danceability loss: 0.03435368463397026\n",
      "Energy loss: 0.04966467246413231\n",
      "\n",
      "Epoch 3\n",
      "Genre loss: 1.9357904195785522\n",
      "Popularity loss: 0.7024649381637573\n",
      "Danceability loss: 0.03417865186929703\n",
      "Energy loss: 0.049338243901729584\n",
      "\n",
      "Epoch 4\n",
      "Genre loss: 1.9349392652511597\n",
      "Popularity loss: 0.7020168304443359\n",
      "Danceability loss: 0.03357314318418503\n",
      "Energy loss: 0.04889155924320221\n",
      "\n",
      "Epoch 5\n",
      "Genre loss: 1.9343147277832031\n",
      "Popularity loss: 0.7018419504165649\n",
      "Danceability loss: 0.03351844474673271\n",
      "Energy loss: 0.04845045506954193\n",
      "\n",
      "Epoch 6\n",
      "Genre loss: 1.9338247776031494\n",
      "Popularity loss: 0.7011712789535522\n",
      "Danceability loss: 0.033365242183208466\n",
      "Energy loss: 0.0483924075961113\n",
      "\n",
      "Epoch 7\n",
      "Genre loss: 1.933328628540039\n",
      "Popularity loss: 0.7018156051635742\n",
      "Danceability loss: 0.032841816544532776\n",
      "Energy loss: 0.047954313457012177\n",
      "\n",
      "Epoch 8\n",
      "Genre loss: 1.9327856302261353\n",
      "Popularity loss: 0.701956033706665\n",
      "Danceability loss: 0.03281167149543762\n",
      "Energy loss: 0.04836086928844452\n",
      "\n",
      "Epoch 9\n",
      "Genre loss: 1.9321156740188599\n",
      "Popularity loss: 0.7002871036529541\n",
      "Danceability loss: 0.032872267067432404\n",
      "Energy loss: 0.04782692342996597\n",
      "\n",
      "Epoch 10\n",
      "Genre loss: 1.9311747550964355\n",
      "Popularity loss: 0.7016331553459167\n",
      "Danceability loss: 0.03241041302680969\n",
      "Energy loss: 0.047890156507492065\n",
      "\n"
     ]
    }
   ],
   "source": [
    "import torch\n",
    "import torch.nn as nn\n",
    "import torch.optim as optim\n",
    "\n",
    "# SoundModalityModel creates the sound embeddings based on the SLP features\n",
    "class SoundModalityModel(nn.Module):\n",
    "    def __init__(self, num_columns_X_sound):\n",
    "        super(SoundModalityModel, self).__init__()\n",
    "        self.sound_embedding = nn.Sequential(\n",
    "            nn.Linear(num_columns_X_sound, 64),\n",
    "            nn.ReLU(),\n",
    "            nn.Linear(64, 8),\n",
    "            nn.ReLU()\n",
    "        )\n",
    "\n",
    "    def forward(self, input_sound):\n",
    "        sound_embedding = self.sound_embedding(input_sound)\n",
    "        return sound_embedding\n",
    "\n",
    "\n",
    "class ImageModalityModel(nn.Module):\n",
    "    def __init__(self, embedding_size=8):\n",
    "        super(ImageModalityModel, self).__init__()\n",
    "        self.efficientnet = EfficientNet.from_pretrained('efficientnet-b0')\n",
    "\n",
    "        # Unfreeze the parameters of the layer preceding the fully connected layer\n",
    "        for param in self.efficientnet[-1].parameters():\n",
    "            param.requires_grad = True\n",
    "\n",
    "        # Replace the final fully connected layer with a new one\n",
    "        self.efficientnet._fc = nn.Linear(self.efficientnet._fc.in_features, embedding_size)\n",
    "        \n",
    "        # Unfreeze the parameters of the last layer\n",
    "        for param in self.efficientnet._fc.parameters():\n",
    "            param.requires_grad = True\n",
    "\n",
    "    def forward(self, input_image):\n",
    "        # Forward pass through EfficientNet\n",
    "        output = self.efficientnet(input_image)\n",
    "        return output\n",
    "\n",
    "\n",
    "class TextModalityModel(nn.Module):\n",
    "    def __init__(self, embedding_size=8, freeze_bert=True):\n",
    "        super(TextModalityModel, self).__init__()\n",
    "        self.tokenizer = BertTokenizer.from_pretrained('bert-base-uncased')\n",
    "        self.bert = BertModel.from_pretrained('bert-base-uncased')\n",
    "\n",
    "        # Freeze the BERT weights if freeze_bert is True\n",
    "        if freeze_bert:\n",
    "            for param in self.bert.parameters():\n",
    "                param.requires_grad = False\n",
    "\n",
    "        for param in self.bert.encoder.layer[-3:].parameters():\n",
    "                param.requires_grad = True\n",
    "\n",
    "        # Maps to size 8 embedding\n",
    "        self.fc = nn.Linear(self.bert.config.hidden_size, embedding_size)\n",
    "\n",
    "    def forward(self, input_ids, attention_mask=None):\n",
    "        # Forward pass through BERT\n",
    "        outputs = self.bert(input_ids, attention_mask=attention_mask)\n",
    "\n",
    "        # Extract the last hidden states\n",
    "        last_hidden_states = outputs.last_hidden_state\n",
    "\n",
    "        # Take the mean of the last hidden states (reduce it to 1 dimension)\n",
    "        mean_last_hidden_state = torch.mean(last_hidden_states, dim=1)\n",
    "\n",
    "        # Pass the mean last hidden states through the fully connected layer (maps to size 8 embedding)\n",
    "        output = self.fc(mean_last_hidden_state)\n",
    "\n",
    "        return output\n",
    "\n",
    "\n",
    "\n",
    "# Overall model that combines the embeddings from the three modalities and produces 4 outputs\n",
    "# Separate fully connected layers for genre, popularity, danceability, and energy\n",
    "class OverallModel(nn.Module):\n",
    "    def __init__(self, num_modalities, num_genres):\n",
    "        super(OverallModel, self).__init__()\n",
    "        self.concatenated_output_size = 8 * num_modalities\n",
    "        self.fc1 = nn.Linear(self.concatenated_output_size, 64)\n",
    "        self.fc2_genre = nn.Linear(64, num_genres)\n",
    "        self.fc3_popularity = nn.Linear(64, 1)\n",
    "        self.fc4_danceability = nn.Linear(64, 1)\n",
    "        self.fc5_energy = nn.Linear(64, 1)\n",
    "\n",
    "    def forward(self, sound_embedding, spec_embedding, text_embedding):\n",
    "        concatenated_embedding = torch.cat((sound_embedding, spec_embedding, text_embedding), dim=1)\n",
    "\n",
    "        x = torch.relu(self.fc1(concatenated_embedding))\n",
    "        genre_output = torch.softmax(self.fc2_genre(x), dim=-1)\n",
    "        popularity_output = torch.sigmoid(self.fc3_popularity(x))\n",
    "        danceability_output = torch.sigmoid(self.fc4_danceability(x))\n",
    "        energy_output = torch.sigmoid(self.fc5_energy(x))\n",
    "        return genre_output, popularity_output, danceability_output, energy_output\n",
    "\n",
    "num_modalities = 3 \n",
    "num_genres = num_unique_genres\n",
    "\n",
    "sound_model = SoundModalityModel(num_columns_X_sound).to(device)\n",
    "spec_model = ImageModalityModel().to(device)\n",
    "text_model = TextModalityModel().to(device)\n",
    "\n",
    "overall_model = OverallModel(num_modalities, num_genres).to(device)\n",
    "\n",
    "\n",
    "# Create optimizers for each of our models (modality models as well as genre, popularity, danceability, energy)\n",
    "optimizer_sound = optim.SGD(sound_model.parameters())\n",
    "optimizer_spec = optim.SGD(spec_model.parameters())\n",
    "\n",
    "optimizer_genre = optim.SGD(overall_model.fc2_genre.parameters())\n",
    "optimizer_popularity = optim.SGD(overall_model.fc3_popularity.parameters())\n",
    "optimizer_danceability = optim.SGD(overall_model.fc4_danceability.parameters())\n",
    "optimizer_energy = optim.SGD(overall_model.fc5_energy.parameters())\n",
    "\n",
    "# Define the criteria\n",
    "criterion_genre = nn.CrossEntropyLoss()\n",
    "criterion_popularity = nn.BCELoss()\n",
    "criterion_danceability = nn.MSELoss()\n",
    "criterion_energy = nn.MSELoss()\n",
    "\n",
    "# Compile our datasets\n",
    "print(type(X_sound_train))\n",
    "X_sound_train = torch.tensor(X_sound_train.values, dtype=torch.float32).to(device)\n",
    "X_spec_train = torch.tensor(X_image_spectogram_train, dtype=torch.float32).to(device)\n",
    "X_lyrics_train = X_lyrics_train.tolist()\n",
    "y_genre_train = torch.tensor(y_genre_train, dtype=torch.long).to(device)\n",
    "y_danceability_train = torch.tensor(y_danceability_train, dtype=torch.float32).to(device)\n",
    "y_popularity_train = torch.tensor(y_popularity_train, dtype=torch.float32).to(device)\n",
    "y_energy_train = torch.tensor(y_energy_train, dtype=torch.float32).to(device)\n",
    "\n",
    "# Define basic parameters before training\n",
    "num_epochs = 10\n",
    "batch_size = 32\n",
    "num_training_samples = 5006 * 0.8\n",
    "num_training_batches = int(num_training_samples // batch_size)\n",
    "\n",
    "num_test_samples = 5006 - num_training_samples\n",
    "num_testing_batches = int(num_test_samples // batch_size)\n",
    "\n",
    "losses_genre = []\n",
    "losses_popularity = []\n",
    "losses_danceability = []\n",
    "losses_energy = []\n",
    "\n",
    "# Training loop\n",
    "for epoch in range(num_epochs):\n",
    "    for batch in range(num_training_batches):\n",
    "        start = batch * batch_size\n",
    "        end = min(start + batch_size, num_training_samples)\n",
    "\n",
    "        # Get data for this batch\n",
    "        batch_X_sound = X_sound_train[start:end]\n",
    "        batch_X_spec = X_spec_train[start:end]\n",
    "        batch_X_spec = batch_X_spec.permute(0, 3, 1, 2)\n",
    "\n",
    "        batch_X_lyric = X_lyrics_train[start:end]\n",
    "\n",
    "        max_length = max([len(text_model.tokenizer.encode(text)) for text in batch_X_lyric])\n",
    "        tokenized_sequences = [text_model.tokenizer.encode(text, padding='max_length', max_length=text_model.tokenizer.model_max_length, truncation=True) for text in batch_X_lyric]\n",
    "\n",
    "        # Generate attention masks\n",
    "        attention_masks = [[1 if token != 0 else 0 for token in seq] for seq in tokenized_sequences]\n",
    "\n",
    "        # Convert tokenized sequences and attention masks to tensors and move to device\n",
    "        batch_X_lyric = torch.tensor(tokenized_sequences, dtype=torch.long).to(device)\n",
    "        attention_masks = torch.tensor(attention_masks, dtype=torch.long).to(device)\n",
    "\n",
    "        batch_y_genre = y_genre_train[start:end]\n",
    "        batch_y_popularity = y_popularity_train[start:end]\n",
    "        batch_y_danceability = y_danceability_train[start:end]\n",
    "        batch_y_energy = y_energy_train[start:end]\n",
    "\n",
    "\n",
    "        # Zero the gradients\n",
    "        optimizer_sound.zero_grad()\n",
    "        optimizer_spec.zero_grad()\n",
    "\n",
    "\n",
    "        optimizer_genre.zero_grad()\n",
    "        optimizer_popularity.zero_grad()\n",
    "        optimizer_danceability.zero_grad()\n",
    "        optimizer_energy.zero_grad()\n",
    "\n",
    "        # Retrieve the four outputs given our embeddings\n",
    "        sound_embedding = sound_model(batch_X_sound)\n",
    "        spec_embedding = spec_model(batch_X_spec)\n",
    "        text_embedding = text_model(batch_X_lyric, attention_masks)\n",
    "\n",
    "\n",
    "        genre_output, popularity_output, danceability_output, energy_output = overall_model(sound_embedding,\n",
    "                                                                        spec_embedding,\n",
    "                                                                        text_embedding)\n",
    "\n",
    "        genre_output = genre_output.to(device)\n",
    "        batch_y_genre = batch_y_genre.to(device)\n",
    "\n",
    "        loss_genre = criterion_genre(genre_output, batch_y_genre.long())\n",
    "        loss_popularity = criterion_popularity(popularity_output.view(-1), batch_y_popularity)\n",
    "        loss_danceability = criterion_danceability(danceability_output.view(-1), batch_y_danceability)\n",
    "        loss_energy = criterion_energy(energy_output.view(-1), batch_y_energy)\n",
    "\n",
    "        # Backpropagate through the genre, popularity, danceability, and energy layers using their respective losses\n",
    "        # We retain graph because we are using the computation graph for multiple backprops\n",
    "        loss_genre.backward(retain_graph=True)\n",
    "        optimizer_genre.step()\n",
    "\n",
    "        loss_popularity.backward(retain_graph=True)\n",
    "        optimizer_popularity.step()\n",
    "\n",
    "        loss_danceability.backward(retain_graph=True)\n",
    "        optimizer_danceability.step()\n",
    "\n",
    "        loss_energy.backward(retain_graph=True)\n",
    "        optimizer_energy.step()\n",
    "\n",
    "        # Backpropagate through the sound modality model using the total loss\n",
    "        optimizer_sound.step()\n",
    "        optimizer_spec.step()\n",
    "\n",
    "    losses_genre.append(loss_genre.item())\n",
    "    losses_popularity.append(loss_popularity.item())\n",
    "    losses_danceability.append(loss_danceability.item())\n",
    "    losses_energy.append(loss_energy.item())\n",
    "\n",
    "    print(\"Epoch \" + str(epoch+1))\n",
    "    print(\"Genre loss: \" + str(loss_genre.item()))\n",
    "    print(\"Popularity loss: \" + str(loss_popularity.item()))\n",
    "    print(\"Danceability loss: \" + str(loss_danceability.item()))\n",
    "    print(\"Energy loss: \" + str(loss_energy.item()))\n",
    "    print(\"\")"
   ]
  },
  {
   "cell_type": "code",
   "execution_count": 66,
   "metadata": {
    "colab": {
     "base_uri": "https://localhost:8080/",
     "height": 472
    },
    "id": "VGnVdfIFy1Hr",
    "outputId": "c1258e48-90af-44a2-b19b-871d5686b694"
   },
   "outputs": [
    {
     "data": {
      "image/png": "[encoded data removed]",
      "text/plain": [
       "<Figure size 640x480 with 1 Axes>"
      ]
     },
     "metadata": {},
     "output_type": "display_data"
    }
   ],
   "source": [
    "import matplotlib.pyplot as plt\n",
    "epochs = range(1, 11)\n",
    "\n",
    "plt.plot(epochs, losses_genre, label='Genre', color='blue')\n",
    "\n",
    "# Add labels and legend\n",
    "plt.xlabel('Epoch')\n",
    "plt.ylabel('Loss')\n",
    "plt.title('Training Loss')\n",
    "\n",
    "# Show the plot\n",
    "plt.show()"
   ]
  },
  {
   "cell_type": "code",
   "execution_count": 67,
   "metadata": {
    "colab": {
     "base_uri": "https://localhost:8080/",
     "height": 472
    },
    "id": "tlgYyLEry34X",
    "outputId": "81f99430-2dc5-4ae9-ef28-4784d2e1e998"
   },
   "outputs": [
    {
     "data": {
      "image/png": "[encoded data removed]",
      "text/plain": [
       "<Figure size 640x480 with 1 Axes>"
      ]
     },
     "metadata": {},
     "output_type": "display_data"
    }
   ],
   "source": [
    "import matplotlib.pyplot as plt\n",
    "epochs = range(1, 11)\n",
    "\n",
    "plt.plot(epochs, losses_danceability, label='Danceability', color='red')\n",
    "plt.plot(epochs, losses_energy, label='Energy', color='purple')\n",
    "\n",
    "# Add labels and legend\n",
    "plt.xlabel('Epoch')\n",
    "plt.ylabel('Loss')\n",
    "plt.title('Training Loss')\n",
    "plt.legend()\n",
    "\n",
    "# Show the plot\n",
    "plt.show()"
   ]
  },
  {
   "cell_type": "code",
   "execution_count": 68,
   "metadata": {
    "colab": {
     "base_uri": "https://localhost:8080/",
     "height": 472
    },
    "id": "DubLwia-ziEL",
    "outputId": "395b37ee-5c2c-41c0-ce18-5d944f6fdafe"
   },
   "outputs": [
    {
     "data": {
      "image/png": "[encoded data removed]",
      "text/plain": [
       "<Figure size 640x480 with 1 Axes>"
      ]
     },
     "metadata": {},
     "output_type": "display_data"
    }
   ],
   "source": [
    "import matplotlib.pyplot as plt\n",
    "epochs = range(1, 11)\n",
    "\n",
    "plt.plot(epochs, losses_popularity, label='Popularity', color='green')\n",
    "\n",
    "# Add labels and legend\n",
    "plt.xlabel('Epoch')\n",
    "plt.ylabel('Loss')\n",
    "plt.title('Training Loss')\n",
    "\n",
    "# Show the plot\n",
    "plt.show()"
   ]
  },
  {
   "cell_type": "markdown",
   "metadata": {
    "id": "nsRUQlJtLP2g"
   },
   "source": [
    "# Test loop"
   ]
  },
  {
   "cell_type": "code",
   "execution_count": 69,
   "metadata": {
    "id": "UFZQ6gllSkMo"
   },
   "outputs": [],
   "source": [
    "from sklearn.metrics import accuracy_score, precision_score, recall_score, f1_score\n"
   ]
  },
  {
   "cell_type": "code",
   "execution_count": 70,
   "metadata": {
    "colab": {
     "base_uri": "https://localhost:8080/"
    },
    "id": "l22zyu2vLQoc",
    "outputId": "152da19c-8ef0-421e-96f4-37e6abcd9841"
   },
   "outputs": [
    {
     "name": "stderr",
     "output_type": "stream",
     "text": [
      "/usr/local/lib/python3.10/dist-packages/sklearn/metrics/_classification.py:1344: UndefinedMetricWarning: Recall is ill-defined and being set to 0.0 in labels with no true samples. Use `zero_division` parameter to control this behavior.\n",
      "  _warn_prf(average, modifier, msg_start, len(result))\n",
      "/usr/local/lib/python3.10/dist-packages/sklearn/metrics/_classification.py:1344: UndefinedMetricWarning: Recall is ill-defined and being set to 0.0 in labels with no true samples. Use `zero_division` parameter to control this behavior.\n",
      "  _warn_prf(average, modifier, msg_start, len(result))\n",
      "/usr/local/lib/python3.10/dist-packages/sklearn/metrics/_classification.py:1344: UndefinedMetricWarning: Recall is ill-defined and being set to 0.0 in labels with no true samples. Use `zero_division` parameter to control this behavior.\n",
      "  _warn_prf(average, modifier, msg_start, len(result))\n",
      "/usr/local/lib/python3.10/dist-packages/sklearn/metrics/_classification.py:1344: UndefinedMetricWarning: Recall is ill-defined and being set to 0.0 in labels with no true samples. Use `zero_division` parameter to control this behavior.\n",
      "  _warn_prf(average, modifier, msg_start, len(result))\n",
      "/usr/local/lib/python3.10/dist-packages/sklearn/metrics/_classification.py:1344: UndefinedMetricWarning: Recall is ill-defined and being set to 0.0 in labels with no true samples. Use `zero_division` parameter to control this behavior.\n",
      "  _warn_prf(average, modifier, msg_start, len(result))\n",
      "/usr/local/lib/python3.10/dist-packages/sklearn/metrics/_classification.py:1344: UndefinedMetricWarning: Recall is ill-defined and being set to 0.0 in labels with no true samples. Use `zero_division` parameter to control this behavior.\n",
      "  _warn_prf(average, modifier, msg_start, len(result))\n",
      "/usr/local/lib/python3.10/dist-packages/sklearn/metrics/_classification.py:1344: UndefinedMetricWarning: Recall is ill-defined and being set to 0.0 in labels with no true samples. Use `zero_division` parameter to control this behavior.\n",
      "  _warn_prf(average, modifier, msg_start, len(result))\n",
      "/usr/local/lib/python3.10/dist-packages/sklearn/metrics/_classification.py:1344: UndefinedMetricWarning: Recall is ill-defined and being set to 0.0 in labels with no true samples. Use `zero_division` parameter to control this behavior.\n",
      "  _warn_prf(average, modifier, msg_start, len(result))\n",
      "/usr/local/lib/python3.10/dist-packages/sklearn/metrics/_classification.py:1344: UndefinedMetricWarning: Recall is ill-defined and being set to 0.0 in labels with no true samples. Use `zero_division` parameter to control this behavior.\n",
      "  _warn_prf(average, modifier, msg_start, len(result))\n",
      "/usr/local/lib/python3.10/dist-packages/sklearn/metrics/_classification.py:1344: UndefinedMetricWarning: Recall is ill-defined and being set to 0.0 in labels with no true samples. Use `zero_division` parameter to control this behavior.\n",
      "  _warn_prf(average, modifier, msg_start, len(result))\n",
      "/usr/local/lib/python3.10/dist-packages/sklearn/metrics/_classification.py:1344: UndefinedMetricWarning: Recall is ill-defined and being set to 0.0 in labels with no true samples. Use `zero_division` parameter to control this behavior.\n",
      "  _warn_prf(average, modifier, msg_start, len(result))\n",
      "/usr/local/lib/python3.10/dist-packages/sklearn/metrics/_classification.py:1344: UndefinedMetricWarning: Recall is ill-defined and being set to 0.0 in labels with no true samples. Use `zero_division` parameter to control this behavior.\n",
      "  _warn_prf(average, modifier, msg_start, len(result))\n",
      "/usr/local/lib/python3.10/dist-packages/sklearn/metrics/_classification.py:1344: UndefinedMetricWarning: Recall is ill-defined and being set to 0.0 in labels with no true samples. Use `zero_division` parameter to control this behavior.\n",
      "  _warn_prf(average, modifier, msg_start, len(result))\n",
      "/usr/local/lib/python3.10/dist-packages/sklearn/metrics/_classification.py:1344: UndefinedMetricWarning: Recall is ill-defined and being set to 0.0 in labels with no true samples. Use `zero_division` parameter to control this behavior.\n",
      "  _warn_prf(average, modifier, msg_start, len(result))\n",
      "/usr/local/lib/python3.10/dist-packages/sklearn/metrics/_classification.py:1344: UndefinedMetricWarning: Recall is ill-defined and being set to 0.0 in labels with no true samples. Use `zero_division` parameter to control this behavior.\n",
      "  _warn_prf(average, modifier, msg_start, len(result))\n",
      "/usr/local/lib/python3.10/dist-packages/sklearn/metrics/_classification.py:1344: UndefinedMetricWarning: Recall is ill-defined and being set to 0.0 in labels with no true samples. Use `zero_division` parameter to control this behavior.\n",
      "  _warn_prf(average, modifier, msg_start, len(result))\n",
      "/usr/local/lib/python3.10/dist-packages/sklearn/metrics/_classification.py:1344: UndefinedMetricWarning: Recall is ill-defined and being set to 0.0 in labels with no true samples. Use `zero_division` parameter to control this behavior.\n",
      "  _warn_prf(average, modifier, msg_start, len(result))\n",
      "/usr/local/lib/python3.10/dist-packages/sklearn/metrics/_classification.py:1344: UndefinedMetricWarning: Recall is ill-defined and being set to 0.0 in labels with no true samples. Use `zero_division` parameter to control this behavior.\n",
      "  _warn_prf(average, modifier, msg_start, len(result))\n",
      "/usr/local/lib/python3.10/dist-packages/sklearn/metrics/_classification.py:1344: UndefinedMetricWarning: Recall is ill-defined and being set to 0.0 in labels with no true samples. Use `zero_division` parameter to control this behavior.\n",
      "  _warn_prf(average, modifier, msg_start, len(result))\n",
      "/usr/local/lib/python3.10/dist-packages/sklearn/metrics/_classification.py:1344: UndefinedMetricWarning: Recall is ill-defined and being set to 0.0 in labels with no true samples. Use `zero_division` parameter to control this behavior.\n",
      "  _warn_prf(average, modifier, msg_start, len(result))\n",
      "/usr/local/lib/python3.10/dist-packages/sklearn/metrics/_classification.py:1344: UndefinedMetricWarning: Recall is ill-defined and being set to 0.0 in labels with no true samples. Use `zero_division` parameter to control this behavior.\n",
      "  _warn_prf(average, modifier, msg_start, len(result))\n",
      "/usr/local/lib/python3.10/dist-packages/sklearn/metrics/_classification.py:1344: UndefinedMetricWarning: Recall is ill-defined and being set to 0.0 in labels with no true samples. Use `zero_division` parameter to control this behavior.\n",
      "  _warn_prf(average, modifier, msg_start, len(result))\n",
      "/usr/local/lib/python3.10/dist-packages/sklearn/metrics/_classification.py:1344: UndefinedMetricWarning: Recall is ill-defined and being set to 0.0 in labels with no true samples. Use `zero_division` parameter to control this behavior.\n",
      "  _warn_prf(average, modifier, msg_start, len(result))\n",
      "/usr/local/lib/python3.10/dist-packages/sklearn/metrics/_classification.py:1344: UndefinedMetricWarning: Recall is ill-defined and being set to 0.0 in labels with no true samples. Use `zero_division` parameter to control this behavior.\n",
      "  _warn_prf(average, modifier, msg_start, len(result))\n",
      "/usr/local/lib/python3.10/dist-packages/sklearn/metrics/_classification.py:1344: UndefinedMetricWarning: Recall is ill-defined and being set to 0.0 in labels with no true samples. Use `zero_division` parameter to control this behavior.\n",
      "  _warn_prf(average, modifier, msg_start, len(result))\n",
      "/usr/local/lib/python3.10/dist-packages/sklearn/metrics/_classification.py:1344: UndefinedMetricWarning: Recall is ill-defined and being set to 0.0 in labels with no true samples. Use `zero_division` parameter to control this behavior.\n",
      "  _warn_prf(average, modifier, msg_start, len(result))\n",
      "/usr/local/lib/python3.10/dist-packages/sklearn/metrics/_classification.py:1344: UndefinedMetricWarning: Recall is ill-defined and being set to 0.0 in labels with no true samples. Use `zero_division` parameter to control this behavior.\n",
      "  _warn_prf(average, modifier, msg_start, len(result))\n",
      "/usr/local/lib/python3.10/dist-packages/sklearn/metrics/_classification.py:1344: UndefinedMetricWarning: Recall is ill-defined and being set to 0.0 in labels with no true samples. Use `zero_division` parameter to control this behavior.\n",
      "  _warn_prf(average, modifier, msg_start, len(result))\n",
      "/usr/local/lib/python3.10/dist-packages/sklearn/metrics/_classification.py:1344: UndefinedMetricWarning: Recall is ill-defined and being set to 0.0 in labels with no true samples. Use `zero_division` parameter to control this behavior.\n",
      "  _warn_prf(average, modifier, msg_start, len(result))\n",
      "/usr/local/lib/python3.10/dist-packages/sklearn/metrics/_classification.py:1344: UndefinedMetricWarning: Recall is ill-defined and being set to 0.0 in labels with no true samples. Use `zero_division` parameter to control this behavior.\n",
      "  _warn_prf(average, modifier, msg_start, len(result))\n",
      "/usr/local/lib/python3.10/dist-packages/sklearn/metrics/_classification.py:1344: UndefinedMetricWarning: Recall is ill-defined and being set to 0.0 in labels with no true samples. Use `zero_division` parameter to control this behavior.\n",
      "  _warn_prf(average, modifier, msg_start, len(result))\n",
      "/usr/local/lib/python3.10/dist-packages/sklearn/metrics/_classification.py:1344: UndefinedMetricWarning: Recall is ill-defined and being set to 0.0 in labels with no true samples. Use `zero_division` parameter to control this behavior.\n",
      "  _warn_prf(average, modifier, msg_start, len(result))\n",
      "/usr/local/lib/python3.10/dist-packages/sklearn/metrics/_classification.py:1344: UndefinedMetricWarning: Recall is ill-defined and being set to 0.0 in labels with no true samples. Use `zero_division` parameter to control this behavior.\n",
      "  _warn_prf(average, modifier, msg_start, len(result))\n",
      "/usr/local/lib/python3.10/dist-packages/sklearn/metrics/_classification.py:1344: UndefinedMetricWarning: Recall is ill-defined and being set to 0.0 in labels with no true samples. Use `zero_division` parameter to control this behavior.\n",
      "  _warn_prf(average, modifier, msg_start, len(result))\n",
      "/usr/local/lib/python3.10/dist-packages/sklearn/metrics/_classification.py:1344: UndefinedMetricWarning: Recall is ill-defined and being set to 0.0 in labels with no true samples. Use `zero_division` parameter to control this behavior.\n",
      "  _warn_prf(average, modifier, msg_start, len(result))\n",
      "/usr/local/lib/python3.10/dist-packages/sklearn/metrics/_classification.py:1344: UndefinedMetricWarning: Recall is ill-defined and being set to 0.0 in labels with no true samples. Use `zero_division` parameter to control this behavior.\n",
      "  _warn_prf(average, modifier, msg_start, len(result))\n",
      "/usr/local/lib/python3.10/dist-packages/sklearn/metrics/_classification.py:1344: UndefinedMetricWarning: Recall is ill-defined and being set to 0.0 in labels with no true samples. Use `zero_division` parameter to control this behavior.\n",
      "  _warn_prf(average, modifier, msg_start, len(result))\n",
      "/usr/local/lib/python3.10/dist-packages/sklearn/metrics/_classification.py:1344: UndefinedMetricWarning: Recall is ill-defined and being set to 0.0 in labels with no true samples. Use `zero_division` parameter to control this behavior.\n",
      "  _warn_prf(average, modifier, msg_start, len(result))\n",
      "/usr/local/lib/python3.10/dist-packages/sklearn/metrics/_classification.py:1344: UndefinedMetricWarning: Recall is ill-defined and being set to 0.0 in labels with no true samples. Use `zero_division` parameter to control this behavior.\n",
      "  _warn_prf(average, modifier, msg_start, len(result))\n",
      "/usr/local/lib/python3.10/dist-packages/sklearn/metrics/_classification.py:1344: UndefinedMetricWarning: Recall is ill-defined and being set to 0.0 in labels with no true samples. Use `zero_division` parameter to control this behavior.\n",
      "  _warn_prf(average, modifier, msg_start, len(result))\n",
      "/usr/local/lib/python3.10/dist-packages/sklearn/metrics/_classification.py:1344: UndefinedMetricWarning: Recall is ill-defined and being set to 0.0 in labels with no true samples. Use `zero_division` parameter to control this behavior.\n",
      "  _warn_prf(average, modifier, msg_start, len(result))\n",
      "/usr/local/lib/python3.10/dist-packages/sklearn/metrics/_classification.py:1344: UndefinedMetricWarning: Recall is ill-defined and being set to 0.0 in labels with no true samples. Use `zero_division` parameter to control this behavior.\n",
      "  _warn_prf(average, modifier, msg_start, len(result))\n",
      "/usr/local/lib/python3.10/dist-packages/sklearn/metrics/_classification.py:1344: UndefinedMetricWarning: Recall is ill-defined and being set to 0.0 in labels with no true samples. Use `zero_division` parameter to control this behavior.\n",
      "  _warn_prf(average, modifier, msg_start, len(result))\n",
      "/usr/local/lib/python3.10/dist-packages/sklearn/metrics/_classification.py:1344: UndefinedMetricWarning: Recall is ill-defined and being set to 0.0 in labels with no true samples. Use `zero_division` parameter to control this behavior.\n",
      "  _warn_prf(average, modifier, msg_start, len(result))\n",
      "/usr/local/lib/python3.10/dist-packages/sklearn/metrics/_classification.py:1344: UndefinedMetricWarning: Recall is ill-defined and being set to 0.0 in labels with no true samples. Use `zero_division` parameter to control this behavior.\n",
      "  _warn_prf(average, modifier, msg_start, len(result))\n",
      "/usr/local/lib/python3.10/dist-packages/sklearn/metrics/_classification.py:1344: UndefinedMetricWarning: Recall is ill-defined and being set to 0.0 in labels with no true samples. Use `zero_division` parameter to control this behavior.\n",
      "  _warn_prf(average, modifier, msg_start, len(result))\n",
      "/usr/local/lib/python3.10/dist-packages/sklearn/metrics/_classification.py:1344: UndefinedMetricWarning: Recall is ill-defined and being set to 0.0 in labels with no true samples. Use `zero_division` parameter to control this behavior.\n",
      "  _warn_prf(average, modifier, msg_start, len(result))\n",
      "/usr/local/lib/python3.10/dist-packages/sklearn/metrics/_classification.py:1344: UndefinedMetricWarning: Recall is ill-defined and being set to 0.0 in labels with no true samples. Use `zero_division` parameter to control this behavior.\n",
      "  _warn_prf(average, modifier, msg_start, len(result))\n",
      "/usr/local/lib/python3.10/dist-packages/sklearn/metrics/_classification.py:1344: UndefinedMetricWarning: Recall is ill-defined and being set to 0.0 in labels with no true samples. Use `zero_division` parameter to control this behavior.\n",
      "  _warn_prf(average, modifier, msg_start, len(result))\n",
      "/usr/local/lib/python3.10/dist-packages/sklearn/metrics/_classification.py:1344: UndefinedMetricWarning: Recall is ill-defined and being set to 0.0 in labels with no true samples. Use `zero_division` parameter to control this behavior.\n",
      "  _warn_prf(average, modifier, msg_start, len(result))\n",
      "/usr/local/lib/python3.10/dist-packages/sklearn/metrics/_classification.py:1344: UndefinedMetricWarning: Recall is ill-defined and being set to 0.0 in labels with no true samples. Use `zero_division` parameter to control this behavior.\n",
      "  _warn_prf(average, modifier, msg_start, len(result))\n",
      "/usr/local/lib/python3.10/dist-packages/sklearn/metrics/_classification.py:1344: UndefinedMetricWarning: Recall is ill-defined and being set to 0.0 in labels with no true samples. Use `zero_division` parameter to control this behavior.\n",
      "  _warn_prf(average, modifier, msg_start, len(result))\n",
      "/usr/local/lib/python3.10/dist-packages/sklearn/metrics/_classification.py:1344: UndefinedMetricWarning: Recall is ill-defined and being set to 0.0 in labels with no true samples. Use `zero_division` parameter to control this behavior.\n",
      "  _warn_prf(average, modifier, msg_start, len(result))\n",
      "/usr/local/lib/python3.10/dist-packages/sklearn/metrics/_classification.py:1344: UndefinedMetricWarning: Recall is ill-defined and being set to 0.0 in labels with no true samples. Use `zero_division` parameter to control this behavior.\n",
      "  _warn_prf(average, modifier, msg_start, len(result))\n",
      "/usr/local/lib/python3.10/dist-packages/sklearn/metrics/_classification.py:1344: UndefinedMetricWarning: Recall is ill-defined and being set to 0.0 in labels with no true samples. Use `zero_division` parameter to control this behavior.\n",
      "  _warn_prf(average, modifier, msg_start, len(result))\n",
      "/usr/local/lib/python3.10/dist-packages/sklearn/metrics/_classification.py:1344: UndefinedMetricWarning: Recall is ill-defined and being set to 0.0 in labels with no true samples. Use `zero_division` parameter to control this behavior.\n",
      "  _warn_prf(average, modifier, msg_start, len(result))\n",
      "/usr/local/lib/python3.10/dist-packages/sklearn/metrics/_classification.py:1344: UndefinedMetricWarning: Recall is ill-defined and being set to 0.0 in labels with no true samples. Use `zero_division` parameter to control this behavior.\n",
      "  _warn_prf(average, modifier, msg_start, len(result))\n",
      "/usr/local/lib/python3.10/dist-packages/sklearn/metrics/_classification.py:1344: UndefinedMetricWarning: Recall is ill-defined and being set to 0.0 in labels with no true samples. Use `zero_division` parameter to control this behavior.\n",
      "  _warn_prf(average, modifier, msg_start, len(result))\n",
      "/usr/local/lib/python3.10/dist-packages/sklearn/metrics/_classification.py:1344: UndefinedMetricWarning: Recall is ill-defined and being set to 0.0 in labels with no true samples. Use `zero_division` parameter to control this behavior.\n",
      "  _warn_prf(average, modifier, msg_start, len(result))\n",
      "/usr/local/lib/python3.10/dist-packages/sklearn/metrics/_classification.py:1344: UndefinedMetricWarning: Recall is ill-defined and being set to 0.0 in labels with no true samples. Use `zero_division` parameter to control this behavior.\n",
      "  _warn_prf(average, modifier, msg_start, len(result))\n"
     ]
    },
    {
     "name": "stdout",
     "output_type": "stream",
     "text": [
      "Evaluation Results:\n",
      "Average Genre loss: 1.9262\n",
      "Average Popularity loss: 0.6904\n",
      "Average Danceability loss: 0.0340\n",
      "Average Energy loss: 0.0645\n",
      " \n",
      "Average Accuracy Popularity: 0.5232\n",
      "Average Precision Popularity: 0.5000\n",
      "Average Recall Popularity: 0.2616\n",
      "Average F1 Popularity: 0.3414\n",
      " \n",
      "Average Accuracy Genre: 0.4224\n",
      "Average Precision Genre: 0.1858\n",
      "Average Recall Genre: 0.0792\n",
      "Average F1 Genre: 0.1100\n"
     ]
    },
    {
     "name": "stderr",
     "output_type": "stream",
     "text": [
      "/usr/local/lib/python3.10/dist-packages/sklearn/metrics/_classification.py:1344: UndefinedMetricWarning: Recall is ill-defined and being set to 0.0 in labels with no true samples. Use `zero_division` parameter to control this behavior.\n",
      "  _warn_prf(average, modifier, msg_start, len(result))\n",
      "/usr/local/lib/python3.10/dist-packages/sklearn/metrics/_classification.py:1344: UndefinedMetricWarning: Recall is ill-defined and being set to 0.0 in labels with no true samples. Use `zero_division` parameter to control this behavior.\n",
      "  _warn_prf(average, modifier, msg_start, len(result))\n"
     ]
    }
   ],
   "source": [
    "import pandas as pd\n",
    "\n",
    "# Create empty lists to store the outputs\n",
    "all_genre_outputs = []\n",
    "all_popularity_outputs = []\n",
    "all_danceability_outputs = []\n",
    "all_energy_outputs = []\n",
    "\n",
    "X_sound_test = torch.tensor(X_sound_test.values, dtype=torch.float32).to(device)\n",
    "X_spec_test = torch.tensor(X_image_spectogram_test, dtype=torch.float32).to(device)\n",
    "# X_album_test = torch.tensor(X_image_album_test, dtype=torch.float32).to(device)\n",
    "X_lyrics_test = X_lyrics_test.tolist()\n",
    "y_genre_test = torch.tensor(y_genre_test, dtype=torch.long).to(device)\n",
    "y_danceability_test = torch.tensor(y_danceability_test, dtype=torch.float32).to(device)\n",
    "y_popularity_test = torch.tensor(y_popularity_test, dtype=torch.float32).to(device)\n",
    "y_energy_test = torch.tensor(y_energy_test, dtype=torch.float32).to(device)\n",
    "\n",
    "# Evaluation loop\n",
    "with torch.no_grad():  # Disable gradient calculation\n",
    "    overall_model.eval()  # Set the model to evaluation mode\n",
    "    total_loss_genre = 0\n",
    "    total_loss_popularity = 0\n",
    "    total_loss_danceability = 0\n",
    "    total_loss_energy = 0\n",
    "    num_batches = 0\n",
    "\n",
    "    total_accuracy_genre = 0\n",
    "    total_precision_genre = 0\n",
    "    total_recall_genre = 0\n",
    "    total_f1_genre = 0\n",
    "\n",
    "\n",
    "    total_accuracy_pop = 0\n",
    "    total_precision_pop = 0\n",
    "    total_recall_pop =0\n",
    "    total_f1_pop =0\n",
    "\n",
    "    for batch in range(num_testing_batches):\n",
    "        start = batch * batch_size\n",
    "        end = min(start + batch_size, num_test_samples)\n",
    "\n",
    "        # Get data for this batch\n",
    "        batch_X_sound = X_sound_test[start:end]\n",
    "        # batch_X_album = X_album_test[start:end]\n",
    "        batch_X_spec = X_spec_test[start:end]\n",
    "        batch_X_spec = batch_X_spec.permute(0, 3, 1, 2)\n",
    "\n",
    "        batch_X_lyric = X_lyrics_test[start:end]\n",
    "\n",
    "        max_length = max([len(text_model.tokenizer.encode(text)) for text in batch_X_lyric])\n",
    "        tokenized_sequences = [text_model.tokenizer.encode(text, padding='max_length', max_length=text_model.tokenizer.model_max_length, truncation=True) for text in batch_X_lyric]\n",
    "\n",
    "        # Generate attention masks\n",
    "        attention_masks = [[1 if token != 0 else 0 for token in seq] for seq in tokenized_sequences]\n",
    "\n",
    "        # Convert tokenized sequences and attention masks to tensors and move to device\n",
    "        batch_X_lyric = torch.tensor(tokenized_sequences, dtype=torch.long).to(device)\n",
    "        attention_masks = torch.tensor(attention_masks, dtype=torch.long).to(device)\n",
    "\n",
    "        batch_y_genre = y_genre_test[start:end]\n",
    "        batch_y_popularity = y_popularity_test[start:end]\n",
    "        batch_y_danceability = y_danceability_test[start:end]\n",
    "        batch_y_energy = y_energy_test[start:end]\n",
    "\n",
    "        # Forward pass\n",
    "        sound_embedding = sound_model(batch_X_sound)\n",
    "        spec_embedding = spec_model(batch_X_spec)\n",
    "        text_embedding = text_model(batch_X_lyric, attention_masks)\n",
    "\n",
    "        genre_output, popularity_output, danceability_output, energy_output = overall_model(sound_embedding,\n",
    "                                                                                            # album_embedding\n",
    "                                                                                            spec_embedding,\n",
    "                                                                                            text_embedding)\n",
    "\n",
    "\n",
    "\n",
    "        # Calculate loss\n",
    "        loss_genre = criterion_genre(genre_output, batch_y_genre.long())\n",
    "        loss_popularity = criterion_popularity(popularity_output.view(-1), batch_y_popularity)\n",
    "        loss_danceability = criterion_danceability(danceability_output.view(-1), batch_y_danceability)\n",
    "        loss_energy = criterion_energy(energy_output.view(-1), batch_y_energy)\n",
    "\n",
    "        total_loss_genre += loss_genre.item()\n",
    "        total_loss_popularity += loss_popularity.item()\n",
    "        total_loss_danceability += loss_danceability.item()\n",
    "        total_loss_energy += loss_energy.item()\n",
    "\n",
    "\n",
    "        # Calculating predicted genre label and popularity\n",
    "        _, preds_genre  = torch.max(genre_output, 1)\n",
    "        total_accuracy_genre += accuracy_score(preds_genre.cpu(), batch_y_genre.long().cpu())\n",
    "        total_precision_genre += precision_score(preds_genre.cpu(), batch_y_genre.long().cpu(), average = 'macro')\n",
    "        total_recall_genre += recall_score(preds_genre.cpu(), batch_y_genre.long().cpu(), average = 'macro')\n",
    "        total_f1_genre += f1_score(preds_genre.cpu(), batch_y_genre.long().cpu(), average = 'macro')\n",
    "\n",
    "        _, preds_pop = torch.max(popularity_output, 1)\n",
    "        total_accuracy_pop += accuracy_score(preds_pop.cpu(), batch_y_popularity.cpu())\n",
    "        total_precision_pop += precision_score(preds_pop.cpu(), batch_y_popularity.cpu(), average = 'macro')\n",
    "        total_recall_pop += recall_score(preds_pop.cpu(), batch_y_popularity.cpu(), average = 'macro')\n",
    "        total_f1_pop += f1_score(preds_pop.cpu(), batch_y_popularity.cpu(), average = 'macro')\n",
    "\n",
    "        # Save the outputs to lists\n",
    "        all_genre_outputs.extend(preds_genre.cpu().numpy())\n",
    "        all_popularity_outputs.extend(preds_pop.cpu().numpy())\n",
    "        all_danceability_outputs.extend(danceability_output.cpu().numpy())\n",
    "        all_energy_outputs.extend(energy_output.cpu().numpy())\n",
    "\n",
    "        num_batches += 1\n",
    "\n",
    "    # Calculate average loss\n",
    "    avg_loss_genre = total_loss_genre / num_batches\n",
    "    avg_loss_popularity = total_loss_popularity / num_batches\n",
    "    avg_loss_danceability = total_loss_danceability / num_batches\n",
    "    avg_loss_energy = total_loss_energy / num_batches\n",
    "\n",
    "    avg_acc_genre = total_accuracy_genre / num_batches\n",
    "    avg_precision_genre = total_precision_genre / num_batches\n",
    "    avg_recall_genre = total_recall_genre / num_batches\n",
    "    avg_f1_genre = total_f1_genre / num_batches\n",
    "\n",
    "    avg_acc_pop = total_accuracy_pop / num_batches\n",
    "    avg_precision_pop = total_precision_pop / num_batches\n",
    "    avg_recall_pop = total_recall_pop / num_batches\n",
    "    avg_f1_pop = total_f1_pop / num_batches\n",
    "\n",
    "    # Calculate the average accuracy, recall, precision and F1 score for genre & popularity\n",
    "\n",
    "\n",
    "    print(\"Evaluation Results:\")\n",
    "    print(\"Average Genre loss: {:.4f}\".format(avg_loss_genre))\n",
    "    print(\"Average Popularity loss: {:.4f}\".format(avg_loss_popularity))\n",
    "    print(\"Average Danceability loss: {:.4f}\".format(avg_loss_danceability))\n",
    "    print(\"Average Energy loss: {:.4f}\".format(avg_loss_energy))\n",
    "\n",
    "    print(\" \")\n",
    "    print(\"Average Accuracy Popularity: {:.4f}\".format(avg_acc_pop))\n",
    "    print(\"Average Precision Popularity: {:.4f}\".format(avg_precision_pop))\n",
    "    print(\"Average Recall Popularity: {:.4f}\".format(avg_recall_pop))\n",
    "    print(\"Average F1 Popularity: {:.4f}\".format(avg_f1_pop))\n",
    "\n",
    "    print(\" \")\n",
    "    print(\"Average Accuracy Genre: {:.4f}\".format(avg_acc_genre))\n",
    "    print(\"Average Precision Genre: {:.4f}\".format(avg_precision_genre))\n",
    "    print(\"Average Recall Genre: {:.4f}\".format(avg_recall_genre))\n",
    "    print(\"Average F1 Genre: {:.4f}\".format(avg_f1_genre))\n",
    "\n"
   ]
  },
  {
   "cell_type": "code",
   "execution_count": 71,
   "metadata": {
    "id": "Zo_MnLagU6a7"
   },
   "outputs": [],
   "source": [
    "# Create a DataFrame to store the outputs for open AI\n",
    "\n",
    "results_df = pd.DataFrame({\n",
    "    'song_name' : y['file'][test_indices[0:len(all_genre_outputs)]],\n",
    "    'genre_output': all_genre_outputs,\n",
    "    'popularity_output': all_popularity_outputs,\n",
    "    'danceability_output': all_danceability_outputs,\n",
    "    'energy_output': all_energy_outputs\n",
    "})"
   ]
  },
  {
   "cell_type": "code",
   "execution_count": 72,
   "metadata": {
    "colab": {
     "base_uri": "https://localhost:8080/",
     "height": 206
    },
    "id": "-yRM1KHrLyyO",
    "outputId": "5a211b34-7f6d-45ab-b1ce-024f35c71429"
   },
   "outputs": [
    {
     "data": {
      "application/vnd.google.colaboratory.intrinsic+json": {
       "summary": "{\n  \"name\": \"results_df\",\n  \"rows\": 992,\n  \"fields\": [\n    {\n      \"column\": \"song_name\",\n      \"properties\": {\n        \"dtype\": \"string\",\n        \"num_unique_values\": 992,\n        \"samples\": [\n          \"AssBackHome-GymClassHeroesFeaturingNeonHitch\",\n          \"BestOfYou-FooFighters\",\n          \"YoungLove-Ducktails\"\n        ],\n        \"semantic_type\": \"\",\n        \"description\": \"\"\n      }\n    },\n    {\n      \"column\": \"genre_output\",\n      \"properties\": {\n        \"dtype\": \"number\",\n        \"std\": 0,\n        \"min\": 3,\n        \"max\": 3,\n        \"num_unique_values\": 1,\n        \"samples\": [\n          3\n        ],\n        \"semantic_type\": \"\",\n        \"description\": \"\"\n      }\n    },\n    {\n      \"column\": \"popularity_output\",\n      \"properties\": {\n        \"dtype\": \"number\",\n        \"std\": 0,\n        \"min\": 0,\n        \"max\": 0,\n        \"num_unique_values\": 1,\n        \"samples\": [\n          0\n        ],\n        \"semantic_type\": \"\",\n        \"description\": \"\"\n      }\n    },\n    {\n      \"column\": \"danceability_output\",\n      \"properties\": {\n        \"dtype\": \"object\",\n        \"semantic_type\": \"\",\n        \"description\": \"\"\n      }\n    },\n    {\n      \"column\": \"energy_output\",\n      \"properties\": {\n        \"dtype\": \"object\",\n        \"semantic_type\": \"\",\n        \"description\": \"\"\n      }\n    }\n  ]\n}",
       "type": "dataframe",
       "variable_name": "results_df"
      },
      "text/html": [
       "\n",
       "  <div id=\"df-ed6a0ba7-288f-4e45-95e0-8094e5dd4b14\" class=\"colab-df-container\">\n",
       "    <div>\n",
       "<style scoped>\n",
       "    .dataframe tbody tr th:only-of-type {\n",
       "        vertical-align: middle;\n",
       "    }\n",
       "\n",
       "    .dataframe tbody tr th {\n",
       "        vertical-align: top;\n",
       "    }\n",
       "\n",
       "    .dataframe thead th {\n",
       "        text-align: right;\n",
       "    }\n",
       "</style>\n",
       "<table border=\"1\" class=\"dataframe\">\n",
       "  <thead>\n",
       "    <tr style=\"text-align: right;\">\n",
       "      <th></th>\n",
       "      <th>song_name</th>\n",
       "      <th>genre_output</th>\n",
       "      <th>popularity_output</th>\n",
       "      <th>danceability_output</th>\n",
       "      <th>energy_output</th>\n",
       "    </tr>\n",
       "  </thead>\n",
       "  <tbody>\n",
       "    <tr>\n",
       "      <th>4120</th>\n",
       "      <td>Nocturnal-TheBlackDahliaMurder</td>\n",
       "      <td>3</td>\n",
       "      <td>0</td>\n",
       "      <td>[0.49795035]</td>\n",
       "      <td>[0.52087444]</td>\n",
       "    </tr>\n",
       "    <tr>\n",
       "      <th>3592</th>\n",
       "      <td>Lepetitmatin-EricDemarsan</td>\n",
       "      <td>3</td>\n",
       "      <td>0</td>\n",
       "      <td>[0.4822253]</td>\n",
       "      <td>[0.51077914]</td>\n",
       "    </tr>\n",
       "    <tr>\n",
       "      <th>4667</th>\n",
       "      <td>FranciscoGuayabal-BenyMoré</td>\n",
       "      <td>3</td>\n",
       "      <td>0</td>\n",
       "      <td>[0.4849311]</td>\n",
       "      <td>[0.5145955]</td>\n",
       "    </tr>\n",
       "    <tr>\n",
       "      <th>2774</th>\n",
       "      <td>Titoli-MauriceJarre</td>\n",
       "      <td>3</td>\n",
       "      <td>0</td>\n",
       "      <td>[0.49654356]</td>\n",
       "      <td>[0.5134843]</td>\n",
       "    </tr>\n",
       "    <tr>\n",
       "      <th>1270</th>\n",
       "      <td>¿QuéDiablosMeSucede?-Bronco</td>\n",
       "      <td>3</td>\n",
       "      <td>0</td>\n",
       "      <td>[0.48959425]</td>\n",
       "      <td>[0.51477855]</td>\n",
       "    </tr>\n",
       "  </tbody>\n",
       "</table>\n",
       "</div>\n",
       "    <div class=\"colab-df-buttons\">\n",
       "\n",
       "  <div class=\"colab-df-container\">\n",
       "    <button class=\"colab-df-convert\" onclick=\"convertToInteractive('df-ed6a0ba7-288f-4e45-95e0-8094e5dd4b14')\"\n",
       "            title=\"Convert this dataframe to an interactive table.\"\n",
       "            style=\"display:none;\">\n",
       "\n",
       "  <svg xmlns=\"http://www.w3.org/2000/svg\" height=\"24px\" viewBox=\"0 -960 960 960\">\n",
       "    <path d=\"M120-120v-720h720v720H120Zm60-500h600v-160H180v160Zm220 220h160v-160H400v160Zm0 220h160v-160H400v160ZM180-400h160v-160H180v160Zm440 0h160v-160H620v160ZM180-180h160v-160H180v160Zm440 0h160v-160H620v160Z\"/>\n",
       "  </svg>\n",
       "    </button>\n",
       "\n",
       "  <style>\n",
       "    .colab-df-container {\n",
       "      display:flex;\n",
       "      gap: 12px;\n",
       "    }\n",
       "\n",
       "    .colab-df-convert {\n",
       "      background-color: #E8F0FE;\n",
       "      border: none;\n",
       "      border-radius: 50%;\n",
       "      cursor: pointer;\n",
       "      display: none;\n",
       "      fill: #1967D2;\n",
       "      height: 32px;\n",
       "      padding: 0 0 0 0;\n",
       "      width: 32px;\n",
       "    }\n",
       "\n",
       "    .colab-df-convert:hover {\n",
       "      background-color: #E2EBFA;\n",
       "      box-shadow: 0px 1px 2px rgba(60, 64, 67, 0.3), 0px 1px 3px 1px rgba(60, 64, 67, 0.15);\n",
       "      fill: #174EA6;\n",
       "    }\n",
       "\n",
       "    .colab-df-buttons div {\n",
       "      margin-bottom: 4px;\n",
       "    }\n",
       "\n",
       "    [theme=dark] .colab-df-convert {\n",
       "      background-color: #3B4455;\n",
       "      fill: #D2E3FC;\n",
       "    }\n",
       "\n",
       "    [theme=dark] .colab-df-convert:hover {\n",
       "      background-color: #434B5C;\n",
       "      box-shadow: 0px 1px 3px 1px rgba(0, 0, 0, 0.15);\n",
       "      filter: drop-shadow(0px 1px 2px rgba(0, 0, 0, 0.3));\n",
       "      fill: #FFFFFF;\n",
       "    }\n",
       "  </style>\n",
       "\n",
       "    <script>\n",
       "      const buttonEl =\n",
       "        document.querySelector('#df-ed6a0ba7-288f-4e45-95e0-8094e5dd4b14 button.colab-df-convert');\n",
       "      buttonEl.style.display =\n",
       "        google.colab.kernel.accessAllowed ? 'block' : 'none';\n",
       "\n",
       "      async function convertToInteractive(key) {\n",
       "        const element = document.querySelector('#df-ed6a0ba7-288f-4e45-95e0-8094e5dd4b14');\n",
       "        const dataTable =\n",
       "          await google.colab.kernel.invokeFunction('convertToInteractive',\n",
       "                                                    [key], {});\n",
       "        if (!dataTable) return;\n",
       "\n",
       "        const docLinkHtml = 'Like what you see? Visit the ' +\n",
       "          '<a target=\"_blank\" href=https://colab.research.google.com/notebooks/data_table.ipynb>data table notebook</a>'\n",
       "          + ' to learn more about interactive tables.';\n",
       "        element.innerHTML = '';\n",
       "        dataTable['output_type'] = 'display_data';\n",
       "        await google.colab.output.renderOutput(dataTable, element);\n",
       "        const docLink = document.createElement('div');\n",
       "        docLink.innerHTML = docLinkHtml;\n",
       "        element.appendChild(docLink);\n",
       "      }\n",
       "    </script>\n",
       "  </div>\n",
       "\n",
       "\n",
       "<div id=\"df-a9d94475-fdbf-43eb-8a67-83a1e1c049e7\">\n",
       "  <button class=\"colab-df-quickchart\" onclick=\"quickchart('df-a9d94475-fdbf-43eb-8a67-83a1e1c049e7')\"\n",
       "            title=\"Suggest charts\"\n",
       "            style=\"display:none;\">\n",
       "\n",
       "<svg xmlns=\"http://www.w3.org/2000/svg\" height=\"24px\"viewBox=\"0 0 24 24\"\n",
       "     width=\"24px\">\n",
       "    <g>\n",
       "        <path d=\"M19 3H5c-1.1 0-2 .9-2 2v14c0 1.1.9 2 2 2h14c1.1 0 2-.9 2-2V5c0-1.1-.9-2-2-2zM9 17H7v-7h2v7zm4 0h-2V7h2v10zm4 0h-2v-4h2v4z\"/>\n",
       "    </g>\n",
       "</svg>\n",
       "  </button>\n",
       "\n",
       "<style>\n",
       "  .colab-df-quickchart {\n",
       "      --bg-color: #E8F0FE;\n",
       "      --fill-color: #1967D2;\n",
       "      --hover-bg-color: #E2EBFA;\n",
       "      --hover-fill-color: #174EA6;\n",
       "      --disabled-fill-color: #AAA;\n",
       "      --disabled-bg-color: #DDD;\n",
       "  }\n",
       "\n",
       "  [theme=dark] .colab-df-quickchart {\n",
       "      --bg-color: #3B4455;\n",
       "      --fill-color: #D2E3FC;\n",
       "      --hover-bg-color: #434B5C;\n",
       "      --hover-fill-color: #FFFFFF;\n",
       "      --disabled-bg-color: #3B4455;\n",
       "      --disabled-fill-color: #666;\n",
       "  }\n",
       "\n",
       "  .colab-df-quickchart {\n",
       "    background-color: var(--bg-color);\n",
       "    border: none;\n",
       "    border-radius: 50%;\n",
       "    cursor: pointer;\n",
       "    display: none;\n",
       "    fill: var(--fill-color);\n",
       "    height: 32px;\n",
       "    padding: 0;\n",
       "    width: 32px;\n",
       "  }\n",
       "\n",
       "  .colab-df-quickchart:hover {\n",
       "    background-color: var(--hover-bg-color);\n",
       "    box-shadow: 0 1px 2px rgba(60, 64, 67, 0.3), 0 1px 3px 1px rgba(60, 64, 67, 0.15);\n",
       "    fill: var(--button-hover-fill-color);\n",
       "  }\n",
       "\n",
       "  .colab-df-quickchart-complete:disabled,\n",
       "  .colab-df-quickchart-complete:disabled:hover {\n",
       "    background-color: var(--disabled-bg-color);\n",
       "    fill: var(--disabled-fill-color);\n",
       "    box-shadow: none;\n",
       "  }\n",
       "\n",
       "  .colab-df-spinner {\n",
       "    border: 2px solid var(--fill-color);\n",
       "    border-color: transparent;\n",
       "    border-bottom-color: var(--fill-color);\n",
       "    animation:\n",
       "      spin 1s steps(1) infinite;\n",
       "  }\n",
       "\n",
       "  @keyframes spin {\n",
       "    0% {\n",
       "      border-color: transparent;\n",
       "      border-bottom-color: var(--fill-color);\n",
       "      border-left-color: var(--fill-color);\n",
       "    }\n",
       "    20% {\n",
       "      border-color: transparent;\n",
       "      border-left-color: var(--fill-color);\n",
       "      border-top-color: var(--fill-color);\n",
       "    }\n",
       "    30% {\n",
       "      border-color: transparent;\n",
       "      border-left-color: var(--fill-color);\n",
       "      border-top-color: var(--fill-color);\n",
       "      border-right-color: var(--fill-color);\n",
       "    }\n",
       "    40% {\n",
       "      border-color: transparent;\n",
       "      border-right-color: var(--fill-color);\n",
       "      border-top-color: var(--fill-color);\n",
       "    }\n",
       "    60% {\n",
       "      border-color: transparent;\n",
       "      border-right-color: var(--fill-color);\n",
       "    }\n",
       "    80% {\n",
       "      border-color: transparent;\n",
       "      border-right-color: var(--fill-color);\n",
       "      border-bottom-color: var(--fill-color);\n",
       "    }\n",
       "    90% {\n",
       "      border-color: transparent;\n",
       "      border-bottom-color: var(--fill-color);\n",
       "    }\n",
       "  }\n",
       "</style>\n",
       "\n",
       "  <script>\n",
       "    async function quickchart(key) {\n",
       "      const quickchartButtonEl =\n",
       "        document.querySelector('#' + key + ' button');\n",
       "      quickchartButtonEl.disabled = true;  // To prevent multiple clicks.\n",
       "      quickchartButtonEl.classList.add('colab-df-spinner');\n",
       "      try {\n",
       "        const charts = await google.colab.kernel.invokeFunction(\n",
       "            'suggestCharts', [key], {});\n",
       "      } catch (error) {\n",
       "        console.error('Error during call to suggestCharts:', error);\n",
       "      }\n",
       "      quickchartButtonEl.classList.remove('colab-df-spinner');\n",
       "      quickchartButtonEl.classList.add('colab-df-quickchart-complete');\n",
       "    }\n",
       "    (() => {\n",
       "      let quickchartButtonEl =\n",
       "        document.querySelector('#df-a9d94475-fdbf-43eb-8a67-83a1e1c049e7 button');\n",
       "      quickchartButtonEl.style.display =\n",
       "        google.colab.kernel.accessAllowed ? 'block' : 'none';\n",
       "    })();\n",
       "  </script>\n",
       "</div>\n",
       "    </div>\n",
       "  </div>\n"
      ],
      "text/plain": [
       "                           song_name  genre_output  popularity_output  \\\n",
       "4120  Nocturnal-TheBlackDahliaMurder             3                  0   \n",
       "3592       Lepetitmatin-EricDemarsan             3                  0   \n",
       "4667      FranciscoGuayabal-BenyMoré             3                  0   \n",
       "2774             Titoli-MauriceJarre             3                  0   \n",
       "1270     ¿QuéDiablosMeSucede?-Bronco             3                  0   \n",
       "\n",
       "     danceability_output energy_output  \n",
       "4120        [0.49795035]  [0.52087444]  \n",
       "3592         [0.4822253]  [0.51077914]  \n",
       "4667         [0.4849311]   [0.5145955]  \n",
       "2774        [0.49654356]   [0.5134843]  \n",
       "1270        [0.48959425]  [0.51477855]  "
      ]
     },
     "execution_count": 72,
     "metadata": {},
     "output_type": "execute_result"
    }
   ],
   "source": [
    "results_df.head()"
   ]
  },
  {
   "cell_type": "code",
   "execution_count": 73,
   "metadata": {
    "id": "fCJ_xzjmL4c7"
   },
   "outputs": [],
   "source": [
    "results_df.to_csv('data.csv', index=False)  # Set index=False to exclude row numbers\n"
   ]
  },
  {
   "cell_type": "code",
   "execution_count": null,
   "metadata": {
    "id": "04zHKPqTYXy1"
   },
   "outputs": [],
   "source": []
  }
 ],
 "metadata": {
  "accelerator": "GPU",
  "colab": {
   "gpuType": "T4",
   "provenance": []
  },
  "kernelspec": {
   "display_name": "Python 3 (ipykernel)",
   "language": "python",
   "name": "python3"
  },
  "language_info": {
   "codemirror_mode": {
    "name": "ipython",
    "version": 3
   },
   "file_extension": ".py",
   "mimetype": "text/x-python",
   "name": "python",
   "nbconvert_exporter": "python",
   "pygments_lexer": "ipython3",
   "version": "3.11.5"
  }
 },
 "nbformat": 4,
 "nbformat_minor": 1
}
