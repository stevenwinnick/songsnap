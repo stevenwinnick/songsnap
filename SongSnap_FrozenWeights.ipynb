{
  "nbformat": 4,
  "nbformat_minor": 0,
  "metadata": {
    "colab": {
      "provenance": [],
      "gpuType": "T4"
    },
    "kernelspec": {
      "name": "python3",
      "display_name": "Python 3"
    },
    "language_info": {
      "name": "python"
    },
    "accelerator": "GPU",
    "widgets": {
      "application/vnd.jupyter.widget-state+json": {
        "3007b9983b91460c8d2318bcf8d10b19": {
          "model_module": "@jupyter-widgets/controls",
          "model_name": "HBoxModel",
          "model_module_version": "1.5.0",
          "state": {
            "_dom_classes": [],
            "_model_module": "@jupyter-widgets/controls",
            "_model_module_version": "1.5.0",
            "_model_name": "HBoxModel",
            "_view_count": null,
            "_view_module": "@jupyter-widgets/controls",
            "_view_module_version": "1.5.0",
            "_view_name": "HBoxView",
            "box_style": "",
            "children": [
              "IPY_MODEL_933aad70bd83429ca62189e438db5ec1",
              "IPY_MODEL_e5876833b6e947338462902871dda7ce",
              "IPY_MODEL_1ef82210b18a4887928d7db4b517bea5"
            ],
            "layout": "IPY_MODEL_e03a87909c474597ae4ee7f62b6396d4"
          }
        },
        "933aad70bd83429ca62189e438db5ec1": {
          "model_module": "@jupyter-widgets/controls",
          "model_name": "HTMLModel",
          "model_module_version": "1.5.0",
          "state": {
            "_dom_classes": [],
            "_model_module": "@jupyter-widgets/controls",
            "_model_module_version": "1.5.0",
            "_model_name": "HTMLModel",
            "_view_count": null,
            "_view_module": "@jupyter-widgets/controls",
            "_view_module_version": "1.5.0",
            "_view_name": "HTMLView",
            "description": "",
            "description_tooltip": null,
            "layout": "IPY_MODEL_2054f66c50b64b338fec46b790d27959",
            "placeholder": "​",
            "style": "IPY_MODEL_172b22d2b9624f9f99fa1e32f5dff423",
            "value": "tokenizer_config.json: 100%"
          }
        },
        "e5876833b6e947338462902871dda7ce": {
          "model_module": "@jupyter-widgets/controls",
          "model_name": "FloatProgressModel",
          "model_module_version": "1.5.0",
          "state": {
            "_dom_classes": [],
            "_model_module": "@jupyter-widgets/controls",
            "_model_module_version": "1.5.0",
            "_model_name": "FloatProgressModel",
            "_view_count": null,
            "_view_module": "@jupyter-widgets/controls",
            "_view_module_version": "1.5.0",
            "_view_name": "ProgressView",
            "bar_style": "success",
            "description": "",
            "description_tooltip": null,
            "layout": "IPY_MODEL_dbc4743b5da8426f903af009cde0242c",
            "max": 48,
            "min": 0,
            "orientation": "horizontal",
            "style": "IPY_MODEL_264bb4fb934f4260b726801b1f054cf3",
            "value": 48
          }
        },
        "1ef82210b18a4887928d7db4b517bea5": {
          "model_module": "@jupyter-widgets/controls",
          "model_name": "HTMLModel",
          "model_module_version": "1.5.0",
          "state": {
            "_dom_classes": [],
            "_model_module": "@jupyter-widgets/controls",
            "_model_module_version": "1.5.0",
            "_model_name": "HTMLModel",
            "_view_count": null,
            "_view_module": "@jupyter-widgets/controls",
            "_view_module_version": "1.5.0",
            "_view_name": "HTMLView",
            "description": "",
            "description_tooltip": null,
            "layout": "IPY_MODEL_3e21a21a8d5945f1a4c59f9a58268df3",
            "placeholder": "​",
            "style": "IPY_MODEL_387c764ebe01443cb8ecb5db7463d2fa",
            "value": " 48.0/48.0 [00:00&lt;00:00, 2.42kB/s]"
          }
        },
        "e03a87909c474597ae4ee7f62b6396d4": {
          "model_module": "@jupyter-widgets/base",
          "model_name": "LayoutModel",
          "model_module_version": "1.2.0",
          "state": {
            "_model_module": "@jupyter-widgets/base",
            "_model_module_version": "1.2.0",
            "_model_name": "LayoutModel",
            "_view_count": null,
            "_view_module": "@jupyter-widgets/base",
            "_view_module_version": "1.2.0",
            "_view_name": "LayoutView",
            "align_content": null,
            "align_items": null,
            "align_self": null,
            "border": null,
            "bottom": null,
            "display": null,
            "flex": null,
            "flex_flow": null,
            "grid_area": null,
            "grid_auto_columns": null,
            "grid_auto_flow": null,
            "grid_auto_rows": null,
            "grid_column": null,
            "grid_gap": null,
            "grid_row": null,
            "grid_template_areas": null,
            "grid_template_columns": null,
            "grid_template_rows": null,
            "height": null,
            "justify_content": null,
            "justify_items": null,
            "left": null,
            "margin": null,
            "max_height": null,
            "max_width": null,
            "min_height": null,
            "min_width": null,
            "object_fit": null,
            "object_position": null,
            "order": null,
            "overflow": null,
            "overflow_x": null,
            "overflow_y": null,
            "padding": null,
            "right": null,
            "top": null,
            "visibility": null,
            "width": null
          }
        },
        "2054f66c50b64b338fec46b790d27959": {
          "model_module": "@jupyter-widgets/base",
          "model_name": "LayoutModel",
          "model_module_version": "1.2.0",
          "state": {
            "_model_module": "@jupyter-widgets/base",
            "_model_module_version": "1.2.0",
            "_model_name": "LayoutModel",
            "_view_count": null,
            "_view_module": "@jupyter-widgets/base",
            "_view_module_version": "1.2.0",
            "_view_name": "LayoutView",
            "align_content": null,
            "align_items": null,
            "align_self": null,
            "border": null,
            "bottom": null,
            "display": null,
            "flex": null,
            "flex_flow": null,
            "grid_area": null,
            "grid_auto_columns": null,
            "grid_auto_flow": null,
            "grid_auto_rows": null,
            "grid_column": null,
            "grid_gap": null,
            "grid_row": null,
            "grid_template_areas": null,
            "grid_template_columns": null,
            "grid_template_rows": null,
            "height": null,
            "justify_content": null,
            "justify_items": null,
            "left": null,
            "margin": null,
            "max_height": null,
            "max_width": null,
            "min_height": null,
            "min_width": null,
            "object_fit": null,
            "object_position": null,
            "order": null,
            "overflow": null,
            "overflow_x": null,
            "overflow_y": null,
            "padding": null,
            "right": null,
            "top": null,
            "visibility": null,
            "width": null
          }
        },
        "172b22d2b9624f9f99fa1e32f5dff423": {
          "model_module": "@jupyter-widgets/controls",
          "model_name": "DescriptionStyleModel",
          "model_module_version": "1.5.0",
          "state": {
            "_model_module": "@jupyter-widgets/controls",
            "_model_module_version": "1.5.0",
            "_model_name": "DescriptionStyleModel",
            "_view_count": null,
            "_view_module": "@jupyter-widgets/base",
            "_view_module_version": "1.2.0",
            "_view_name": "StyleView",
            "description_width": ""
          }
        },
        "dbc4743b5da8426f903af009cde0242c": {
          "model_module": "@jupyter-widgets/base",
          "model_name": "LayoutModel",
          "model_module_version": "1.2.0",
          "state": {
            "_model_module": "@jupyter-widgets/base",
            "_model_module_version": "1.2.0",
            "_model_name": "LayoutModel",
            "_view_count": null,
            "_view_module": "@jupyter-widgets/base",
            "_view_module_version": "1.2.0",
            "_view_name": "LayoutView",
            "align_content": null,
            "align_items": null,
            "align_self": null,
            "border": null,
            "bottom": null,
            "display": null,
            "flex": null,
            "flex_flow": null,
            "grid_area": null,
            "grid_auto_columns": null,
            "grid_auto_flow": null,
            "grid_auto_rows": null,
            "grid_column": null,
            "grid_gap": null,
            "grid_row": null,
            "grid_template_areas": null,
            "grid_template_columns": null,
            "grid_template_rows": null,
            "height": null,
            "justify_content": null,
            "justify_items": null,
            "left": null,
            "margin": null,
            "max_height": null,
            "max_width": null,
            "min_height": null,
            "min_width": null,
            "object_fit": null,
            "object_position": null,
            "order": null,
            "overflow": null,
            "overflow_x": null,
            "overflow_y": null,
            "padding": null,
            "right": null,
            "top": null,
            "visibility": null,
            "width": null
          }
        },
        "264bb4fb934f4260b726801b1f054cf3": {
          "model_module": "@jupyter-widgets/controls",
          "model_name": "ProgressStyleModel",
          "model_module_version": "1.5.0",
          "state": {
            "_model_module": "@jupyter-widgets/controls",
            "_model_module_version": "1.5.0",
            "_model_name": "ProgressStyleModel",
            "_view_count": null,
            "_view_module": "@jupyter-widgets/base",
            "_view_module_version": "1.2.0",
            "_view_name": "StyleView",
            "bar_color": null,
            "description_width": ""
          }
        },
        "3e21a21a8d5945f1a4c59f9a58268df3": {
          "model_module": "@jupyter-widgets/base",
          "model_name": "LayoutModel",
          "model_module_version": "1.2.0",
          "state": {
            "_model_module": "@jupyter-widgets/base",
            "_model_module_version": "1.2.0",
            "_model_name": "LayoutModel",
            "_view_count": null,
            "_view_module": "@jupyter-widgets/base",
            "_view_module_version": "1.2.0",
            "_view_name": "LayoutView",
            "align_content": null,
            "align_items": null,
            "align_self": null,
            "border": null,
            "bottom": null,
            "display": null,
            "flex": null,
            "flex_flow": null,
            "grid_area": null,
            "grid_auto_columns": null,
            "grid_auto_flow": null,
            "grid_auto_rows": null,
            "grid_column": null,
            "grid_gap": null,
            "grid_row": null,
            "grid_template_areas": null,
            "grid_template_columns": null,
            "grid_template_rows": null,
            "height": null,
            "justify_content": null,
            "justify_items": null,
            "left": null,
            "margin": null,
            "max_height": null,
            "max_width": null,
            "min_height": null,
            "min_width": null,
            "object_fit": null,
            "object_position": null,
            "order": null,
            "overflow": null,
            "overflow_x": null,
            "overflow_y": null,
            "padding": null,
            "right": null,
            "top": null,
            "visibility": null,
            "width": null
          }
        },
        "387c764ebe01443cb8ecb5db7463d2fa": {
          "model_module": "@jupyter-widgets/controls",
          "model_name": "DescriptionStyleModel",
          "model_module_version": "1.5.0",
          "state": {
            "_model_module": "@jupyter-widgets/controls",
            "_model_module_version": "1.5.0",
            "_model_name": "DescriptionStyleModel",
            "_view_count": null,
            "_view_module": "@jupyter-widgets/base",
            "_view_module_version": "1.2.0",
            "_view_name": "StyleView",
            "description_width": ""
          }
        },
        "894112dd2c1b489fb84589e28676dfb1": {
          "model_module": "@jupyter-widgets/controls",
          "model_name": "HBoxModel",
          "model_module_version": "1.5.0",
          "state": {
            "_dom_classes": [],
            "_model_module": "@jupyter-widgets/controls",
            "_model_module_version": "1.5.0",
            "_model_name": "HBoxModel",
            "_view_count": null,
            "_view_module": "@jupyter-widgets/controls",
            "_view_module_version": "1.5.0",
            "_view_name": "HBoxView",
            "box_style": "",
            "children": [
              "IPY_MODEL_d68d48af25e44547b10879900b4860ee",
              "IPY_MODEL_a6030346281e4a5ca6bae8722c7660e5",
              "IPY_MODEL_79c2c4356594421b9231c624b1c549d7"
            ],
            "layout": "IPY_MODEL_659e8e04efd74ff380c1dfb692efc5cd"
          }
        },
        "d68d48af25e44547b10879900b4860ee": {
          "model_module": "@jupyter-widgets/controls",
          "model_name": "HTMLModel",
          "model_module_version": "1.5.0",
          "state": {
            "_dom_classes": [],
            "_model_module": "@jupyter-widgets/controls",
            "_model_module_version": "1.5.0",
            "_model_name": "HTMLModel",
            "_view_count": null,
            "_view_module": "@jupyter-widgets/controls",
            "_view_module_version": "1.5.0",
            "_view_name": "HTMLView",
            "description": "",
            "description_tooltip": null,
            "layout": "IPY_MODEL_5e1e1ed40b114e4fb31a9f0317696190",
            "placeholder": "​",
            "style": "IPY_MODEL_0805f870ea864bfb94cfe6f52b113a32",
            "value": "vocab.txt: 100%"
          }
        },
        "a6030346281e4a5ca6bae8722c7660e5": {
          "model_module": "@jupyter-widgets/controls",
          "model_name": "FloatProgressModel",
          "model_module_version": "1.5.0",
          "state": {
            "_dom_classes": [],
            "_model_module": "@jupyter-widgets/controls",
            "_model_module_version": "1.5.0",
            "_model_name": "FloatProgressModel",
            "_view_count": null,
            "_view_module": "@jupyter-widgets/controls",
            "_view_module_version": "1.5.0",
            "_view_name": "ProgressView",
            "bar_style": "success",
            "description": "",
            "description_tooltip": null,
            "layout": "IPY_MODEL_1cb57e1d8fef4b4692f375396a19a998",
            "max": 231508,
            "min": 0,
            "orientation": "horizontal",
            "style": "IPY_MODEL_a4363b8df18947c19b6c60d72d7d6416",
            "value": 231508
          }
        },
        "79c2c4356594421b9231c624b1c549d7": {
          "model_module": "@jupyter-widgets/controls",
          "model_name": "HTMLModel",
          "model_module_version": "1.5.0",
          "state": {
            "_dom_classes": [],
            "_model_module": "@jupyter-widgets/controls",
            "_model_module_version": "1.5.0",
            "_model_name": "HTMLModel",
            "_view_count": null,
            "_view_module": "@jupyter-widgets/controls",
            "_view_module_version": "1.5.0",
            "_view_name": "HTMLView",
            "description": "",
            "description_tooltip": null,
            "layout": "IPY_MODEL_58fe9784b04a4c368139f19b2c48fb37",
            "placeholder": "​",
            "style": "IPY_MODEL_33ee7a9918bf4449a2df6fe399d608fa",
            "value": " 232k/232k [00:00&lt;00:00, 3.04MB/s]"
          }
        },
        "659e8e04efd74ff380c1dfb692efc5cd": {
          "model_module": "@jupyter-widgets/base",
          "model_name": "LayoutModel",
          "model_module_version": "1.2.0",
          "state": {
            "_model_module": "@jupyter-widgets/base",
            "_model_module_version": "1.2.0",
            "_model_name": "LayoutModel",
            "_view_count": null,
            "_view_module": "@jupyter-widgets/base",
            "_view_module_version": "1.2.0",
            "_view_name": "LayoutView",
            "align_content": null,
            "align_items": null,
            "align_self": null,
            "border": null,
            "bottom": null,
            "display": null,
            "flex": null,
            "flex_flow": null,
            "grid_area": null,
            "grid_auto_columns": null,
            "grid_auto_flow": null,
            "grid_auto_rows": null,
            "grid_column": null,
            "grid_gap": null,
            "grid_row": null,
            "grid_template_areas": null,
            "grid_template_columns": null,
            "grid_template_rows": null,
            "height": null,
            "justify_content": null,
            "justify_items": null,
            "left": null,
            "margin": null,
            "max_height": null,
            "max_width": null,
            "min_height": null,
            "min_width": null,
            "object_fit": null,
            "object_position": null,
            "order": null,
            "overflow": null,
            "overflow_x": null,
            "overflow_y": null,
            "padding": null,
            "right": null,
            "top": null,
            "visibility": null,
            "width": null
          }
        },
        "5e1e1ed40b114e4fb31a9f0317696190": {
          "model_module": "@jupyter-widgets/base",
          "model_name": "LayoutModel",
          "model_module_version": "1.2.0",
          "state": {
            "_model_module": "@jupyter-widgets/base",
            "_model_module_version": "1.2.0",
            "_model_name": "LayoutModel",
            "_view_count": null,
            "_view_module": "@jupyter-widgets/base",
            "_view_module_version": "1.2.0",
            "_view_name": "LayoutView",
            "align_content": null,
            "align_items": null,
            "align_self": null,
            "border": null,
            "bottom": null,
            "display": null,
            "flex": null,
            "flex_flow": null,
            "grid_area": null,
            "grid_auto_columns": null,
            "grid_auto_flow": null,
            "grid_auto_rows": null,
            "grid_column": null,
            "grid_gap": null,
            "grid_row": null,
            "grid_template_areas": null,
            "grid_template_columns": null,
            "grid_template_rows": null,
            "height": null,
            "justify_content": null,
            "justify_items": null,
            "left": null,
            "margin": null,
            "max_height": null,
            "max_width": null,
            "min_height": null,
            "min_width": null,
            "object_fit": null,
            "object_position": null,
            "order": null,
            "overflow": null,
            "overflow_x": null,
            "overflow_y": null,
            "padding": null,
            "right": null,
            "top": null,
            "visibility": null,
            "width": null
          }
        },
        "0805f870ea864bfb94cfe6f52b113a32": {
          "model_module": "@jupyter-widgets/controls",
          "model_name": "DescriptionStyleModel",
          "model_module_version": "1.5.0",
          "state": {
            "_model_module": "@jupyter-widgets/controls",
            "_model_module_version": "1.5.0",
            "_model_name": "DescriptionStyleModel",
            "_view_count": null,
            "_view_module": "@jupyter-widgets/base",
            "_view_module_version": "1.2.0",
            "_view_name": "StyleView",
            "description_width": ""
          }
        },
        "1cb57e1d8fef4b4692f375396a19a998": {
          "model_module": "@jupyter-widgets/base",
          "model_name": "LayoutModel",
          "model_module_version": "1.2.0",
          "state": {
            "_model_module": "@jupyter-widgets/base",
            "_model_module_version": "1.2.0",
            "_model_name": "LayoutModel",
            "_view_count": null,
            "_view_module": "@jupyter-widgets/base",
            "_view_module_version": "1.2.0",
            "_view_name": "LayoutView",
            "align_content": null,
            "align_items": null,
            "align_self": null,
            "border": null,
            "bottom": null,
            "display": null,
            "flex": null,
            "flex_flow": null,
            "grid_area": null,
            "grid_auto_columns": null,
            "grid_auto_flow": null,
            "grid_auto_rows": null,
            "grid_column": null,
            "grid_gap": null,
            "grid_row": null,
            "grid_template_areas": null,
            "grid_template_columns": null,
            "grid_template_rows": null,
            "height": null,
            "justify_content": null,
            "justify_items": null,
            "left": null,
            "margin": null,
            "max_height": null,
            "max_width": null,
            "min_height": null,
            "min_width": null,
            "object_fit": null,
            "object_position": null,
            "order": null,
            "overflow": null,
            "overflow_x": null,
            "overflow_y": null,
            "padding": null,
            "right": null,
            "top": null,
            "visibility": null,
            "width": null
          }
        },
        "a4363b8df18947c19b6c60d72d7d6416": {
          "model_module": "@jupyter-widgets/controls",
          "model_name": "ProgressStyleModel",
          "model_module_version": "1.5.0",
          "state": {
            "_model_module": "@jupyter-widgets/controls",
            "_model_module_version": "1.5.0",
            "_model_name": "ProgressStyleModel",
            "_view_count": null,
            "_view_module": "@jupyter-widgets/base",
            "_view_module_version": "1.2.0",
            "_view_name": "StyleView",
            "bar_color": null,
            "description_width": ""
          }
        },
        "58fe9784b04a4c368139f19b2c48fb37": {
          "model_module": "@jupyter-widgets/base",
          "model_name": "LayoutModel",
          "model_module_version": "1.2.0",
          "state": {
            "_model_module": "@jupyter-widgets/base",
            "_model_module_version": "1.2.0",
            "_model_name": "LayoutModel",
            "_view_count": null,
            "_view_module": "@jupyter-widgets/base",
            "_view_module_version": "1.2.0",
            "_view_name": "LayoutView",
            "align_content": null,
            "align_items": null,
            "align_self": null,
            "border": null,
            "bottom": null,
            "display": null,
            "flex": null,
            "flex_flow": null,
            "grid_area": null,
            "grid_auto_columns": null,
            "grid_auto_flow": null,
            "grid_auto_rows": null,
            "grid_column": null,
            "grid_gap": null,
            "grid_row": null,
            "grid_template_areas": null,
            "grid_template_columns": null,
            "grid_template_rows": null,
            "height": null,
            "justify_content": null,
            "justify_items": null,
            "left": null,
            "margin": null,
            "max_height": null,
            "max_width": null,
            "min_height": null,
            "min_width": null,
            "object_fit": null,
            "object_position": null,
            "order": null,
            "overflow": null,
            "overflow_x": null,
            "overflow_y": null,
            "padding": null,
            "right": null,
            "top": null,
            "visibility": null,
            "width": null
          }
        },
        "33ee7a9918bf4449a2df6fe399d608fa": {
          "model_module": "@jupyter-widgets/controls",
          "model_name": "DescriptionStyleModel",
          "model_module_version": "1.5.0",
          "state": {
            "_model_module": "@jupyter-widgets/controls",
            "_model_module_version": "1.5.0",
            "_model_name": "DescriptionStyleModel",
            "_view_count": null,
            "_view_module": "@jupyter-widgets/base",
            "_view_module_version": "1.2.0",
            "_view_name": "StyleView",
            "description_width": ""
          }
        },
        "73a0804a3648415b90821f35edca0ad8": {
          "model_module": "@jupyter-widgets/controls",
          "model_name": "HBoxModel",
          "model_module_version": "1.5.0",
          "state": {
            "_dom_classes": [],
            "_model_module": "@jupyter-widgets/controls",
            "_model_module_version": "1.5.0",
            "_model_name": "HBoxModel",
            "_view_count": null,
            "_view_module": "@jupyter-widgets/controls",
            "_view_module_version": "1.5.0",
            "_view_name": "HBoxView",
            "box_style": "",
            "children": [
              "IPY_MODEL_9b80676a154c4eb9896a4d1921141269",
              "IPY_MODEL_90f5c46f91d44ebf99a6f2cda2cbfe92",
              "IPY_MODEL_6b49f5de88264c68bd0d3e27b87a3e16"
            ],
            "layout": "IPY_MODEL_a76e258fb58143bd9d3e225b48564275"
          }
        },
        "9b80676a154c4eb9896a4d1921141269": {
          "model_module": "@jupyter-widgets/controls",
          "model_name": "HTMLModel",
          "model_module_version": "1.5.0",
          "state": {
            "_dom_classes": [],
            "_model_module": "@jupyter-widgets/controls",
            "_model_module_version": "1.5.0",
            "_model_name": "HTMLModel",
            "_view_count": null,
            "_view_module": "@jupyter-widgets/controls",
            "_view_module_version": "1.5.0",
            "_view_name": "HTMLView",
            "description": "",
            "description_tooltip": null,
            "layout": "IPY_MODEL_2c78e513be9e4048b9b0da77048755ad",
            "placeholder": "​",
            "style": "IPY_MODEL_05755e77f738432193fc35093501d22a",
            "value": "tokenizer.json: 100%"
          }
        },
        "90f5c46f91d44ebf99a6f2cda2cbfe92": {
          "model_module": "@jupyter-widgets/controls",
          "model_name": "FloatProgressModel",
          "model_module_version": "1.5.0",
          "state": {
            "_dom_classes": [],
            "_model_module": "@jupyter-widgets/controls",
            "_model_module_version": "1.5.0",
            "_model_name": "FloatProgressModel",
            "_view_count": null,
            "_view_module": "@jupyter-widgets/controls",
            "_view_module_version": "1.5.0",
            "_view_name": "ProgressView",
            "bar_style": "success",
            "description": "",
            "description_tooltip": null,
            "layout": "IPY_MODEL_831e38e2887148c98ab3287eb38e606e",
            "max": 466062,
            "min": 0,
            "orientation": "horizontal",
            "style": "IPY_MODEL_6e450d0b32b74d9c81e836dfb214647c",
            "value": 466062
          }
        },
        "6b49f5de88264c68bd0d3e27b87a3e16": {
          "model_module": "@jupyter-widgets/controls",
          "model_name": "HTMLModel",
          "model_module_version": "1.5.0",
          "state": {
            "_dom_classes": [],
            "_model_module": "@jupyter-widgets/controls",
            "_model_module_version": "1.5.0",
            "_model_name": "HTMLModel",
            "_view_count": null,
            "_view_module": "@jupyter-widgets/controls",
            "_view_module_version": "1.5.0",
            "_view_name": "HTMLView",
            "description": "",
            "description_tooltip": null,
            "layout": "IPY_MODEL_5c656178621a4a46ba883c801d7bf9ca",
            "placeholder": "​",
            "style": "IPY_MODEL_d2606872a81e438c8a08731cf0b23556",
            "value": " 466k/466k [00:00&lt;00:00, 6.89MB/s]"
          }
        },
        "a76e258fb58143bd9d3e225b48564275": {
          "model_module": "@jupyter-widgets/base",
          "model_name": "LayoutModel",
          "model_module_version": "1.2.0",
          "state": {
            "_model_module": "@jupyter-widgets/base",
            "_model_module_version": "1.2.0",
            "_model_name": "LayoutModel",
            "_view_count": null,
            "_view_module": "@jupyter-widgets/base",
            "_view_module_version": "1.2.0",
            "_view_name": "LayoutView",
            "align_content": null,
            "align_items": null,
            "align_self": null,
            "border": null,
            "bottom": null,
            "display": null,
            "flex": null,
            "flex_flow": null,
            "grid_area": null,
            "grid_auto_columns": null,
            "grid_auto_flow": null,
            "grid_auto_rows": null,
            "grid_column": null,
            "grid_gap": null,
            "grid_row": null,
            "grid_template_areas": null,
            "grid_template_columns": null,
            "grid_template_rows": null,
            "height": null,
            "justify_content": null,
            "justify_items": null,
            "left": null,
            "margin": null,
            "max_height": null,
            "max_width": null,
            "min_height": null,
            "min_width": null,
            "object_fit": null,
            "object_position": null,
            "order": null,
            "overflow": null,
            "overflow_x": null,
            "overflow_y": null,
            "padding": null,
            "right": null,
            "top": null,
            "visibility": null,
            "width": null
          }
        },
        "2c78e513be9e4048b9b0da77048755ad": {
          "model_module": "@jupyter-widgets/base",
          "model_name": "LayoutModel",
          "model_module_version": "1.2.0",
          "state": {
            "_model_module": "@jupyter-widgets/base",
            "_model_module_version": "1.2.0",
            "_model_name": "LayoutModel",
            "_view_count": null,
            "_view_module": "@jupyter-widgets/base",
            "_view_module_version": "1.2.0",
            "_view_name": "LayoutView",
            "align_content": null,
            "align_items": null,
            "align_self": null,
            "border": null,
            "bottom": null,
            "display": null,
            "flex": null,
            "flex_flow": null,
            "grid_area": null,
            "grid_auto_columns": null,
            "grid_auto_flow": null,
            "grid_auto_rows": null,
            "grid_column": null,
            "grid_gap": null,
            "grid_row": null,
            "grid_template_areas": null,
            "grid_template_columns": null,
            "grid_template_rows": null,
            "height": null,
            "justify_content": null,
            "justify_items": null,
            "left": null,
            "margin": null,
            "max_height": null,
            "max_width": null,
            "min_height": null,
            "min_width": null,
            "object_fit": null,
            "object_position": null,
            "order": null,
            "overflow": null,
            "overflow_x": null,
            "overflow_y": null,
            "padding": null,
            "right": null,
            "top": null,
            "visibility": null,
            "width": null
          }
        },
        "05755e77f738432193fc35093501d22a": {
          "model_module": "@jupyter-widgets/controls",
          "model_name": "DescriptionStyleModel",
          "model_module_version": "1.5.0",
          "state": {
            "_model_module": "@jupyter-widgets/controls",
            "_model_module_version": "1.5.0",
            "_model_name": "DescriptionStyleModel",
            "_view_count": null,
            "_view_module": "@jupyter-widgets/base",
            "_view_module_version": "1.2.0",
            "_view_name": "StyleView",
            "description_width": ""
          }
        },
        "831e38e2887148c98ab3287eb38e606e": {
          "model_module": "@jupyter-widgets/base",
          "model_name": "LayoutModel",
          "model_module_version": "1.2.0",
          "state": {
            "_model_module": "@jupyter-widgets/base",
            "_model_module_version": "1.2.0",
            "_model_name": "LayoutModel",
            "_view_count": null,
            "_view_module": "@jupyter-widgets/base",
            "_view_module_version": "1.2.0",
            "_view_name": "LayoutView",
            "align_content": null,
            "align_items": null,
            "align_self": null,
            "border": null,
            "bottom": null,
            "display": null,
            "flex": null,
            "flex_flow": null,
            "grid_area": null,
            "grid_auto_columns": null,
            "grid_auto_flow": null,
            "grid_auto_rows": null,
            "grid_column": null,
            "grid_gap": null,
            "grid_row": null,
            "grid_template_areas": null,
            "grid_template_columns": null,
            "grid_template_rows": null,
            "height": null,
            "justify_content": null,
            "justify_items": null,
            "left": null,
            "margin": null,
            "max_height": null,
            "max_width": null,
            "min_height": null,
            "min_width": null,
            "object_fit": null,
            "object_position": null,
            "order": null,
            "overflow": null,
            "overflow_x": null,
            "overflow_y": null,
            "padding": null,
            "right": null,
            "top": null,
            "visibility": null,
            "width": null
          }
        },
        "6e450d0b32b74d9c81e836dfb214647c": {
          "model_module": "@jupyter-widgets/controls",
          "model_name": "ProgressStyleModel",
          "model_module_version": "1.5.0",
          "state": {
            "_model_module": "@jupyter-widgets/controls",
            "_model_module_version": "1.5.0",
            "_model_name": "ProgressStyleModel",
            "_view_count": null,
            "_view_module": "@jupyter-widgets/base",
            "_view_module_version": "1.2.0",
            "_view_name": "StyleView",
            "bar_color": null,
            "description_width": ""
          }
        },
        "5c656178621a4a46ba883c801d7bf9ca": {
          "model_module": "@jupyter-widgets/base",
          "model_name": "LayoutModel",
          "model_module_version": "1.2.0",
          "state": {
            "_model_module": "@jupyter-widgets/base",
            "_model_module_version": "1.2.0",
            "_model_name": "LayoutModel",
            "_view_count": null,
            "_view_module": "@jupyter-widgets/base",
            "_view_module_version": "1.2.0",
            "_view_name": "LayoutView",
            "align_content": null,
            "align_items": null,
            "align_self": null,
            "border": null,
            "bottom": null,
            "display": null,
            "flex": null,
            "flex_flow": null,
            "grid_area": null,
            "grid_auto_columns": null,
            "grid_auto_flow": null,
            "grid_auto_rows": null,
            "grid_column": null,
            "grid_gap": null,
            "grid_row": null,
            "grid_template_areas": null,
            "grid_template_columns": null,
            "grid_template_rows": null,
            "height": null,
            "justify_content": null,
            "justify_items": null,
            "left": null,
            "margin": null,
            "max_height": null,
            "max_width": null,
            "min_height": null,
            "min_width": null,
            "object_fit": null,
            "object_position": null,
            "order": null,
            "overflow": null,
            "overflow_x": null,
            "overflow_y": null,
            "padding": null,
            "right": null,
            "top": null,
            "visibility": null,
            "width": null
          }
        },
        "d2606872a81e438c8a08731cf0b23556": {
          "model_module": "@jupyter-widgets/controls",
          "model_name": "DescriptionStyleModel",
          "model_module_version": "1.5.0",
          "state": {
            "_model_module": "@jupyter-widgets/controls",
            "_model_module_version": "1.5.0",
            "_model_name": "DescriptionStyleModel",
            "_view_count": null,
            "_view_module": "@jupyter-widgets/base",
            "_view_module_version": "1.2.0",
            "_view_name": "StyleView",
            "description_width": ""
          }
        },
        "8eec434aa0ed41ff98f7b30c75c5833e": {
          "model_module": "@jupyter-widgets/controls",
          "model_name": "HBoxModel",
          "model_module_version": "1.5.0",
          "state": {
            "_dom_classes": [],
            "_model_module": "@jupyter-widgets/controls",
            "_model_module_version": "1.5.0",
            "_model_name": "HBoxModel",
            "_view_count": null,
            "_view_module": "@jupyter-widgets/controls",
            "_view_module_version": "1.5.0",
            "_view_name": "HBoxView",
            "box_style": "",
            "children": [
              "IPY_MODEL_1e898e28eee3497ab05a4c85a10492f1",
              "IPY_MODEL_cf96618435734cabb70b6b0dd591d6d3",
              "IPY_MODEL_024710be08e34be1ab24441972efb347"
            ],
            "layout": "IPY_MODEL_de40cd1578584bfb9242bce28fa2ab10"
          }
        },
        "1e898e28eee3497ab05a4c85a10492f1": {
          "model_module": "@jupyter-widgets/controls",
          "model_name": "HTMLModel",
          "model_module_version": "1.5.0",
          "state": {
            "_dom_classes": [],
            "_model_module": "@jupyter-widgets/controls",
            "_model_module_version": "1.5.0",
            "_model_name": "HTMLModel",
            "_view_count": null,
            "_view_module": "@jupyter-widgets/controls",
            "_view_module_version": "1.5.0",
            "_view_name": "HTMLView",
            "description": "",
            "description_tooltip": null,
            "layout": "IPY_MODEL_b0050e0dcb064089aeede6f2c949b68c",
            "placeholder": "​",
            "style": "IPY_MODEL_4653a98fb92e4b41a89d9a8366d114bc",
            "value": "config.json: 100%"
          }
        },
        "cf96618435734cabb70b6b0dd591d6d3": {
          "model_module": "@jupyter-widgets/controls",
          "model_name": "FloatProgressModel",
          "model_module_version": "1.5.0",
          "state": {
            "_dom_classes": [],
            "_model_module": "@jupyter-widgets/controls",
            "_model_module_version": "1.5.0",
            "_model_name": "FloatProgressModel",
            "_view_count": null,
            "_view_module": "@jupyter-widgets/controls",
            "_view_module_version": "1.5.0",
            "_view_name": "ProgressView",
            "bar_style": "success",
            "description": "",
            "description_tooltip": null,
            "layout": "IPY_MODEL_be39fc430aa845a3ae62b16504c735e2",
            "max": 570,
            "min": 0,
            "orientation": "horizontal",
            "style": "IPY_MODEL_90970c40523b42fc884af7d8cc8553c6",
            "value": 570
          }
        },
        "024710be08e34be1ab24441972efb347": {
          "model_module": "@jupyter-widgets/controls",
          "model_name": "HTMLModel",
          "model_module_version": "1.5.0",
          "state": {
            "_dom_classes": [],
            "_model_module": "@jupyter-widgets/controls",
            "_model_module_version": "1.5.0",
            "_model_name": "HTMLModel",
            "_view_count": null,
            "_view_module": "@jupyter-widgets/controls",
            "_view_module_version": "1.5.0",
            "_view_name": "HTMLView",
            "description": "",
            "description_tooltip": null,
            "layout": "IPY_MODEL_f4d05f432a664f78acf0a16adca05f23",
            "placeholder": "​",
            "style": "IPY_MODEL_5e473d700e49445b8648b7e0e54602c0",
            "value": " 570/570 [00:00&lt;00:00, 27.4kB/s]"
          }
        },
        "de40cd1578584bfb9242bce28fa2ab10": {
          "model_module": "@jupyter-widgets/base",
          "model_name": "LayoutModel",
          "model_module_version": "1.2.0",
          "state": {
            "_model_module": "@jupyter-widgets/base",
            "_model_module_version": "1.2.0",
            "_model_name": "LayoutModel",
            "_view_count": null,
            "_view_module": "@jupyter-widgets/base",
            "_view_module_version": "1.2.0",
            "_view_name": "LayoutView",
            "align_content": null,
            "align_items": null,
            "align_self": null,
            "border": null,
            "bottom": null,
            "display": null,
            "flex": null,
            "flex_flow": null,
            "grid_area": null,
            "grid_auto_columns": null,
            "grid_auto_flow": null,
            "grid_auto_rows": null,
            "grid_column": null,
            "grid_gap": null,
            "grid_row": null,
            "grid_template_areas": null,
            "grid_template_columns": null,
            "grid_template_rows": null,
            "height": null,
            "justify_content": null,
            "justify_items": null,
            "left": null,
            "margin": null,
            "max_height": null,
            "max_width": null,
            "min_height": null,
            "min_width": null,
            "object_fit": null,
            "object_position": null,
            "order": null,
            "overflow": null,
            "overflow_x": null,
            "overflow_y": null,
            "padding": null,
            "right": null,
            "top": null,
            "visibility": null,
            "width": null
          }
        },
        "b0050e0dcb064089aeede6f2c949b68c": {
          "model_module": "@jupyter-widgets/base",
          "model_name": "LayoutModel",
          "model_module_version": "1.2.0",
          "state": {
            "_model_module": "@jupyter-widgets/base",
            "_model_module_version": "1.2.0",
            "_model_name": "LayoutModel",
            "_view_count": null,
            "_view_module": "@jupyter-widgets/base",
            "_view_module_version": "1.2.0",
            "_view_name": "LayoutView",
            "align_content": null,
            "align_items": null,
            "align_self": null,
            "border": null,
            "bottom": null,
            "display": null,
            "flex": null,
            "flex_flow": null,
            "grid_area": null,
            "grid_auto_columns": null,
            "grid_auto_flow": null,
            "grid_auto_rows": null,
            "grid_column": null,
            "grid_gap": null,
            "grid_row": null,
            "grid_template_areas": null,
            "grid_template_columns": null,
            "grid_template_rows": null,
            "height": null,
            "justify_content": null,
            "justify_items": null,
            "left": null,
            "margin": null,
            "max_height": null,
            "max_width": null,
            "min_height": null,
            "min_width": null,
            "object_fit": null,
            "object_position": null,
            "order": null,
            "overflow": null,
            "overflow_x": null,
            "overflow_y": null,
            "padding": null,
            "right": null,
            "top": null,
            "visibility": null,
            "width": null
          }
        },
        "4653a98fb92e4b41a89d9a8366d114bc": {
          "model_module": "@jupyter-widgets/controls",
          "model_name": "DescriptionStyleModel",
          "model_module_version": "1.5.0",
          "state": {
            "_model_module": "@jupyter-widgets/controls",
            "_model_module_version": "1.5.0",
            "_model_name": "DescriptionStyleModel",
            "_view_count": null,
            "_view_module": "@jupyter-widgets/base",
            "_view_module_version": "1.2.0",
            "_view_name": "StyleView",
            "description_width": ""
          }
        },
        "be39fc430aa845a3ae62b16504c735e2": {
          "model_module": "@jupyter-widgets/base",
          "model_name": "LayoutModel",
          "model_module_version": "1.2.0",
          "state": {
            "_model_module": "@jupyter-widgets/base",
            "_model_module_version": "1.2.0",
            "_model_name": "LayoutModel",
            "_view_count": null,
            "_view_module": "@jupyter-widgets/base",
            "_view_module_version": "1.2.0",
            "_view_name": "LayoutView",
            "align_content": null,
            "align_items": null,
            "align_self": null,
            "border": null,
            "bottom": null,
            "display": null,
            "flex": null,
            "flex_flow": null,
            "grid_area": null,
            "grid_auto_columns": null,
            "grid_auto_flow": null,
            "grid_auto_rows": null,
            "grid_column": null,
            "grid_gap": null,
            "grid_row": null,
            "grid_template_areas": null,
            "grid_template_columns": null,
            "grid_template_rows": null,
            "height": null,
            "justify_content": null,
            "justify_items": null,
            "left": null,
            "margin": null,
            "max_height": null,
            "max_width": null,
            "min_height": null,
            "min_width": null,
            "object_fit": null,
            "object_position": null,
            "order": null,
            "overflow": null,
            "overflow_x": null,
            "overflow_y": null,
            "padding": null,
            "right": null,
            "top": null,
            "visibility": null,
            "width": null
          }
        },
        "90970c40523b42fc884af7d8cc8553c6": {
          "model_module": "@jupyter-widgets/controls",
          "model_name": "ProgressStyleModel",
          "model_module_version": "1.5.0",
          "state": {
            "_model_module": "@jupyter-widgets/controls",
            "_model_module_version": "1.5.0",
            "_model_name": "ProgressStyleModel",
            "_view_count": null,
            "_view_module": "@jupyter-widgets/base",
            "_view_module_version": "1.2.0",
            "_view_name": "StyleView",
            "bar_color": null,
            "description_width": ""
          }
        },
        "f4d05f432a664f78acf0a16adca05f23": {
          "model_module": "@jupyter-widgets/base",
          "model_name": "LayoutModel",
          "model_module_version": "1.2.0",
          "state": {
            "_model_module": "@jupyter-widgets/base",
            "_model_module_version": "1.2.0",
            "_model_name": "LayoutModel",
            "_view_count": null,
            "_view_module": "@jupyter-widgets/base",
            "_view_module_version": "1.2.0",
            "_view_name": "LayoutView",
            "align_content": null,
            "align_items": null,
            "align_self": null,
            "border": null,
            "bottom": null,
            "display": null,
            "flex": null,
            "flex_flow": null,
            "grid_area": null,
            "grid_auto_columns": null,
            "grid_auto_flow": null,
            "grid_auto_rows": null,
            "grid_column": null,
            "grid_gap": null,
            "grid_row": null,
            "grid_template_areas": null,
            "grid_template_columns": null,
            "grid_template_rows": null,
            "height": null,
            "justify_content": null,
            "justify_items": null,
            "left": null,
            "margin": null,
            "max_height": null,
            "max_width": null,
            "min_height": null,
            "min_width": null,
            "object_fit": null,
            "object_position": null,
            "order": null,
            "overflow": null,
            "overflow_x": null,
            "overflow_y": null,
            "padding": null,
            "right": null,
            "top": null,
            "visibility": null,
            "width": null
          }
        },
        "5e473d700e49445b8648b7e0e54602c0": {
          "model_module": "@jupyter-widgets/controls",
          "model_name": "DescriptionStyleModel",
          "model_module_version": "1.5.0",
          "state": {
            "_model_module": "@jupyter-widgets/controls",
            "_model_module_version": "1.5.0",
            "_model_name": "DescriptionStyleModel",
            "_view_count": null,
            "_view_module": "@jupyter-widgets/base",
            "_view_module_version": "1.2.0",
            "_view_name": "StyleView",
            "description_width": ""
          }
        },
        "5aebcbc9a21c4d55bcc0971b7f13ae32": {
          "model_module": "@jupyter-widgets/controls",
          "model_name": "HBoxModel",
          "model_module_version": "1.5.0",
          "state": {
            "_dom_classes": [],
            "_model_module": "@jupyter-widgets/controls",
            "_model_module_version": "1.5.0",
            "_model_name": "HBoxModel",
            "_view_count": null,
            "_view_module": "@jupyter-widgets/controls",
            "_view_module_version": "1.5.0",
            "_view_name": "HBoxView",
            "box_style": "",
            "children": [
              "IPY_MODEL_9d082a71096e43ce8c85b2a0b0458144",
              "IPY_MODEL_27035c35ada94a4fb0a882e35d733641",
              "IPY_MODEL_459c08e34aab4054b317dacc0e54870d"
            ],
            "layout": "IPY_MODEL_68f2b2b79ad543dcaeafa2bf070dd44a"
          }
        },
        "9d082a71096e43ce8c85b2a0b0458144": {
          "model_module": "@jupyter-widgets/controls",
          "model_name": "HTMLModel",
          "model_module_version": "1.5.0",
          "state": {
            "_dom_classes": [],
            "_model_module": "@jupyter-widgets/controls",
            "_model_module_version": "1.5.0",
            "_model_name": "HTMLModel",
            "_view_count": null,
            "_view_module": "@jupyter-widgets/controls",
            "_view_module_version": "1.5.0",
            "_view_name": "HTMLView",
            "description": "",
            "description_tooltip": null,
            "layout": "IPY_MODEL_9e11180f9b2a47c999af1250cc7e24e4",
            "placeholder": "​",
            "style": "IPY_MODEL_8ae19f1013e842e99bd28c947caafd21",
            "value": "model.safetensors: 100%"
          }
        },
        "27035c35ada94a4fb0a882e35d733641": {
          "model_module": "@jupyter-widgets/controls",
          "model_name": "FloatProgressModel",
          "model_module_version": "1.5.0",
          "state": {
            "_dom_classes": [],
            "_model_module": "@jupyter-widgets/controls",
            "_model_module_version": "1.5.0",
            "_model_name": "FloatProgressModel",
            "_view_count": null,
            "_view_module": "@jupyter-widgets/controls",
            "_view_module_version": "1.5.0",
            "_view_name": "ProgressView",
            "bar_style": "success",
            "description": "",
            "description_tooltip": null,
            "layout": "IPY_MODEL_c5db66283a12471b8d35aeb405f13d21",
            "max": 440449768,
            "min": 0,
            "orientation": "horizontal",
            "style": "IPY_MODEL_674ef9436cff48e4a63c00f7063acd1a",
            "value": 440449768
          }
        },
        "459c08e34aab4054b317dacc0e54870d": {
          "model_module": "@jupyter-widgets/controls",
          "model_name": "HTMLModel",
          "model_module_version": "1.5.0",
          "state": {
            "_dom_classes": [],
            "_model_module": "@jupyter-widgets/controls",
            "_model_module_version": "1.5.0",
            "_model_name": "HTMLModel",
            "_view_count": null,
            "_view_module": "@jupyter-widgets/controls",
            "_view_module_version": "1.5.0",
            "_view_name": "HTMLView",
            "description": "",
            "description_tooltip": null,
            "layout": "IPY_MODEL_df0323376d2d4ee7b61464ccc022076b",
            "placeholder": "​",
            "style": "IPY_MODEL_c592fba03582440da63704b5df9d0081",
            "value": " 440M/440M [00:08&lt;00:00, 18.2MB/s]"
          }
        },
        "68f2b2b79ad543dcaeafa2bf070dd44a": {
          "model_module": "@jupyter-widgets/base",
          "model_name": "LayoutModel",
          "model_module_version": "1.2.0",
          "state": {
            "_model_module": "@jupyter-widgets/base",
            "_model_module_version": "1.2.0",
            "_model_name": "LayoutModel",
            "_view_count": null,
            "_view_module": "@jupyter-widgets/base",
            "_view_module_version": "1.2.0",
            "_view_name": "LayoutView",
            "align_content": null,
            "align_items": null,
            "align_self": null,
            "border": null,
            "bottom": null,
            "display": null,
            "flex": null,
            "flex_flow": null,
            "grid_area": null,
            "grid_auto_columns": null,
            "grid_auto_flow": null,
            "grid_auto_rows": null,
            "grid_column": null,
            "grid_gap": null,
            "grid_row": null,
            "grid_template_areas": null,
            "grid_template_columns": null,
            "grid_template_rows": null,
            "height": null,
            "justify_content": null,
            "justify_items": null,
            "left": null,
            "margin": null,
            "max_height": null,
            "max_width": null,
            "min_height": null,
            "min_width": null,
            "object_fit": null,
            "object_position": null,
            "order": null,
            "overflow": null,
            "overflow_x": null,
            "overflow_y": null,
            "padding": null,
            "right": null,
            "top": null,
            "visibility": null,
            "width": null
          }
        },
        "9e11180f9b2a47c999af1250cc7e24e4": {
          "model_module": "@jupyter-widgets/base",
          "model_name": "LayoutModel",
          "model_module_version": "1.2.0",
          "state": {
            "_model_module": "@jupyter-widgets/base",
            "_model_module_version": "1.2.0",
            "_model_name": "LayoutModel",
            "_view_count": null,
            "_view_module": "@jupyter-widgets/base",
            "_view_module_version": "1.2.0",
            "_view_name": "LayoutView",
            "align_content": null,
            "align_items": null,
            "align_self": null,
            "border": null,
            "bottom": null,
            "display": null,
            "flex": null,
            "flex_flow": null,
            "grid_area": null,
            "grid_auto_columns": null,
            "grid_auto_flow": null,
            "grid_auto_rows": null,
            "grid_column": null,
            "grid_gap": null,
            "grid_row": null,
            "grid_template_areas": null,
            "grid_template_columns": null,
            "grid_template_rows": null,
            "height": null,
            "justify_content": null,
            "justify_items": null,
            "left": null,
            "margin": null,
            "max_height": null,
            "max_width": null,
            "min_height": null,
            "min_width": null,
            "object_fit": null,
            "object_position": null,
            "order": null,
            "overflow": null,
            "overflow_x": null,
            "overflow_y": null,
            "padding": null,
            "right": null,
            "top": null,
            "visibility": null,
            "width": null
          }
        },
        "8ae19f1013e842e99bd28c947caafd21": {
          "model_module": "@jupyter-widgets/controls",
          "model_name": "DescriptionStyleModel",
          "model_module_version": "1.5.0",
          "state": {
            "_model_module": "@jupyter-widgets/controls",
            "_model_module_version": "1.5.0",
            "_model_name": "DescriptionStyleModel",
            "_view_count": null,
            "_view_module": "@jupyter-widgets/base",
            "_view_module_version": "1.2.0",
            "_view_name": "StyleView",
            "description_width": ""
          }
        },
        "c5db66283a12471b8d35aeb405f13d21": {
          "model_module": "@jupyter-widgets/base",
          "model_name": "LayoutModel",
          "model_module_version": "1.2.0",
          "state": {
            "_model_module": "@jupyter-widgets/base",
            "_model_module_version": "1.2.0",
            "_model_name": "LayoutModel",
            "_view_count": null,
            "_view_module": "@jupyter-widgets/base",
            "_view_module_version": "1.2.0",
            "_view_name": "LayoutView",
            "align_content": null,
            "align_items": null,
            "align_self": null,
            "border": null,
            "bottom": null,
            "display": null,
            "flex": null,
            "flex_flow": null,
            "grid_area": null,
            "grid_auto_columns": null,
            "grid_auto_flow": null,
            "grid_auto_rows": null,
            "grid_column": null,
            "grid_gap": null,
            "grid_row": null,
            "grid_template_areas": null,
            "grid_template_columns": null,
            "grid_template_rows": null,
            "height": null,
            "justify_content": null,
            "justify_items": null,
            "left": null,
            "margin": null,
            "max_height": null,
            "max_width": null,
            "min_height": null,
            "min_width": null,
            "object_fit": null,
            "object_position": null,
            "order": null,
            "overflow": null,
            "overflow_x": null,
            "overflow_y": null,
            "padding": null,
            "right": null,
            "top": null,
            "visibility": null,
            "width": null
          }
        },
        "674ef9436cff48e4a63c00f7063acd1a": {
          "model_module": "@jupyter-widgets/controls",
          "model_name": "ProgressStyleModel",
          "model_module_version": "1.5.0",
          "state": {
            "_model_module": "@jupyter-widgets/controls",
            "_model_module_version": "1.5.0",
            "_model_name": "ProgressStyleModel",
            "_view_count": null,
            "_view_module": "@jupyter-widgets/base",
            "_view_module_version": "1.2.0",
            "_view_name": "StyleView",
            "bar_color": null,
            "description_width": ""
          }
        },
        "df0323376d2d4ee7b61464ccc022076b": {
          "model_module": "@jupyter-widgets/base",
          "model_name": "LayoutModel",
          "model_module_version": "1.2.0",
          "state": {
            "_model_module": "@jupyter-widgets/base",
            "_model_module_version": "1.2.0",
            "_model_name": "LayoutModel",
            "_view_count": null,
            "_view_module": "@jupyter-widgets/base",
            "_view_module_version": "1.2.0",
            "_view_name": "LayoutView",
            "align_content": null,
            "align_items": null,
            "align_self": null,
            "border": null,
            "bottom": null,
            "display": null,
            "flex": null,
            "flex_flow": null,
            "grid_area": null,
            "grid_auto_columns": null,
            "grid_auto_flow": null,
            "grid_auto_rows": null,
            "grid_column": null,
            "grid_gap": null,
            "grid_row": null,
            "grid_template_areas": null,
            "grid_template_columns": null,
            "grid_template_rows": null,
            "height": null,
            "justify_content": null,
            "justify_items": null,
            "left": null,
            "margin": null,
            "max_height": null,
            "max_width": null,
            "min_height": null,
            "min_width": null,
            "object_fit": null,
            "object_position": null,
            "order": null,
            "overflow": null,
            "overflow_x": null,
            "overflow_y": null,
            "padding": null,
            "right": null,
            "top": null,
            "visibility": null,
            "width": null
          }
        },
        "c592fba03582440da63704b5df9d0081": {
          "model_module": "@jupyter-widgets/controls",
          "model_name": "DescriptionStyleModel",
          "model_module_version": "1.5.0",
          "state": {
            "_model_module": "@jupyter-widgets/controls",
            "_model_module_version": "1.5.0",
            "_model_name": "DescriptionStyleModel",
            "_view_count": null,
            "_view_module": "@jupyter-widgets/base",
            "_view_module_version": "1.2.0",
            "_view_name": "StyleView",
            "description_width": ""
          }
        }
      }
    }
  },
  "cells": [
    {
      "cell_type": "code",
      "source": [
        "pip install efficientnet_pytorch\n"
      ],
      "metadata": {
        "colab": {
          "base_uri": "https://localhost:8080/"
        },
        "id": "prbl7DdpQcHe",
        "outputId": "54cb536d-88cb-4736-dcf0-bcb57d8f18e5"
      },
      "execution_count": null,
      "outputs": [
        {
          "output_type": "stream",
          "name": "stdout",
          "text": [
            "Requirement already satisfied: efficientnet_pytorch in /usr/local/lib/python3.10/dist-packages (0.7.1)\n",
            "Requirement already satisfied: torch in /usr/local/lib/python3.10/dist-packages (from efficientnet_pytorch) (2.2.1+cu121)\n",
            "Requirement already satisfied: filelock in /usr/local/lib/python3.10/dist-packages (from torch->efficientnet_pytorch) (3.13.4)\n",
            "Requirement already satisfied: typing-extensions>=4.8.0 in /usr/local/lib/python3.10/dist-packages (from torch->efficientnet_pytorch) (4.11.0)\n",
            "Requirement already satisfied: sympy in /usr/local/lib/python3.10/dist-packages (from torch->efficientnet_pytorch) (1.12)\n",
            "Requirement already satisfied: networkx in /usr/local/lib/python3.10/dist-packages (from torch->efficientnet_pytorch) (3.3)\n",
            "Requirement already satisfied: jinja2 in /usr/local/lib/python3.10/dist-packages (from torch->efficientnet_pytorch) (3.1.3)\n",
            "Requirement already satisfied: fsspec in /usr/local/lib/python3.10/dist-packages (from torch->efficientnet_pytorch) (2023.6.0)\n",
            "Requirement already satisfied: nvidia-cuda-nvrtc-cu12==12.1.105 in /usr/local/lib/python3.10/dist-packages (from torch->efficientnet_pytorch) (12.1.105)\n",
            "Requirement already satisfied: nvidia-cuda-runtime-cu12==12.1.105 in /usr/local/lib/python3.10/dist-packages (from torch->efficientnet_pytorch) (12.1.105)\n",
            "Requirement already satisfied: nvidia-cuda-cupti-cu12==12.1.105 in /usr/local/lib/python3.10/dist-packages (from torch->efficientnet_pytorch) (12.1.105)\n",
            "Requirement already satisfied: nvidia-cudnn-cu12==8.9.2.26 in /usr/local/lib/python3.10/dist-packages (from torch->efficientnet_pytorch) (8.9.2.26)\n",
            "Requirement already satisfied: nvidia-cublas-cu12==12.1.3.1 in /usr/local/lib/python3.10/dist-packages (from torch->efficientnet_pytorch) (12.1.3.1)\n",
            "Requirement already satisfied: nvidia-cufft-cu12==11.0.2.54 in /usr/local/lib/python3.10/dist-packages (from torch->efficientnet_pytorch) (11.0.2.54)\n",
            "Requirement already satisfied: nvidia-curand-cu12==10.3.2.106 in /usr/local/lib/python3.10/dist-packages (from torch->efficientnet_pytorch) (10.3.2.106)\n",
            "Requirement already satisfied: nvidia-cusolver-cu12==11.4.5.107 in /usr/local/lib/python3.10/dist-packages (from torch->efficientnet_pytorch) (11.4.5.107)\n",
            "Requirement already satisfied: nvidia-cusparse-cu12==12.1.0.106 in /usr/local/lib/python3.10/dist-packages (from torch->efficientnet_pytorch) (12.1.0.106)\n",
            "Requirement already satisfied: nvidia-nccl-cu12==2.19.3 in /usr/local/lib/python3.10/dist-packages (from torch->efficientnet_pytorch) (2.19.3)\n",
            "Requirement already satisfied: nvidia-nvtx-cu12==12.1.105 in /usr/local/lib/python3.10/dist-packages (from torch->efficientnet_pytorch) (12.1.105)\n",
            "Requirement already satisfied: triton==2.2.0 in /usr/local/lib/python3.10/dist-packages (from torch->efficientnet_pytorch) (2.2.0)\n",
            "Requirement already satisfied: nvidia-nvjitlink-cu12 in /usr/local/lib/python3.10/dist-packages (from nvidia-cusolver-cu12==11.4.5.107->torch->efficientnet_pytorch) (12.4.127)\n",
            "Requirement already satisfied: MarkupSafe>=2.0 in /usr/local/lib/python3.10/dist-packages (from jinja2->torch->efficientnet_pytorch) (2.1.5)\n",
            "Requirement already satisfied: mpmath>=0.19 in /usr/local/lib/python3.10/dist-packages (from sympy->torch->efficientnet_pytorch) (1.3.0)\n"
          ]
        }
      ]
    },
    {
      "cell_type": "code",
      "execution_count": null,
      "metadata": {
        "id": "08gBRmUjVEU3"
      },
      "outputs": [],
      "source": [
        "import os\n",
        "import librosa\n",
        "import numpy as np\n",
        "import pandas as pd\n",
        "from tqdm import tqdm\n",
        "from sklearn.preprocessing import StandardScaler\n",
        "import tensorflow as tf\n",
        "from tensorflow.keras.preprocessing import image\n",
        "from tensorflow.keras.applications.efficientnet import preprocess_input\n",
        "import numpy as np\n",
        "from tensorflow.keras.layers import GlobalAveragePooling2D\n",
        "from transformers import BertModel, BertTokenizer\n",
        "import torchvision.models as models\n",
        "from efficientnet_pytorch import EfficientNet"
      ]
    },
    {
      "cell_type": "code",
      "source": [
        "import os\n",
        "from zipfile import ZipFile\n",
        "\n",
        "# Mount Google Drive\n",
        "from google.colab import drive\n",
        "drive.mount('/content/drive')"
      ],
      "metadata": {
        "colab": {
          "base_uri": "https://localhost:8080/"
        },
        "id": "FkO_pHYY9g4C",
        "outputId": "449402ef-18e4-4aee-fd5a-1934d21b18f1"
      },
      "execution_count": null,
      "outputs": [
        {
          "output_type": "stream",
          "name": "stdout",
          "text": [
            "Drive already mounted at /content/drive; to attempt to forcibly remount, call drive.mount(\"/content/drive\", force_remount=True).\n"
          ]
        }
      ]
    },
    {
      "cell_type": "markdown",
      "source": [
        "# Data loading"
      ],
      "metadata": {
        "id": "HRP9lkPdY19h"
      }
    },
    {
      "cell_type": "code",
      "source": [
        "!unzip \"/content/drive/MyDrive/songsnap_data\" -d ."
      ],
      "metadata": {
        "colab": {
          "base_uri": "https://localhost:8080/"
        },
        "id": "6uiaEKY2W4XA",
        "outputId": "aeaffeef-2576-44ac-e27e-d571fbdd0c07"
      },
      "execution_count": null,
      "outputs": [
        {
          "output_type": "stream",
          "name": "stdout",
          "text": [
            "Archive:  /content/drive/MyDrive/songsnap_data.zip\n",
            "replace ./songsnap_data/.DS_Store? [y]es, [n]o, [A]ll, [N]one, [r]ename: y\n",
            "  inflating: ./songsnap_data/.DS_Store  \n",
            "replace ./__MACOSX/songsnap_data/._.DS_Store? [y]es, [n]o, [A]ll, [N]one, [r]ename: y\n",
            "  inflating: ./__MACOSX/songsnap_data/._.DS_Store  \n",
            "replace ./songsnap_data/X_image_spectogram.npy? [y]es, [n]o, [A]ll, [N]one, [r]ename: y\n",
            "  inflating: ./songsnap_data/X_image_spectogram.npy  y\n",
            "\n",
            "replace ./__MACOSX/songsnap_data/._X_image_spectogram.npy? [y]es, [n]o, [A]ll, [N]one, [r]ename:   inflating: ./__MACOSX/songsnap_data/._X_image_spectogram.npy  \n",
            "replace ./songsnap_data/X_lyrics.npy? [y]es, [n]o, [A]ll, [N]one, [r]ename: n\n",
            "replace ./__MACOSX/songsnap_data/._X_lyrics.npy? [y]es, [n]o, [A]ll, [N]one, [r]ename: n\n",
            "replace ./songsnap_data/targets.csv? [y]es, [n]o, [A]ll, [N]one, [r]ename: n\n",
            "replace ./__MACOSX/songsnap_data/._targets.csv? [y]es, [n]o, [A]ll, [N]one, [r]ename: n\n",
            "replace ./songsnap_data/X_sound.csv? [y]es, [n]o, [A]ll, [N]one, [r]ename: n\n",
            "replace ./__MACOSX/songsnap_data/._X_sound.csv? [y]es, [n]o, [A]ll, [N]one, [r]ename: n\n"
          ]
        }
      ]
    },
    {
      "cell_type": "code",
      "source": [
        "!ls"
      ],
      "metadata": {
        "colab": {
          "base_uri": "https://localhost:8080/"
        },
        "id": "no5hORFxW9hl",
        "outputId": "5a7d4639-d1ea-4785-d7e9-839b0b2924eb"
      },
      "execution_count": null,
      "outputs": [
        {
          "output_type": "stream",
          "name": "stdout",
          "text": [
            "drive  __MACOSX  sample_data  songsnap_data\n"
          ]
        }
      ]
    },
    {
      "cell_type": "code",
      "source": [
        "folder_contents = os.listdir(\"songsnap_data\")\n",
        "\n",
        "print(\"Contents of the folder:\")\n",
        "for item in folder_contents:\n",
        "    print(item)"
      ],
      "metadata": {
        "colab": {
          "base_uri": "https://localhost:8080/"
        },
        "id": "h6GBiuYlXNDj",
        "outputId": "c661d39a-2904-440f-d74a-c6369fb063f3"
      },
      "execution_count": null,
      "outputs": [
        {
          "output_type": "stream",
          "name": "stdout",
          "text": [
            "Contents of the folder:\n",
            "X_lyrics.npy\n",
            "targets.csv\n",
            "X_image_spectogram.npy\n",
            "X_sound.csv\n",
            ".DS_Store\n"
          ]
        }
      ]
    },
    {
      "cell_type": "code",
      "source": [
        "X_sound = pd.read_csv(\"./songsnap_data/X_sound.csv\")"
      ],
      "metadata": {
        "id": "GCrbciQsXaPk"
      },
      "execution_count": null,
      "outputs": []
    },
    {
      "cell_type": "code",
      "source": [
        "\n",
        "X_sound.shape"
      ],
      "metadata": {
        "colab": {
          "base_uri": "https://localhost:8080/"
        },
        "id": "GJKqKpHCXmai",
        "outputId": "aab88584-71ac-48a2-ee22-c2ddebeb6287"
      },
      "execution_count": null,
      "outputs": [
        {
          "output_type": "execute_result",
          "data": {
            "text/plain": [
              "(5006, 31)"
            ]
          },
          "metadata": {},
          "execution_count": 44
        }
      ]
    },
    {
      "cell_type": "code",
      "source": [
        "num_columns_X_sound = X_sound.shape[1]"
      ],
      "metadata": {
        "id": "jim9QkINaYlg"
      },
      "execution_count": null,
      "outputs": []
    },
    {
      "cell_type": "code",
      "source": [
        "X_image_spectogram = np.load(\"./songsnap_data/X_image_spectogram.npy\")"
      ],
      "metadata": {
        "id": "W8FE6qRwXrO5"
      },
      "execution_count": null,
      "outputs": []
    },
    {
      "cell_type": "code",
      "source": [
        "X_image_spectogram.shape"
      ],
      "metadata": {
        "id": "CJNPxbz9Xt4c",
        "colab": {
          "base_uri": "https://localhost:8080/"
        },
        "outputId": "b811ece4-642c-4ba1-df82-c140b0ad008d"
      },
      "execution_count": null,
      "outputs": [
        {
          "output_type": "execute_result",
          "data": {
            "text/plain": [
              "(5006, 224, 224, 3)"
            ]
          },
          "metadata": {},
          "execution_count": 47
        }
      ]
    },
    {
      "cell_type": "code",
      "source": [
        "X_lyrics = np.load(\"./songsnap_data/X_lyrics.npy\")"
      ],
      "metadata": {
        "id": "hO05UqfTZUV2"
      },
      "execution_count": null,
      "outputs": []
    },
    {
      "cell_type": "code",
      "source": [
        "X_lyrics.shape"
      ],
      "metadata": {
        "id": "gaSImqnXZV1T",
        "colab": {
          "base_uri": "https://localhost:8080/"
        },
        "outputId": "6e92bde2-2c73-4635-f34f-5aa733f2cc2c"
      },
      "execution_count": null,
      "outputs": [
        {
          "output_type": "execute_result",
          "data": {
            "text/plain": [
              "(5006,)"
            ]
          },
          "metadata": {},
          "execution_count": 49
        }
      ]
    },
    {
      "cell_type": "code",
      "source": [
        "y = pd.read_csv(\"./songsnap_data/targets.csv\")"
      ],
      "metadata": {
        "id": "JXABj3rHX_jY"
      },
      "execution_count": null,
      "outputs": []
    },
    {
      "cell_type": "code",
      "source": [
        "y.shape"
      ],
      "metadata": {
        "id": "1FHuIC2iYGxa",
        "colab": {
          "base_uri": "https://localhost:8080/"
        },
        "outputId": "4cb7eac1-7d4d-4e62-a6d6-8ccda8d76e04"
      },
      "execution_count": null,
      "outputs": [
        {
          "output_type": "execute_result",
          "data": {
            "text/plain": [
              "(5006, 22)"
            ]
          },
          "metadata": {},
          "execution_count": 51
        }
      ]
    },
    {
      "cell_type": "code",
      "source": [
        "y[\"popularity\"] = y[\"target\"]"
      ],
      "metadata": {
        "id": "cuHHQvgwzpAA"
      },
      "execution_count": null,
      "outputs": []
    },
    {
      "cell_type": "code",
      "source": [
        "y['popularity'].value_counts()"
      ],
      "metadata": {
        "id": "bCfmXlmubbVh",
        "colab": {
          "base_uri": "https://localhost:8080/"
        },
        "outputId": "7bf8e85c-209b-41c1-c2b7-1bd6adeefa56"
      },
      "execution_count": null,
      "outputs": [
        {
          "output_type": "execute_result",
          "data": {
            "text/plain": [
              "popularity\n",
              "0    2598\n",
              "1    2408\n",
              "Name: count, dtype: int64"
            ]
          },
          "metadata": {},
          "execution_count": 53
        }
      ]
    },
    {
      "cell_type": "code",
      "source": [
        "y['genre'].value_counts()"
      ],
      "metadata": {
        "id": "BKzWdZSKbeTB",
        "colab": {
          "base_uri": "https://localhost:8080/"
        },
        "outputId": "be975d73-5c5a-4e0a-f92d-dbdfa4eb14e4"
      },
      "execution_count": null,
      "outputs": [
        {
          "output_type": "execute_result",
          "data": {
            "text/plain": [
              "genre\n",
              "pop      2006\n",
              "r&b      1350\n",
              "rock      799\n",
              "latin     376\n",
              "rap       276\n",
              "edm       194\n",
              "Name: count, dtype: int64"
            ]
          },
          "metadata": {},
          "execution_count": 54
        }
      ]
    },
    {
      "cell_type": "code",
      "source": [
        "y.head()"
      ],
      "metadata": {
        "id": "2uXKltyTYLEf",
        "colab": {
          "base_uri": "https://localhost:8080/",
          "height": 446
        },
        "outputId": "54bb5363-5f61-4e20-a5c9-890b32859131"
      },
      "execution_count": null,
      "outputs": [
        {
          "output_type": "execute_result",
          "data": {
            "text/plain": [
              "                                 file  Unnamed: 0  \\\n",
              "0                  BeiNacht-RioReiser       12991   \n",
              "1  RetratoEmBrancoePreto-ChicoBuarque        1211   \n",
              "2   Disorder-2007Remaster-JoyDivision        7311   \n",
              "3       BonnieAndClyde-VermillionLies       27605   \n",
              "4             TurningWorld-SteveRoach       21476   \n",
              "\n",
              "                                    uri  danceability  energy  key  loudness  \\\n",
              "0  spotify:track:1uHwyibZtAYFwtFuRboomt         0.648   0.243    9   -16.473   \n",
              "1  spotify:track:2SddU3HytJdbjTqSNVasY6         0.493   0.462    2    -8.773   \n",
              "2  spotify:track:5fbQCQt91LsVgXusFS0CCD         0.320   0.798   10    -7.078   \n",
              "3  spotify:track:6YFtkgjVwyu74TS5eBvnVN         0.566   0.355    4    -8.261   \n",
              "4  spotify:track:2NZ8RIm64njysnW6OceMuO         0.510   0.422    8   -23.591   \n",
              "\n",
              "   mode  speechiness  acousticness  ...    tempo  duration_ms  time_signature  \\\n",
              "0     1       0.0395       0.39400  ...  121.318       365200               4   \n",
              "1     1       0.0306       0.62400  ...  104.237       199067               3   \n",
              "2     0       0.1240       0.00033  ...   84.696       209040               4   \n",
              "3     1       0.0961       0.92500  ...   82.260       166853               4   \n",
              "4     1       0.0366       0.64200  ...   89.456       463840               4   \n",
              "\n",
              "   chorus_hit  sections  target                                  bucket  \\\n",
              "0    61.45136        12       0                  BeiNacht-RioReiser.wav   \n",
              "1    56.13959         9       0  RetratoEmBrancoePreto-ChicoBuarque.wav   \n",
              "2    19.35025         8       0   Disorder-2007Remaster-JoyDivision.wav   \n",
              "3    41.20301         9       0       BonnieAndClyde-VermillionLies.wav   \n",
              "4    32.64560        21       0             TurningWorld-SteveRoach.wav   \n",
              "\n",
              "   genre                                             lyrics popularity  \n",
              "0    r&b  2 ContributorsBei Nacht Lyrics[Strophe I:]\\nOh...          0  \n",
              "1    pop  4 ContributorsRetrato em Branco e Preto Lyrics...          0  \n",
              "2   rock  3 ContributorsReflections on the Revolution in...          0  \n",
              "3    pop  1 ContributorBonnie and clyde LyricsMy Dear Cl...          0  \n",
              "4    r&b  1 ContributorBismuth Lyrics[Open Int. Beach Ho...          0  \n",
              "\n",
              "[5 rows x 23 columns]"
            ],
            "text/html": [
              "\n",
              "  <div id=\"df-e59f0a95-7860-4edd-b131-3704cf4393aa\" class=\"colab-df-container\">\n",
              "    <div>\n",
              "<style scoped>\n",
              "    .dataframe tbody tr th:only-of-type {\n",
              "        vertical-align: middle;\n",
              "    }\n",
              "\n",
              "    .dataframe tbody tr th {\n",
              "        vertical-align: top;\n",
              "    }\n",
              "\n",
              "    .dataframe thead th {\n",
              "        text-align: right;\n",
              "    }\n",
              "</style>\n",
              "<table border=\"1\" class=\"dataframe\">\n",
              "  <thead>\n",
              "    <tr style=\"text-align: right;\">\n",
              "      <th></th>\n",
              "      <th>file</th>\n",
              "      <th>Unnamed: 0</th>\n",
              "      <th>uri</th>\n",
              "      <th>danceability</th>\n",
              "      <th>energy</th>\n",
              "      <th>key</th>\n",
              "      <th>loudness</th>\n",
              "      <th>mode</th>\n",
              "      <th>speechiness</th>\n",
              "      <th>acousticness</th>\n",
              "      <th>...</th>\n",
              "      <th>tempo</th>\n",
              "      <th>duration_ms</th>\n",
              "      <th>time_signature</th>\n",
              "      <th>chorus_hit</th>\n",
              "      <th>sections</th>\n",
              "      <th>target</th>\n",
              "      <th>bucket</th>\n",
              "      <th>genre</th>\n",
              "      <th>lyrics</th>\n",
              "      <th>popularity</th>\n",
              "    </tr>\n",
              "  </thead>\n",
              "  <tbody>\n",
              "    <tr>\n",
              "      <th>0</th>\n",
              "      <td>BeiNacht-RioReiser</td>\n",
              "      <td>12991</td>\n",
              "      <td>spotify:track:1uHwyibZtAYFwtFuRboomt</td>\n",
              "      <td>0.648</td>\n",
              "      <td>0.243</td>\n",
              "      <td>9</td>\n",
              "      <td>-16.473</td>\n",
              "      <td>1</td>\n",
              "      <td>0.0395</td>\n",
              "      <td>0.39400</td>\n",
              "      <td>...</td>\n",
              "      <td>121.318</td>\n",
              "      <td>365200</td>\n",
              "      <td>4</td>\n",
              "      <td>61.45136</td>\n",
              "      <td>12</td>\n",
              "      <td>0</td>\n",
              "      <td>BeiNacht-RioReiser.wav</td>\n",
              "      <td>r&amp;b</td>\n",
              "      <td>2 ContributorsBei Nacht Lyrics[Strophe I:]\\nOh...</td>\n",
              "      <td>0</td>\n",
              "    </tr>\n",
              "    <tr>\n",
              "      <th>1</th>\n",
              "      <td>RetratoEmBrancoePreto-ChicoBuarque</td>\n",
              "      <td>1211</td>\n",
              "      <td>spotify:track:2SddU3HytJdbjTqSNVasY6</td>\n",
              "      <td>0.493</td>\n",
              "      <td>0.462</td>\n",
              "      <td>2</td>\n",
              "      <td>-8.773</td>\n",
              "      <td>1</td>\n",
              "      <td>0.0306</td>\n",
              "      <td>0.62400</td>\n",
              "      <td>...</td>\n",
              "      <td>104.237</td>\n",
              "      <td>199067</td>\n",
              "      <td>3</td>\n",
              "      <td>56.13959</td>\n",
              "      <td>9</td>\n",
              "      <td>0</td>\n",
              "      <td>RetratoEmBrancoePreto-ChicoBuarque.wav</td>\n",
              "      <td>pop</td>\n",
              "      <td>4 ContributorsRetrato em Branco e Preto Lyrics...</td>\n",
              "      <td>0</td>\n",
              "    </tr>\n",
              "    <tr>\n",
              "      <th>2</th>\n",
              "      <td>Disorder-2007Remaster-JoyDivision</td>\n",
              "      <td>7311</td>\n",
              "      <td>spotify:track:5fbQCQt91LsVgXusFS0CCD</td>\n",
              "      <td>0.320</td>\n",
              "      <td>0.798</td>\n",
              "      <td>10</td>\n",
              "      <td>-7.078</td>\n",
              "      <td>0</td>\n",
              "      <td>0.1240</td>\n",
              "      <td>0.00033</td>\n",
              "      <td>...</td>\n",
              "      <td>84.696</td>\n",
              "      <td>209040</td>\n",
              "      <td>4</td>\n",
              "      <td>19.35025</td>\n",
              "      <td>8</td>\n",
              "      <td>0</td>\n",
              "      <td>Disorder-2007Remaster-JoyDivision.wav</td>\n",
              "      <td>rock</td>\n",
              "      <td>3 ContributorsReflections on the Revolution in...</td>\n",
              "      <td>0</td>\n",
              "    </tr>\n",
              "    <tr>\n",
              "      <th>3</th>\n",
              "      <td>BonnieAndClyde-VermillionLies</td>\n",
              "      <td>27605</td>\n",
              "      <td>spotify:track:6YFtkgjVwyu74TS5eBvnVN</td>\n",
              "      <td>0.566</td>\n",
              "      <td>0.355</td>\n",
              "      <td>4</td>\n",
              "      <td>-8.261</td>\n",
              "      <td>1</td>\n",
              "      <td>0.0961</td>\n",
              "      <td>0.92500</td>\n",
              "      <td>...</td>\n",
              "      <td>82.260</td>\n",
              "      <td>166853</td>\n",
              "      <td>4</td>\n",
              "      <td>41.20301</td>\n",
              "      <td>9</td>\n",
              "      <td>0</td>\n",
              "      <td>BonnieAndClyde-VermillionLies.wav</td>\n",
              "      <td>pop</td>\n",
              "      <td>1 ContributorBonnie and clyde LyricsMy Dear Cl...</td>\n",
              "      <td>0</td>\n",
              "    </tr>\n",
              "    <tr>\n",
              "      <th>4</th>\n",
              "      <td>TurningWorld-SteveRoach</td>\n",
              "      <td>21476</td>\n",
              "      <td>spotify:track:2NZ8RIm64njysnW6OceMuO</td>\n",
              "      <td>0.510</td>\n",
              "      <td>0.422</td>\n",
              "      <td>8</td>\n",
              "      <td>-23.591</td>\n",
              "      <td>1</td>\n",
              "      <td>0.0366</td>\n",
              "      <td>0.64200</td>\n",
              "      <td>...</td>\n",
              "      <td>89.456</td>\n",
              "      <td>463840</td>\n",
              "      <td>4</td>\n",
              "      <td>32.64560</td>\n",
              "      <td>21</td>\n",
              "      <td>0</td>\n",
              "      <td>TurningWorld-SteveRoach.wav</td>\n",
              "      <td>r&amp;b</td>\n",
              "      <td>1 ContributorBismuth Lyrics[Open Int. Beach Ho...</td>\n",
              "      <td>0</td>\n",
              "    </tr>\n",
              "  </tbody>\n",
              "</table>\n",
              "<p>5 rows × 23 columns</p>\n",
              "</div>\n",
              "    <div class=\"colab-df-buttons\">\n",
              "\n",
              "  <div class=\"colab-df-container\">\n",
              "    <button class=\"colab-df-convert\" onclick=\"convertToInteractive('df-e59f0a95-7860-4edd-b131-3704cf4393aa')\"\n",
              "            title=\"Convert this dataframe to an interactive table.\"\n",
              "            style=\"display:none;\">\n",
              "\n",
              "  <svg xmlns=\"http://www.w3.org/2000/svg\" height=\"24px\" viewBox=\"0 -960 960 960\">\n",
              "    <path d=\"M120-120v-720h720v720H120Zm60-500h600v-160H180v160Zm220 220h160v-160H400v160Zm0 220h160v-160H400v160ZM180-400h160v-160H180v160Zm440 0h160v-160H620v160ZM180-180h160v-160H180v160Zm440 0h160v-160H620v160Z\"/>\n",
              "  </svg>\n",
              "    </button>\n",
              "\n",
              "  <style>\n",
              "    .colab-df-container {\n",
              "      display:flex;\n",
              "      gap: 12px;\n",
              "    }\n",
              "\n",
              "    .colab-df-convert {\n",
              "      background-color: #E8F0FE;\n",
              "      border: none;\n",
              "      border-radius: 50%;\n",
              "      cursor: pointer;\n",
              "      display: none;\n",
              "      fill: #1967D2;\n",
              "      height: 32px;\n",
              "      padding: 0 0 0 0;\n",
              "      width: 32px;\n",
              "    }\n",
              "\n",
              "    .colab-df-convert:hover {\n",
              "      background-color: #E2EBFA;\n",
              "      box-shadow: 0px 1px 2px rgba(60, 64, 67, 0.3), 0px 1px 3px 1px rgba(60, 64, 67, 0.15);\n",
              "      fill: #174EA6;\n",
              "    }\n",
              "\n",
              "    .colab-df-buttons div {\n",
              "      margin-bottom: 4px;\n",
              "    }\n",
              "\n",
              "    [theme=dark] .colab-df-convert {\n",
              "      background-color: #3B4455;\n",
              "      fill: #D2E3FC;\n",
              "    }\n",
              "\n",
              "    [theme=dark] .colab-df-convert:hover {\n",
              "      background-color: #434B5C;\n",
              "      box-shadow: 0px 1px 3px 1px rgba(0, 0, 0, 0.15);\n",
              "      filter: drop-shadow(0px 1px 2px rgba(0, 0, 0, 0.3));\n",
              "      fill: #FFFFFF;\n",
              "    }\n",
              "  </style>\n",
              "\n",
              "    <script>\n",
              "      const buttonEl =\n",
              "        document.querySelector('#df-e59f0a95-7860-4edd-b131-3704cf4393aa button.colab-df-convert');\n",
              "      buttonEl.style.display =\n",
              "        google.colab.kernel.accessAllowed ? 'block' : 'none';\n",
              "\n",
              "      async function convertToInteractive(key) {\n",
              "        const element = document.querySelector('#df-e59f0a95-7860-4edd-b131-3704cf4393aa');\n",
              "        const dataTable =\n",
              "          await google.colab.kernel.invokeFunction('convertToInteractive',\n",
              "                                                    [key], {});\n",
              "        if (!dataTable) return;\n",
              "\n",
              "        const docLinkHtml = 'Like what you see? Visit the ' +\n",
              "          '<a target=\"_blank\" href=https://colab.research.google.com/notebooks/data_table.ipynb>data table notebook</a>'\n",
              "          + ' to learn more about interactive tables.';\n",
              "        element.innerHTML = '';\n",
              "        dataTable['output_type'] = 'display_data';\n",
              "        await google.colab.output.renderOutput(dataTable, element);\n",
              "        const docLink = document.createElement('div');\n",
              "        docLink.innerHTML = docLinkHtml;\n",
              "        element.appendChild(docLink);\n",
              "      }\n",
              "    </script>\n",
              "  </div>\n",
              "\n",
              "\n",
              "<div id=\"df-13104750-2877-412d-bdc0-c8656ae7d73c\">\n",
              "  <button class=\"colab-df-quickchart\" onclick=\"quickchart('df-13104750-2877-412d-bdc0-c8656ae7d73c')\"\n",
              "            title=\"Suggest charts\"\n",
              "            style=\"display:none;\">\n",
              "\n",
              "<svg xmlns=\"http://www.w3.org/2000/svg\" height=\"24px\"viewBox=\"0 0 24 24\"\n",
              "     width=\"24px\">\n",
              "    <g>\n",
              "        <path d=\"M19 3H5c-1.1 0-2 .9-2 2v14c0 1.1.9 2 2 2h14c1.1 0 2-.9 2-2V5c0-1.1-.9-2-2-2zM9 17H7v-7h2v7zm4 0h-2V7h2v10zm4 0h-2v-4h2v4z\"/>\n",
              "    </g>\n",
              "</svg>\n",
              "  </button>\n",
              "\n",
              "<style>\n",
              "  .colab-df-quickchart {\n",
              "      --bg-color: #E8F0FE;\n",
              "      --fill-color: #1967D2;\n",
              "      --hover-bg-color: #E2EBFA;\n",
              "      --hover-fill-color: #174EA6;\n",
              "      --disabled-fill-color: #AAA;\n",
              "      --disabled-bg-color: #DDD;\n",
              "  }\n",
              "\n",
              "  [theme=dark] .colab-df-quickchart {\n",
              "      --bg-color: #3B4455;\n",
              "      --fill-color: #D2E3FC;\n",
              "      --hover-bg-color: #434B5C;\n",
              "      --hover-fill-color: #FFFFFF;\n",
              "      --disabled-bg-color: #3B4455;\n",
              "      --disabled-fill-color: #666;\n",
              "  }\n",
              "\n",
              "  .colab-df-quickchart {\n",
              "    background-color: var(--bg-color);\n",
              "    border: none;\n",
              "    border-radius: 50%;\n",
              "    cursor: pointer;\n",
              "    display: none;\n",
              "    fill: var(--fill-color);\n",
              "    height: 32px;\n",
              "    padding: 0;\n",
              "    width: 32px;\n",
              "  }\n",
              "\n",
              "  .colab-df-quickchart:hover {\n",
              "    background-color: var(--hover-bg-color);\n",
              "    box-shadow: 0 1px 2px rgba(60, 64, 67, 0.3), 0 1px 3px 1px rgba(60, 64, 67, 0.15);\n",
              "    fill: var(--button-hover-fill-color);\n",
              "  }\n",
              "\n",
              "  .colab-df-quickchart-complete:disabled,\n",
              "  .colab-df-quickchart-complete:disabled:hover {\n",
              "    background-color: var(--disabled-bg-color);\n",
              "    fill: var(--disabled-fill-color);\n",
              "    box-shadow: none;\n",
              "  }\n",
              "\n",
              "  .colab-df-spinner {\n",
              "    border: 2px solid var(--fill-color);\n",
              "    border-color: transparent;\n",
              "    border-bottom-color: var(--fill-color);\n",
              "    animation:\n",
              "      spin 1s steps(1) infinite;\n",
              "  }\n",
              "\n",
              "  @keyframes spin {\n",
              "    0% {\n",
              "      border-color: transparent;\n",
              "      border-bottom-color: var(--fill-color);\n",
              "      border-left-color: var(--fill-color);\n",
              "    }\n",
              "    20% {\n",
              "      border-color: transparent;\n",
              "      border-left-color: var(--fill-color);\n",
              "      border-top-color: var(--fill-color);\n",
              "    }\n",
              "    30% {\n",
              "      border-color: transparent;\n",
              "      border-left-color: var(--fill-color);\n",
              "      border-top-color: var(--fill-color);\n",
              "      border-right-color: var(--fill-color);\n",
              "    }\n",
              "    40% {\n",
              "      border-color: transparent;\n",
              "      border-right-color: var(--fill-color);\n",
              "      border-top-color: var(--fill-color);\n",
              "    }\n",
              "    60% {\n",
              "      border-color: transparent;\n",
              "      border-right-color: var(--fill-color);\n",
              "    }\n",
              "    80% {\n",
              "      border-color: transparent;\n",
              "      border-right-color: var(--fill-color);\n",
              "      border-bottom-color: var(--fill-color);\n",
              "    }\n",
              "    90% {\n",
              "      border-color: transparent;\n",
              "      border-bottom-color: var(--fill-color);\n",
              "    }\n",
              "  }\n",
              "</style>\n",
              "\n",
              "  <script>\n",
              "    async function quickchart(key) {\n",
              "      const quickchartButtonEl =\n",
              "        document.querySelector('#' + key + ' button');\n",
              "      quickchartButtonEl.disabled = true;  // To prevent multiple clicks.\n",
              "      quickchartButtonEl.classList.add('colab-df-spinner');\n",
              "      try {\n",
              "        const charts = await google.colab.kernel.invokeFunction(\n",
              "            'suggestCharts', [key], {});\n",
              "      } catch (error) {\n",
              "        console.error('Error during call to suggestCharts:', error);\n",
              "      }\n",
              "      quickchartButtonEl.classList.remove('colab-df-spinner');\n",
              "      quickchartButtonEl.classList.add('colab-df-quickchart-complete');\n",
              "    }\n",
              "    (() => {\n",
              "      let quickchartButtonEl =\n",
              "        document.querySelector('#df-13104750-2877-412d-bdc0-c8656ae7d73c button');\n",
              "      quickchartButtonEl.style.display =\n",
              "        google.colab.kernel.accessAllowed ? 'block' : 'none';\n",
              "    })();\n",
              "  </script>\n",
              "</div>\n",
              "\n",
              "    </div>\n",
              "  </div>\n"
            ],
            "application/vnd.google.colaboratory.intrinsic+json": {
              "type": "dataframe",
              "variable_name": "y"
            }
          },
          "metadata": {},
          "execution_count": 55
        }
      ]
    },
    {
      "cell_type": "code",
      "source": [
        "y_genre = []\n",
        "y_popularity = []\n",
        "y_danceability =[]\n",
        "y_energy = []\n",
        "\n",
        "for index, row in y.iterrows():\n",
        "    y_popularity.append(row[\"popularity\"])\n",
        "    y_genre.append((row[\"genre\"]))\n",
        "    y_danceability.append(row[\"danceability\"])\n",
        "    y_energy.append(row[\"energy\"])\n"
      ],
      "metadata": {
        "id": "9t7gLINxZ5TD"
      },
      "execution_count": null,
      "outputs": []
    },
    {
      "cell_type": "code",
      "source": [
        "y_genre = np.array(y_genre)\n",
        "y_popularity = np.array(y_popularity)\n",
        "y_danceability = np.array(y_danceability)\n",
        "y_energy = np.array(y_energy)"
      ],
      "metadata": {
        "id": "RSuUur2sZ9y_"
      },
      "execution_count": null,
      "outputs": []
    },
    {
      "cell_type": "code",
      "source": [
        "from sklearn.preprocessing import LabelEncoder\n",
        "label_encoder = LabelEncoder()\n",
        "y_genre = label_encoder.fit_transform(y_genre)"
      ],
      "metadata": {
        "id": "9YfVTzSnaEzs"
      },
      "execution_count": null,
      "outputs": []
    },
    {
      "cell_type": "code",
      "source": [
        "num_unique_genres = len(label_encoder.classes_)\n",
        "print(num_unique_genres)"
      ],
      "metadata": {
        "colab": {
          "base_uri": "https://localhost:8080/"
        },
        "id": "BH0-9CR6kFKA",
        "outputId": "62d69124-9606-468f-e26f-0e3de259058e"
      },
      "execution_count": null,
      "outputs": [
        {
          "output_type": "stream",
          "name": "stdout",
          "text": [
            "7\n"
          ]
        }
      ]
    },
    {
      "cell_type": "markdown",
      "source": [
        "# Train-test split"
      ],
      "metadata": {
        "id": "MMV7MEkvEuFi"
      }
    },
    {
      "cell_type": "code",
      "source": [
        "total_elements = len(X_sound)\n",
        "total_elements"
      ],
      "metadata": {
        "colab": {
          "base_uri": "https://localhost:8080/"
        },
        "id": "-nB-E5yfkGxN",
        "outputId": "4c304216-2682-463d-c72f-5ac51718bbf6"
      },
      "execution_count": null,
      "outputs": [
        {
          "output_type": "execute_result",
          "data": {
            "text/plain": [
              "5006"
            ]
          },
          "metadata": {},
          "execution_count": 60
        }
      ]
    },
    {
      "cell_type": "code",
      "source": [
        "import random\n",
        "num_test_indices = int(0.20 * total_elements)\n",
        "test_indices = random.sample(range(total_elements), num_test_indices)\n",
        "train_indices = [i for i in range(total_elements) if i not in test_indices]\n",
        "print(len(test_indices))\n",
        "print(len(train_indices))"
      ],
      "metadata": {
        "colab": {
          "base_uri": "https://localhost:8080/"
        },
        "id": "n0asmKLSCAFk",
        "outputId": "a7885b67-0ff2-43e9-9098-1fa417a9da3a"
      },
      "execution_count": null,
      "outputs": [
        {
          "output_type": "stream",
          "name": "stdout",
          "text": [
            "1001\n",
            "4005\n"
          ]
        }
      ]
    },
    {
      "cell_type": "code",
      "source": [
        "X_sound_train = X_sound.iloc[train_indices]\n",
        "X_image_spectogram_train = X_image_spectogram[train_indices]\n",
        "X_lyrics_train = X_lyrics[train_indices]\n",
        "\n",
        "\n",
        "X_sound_test = X_sound.iloc[test_indices]\n",
        "X_image_spectogram_test = X_image_spectogram[test_indices]\n",
        "X_lyrics_test = X_lyrics[test_indices]"
      ],
      "metadata": {
        "id": "diwLotMfCAHw"
      },
      "execution_count": null,
      "outputs": []
    },
    {
      "cell_type": "code",
      "source": [
        "y_genre_train = [y_genre[i] for i in train_indices]\n",
        "y_popularity_train = [y_popularity[i] for i in train_indices]\n",
        "y_danceability_train = [y_danceability[i] for i in train_indices]\n",
        "y_energy_train = [y_energy[i] for i in train_indices]\n",
        "\n",
        "y_genre_test = [y_genre[i] for i in test_indices]\n",
        "y_popularity_test = [y_popularity[i] for i in test_indices]\n",
        "y_danceability_test = [y_danceability[i] for i in test_indices]\n",
        "y_energy_test = [y_energy[i] for i in test_indices]"
      ],
      "metadata": {
        "id": "4SqU4F3uCAKa"
      },
      "execution_count": null,
      "outputs": []
    },
    {
      "cell_type": "code",
      "source": [],
      "metadata": {
        "id": "zdpzPmcgjsAL"
      },
      "execution_count": null,
      "outputs": []
    },
    {
      "cell_type": "code",
      "source": [],
      "metadata": {
        "id": "tzbpYKykjsCf"
      },
      "execution_count": null,
      "outputs": []
    },
    {
      "cell_type": "markdown",
      "source": [
        "# Model Definition - Frozen Weights"
      ],
      "metadata": {
        "id": "R9NI5fkLHLdF"
      }
    },
    {
      "cell_type": "code",
      "source": [
        "import torch"
      ],
      "metadata": {
        "id": "W1oPMn8ajsEx"
      },
      "execution_count": null,
      "outputs": []
    },
    {
      "cell_type": "code",
      "source": [
        "device = torch.device(\"cuda\" if torch.cuda.is_available() else \"cpu\")\n"
      ],
      "metadata": {
        "id": "NKgUUbvbjsHD"
      },
      "execution_count": null,
      "outputs": []
    },
    {
      "cell_type": "code",
      "source": [
        "device"
      ],
      "metadata": {
        "id": "yPvSBQHpjxTr",
        "colab": {
          "base_uri": "https://localhost:8080/"
        },
        "outputId": "0a2b1d08-4285-4245-8e05-aca43e197baa"
      },
      "execution_count": null,
      "outputs": [
        {
          "output_type": "execute_result",
          "data": {
            "text/plain": [
              "device(type='cuda')"
            ]
          },
          "metadata": {},
          "execution_count": 66
        }
      ]
    },
    {
      "cell_type": "code",
      "source": [
        "import os\n",
        "os.environ['CUDA_LAUNCH_BLOCKING'] = '1'"
      ],
      "metadata": {
        "id": "hqLLA-UkuVx3"
      },
      "execution_count": null,
      "outputs": []
    },
    {
      "cell_type": "code",
      "source": [
        "import torch\n",
        "import torch.nn as nn\n",
        "import torch.optim as optim\n",
        "\n",
        "# TODO: Add text and image modality models\n",
        "# SoundModalityModel creates the sound embeddings based on the SLP features\n",
        "class SoundModalityModel(nn.Module):\n",
        "    def __init__(self, num_columns_X_sound):\n",
        "        super(SoundModalityModel, self).__init__()\n",
        "        self.sound_embedding = nn.Sequential(\n",
        "            nn.Linear(num_columns_X_sound, 64),\n",
        "            nn.ReLU(),\n",
        "            nn.Linear(64, 8),\n",
        "            nn.ReLU()\n",
        "        )\n",
        "\n",
        "    def forward(self, input_sound):\n",
        "        sound_embedding = self.sound_embedding(input_sound)\n",
        "        return sound_embedding\n",
        "\n",
        "\n",
        "class ImageModalityModel(nn.Module):\n",
        "    def __init__(self, embedding_size=8):\n",
        "        super(ImageModalityModel, self).__init__()\n",
        "        self.efficientnet = EfficientNet.from_pretrained('efficientnet-b0')\n",
        "\n",
        "        # Freeze all parameters of EfficientNet\n",
        "        for param in self.efficientnet.parameters():\n",
        "            param.requires_grad = False\n",
        "\n",
        "        # Replace the final fully connected layer with a new one\n",
        "        self.efficientnet._fc = nn.Linear(self.efficientnet._fc.in_features, embedding_size)\n",
        "\n",
        "    def forward(self, input_image):\n",
        "        # Forward pass through EfficientNet\n",
        "        output = self.efficientnet(input_image)\n",
        "        return output\n",
        "\n",
        "# TODO: Fix BERT Model {?}\n",
        "\n",
        "class TextModalityModel(nn.Module):\n",
        "    def __init__(self, embedding_size=8, freeze_bert=True):\n",
        "        super(TextModalityModel, self).__init__()\n",
        "        self.tokenizer = BertTokenizer.from_pretrained('bert-base-uncased')\n",
        "        self.bert = BertModel.from_pretrained('bert-base-uncased')\n",
        "\n",
        "        # Freeze the BERT weights if freeze_bert is True\n",
        "        if freeze_bert:\n",
        "            for param in self.bert.parameters():\n",
        "                param.requires_grad = False\n",
        "\n",
        "        # Maps to size 8 embedding\n",
        "        self.fc = nn.Linear(self.bert.config.hidden_size, embedding_size)\n",
        "\n",
        "    def forward(self, input_ids, attention_mask=None):\n",
        "        # Forward pass through BERT\n",
        "        outputs = self.bert(input_ids, attention_mask=attention_mask)\n",
        "\n",
        "        # Extract the last hidden states\n",
        "        last_hidden_states = outputs.last_hidden_state\n",
        "\n",
        "        # Take the mean of the last hidden states (reduce it to 1 dimension)\n",
        "        mean_last_hidden_state = torch.mean(last_hidden_states, dim=1)\n",
        "\n",
        "        # Pass the mean last hidden states through the fully connected layer (maps to size 8 embedding)\n",
        "        output = self.fc(mean_last_hidden_state)\n",
        "\n",
        "        return output\n",
        "\n",
        "\n",
        "\n",
        "# Overall model that combines the embeddings from the three modalities and produces 4 outputs\n",
        "# Separate fully connected layers for genre, popularity, danceability, and energy\n",
        "class OverallModel(nn.Module):\n",
        "    def __init__(self, num_modalities, num_genres):\n",
        "        super(OverallModel, self).__init__()\n",
        "        self.concatenated_output_size = 8 * num_modalities\n",
        "        self.fc1 = nn.Linear(self.concatenated_output_size, 64)\n",
        "        self.fc2_genre = nn.Linear(64, num_genres)\n",
        "        self.fc3_popularity = nn.Linear(64, 1)\n",
        "        self.fc4_danceability = nn.Linear(64, 1)\n",
        "        self.fc5_energy = nn.Linear(64, 1)\n",
        "\n",
        "    def forward(self, sound_embedding, spec_embedding, text_embedding):\n",
        "        # TODO: Concatenate with text and image embeddings\n",
        "        concatenated_embedding = torch.cat((sound_embedding, spec_embedding, text_embedding), dim=1)\n",
        "        x = torch.relu(self.fc1(concatenated_embedding))\n",
        "        genre_output = torch.softmax(self.fc2_genre(x), dim=-1)\n",
        "        popularity_output = torch.sigmoid(self.fc3_popularity(x))\n",
        "        danceability_output = torch.sigmoid(self.fc4_danceability(x))\n",
        "        energy_output = torch.sigmoid(self.fc5_energy(x))\n",
        "        return genre_output, popularity_output, danceability_output, energy_output\n",
        "\n",
        "num_modalities = 3 # TODO: Change to 3 once we have text and image modalities\n",
        "num_genres = num_unique_genres\n",
        "\n",
        "#TODO: Instantiate the remaining modality models\n",
        "sound_model = SoundModalityModel(num_columns_X_sound).to(device)\n",
        "spec_model = ImageModalityModel().to(device)\n",
        "text_model = TextModalityModel().to(device)\n",
        "\n",
        "overall_model = OverallModel(num_modalities, num_genres).to(device)\n",
        "\n",
        "\n",
        "# TODO: Create optimizers for text and image modalities\n",
        "# Create optimizers for each of our models (modality models as well as genre, popularity, danceability, energy)\n",
        "optimizer_sound = optim.Adam(sound_model.parameters())\n",
        "optimizer_spec = optim.Adam(spec_model.parameters())\n",
        "\n",
        "optimizer_genre = optim.Adam(overall_model.fc2_genre.parameters())\n",
        "optimizer_popularity = optim.Adam(overall_model.fc3_popularity.parameters())\n",
        "optimizer_danceability = optim.Adam(overall_model.fc4_danceability.parameters())\n",
        "optimizer_energy = optim.Adam(overall_model.fc5_energy.parameters())\n",
        "\n",
        "# Define the criteria\n",
        "criterion_genre = nn.CrossEntropyLoss()\n",
        "criterion_popularity = nn.BCELoss()\n",
        "criterion_danceability = nn.MSELoss()\n",
        "criterion_energy = nn.MSELoss()\n",
        "\n",
        "# TODO: Form input data for text and image features\n",
        "# Compile our datasets\n",
        "X_sound_train = torch.tensor(X_sound_train.values, dtype=torch.float32).to(device)\n",
        "X_spec_train = torch.tensor(X_image_spectogram_train, dtype=torch.float32).to(device)\n",
        "X_lyrics_train = X_lyrics_train.tolist()\n",
        "y_genre_train = torch.tensor(y_genre_train, dtype=torch.long).to(device)\n",
        "y_danceability_train = torch.tensor(y_danceability_train, dtype=torch.float32).to(device)\n",
        "y_popularity_train = torch.tensor(y_popularity_train, dtype=torch.float32).to(device)\n",
        "y_energy_train = torch.tensor(y_energy_train, dtype=torch.float32).to(device)\n",
        "\n",
        "# Define basic parameters before training\n",
        "num_epochs = 10\n",
        "batch_size = 32\n",
        "num_training_samples = 5006 * 0.8\n",
        "num_training_batches = int(num_training_samples // batch_size)\n",
        "\n",
        "num_test_samples = 5006 - num_training_samples\n",
        "num_testing_batches = int(num_test_samples // batch_size)\n",
        "\n",
        "losses_genre = []\n",
        "losses_popularity = []\n",
        "losses_danceability = []\n",
        "losses_energy = []\n",
        "\n",
        "# Training loop\n",
        "for epoch in range(num_epochs):\n",
        "    for batch in range(num_training_batches):\n",
        "        start = batch * batch_size\n",
        "        end = min(start + batch_size, num_training_samples)\n",
        "\n",
        "        # Get data for this batch\n",
        "        batch_X_sound = X_sound_train[start:end]\n",
        "        batch_X_spec = X_spec_train[start:end]\n",
        "        batch_X_spec = batch_X_spec.permute(0, 3, 1, 2)\n",
        "\n",
        "        batch_X_lyric = X_lyrics_train[start:end]\n",
        "\n",
        "        max_length = max([len(text_model.tokenizer.encode(text)) for text in batch_X_lyric])\n",
        "        tokenized_sequences = [text_model.tokenizer.encode(text, padding='max_length', max_length=text_model.tokenizer.model_max_length, truncation=True) for text in batch_X_lyric]\n",
        "\n",
        "        # Generate attention masks\n",
        "        attention_masks = [[1 if token != 0 else 0 for token in seq] for seq in tokenized_sequences]\n",
        "\n",
        "        # Convert tokenized sequences and attention masks to tensors and move to device\n",
        "        batch_X_lyric = torch.tensor(tokenized_sequences, dtype=torch.long).to(device)\n",
        "        attention_masks = torch.tensor(attention_masks, dtype=torch.long).to(device)\n",
        "\n",
        "        batch_y_genre = y_genre_train[start:end]\n",
        "        batch_y_popularity = y_popularity_train[start:end]\n",
        "        batch_y_danceability = y_danceability_train[start:end]\n",
        "        batch_y_energy = y_energy_train[start:end]\n",
        "\n",
        "\n",
        "        # Zero the gradients\n",
        "        optimizer_sound.zero_grad()\n",
        "        optimizer_spec.zero_grad()\n",
        "\n",
        "\n",
        "        optimizer_genre.zero_grad()\n",
        "        optimizer_popularity.zero_grad()\n",
        "        optimizer_danceability.zero_grad()\n",
        "        optimizer_energy.zero_grad()\n",
        "\n",
        "        # TODO: Create embeddings for text and image\n",
        "        # Retrieve the four outputs given our embeddings\n",
        "        sound_embedding = sound_model(batch_X_sound)\n",
        "        spec_embedding = spec_model(batch_X_spec)\n",
        "        text_embedding = text_model(batch_X_lyric, attention_masks)\n",
        "\n",
        "\n",
        "        genre_output, popularity_output, danceability_output, energy_output = overall_model(sound_embedding,\n",
        "                                                                        spec_embedding,\n",
        "                                                                        text_embedding)\n",
        "\n",
        "        genre_output = genre_output.to(device)\n",
        "        batch_y_genre = batch_y_genre.to(device)\n",
        "\n",
        "        loss_genre = criterion_genre(genre_output, batch_y_genre.long())\n",
        "        loss_popularity = criterion_popularity(popularity_output.view(-1), batch_y_popularity)\n",
        "        loss_danceability = criterion_danceability(danceability_output.view(-1), batch_y_danceability)\n",
        "        loss_energy = criterion_energy(energy_output.view(-1), batch_y_energy)\n",
        "\n",
        "        # Backpropagate through the genre, popularity, danceability, and energy layers using their respective losses\n",
        "        # We retain graph because we are using the computation graph for multiple backprops\n",
        "        loss_genre.backward(retain_graph=True)\n",
        "        optimizer_genre.step()\n",
        "\n",
        "        loss_popularity.backward(retain_graph=True)\n",
        "        optimizer_popularity.step()\n",
        "\n",
        "        loss_danceability.backward(retain_graph=True)\n",
        "        optimizer_danceability.step()\n",
        "\n",
        "        loss_energy.backward(retain_graph=True)\n",
        "        optimizer_energy.step()\n",
        "\n",
        "        # TODO: Update parameters for the text and image models as well\n",
        "        # Backpropagate through the sound modality model using the total loss\n",
        "        optimizer_sound.step()\n",
        "        optimizer_spec.step()\n",
        "\n",
        "    losses_genre.append(loss_genre.item())\n",
        "    losses_popularity.append(loss_popularity.item())\n",
        "    losses_danceability.append(loss_danceability.item())\n",
        "    losses_energy.append(loss_energy.item())\n",
        "\n",
        "    print(\"Epoch \" + str(epoch+1))\n",
        "    print(\"Genre loss: \" + str(loss_genre.item()))\n",
        "    print(\"Popularity loss: \" + str(loss_popularity.item()))\n",
        "    print(\"Danceability loss: \" + str(loss_danceability.item()))\n",
        "    print(\"Energy loss: \" + str(loss_energy.item()))\n",
        "    print(\"\")"
      ],
      "metadata": {
        "id": "zrEfvO3jyyh2",
        "colab": {
          "base_uri": "https://localhost:8080/",
          "height": 232,
          "referenced_widgets": [
            "3007b9983b91460c8d2318bcf8d10b19",
            "933aad70bd83429ca62189e438db5ec1",
            "e5876833b6e947338462902871dda7ce",
            "1ef82210b18a4887928d7db4b517bea5",
            "e03a87909c474597ae4ee7f62b6396d4",
            "2054f66c50b64b338fec46b790d27959",
            "172b22d2b9624f9f99fa1e32f5dff423",
            "dbc4743b5da8426f903af009cde0242c",
            "264bb4fb934f4260b726801b1f054cf3",
            "3e21a21a8d5945f1a4c59f9a58268df3",
            "387c764ebe01443cb8ecb5db7463d2fa",
            "894112dd2c1b489fb84589e28676dfb1",
            "d68d48af25e44547b10879900b4860ee",
            "a6030346281e4a5ca6bae8722c7660e5",
            "79c2c4356594421b9231c624b1c549d7",
            "659e8e04efd74ff380c1dfb692efc5cd",
            "5e1e1ed40b114e4fb31a9f0317696190",
            "0805f870ea864bfb94cfe6f52b113a32",
            "1cb57e1d8fef4b4692f375396a19a998",
            "a4363b8df18947c19b6c60d72d7d6416",
            "58fe9784b04a4c368139f19b2c48fb37",
            "33ee7a9918bf4449a2df6fe399d608fa",
            "73a0804a3648415b90821f35edca0ad8",
            "9b80676a154c4eb9896a4d1921141269",
            "90f5c46f91d44ebf99a6f2cda2cbfe92",
            "6b49f5de88264c68bd0d3e27b87a3e16",
            "a76e258fb58143bd9d3e225b48564275",
            "2c78e513be9e4048b9b0da77048755ad",
            "05755e77f738432193fc35093501d22a",
            "831e38e2887148c98ab3287eb38e606e",
            "6e450d0b32b74d9c81e836dfb214647c",
            "5c656178621a4a46ba883c801d7bf9ca",
            "d2606872a81e438c8a08731cf0b23556",
            "8eec434aa0ed41ff98f7b30c75c5833e",
            "1e898e28eee3497ab05a4c85a10492f1",
            "cf96618435734cabb70b6b0dd591d6d3",
            "024710be08e34be1ab24441972efb347",
            "de40cd1578584bfb9242bce28fa2ab10",
            "b0050e0dcb064089aeede6f2c949b68c",
            "4653a98fb92e4b41a89d9a8366d114bc",
            "be39fc430aa845a3ae62b16504c735e2",
            "90970c40523b42fc884af7d8cc8553c6",
            "f4d05f432a664f78acf0a16adca05f23",
            "5e473d700e49445b8648b7e0e54602c0",
            "5aebcbc9a21c4d55bcc0971b7f13ae32",
            "9d082a71096e43ce8c85b2a0b0458144",
            "27035c35ada94a4fb0a882e35d733641",
            "459c08e34aab4054b317dacc0e54870d",
            "68f2b2b79ad543dcaeafa2bf070dd44a",
            "9e11180f9b2a47c999af1250cc7e24e4",
            "8ae19f1013e842e99bd28c947caafd21",
            "c5db66283a12471b8d35aeb405f13d21",
            "674ef9436cff48e4a63c00f7063acd1a",
            "df0323376d2d4ee7b61464ccc022076b",
            "c592fba03582440da63704b5df9d0081"
          ]
        },
        "outputId": "c292fb46-aa7a-4d01-b826-feb7ffa243f3"
      },
      "execution_count": null,
      "outputs": [
        {
          "output_type": "stream",
          "name": "stdout",
          "text": [
            "Loaded pretrained weights for efficientnet-b0\n"
          ]
        },
        {
          "output_type": "display_data",
          "data": {
            "text/plain": [
              "tokenizer_config.json:   0%|          | 0.00/48.0 [00:00<?, ?B/s]"
            ],
            "application/vnd.jupyter.widget-view+json": {
              "version_major": 2,
              "version_minor": 0,
              "model_id": "3007b9983b91460c8d2318bcf8d10b19"
            }
          },
          "metadata": {}
        },
        {
          "output_type": "display_data",
          "data": {
            "text/plain": [
              "vocab.txt:   0%|          | 0.00/232k [00:00<?, ?B/s]"
            ],
            "application/vnd.jupyter.widget-view+json": {
              "version_major": 2,
              "version_minor": 0,
              "model_id": "894112dd2c1b489fb84589e28676dfb1"
            }
          },
          "metadata": {}
        },
        {
          "output_type": "display_data",
          "data": {
            "text/plain": [
              "tokenizer.json:   0%|          | 0.00/466k [00:00<?, ?B/s]"
            ],
            "application/vnd.jupyter.widget-view+json": {
              "version_major": 2,
              "version_minor": 0,
              "model_id": "73a0804a3648415b90821f35edca0ad8"
            }
          },
          "metadata": {}
        },
        {
          "output_type": "display_data",
          "data": {
            "text/plain": [
              "config.json:   0%|          | 0.00/570 [00:00<?, ?B/s]"
            ],
            "application/vnd.jupyter.widget-view+json": {
              "version_major": 2,
              "version_minor": 0,
              "model_id": "8eec434aa0ed41ff98f7b30c75c5833e"
            }
          },
          "metadata": {}
        },
        {
          "output_type": "display_data",
          "data": {
            "text/plain": [
              "model.safetensors:   0%|          | 0.00/440M [00:00<?, ?B/s]"
            ],
            "application/vnd.jupyter.widget-view+json": {
              "version_major": 2,
              "version_minor": 0,
              "model_id": "5aebcbc9a21c4d55bcc0971b7f13ae32"
            }
          },
          "metadata": {}
        },
        {
          "output_type": "stream",
          "name": "stderr",
          "text": [
            "Token indices sequence length is longer than the specified maximum sequence length for this model (523 > 512). Running this sequence through the model will result in indexing errors\n"
          ]
        }
      ]
    },
    {
      "cell_type": "code",
      "source": [
        "import matplotlib.pyplot as plt\n",
        "epochs = range(1, 11)\n",
        "\n",
        "plt.plot(epochs, losses_genre, label='Genre', color='blue')\n",
        "\n",
        "# Add labels and legend\n",
        "plt.xlabel('Epoch')\n",
        "plt.ylabel('Loss')\n",
        "plt.title('Training Loss')\n",
        "\n",
        "# Show the plot\n",
        "plt.show()"
      ],
      "metadata": {
        "id": "VGnVdfIFy1Hr"
      },
      "execution_count": null,
      "outputs": []
    },
    {
      "cell_type": "code",
      "source": [
        "import matplotlib.pyplot as plt\n",
        "epochs = range(1, 11)\n",
        "\n",
        "plt.plot(epochs, losses_danceability, label='Danceability', color='red')\n",
        "plt.plot(epochs, losses_energy, label='Energy', color='purple')\n",
        "\n",
        "# Add labels and legend\n",
        "plt.xlabel('Epoch')\n",
        "plt.ylabel('Loss')\n",
        "plt.title('Training Loss')\n",
        "plt.legend()\n",
        "\n",
        "# Show the plot\n",
        "plt.show()"
      ],
      "metadata": {
        "id": "tlgYyLEry34X"
      },
      "execution_count": null,
      "outputs": []
    },
    {
      "cell_type": "code",
      "source": [
        "import matplotlib.pyplot as plt\n",
        "epochs = range(1, 11)\n",
        "\n",
        "plt.plot(epochs, losses_popularity, label='Popularity', color='green')\n",
        "\n",
        "# Add labels and legend\n",
        "plt.xlabel('Epoch')\n",
        "plt.ylabel('Loss')\n",
        "plt.title('Training Loss')\n",
        "\n",
        "# Show the plot\n",
        "plt.show()"
      ],
      "metadata": {
        "id": "DubLwia-ziEL"
      },
      "execution_count": null,
      "outputs": []
    },
    {
      "cell_type": "markdown",
      "source": [
        "# Test loop"
      ],
      "metadata": {
        "id": "nsRUQlJtLP2g"
      }
    },
    {
      "cell_type": "code",
      "source": [
        "from sklearn.metrics import accuracy_score, precision_score, recall_score, f1_score\n"
      ],
      "metadata": {
        "id": "UFZQ6gllSkMo"
      },
      "execution_count": null,
      "outputs": []
    },
    {
      "cell_type": "code",
      "source": [
        "import pandas as pd\n",
        "\n",
        "# Create empty lists to store the outputs\n",
        "all_genre_outputs = []\n",
        "all_popularity_outputs = []\n",
        "all_danceability_outputs = []\n",
        "all_energy_outputs = []\n",
        "\n",
        "X_sound_test = torch.tensor(X_sound_test.values, dtype=torch.float32).to(device)\n",
        "X_spec_test = torch.tensor(X_image_spectogram_test, dtype=torch.float32).to(device)\n",
        "X_lyrics_test = X_lyrics_test.tolist()\n",
        "y_genre_test = torch.tensor(y_genre_test, dtype=torch.long).to(device)\n",
        "y_danceability_test = torch.tensor(y_danceability_test, dtype=torch.float32).to(device)\n",
        "y_popularity_test = torch.tensor(y_popularity_test, dtype=torch.float32).to(device)\n",
        "y_energy_test = torch.tensor(y_energy_test, dtype=torch.float32).to(device)\n",
        "\n",
        "# Evaluation loop\n",
        "with torch.no_grad():  # Disable gradient calculation\n",
        "    overall_model.eval()  # Set the model to evaluation mode\n",
        "    total_loss_genre = 0\n",
        "    total_loss_popularity = 0\n",
        "    total_loss_danceability = 0\n",
        "    total_loss_energy = 0\n",
        "    num_batches = 0\n",
        "\n",
        "    total_accuracy_genre = 0\n",
        "    total_precision_genre = 0\n",
        "    total_recall_genre = 0\n",
        "    total_f1_genre = 0\n",
        "\n",
        "\n",
        "    total_accuracy_pop = 0\n",
        "    total_precision_pop = 0\n",
        "    total_recall_pop =0\n",
        "    total_f1_pop =0\n",
        "\n",
        "    for batch in range(num_testing_batches):\n",
        "        start = batch * batch_size\n",
        "        end = min(start + batch_size, num_test_samples)\n",
        "\n",
        "        # Get data for this batch\n",
        "        batch_X_sound = X_sound_test[start:end]\n",
        "        batch_X_spec = X_spec_test[start:end]\n",
        "        batch_X_spec = batch_X_spec.permute(0, 3, 1, 2)\n",
        "\n",
        "        batch_X_lyric = X_lyrics_test[start:end]\n",
        "\n",
        "        max_length = max([len(text_model.tokenizer.encode(text)) for text in batch_X_lyric])\n",
        "        tokenized_sequences = [text_model.tokenizer.encode(text, padding='max_length', max_length=text_model.tokenizer.model_max_length, truncation=True) for text in batch_X_lyric]\n",
        "\n",
        "        # Generate attention masks\n",
        "        attention_masks = [[1 if token != 0 else 0 for token in seq] for seq in tokenized_sequences]\n",
        "\n",
        "        # Convert tokenized sequences and attention masks to tensors and move to device\n",
        "        batch_X_lyric = torch.tensor(tokenized_sequences, dtype=torch.long).to(device)\n",
        "        attention_masks = torch.tensor(attention_masks, dtype=torch.long).to(device)\n",
        "\n",
        "        batch_y_genre = y_genre_test[start:end]\n",
        "        batch_y_popularity = y_popularity_test[start:end]\n",
        "        batch_y_danceability = y_danceability_test[start:end]\n",
        "        batch_y_energy = y_energy_test[start:end]\n",
        "\n",
        "        # Forward pass\n",
        "        sound_embedding = sound_model(batch_X_sound)\n",
        "        spec_embedding = spec_model(batch_X_spec)\n",
        "        text_embedding = text_model(batch_X_lyric, attention_masks)\n",
        "\n",
        "        genre_output, popularity_output, danceability_output, energy_output = overall_model(sound_embedding,\n",
        "                                                                                            spec_embedding,\n",
        "                                                                                            text_embedding)\n",
        "\n",
        "\n",
        "\n",
        "        # Calculate loss\n",
        "        loss_genre = criterion_genre(genre_output, batch_y_genre.long())\n",
        "        loss_popularity = criterion_popularity(popularity_output.view(-1), batch_y_popularity)\n",
        "        loss_danceability = criterion_danceability(danceability_output.view(-1), batch_y_danceability)\n",
        "        loss_energy = criterion_energy(energy_output.view(-1), batch_y_energy)\n",
        "\n",
        "        total_loss_genre += loss_genre.item()\n",
        "        total_loss_popularity += loss_popularity.item()\n",
        "        total_loss_danceability += loss_danceability.item()\n",
        "        total_loss_energy += loss_energy.item()\n",
        "\n",
        "\n",
        "        # Calculating predicted genre label and popularity\n",
        "        _, preds_genre  = torch.max(genre_output, 1)\n",
        "        total_accuracy_genre += accuracy_score(preds_genre.cpu(), batch_y_genre.long().cpu())\n",
        "        total_precision_genre += precision_score(preds_genre.cpu(), batch_y_genre.long().cpu(), average = 'macro')\n",
        "        total_recall_genre += recall_score(preds_genre.cpu(), batch_y_genre.long().cpu(), average = 'macro')\n",
        "        total_f1_genre += f1_score(preds_genre.cpu(), batch_y_genre.long().cpu(), average = 'macro')\n",
        "\n",
        "        _, preds_pop = torch.max(popularity_output, 1)\n",
        "        total_accuracy_pop += accuracy_score(preds_pop.cpu(), batch_y_popularity.cpu())\n",
        "        total_precision_pop += precision_score(preds_pop.cpu(), batch_y_popularity.cpu(), average = 'macro')\n",
        "        total_recall_pop += recall_score(preds_pop.cpu(), batch_y_popularity.cpu(), average = 'macro')\n",
        "        total_f1_pop += f1_score(preds_pop.cpu(), batch_y_popularity.cpu(), average = 'macro')\n",
        "\n",
        "        # Save the outputs to lists\n",
        "        all_genre_outputs.extend(preds_genre.cpu().numpy())\n",
        "        all_popularity_outputs.extend(preds_pop.cpu().numpy())\n",
        "        all_danceability_outputs.extend(danceability_output.cpu().numpy())\n",
        "        all_energy_outputs.extend(energy_output.cpu().numpy())\n",
        "\n",
        "        num_batches += 1\n",
        "\n",
        "    # Calculate average loss\n",
        "    avg_loss_genre = total_loss_genre / num_batches\n",
        "    avg_loss_popularity = total_loss_popularity / num_batches\n",
        "    avg_loss_danceability = total_loss_danceability / num_batches\n",
        "    avg_loss_energy = total_loss_energy / num_batches\n",
        "\n",
        "    avg_acc_genre = total_accuracy_genre / num_batches\n",
        "    avg_precision_genre = total_precision_genre / num_batches\n",
        "    avg_recall_genre = total_recall_genre / num_batches\n",
        "    avg_f1_genre = total_f1_genre / num_batches\n",
        "\n",
        "    avg_acc_pop = total_accuracy_pop / num_batches\n",
        "    avg_precision_pop = total_precision_pop / num_batches\n",
        "    avg_recall_pop = total_recall_pop / num_batches\n",
        "    avg_f1_pop = total_f1_pop / num_batches\n",
        "\n",
        "    # Calculate the average accuracy, recall, precision and F1 score for genre & popularity\n",
        "\n",
        "\n",
        "    print(\"Evaluation Results:\")\n",
        "    print(\"Average Genre loss: {:.4f}\".format(avg_loss_genre))\n",
        "    print(\"Average Popularity loss: {:.4f}\".format(avg_loss_popularity))\n",
        "    print(\"Average Danceability loss: {:.4f}\".format(avg_loss_danceability))\n",
        "    print(\"Average Energy loss: {:.4f}\".format(avg_loss_energy))\n",
        "\n",
        "    print(\" \")\n",
        "    print(\"Average Accuracy Popularity: {:.4f}\".format(avg_acc_pop))\n",
        "    print(\"Average Precision Popularity: {:.4f}\".format(avg_precision_pop))\n",
        "    print(\"Average Recall Popularity: {:.4f}\".format(avg_recall_pop))\n",
        "    print(\"Average F1 Popularity: {:.4f}\".format(avg_f1_pop))\n",
        "\n",
        "    print(\" \")\n",
        "    print(\"Average Accuracy Genre: {:.4f}\".format(avg_acc_genre))\n",
        "    print(\"Average Precision Genre: {:.4f}\".format(avg_precision_genre))\n",
        "    print(\"Average Recall Genre: {:.4f}\".format(avg_recall_genre))\n",
        "    print(\"Average F1 Genre: {:.4f}\".format(avg_f1_genre))\n",
        "\n"
      ],
      "metadata": {
        "id": "l22zyu2vLQoc"
      },
      "execution_count": null,
      "outputs": []
    },
    {
      "cell_type": "code",
      "source": [
        "# Create a DataFrame to store the outputs\n",
        "\n",
        "results_df = pd.DataFrame({\n",
        "    'song_name' : y['file'][test_indices[0:len(all_genre_outputs)]],\n",
        "    'genre_output': all_genre_outputs,\n",
        "    'popularity_output': all_popularity_outputs,\n",
        "    'danceability_output': all_danceability_outputs,\n",
        "    'energy_output': all_energy_outputs\n",
        "})"
      ],
      "metadata": {
        "id": "Zo_MnLagU6a7"
      },
      "execution_count": null,
      "outputs": []
    },
    {
      "cell_type": "code",
      "source": [
        "results_df.head()"
      ],
      "metadata": {
        "id": "-yRM1KHrLyyO"
      },
      "execution_count": null,
      "outputs": []
    },
    {
      "cell_type": "code",
      "source": [
        "results_df.to_csv('data.csv', index=False)  # Set index=False to exclude row numbers\n"
      ],
      "metadata": {
        "id": "fCJ_xzjmL4c7"
      },
      "execution_count": null,
      "outputs": []
    },
    {
      "cell_type": "code",
      "source": [],
      "metadata": {
        "id": "04zHKPqTYXy1"
      },
      "execution_count": null,
      "outputs": []
    }
  ]
}