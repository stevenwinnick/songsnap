{
 "cells": [
  {
   "cell_type": "markdown",
   "metadata": {},
   "source": [
    "## Import Libraries\n"
   ]
  },
  {
   "cell_type": "code",
   "execution_count": 2,
   "metadata": {
    "id": "08gBRmUjVEU3"
   },
   "outputs": [],
   "source": [
    "import os\n",
    "import librosa\n",
    "import numpy as np\n",
    "import pandas as pd\n",
    "from tqdm import tqdm\n",
    "from sklearn.preprocessing import StandardScaler\n",
    "import tensorflow as tf\n",
    "from tensorflow.keras.preprocessing import image\n",
    "from tensorflow.keras.applications.efficientnet import preprocess_input\n",
    "import numpy as np\n",
    "from tensorflow.keras.layers import GlobalAveragePooling2D\n",
    "from transformers import BertModel, BertTokenizer\n",
    "import torchvision.models as models\n",
    "from efficientnet_pytorch import EfficientNet"
   ]
  },
  {
   "cell_type": "markdown",
   "metadata": {},
   "source": [
    "### Pip install libraries"
   ]
  },
  {
   "cell_type": "code",
   "execution_count": 1,
   "metadata": {
    "colab": {
     "base_uri": "https://localhost:8080/"
    },
    "id": "prbl7DdpQcHe",
    "outputId": "ccfbcdbf-94c7-4647-de3e-cd69f4c71482"
   },
   "outputs": [
    {
     "name": "stdout",
     "output_type": "stream",
     "text": [
      "Collecting efficientnet_pytorch\n",
      "  Downloading efficientnet_pytorch-0.7.1.tar.gz (21 kB)\n",
      "  Preparing metadata (setup.py) ... \u001b[?25l\u001b[?25hdone\n",
      "Requirement already satisfied: torch in /usr/local/lib/python3.10/dist-packages (from efficientnet_pytorch) (2.2.1+cu121)\n",
      "Requirement already satisfied: filelock in /usr/local/lib/python3.10/dist-packages (from torch->efficientnet_pytorch) (3.13.4)\n",
      "Requirement already satisfied: typing-extensions>=4.8.0 in /usr/local/lib/python3.10/dist-packages (from torch->efficientnet_pytorch) (4.11.0)\n",
      "Requirement already satisfied: sympy in /usr/local/lib/python3.10/dist-packages (from torch->efficientnet_pytorch) (1.12)\n",
      "Requirement already satisfied: networkx in /usr/local/lib/python3.10/dist-packages (from torch->efficientnet_pytorch) (3.3)\n",
      "Requirement already satisfied: jinja2 in /usr/local/lib/python3.10/dist-packages (from torch->efficientnet_pytorch) (3.1.3)\n",
      "Requirement already satisfied: fsspec in /usr/local/lib/python3.10/dist-packages (from torch->efficientnet_pytorch) (2023.6.0)\n",
      "Collecting nvidia-cuda-nvrtc-cu12==12.1.105 (from torch->efficientnet_pytorch)\n",
      "  Using cached nvidia_cuda_nvrtc_cu12-12.1.105-py3-none-manylinux1_x86_64.whl (23.7 MB)\n",
      "Collecting nvidia-cuda-runtime-cu12==12.1.105 (from torch->efficientnet_pytorch)\n",
      "  Using cached nvidia_cuda_runtime_cu12-12.1.105-py3-none-manylinux1_x86_64.whl (823 kB)\n",
      "Collecting nvidia-cuda-cupti-cu12==12.1.105 (from torch->efficientnet_pytorch)\n",
      "  Using cached nvidia_cuda_cupti_cu12-12.1.105-py3-none-manylinux1_x86_64.whl (14.1 MB)\n",
      "Collecting nvidia-cudnn-cu12==8.9.2.26 (from torch->efficientnet_pytorch)\n",
      "  Using cached nvidia_cudnn_cu12-8.9.2.26-py3-none-manylinux1_x86_64.whl (731.7 MB)\n",
      "Collecting nvidia-cublas-cu12==12.1.3.1 (from torch->efficientnet_pytorch)\n",
      "  Using cached nvidia_cublas_cu12-12.1.3.1-py3-none-manylinux1_x86_64.whl (410.6 MB)\n",
      "Collecting nvidia-cufft-cu12==11.0.2.54 (from torch->efficientnet_pytorch)\n",
      "  Using cached nvidia_cufft_cu12-11.0.2.54-py3-none-manylinux1_x86_64.whl (121.6 MB)\n",
      "Collecting nvidia-curand-cu12==10.3.2.106 (from torch->efficientnet_pytorch)\n",
      "  Using cached nvidia_curand_cu12-10.3.2.106-py3-none-manylinux1_x86_64.whl (56.5 MB)\n",
      "Collecting nvidia-cusolver-cu12==11.4.5.107 (from torch->efficientnet_pytorch)\n",
      "  Using cached nvidia_cusolver_cu12-11.4.5.107-py3-none-manylinux1_x86_64.whl (124.2 MB)\n",
      "Collecting nvidia-cusparse-cu12==12.1.0.106 (from torch->efficientnet_pytorch)\n",
      "  Using cached nvidia_cusparse_cu12-12.1.0.106-py3-none-manylinux1_x86_64.whl (196.0 MB)\n",
      "Collecting nvidia-nccl-cu12==2.19.3 (from torch->efficientnet_pytorch)\n",
      "  Using cached nvidia_nccl_cu12-2.19.3-py3-none-manylinux1_x86_64.whl (166.0 MB)\n",
      "Collecting nvidia-nvtx-cu12==12.1.105 (from torch->efficientnet_pytorch)\n",
      "  Using cached nvidia_nvtx_cu12-12.1.105-py3-none-manylinux1_x86_64.whl (99 kB)\n",
      "Requirement already satisfied: triton==2.2.0 in /usr/local/lib/python3.10/dist-packages (from torch->efficientnet_pytorch) (2.2.0)\n",
      "Collecting nvidia-nvjitlink-cu12 (from nvidia-cusolver-cu12==11.4.5.107->torch->efficientnet_pytorch)\n",
      "  Using cached nvidia_nvjitlink_cu12-12.4.127-py3-none-manylinux2014_x86_64.whl (21.1 MB)\n",
      "Requirement already satisfied: MarkupSafe>=2.0 in /usr/local/lib/python3.10/dist-packages (from jinja2->torch->efficientnet_pytorch) (2.1.5)\n",
      "Requirement already satisfied: mpmath>=0.19 in /usr/local/lib/python3.10/dist-packages (from sympy->torch->efficientnet_pytorch) (1.3.0)\n",
      "Building wheels for collected packages: efficientnet_pytorch\n",
      "  Building wheel for efficientnet_pytorch (setup.py) ... \u001b[?25l\u001b[?25hdone\n",
      "  Created wheel for efficientnet_pytorch: filename=efficientnet_pytorch-0.7.1-py3-none-any.whl size=16429 sha256=e62052c9e7296b4351f4e51043b3f19b7f7e553017baf353c8a3edad12d9666a\n",
      "  Stored in directory: /root/.cache/pip/wheels/03/3f/e9/911b1bc46869644912bda90a56bcf7b960f20b5187feea3baf\n",
      "Successfully built efficientnet_pytorch\n",
      "Installing collected packages: nvidia-nvtx-cu12, nvidia-nvjitlink-cu12, nvidia-nccl-cu12, nvidia-curand-cu12, nvidia-cufft-cu12, nvidia-cuda-runtime-cu12, nvidia-cuda-nvrtc-cu12, nvidia-cuda-cupti-cu12, nvidia-cublas-cu12, nvidia-cusparse-cu12, nvidia-cudnn-cu12, nvidia-cusolver-cu12, efficientnet_pytorch\n",
      "Successfully installed efficientnet_pytorch-0.7.1 nvidia-cublas-cu12-12.1.3.1 nvidia-cuda-cupti-cu12-12.1.105 nvidia-cuda-nvrtc-cu12-12.1.105 nvidia-cuda-runtime-cu12-12.1.105 nvidia-cudnn-cu12-8.9.2.26 nvidia-cufft-cu12-11.0.2.54 nvidia-curand-cu12-10.3.2.106 nvidia-cusolver-cu12-11.4.5.107 nvidia-cusparse-cu12-12.1.0.106 nvidia-nccl-cu12-2.19.3 nvidia-nvjitlink-cu12-12.4.127 nvidia-nvtx-cu12-12.1.105\n"
     ]
    }
   ],
   "source": [
    "pip install efficientnet_pytorch\n"
   ]
  },
  {
   "cell_type": "markdown",
   "metadata": {
    "id": "HRP9lkPdY19h"
   },
   "source": [
    "# Data loading"
   ]
  },
  {
   "cell_type": "code",
   "execution_count": 3,
   "metadata": {
    "colab": {
     "base_uri": "https://localhost:8080/",
     "height": 145
    },
    "id": "FO5SnxZc7LUh",
    "outputId": "1ac38af7-6534-4b89-c3b9-4681081ee94e"
   },
   "outputs": [
    {
     "name": "stderr",
     "output_type": "stream",
     "text": [
      "Downloading...\n",
      "From (original): https://drive.google.com/uc?id=10WknIwgZsduZnPTYUHqjhcu-KKjRUUuU\n",
      "From (redirected): https://drive.google.com/uc?id=10WknIwgZsduZnPTYUHqjhcu-KKjRUUuU&confirm=t&uuid=40143db1-3603-406b-b59f-5b9e519548c7\n",
      "To: /content/song_snap.zip\n",
      "100%|██████████| 491M/491M [00:03<00:00, 153MB/s]\n"
     ]
    },
    {
     "data": {
      "application/vnd.google.colaboratory.intrinsic+json": {
       "type": "string"
      },
      "text/plain": [
       "'song_snap.zip'"
      ]
     },
     "execution_count": 3,
     "metadata": {},
     "output_type": "execute_result"
    }
   ],
   "source": [
    "import gdown\n",
    "\n",
    "file_url = \"https://drive.google.com/uc?id=10WknIwgZsduZnPTYUHqjhcu-KKjRUUuU\"\n",
    "\n",
    "\n",
    "# Define the output filename\n",
    "output_zip = \"song_snap.zip\"\n",
    "\n",
    "# Download the file\n",
    "gdown.download(file_url, output_zip, quiet=False)"
   ]
  },
  {
   "cell_type": "code",
   "execution_count": 4,
   "metadata": {
    "colab": {
     "base_uri": "https://localhost:8080/"
    },
    "id": "6uiaEKY2W4XA",
    "outputId": "45545cc6-44a7-40f4-fc0c-0b78e3c5a462"
   },
   "outputs": [
    {
     "name": "stdout",
     "output_type": "stream",
     "text": [
      "Archive:  /content/song_snap.zip\n",
      "   creating: ./songsnap_data/\n",
      "  inflating: ./songsnap_data/.DS_Store  \n",
      "  inflating: ./__MACOSX/songsnap_data/._.DS_Store  \n",
      "  inflating: ./songsnap_data/X_image_spectogram.npy  \n",
      "  inflating: ./__MACOSX/songsnap_data/._X_image_spectogram.npy  \n",
      "  inflating: ./songsnap_data/X_lyrics.npy  \n",
      "  inflating: ./__MACOSX/songsnap_data/._X_lyrics.npy  \n",
      "  inflating: ./songsnap_data/targets.csv  \n",
      "  inflating: ./__MACOSX/songsnap_data/._targets.csv  \n",
      "  inflating: ./songsnap_data/X_sound.csv  \n",
      "  inflating: ./__MACOSX/songsnap_data/._X_sound.csv  \n"
     ]
    }
   ],
   "source": [
    "# !unzip \"/content/drive/MyDrive/Songsnap/songsnap_data\" -d .\n",
    "!unzip \"/content/song_snap.zip\" -d ."
   ]
  },
  {
   "cell_type": "code",
   "execution_count": 5,
   "metadata": {
    "colab": {
     "base_uri": "https://localhost:8080/"
    },
    "id": "no5hORFxW9hl",
    "outputId": "cec6e789-02b1-472f-fcbf-17f5ca6abda8"
   },
   "outputs": [
    {
     "name": "stdout",
     "output_type": "stream",
     "text": [
      "__MACOSX  sample_data  songsnap_data  song_snap.zip\n"
     ]
    }
   ],
   "source": [
    "!ls"
   ]
  },
  {
   "cell_type": "code",
   "execution_count": 6,
   "metadata": {
    "colab": {
     "base_uri": "https://localhost:8080/"
    },
    "id": "h6GBiuYlXNDj",
    "outputId": "c8c7a5b2-0929-484b-d47a-53fd41c72894"
   },
   "outputs": [
    {
     "name": "stdout",
     "output_type": "stream",
     "text": [
      "Contents of the folder:\n",
      "targets.csv\n",
      "X_image_spectogram.npy\n",
      "X_sound.csv\n",
      "X_lyrics.npy\n",
      ".DS_Store\n"
     ]
    }
   ],
   "source": [
    "folder_contents = os.listdir(\"songsnap_data\")\n",
    "\n",
    "print(\"Contents of the folder:\")\n",
    "for item in folder_contents:\n",
    "    print(item)"
   ]
  },
  {
   "cell_type": "markdown",
   "metadata": {},
   "source": [
    "### Loading Sound, Spectogram and Lyrics features"
   ]
  },
  {
   "cell_type": "code",
   "execution_count": 7,
   "metadata": {
    "id": "GCrbciQsXaPk"
   },
   "outputs": [],
   "source": [
    "X_sound = pd.read_csv(\"./songsnap_data/X_sound.csv\")"
   ]
  },
  {
   "cell_type": "code",
   "execution_count": 8,
   "metadata": {
    "colab": {
     "base_uri": "https://localhost:8080/"
    },
    "id": "GJKqKpHCXmai",
    "outputId": "3bafdff0-3115-45b1-f57f-e5a689c653d9"
   },
   "outputs": [
    {
     "data": {
      "text/plain": [
       "(5006, 31)"
      ]
     },
     "execution_count": 8,
     "metadata": {},
     "output_type": "execute_result"
    }
   ],
   "source": [
    "\n",
    "X_sound.shape"
   ]
  },
  {
   "cell_type": "code",
   "execution_count": 9,
   "metadata": {
    "id": "jim9QkINaYlg"
   },
   "outputs": [],
   "source": [
    "num_columns_X_sound = X_sound.shape[1]"
   ]
  },
  {
   "cell_type": "code",
   "execution_count": 10,
   "metadata": {
    "id": "W8FE6qRwXrO5"
   },
   "outputs": [],
   "source": [
    "X_image_spectogram = np.load(\"./songsnap_data/X_image_spectogram.npy\")"
   ]
  },
  {
   "cell_type": "code",
   "execution_count": 14,
   "metadata": {
    "colab": {
     "base_uri": "https://localhost:8080/"
    },
    "id": "CJNPxbz9Xt4c",
    "outputId": "6aefe8c2-afc3-4f2e-9b74-5c8e8d5e5a62"
   },
   "outputs": [
    {
     "data": {
      "text/plain": [
       "(5006, 224, 224, 3)"
      ]
     },
     "execution_count": 14,
     "metadata": {},
     "output_type": "execute_result"
    }
   ],
   "source": [
    "X_image_spectogram.shape"
   ]
  },
  {
   "cell_type": "code",
   "execution_count": 15,
   "metadata": {
    "id": "hO05UqfTZUV2"
   },
   "outputs": [],
   "source": [
    "X_lyrics = np.load(\"./songsnap_data/X_lyrics.npy\")"
   ]
  },
  {
   "cell_type": "code",
   "execution_count": 16,
   "metadata": {
    "colab": {
     "base_uri": "https://localhost:8080/"
    },
    "id": "gaSImqnXZV1T",
    "outputId": "2a1bd856-7f19-419e-9ed4-c73ccff2ff04"
   },
   "outputs": [
    {
     "data": {
      "text/plain": [
       "(5006,)"
      ]
     },
     "execution_count": 16,
     "metadata": {},
     "output_type": "execute_result"
    }
   ],
   "source": [
    "X_lyrics.shape"
   ]
  },
  {
   "cell_type": "code",
   "execution_count": 17,
   "metadata": {
    "id": "JXABj3rHX_jY"
   },
   "outputs": [],
   "source": [
    "y = pd.read_csv(\"./songsnap_data/targets.csv\")"
   ]
  },
  {
   "cell_type": "code",
   "execution_count": 18,
   "metadata": {
    "colab": {
     "base_uri": "https://localhost:8080/"
    },
    "id": "1FHuIC2iYGxa",
    "outputId": "34a09264-8432-437b-d242-3989527fcb0c"
   },
   "outputs": [
    {
     "data": {
      "text/plain": [
       "(5006, 22)"
      ]
     },
     "execution_count": 18,
     "metadata": {},
     "output_type": "execute_result"
    }
   ],
   "source": [
    "y.shape"
   ]
  },
  {
   "cell_type": "code",
   "execution_count": 19,
   "metadata": {
    "id": "cuHHQvgwzpAA"
   },
   "outputs": [],
   "source": [
    "y[\"popularity\"] = y[\"target\"]"
   ]
  },
  {
   "cell_type": "code",
   "execution_count": 22,
   "metadata": {
    "colab": {
     "base_uri": "https://localhost:8080/",
     "height": 446
    },
    "id": "2uXKltyTYLEf",
    "outputId": "af3ce96e-3b13-4d72-8aab-7c1e61d9575e"
   },
   "outputs": [
    {
     "data": {
      "application/vnd.google.colaboratory.intrinsic+json": {
       "type": "dataframe",
       "variable_name": "y"
      },
      "text/html": [
       "\n",
       "  <div id=\"df-f29020eb-d414-4753-a808-c67b1afdeb1a\" class=\"colab-df-container\">\n",
       "    <div>\n",
       "<style scoped>\n",
       "    .dataframe tbody tr th:only-of-type {\n",
       "        vertical-align: middle;\n",
       "    }\n",
       "\n",
       "    .dataframe tbody tr th {\n",
       "        vertical-align: top;\n",
       "    }\n",
       "\n",
       "    .dataframe thead th {\n",
       "        text-align: right;\n",
       "    }\n",
       "</style>\n",
       "<table border=\"1\" class=\"dataframe\">\n",
       "  <thead>\n",
       "    <tr style=\"text-align: right;\">\n",
       "      <th></th>\n",
       "      <th>file</th>\n",
       "      <th>Unnamed: 0</th>\n",
       "      <th>uri</th>\n",
       "      <th>danceability</th>\n",
       "      <th>energy</th>\n",
       "      <th>key</th>\n",
       "      <th>loudness</th>\n",
       "      <th>mode</th>\n",
       "      <th>speechiness</th>\n",
       "      <th>acousticness</th>\n",
       "      <th>...</th>\n",
       "      <th>tempo</th>\n",
       "      <th>duration_ms</th>\n",
       "      <th>time_signature</th>\n",
       "      <th>chorus_hit</th>\n",
       "      <th>sections</th>\n",
       "      <th>target</th>\n",
       "      <th>bucket</th>\n",
       "      <th>genre</th>\n",
       "      <th>lyrics</th>\n",
       "      <th>popularity</th>\n",
       "    </tr>\n",
       "  </thead>\n",
       "  <tbody>\n",
       "    <tr>\n",
       "      <th>0</th>\n",
       "      <td>BeiNacht-RioReiser</td>\n",
       "      <td>12991</td>\n",
       "      <td>spotify:track:1uHwyibZtAYFwtFuRboomt</td>\n",
       "      <td>0.648</td>\n",
       "      <td>0.243</td>\n",
       "      <td>9</td>\n",
       "      <td>-16.473</td>\n",
       "      <td>1</td>\n",
       "      <td>0.0395</td>\n",
       "      <td>0.39400</td>\n",
       "      <td>...</td>\n",
       "      <td>121.318</td>\n",
       "      <td>365200</td>\n",
       "      <td>4</td>\n",
       "      <td>61.45136</td>\n",
       "      <td>12</td>\n",
       "      <td>0</td>\n",
       "      <td>BeiNacht-RioReiser.wav</td>\n",
       "      <td>r&amp;b</td>\n",
       "      <td>2 ContributorsBei Nacht Lyrics[Strophe I:]\\nOh...</td>\n",
       "      <td>0</td>\n",
       "    </tr>\n",
       "    <tr>\n",
       "      <th>1</th>\n",
       "      <td>RetratoEmBrancoePreto-ChicoBuarque</td>\n",
       "      <td>1211</td>\n",
       "      <td>spotify:track:2SddU3HytJdbjTqSNVasY6</td>\n",
       "      <td>0.493</td>\n",
       "      <td>0.462</td>\n",
       "      <td>2</td>\n",
       "      <td>-8.773</td>\n",
       "      <td>1</td>\n",
       "      <td>0.0306</td>\n",
       "      <td>0.62400</td>\n",
       "      <td>...</td>\n",
       "      <td>104.237</td>\n",
       "      <td>199067</td>\n",
       "      <td>3</td>\n",
       "      <td>56.13959</td>\n",
       "      <td>9</td>\n",
       "      <td>0</td>\n",
       "      <td>RetratoEmBrancoePreto-ChicoBuarque.wav</td>\n",
       "      <td>pop</td>\n",
       "      <td>4 ContributorsRetrato em Branco e Preto Lyrics...</td>\n",
       "      <td>0</td>\n",
       "    </tr>\n",
       "    <tr>\n",
       "      <th>2</th>\n",
       "      <td>Disorder-2007Remaster-JoyDivision</td>\n",
       "      <td>7311</td>\n",
       "      <td>spotify:track:5fbQCQt91LsVgXusFS0CCD</td>\n",
       "      <td>0.320</td>\n",
       "      <td>0.798</td>\n",
       "      <td>10</td>\n",
       "      <td>-7.078</td>\n",
       "      <td>0</td>\n",
       "      <td>0.1240</td>\n",
       "      <td>0.00033</td>\n",
       "      <td>...</td>\n",
       "      <td>84.696</td>\n",
       "      <td>209040</td>\n",
       "      <td>4</td>\n",
       "      <td>19.35025</td>\n",
       "      <td>8</td>\n",
       "      <td>0</td>\n",
       "      <td>Disorder-2007Remaster-JoyDivision.wav</td>\n",
       "      <td>rock</td>\n",
       "      <td>3 ContributorsReflections on the Revolution in...</td>\n",
       "      <td>0</td>\n",
       "    </tr>\n",
       "    <tr>\n",
       "      <th>3</th>\n",
       "      <td>BonnieAndClyde-VermillionLies</td>\n",
       "      <td>27605</td>\n",
       "      <td>spotify:track:6YFtkgjVwyu74TS5eBvnVN</td>\n",
       "      <td>0.566</td>\n",
       "      <td>0.355</td>\n",
       "      <td>4</td>\n",
       "      <td>-8.261</td>\n",
       "      <td>1</td>\n",
       "      <td>0.0961</td>\n",
       "      <td>0.92500</td>\n",
       "      <td>...</td>\n",
       "      <td>82.260</td>\n",
       "      <td>166853</td>\n",
       "      <td>4</td>\n",
       "      <td>41.20301</td>\n",
       "      <td>9</td>\n",
       "      <td>0</td>\n",
       "      <td>BonnieAndClyde-VermillionLies.wav</td>\n",
       "      <td>pop</td>\n",
       "      <td>1 ContributorBonnie and clyde LyricsMy Dear Cl...</td>\n",
       "      <td>0</td>\n",
       "    </tr>\n",
       "    <tr>\n",
       "      <th>4</th>\n",
       "      <td>TurningWorld-SteveRoach</td>\n",
       "      <td>21476</td>\n",
       "      <td>spotify:track:2NZ8RIm64njysnW6OceMuO</td>\n",
       "      <td>0.510</td>\n",
       "      <td>0.422</td>\n",
       "      <td>8</td>\n",
       "      <td>-23.591</td>\n",
       "      <td>1</td>\n",
       "      <td>0.0366</td>\n",
       "      <td>0.64200</td>\n",
       "      <td>...</td>\n",
       "      <td>89.456</td>\n",
       "      <td>463840</td>\n",
       "      <td>4</td>\n",
       "      <td>32.64560</td>\n",
       "      <td>21</td>\n",
       "      <td>0</td>\n",
       "      <td>TurningWorld-SteveRoach.wav</td>\n",
       "      <td>r&amp;b</td>\n",
       "      <td>1 ContributorBismuth Lyrics[Open Int. Beach Ho...</td>\n",
       "      <td>0</td>\n",
       "    </tr>\n",
       "  </tbody>\n",
       "</table>\n",
       "<p>5 rows × 23 columns</p>\n",
       "</div>\n",
       "    <div class=\"colab-df-buttons\">\n",
       "\n",
       "  <div class=\"colab-df-container\">\n",
       "    <button class=\"colab-df-convert\" onclick=\"convertToInteractive('df-f29020eb-d414-4753-a808-c67b1afdeb1a')\"\n",
       "            title=\"Convert this dataframe to an interactive table.\"\n",
       "            style=\"display:none;\">\n",
       "\n",
       "  <svg xmlns=\"http://www.w3.org/2000/svg\" height=\"24px\" viewBox=\"0 -960 960 960\">\n",
       "    <path d=\"M120-120v-720h720v720H120Zm60-500h600v-160H180v160Zm220 220h160v-160H400v160Zm0 220h160v-160H400v160ZM180-400h160v-160H180v160Zm440 0h160v-160H620v160ZM180-180h160v-160H180v160Zm440 0h160v-160H620v160Z\"/>\n",
       "  </svg>\n",
       "    </button>\n",
       "\n",
       "  <style>\n",
       "    .colab-df-container {\n",
       "      display:flex;\n",
       "      gap: 12px;\n",
       "    }\n",
       "\n",
       "    .colab-df-convert {\n",
       "      background-color: #E8F0FE;\n",
       "      border: none;\n",
       "      border-radius: 50%;\n",
       "      cursor: pointer;\n",
       "      display: none;\n",
       "      fill: #1967D2;\n",
       "      height: 32px;\n",
       "      padding: 0 0 0 0;\n",
       "      width: 32px;\n",
       "    }\n",
       "\n",
       "    .colab-df-convert:hover {\n",
       "      background-color: #E2EBFA;\n",
       "      box-shadow: 0px 1px 2px rgba(60, 64, 67, 0.3), 0px 1px 3px 1px rgba(60, 64, 67, 0.15);\n",
       "      fill: #174EA6;\n",
       "    }\n",
       "\n",
       "    .colab-df-buttons div {\n",
       "      margin-bottom: 4px;\n",
       "    }\n",
       "\n",
       "    [theme=dark] .colab-df-convert {\n",
       "      background-color: #3B4455;\n",
       "      fill: #D2E3FC;\n",
       "    }\n",
       "\n",
       "    [theme=dark] .colab-df-convert:hover {\n",
       "      background-color: #434B5C;\n",
       "      box-shadow: 0px 1px 3px 1px rgba(0, 0, 0, 0.15);\n",
       "      filter: drop-shadow(0px 1px 2px rgba(0, 0, 0, 0.3));\n",
       "      fill: #FFFFFF;\n",
       "    }\n",
       "  </style>\n",
       "\n",
       "    <script>\n",
       "      const buttonEl =\n",
       "        document.querySelector('#df-f29020eb-d414-4753-a808-c67b1afdeb1a button.colab-df-convert');\n",
       "      buttonEl.style.display =\n",
       "        google.colab.kernel.accessAllowed ? 'block' : 'none';\n",
       "\n",
       "      async function convertToInteractive(key) {\n",
       "        const element = document.querySelector('#df-f29020eb-d414-4753-a808-c67b1afdeb1a');\n",
       "        const dataTable =\n",
       "          await google.colab.kernel.invokeFunction('convertToInteractive',\n",
       "                                                    [key], {});\n",
       "        if (!dataTable) return;\n",
       "\n",
       "        const docLinkHtml = 'Like what you see? Visit the ' +\n",
       "          '<a target=\"_blank\" href=https://colab.research.google.com/notebooks/data_table.ipynb>data table notebook</a>'\n",
       "          + ' to learn more about interactive tables.';\n",
       "        element.innerHTML = '';\n",
       "        dataTable['output_type'] = 'display_data';\n",
       "        await google.colab.output.renderOutput(dataTable, element);\n",
       "        const docLink = document.createElement('div');\n",
       "        docLink.innerHTML = docLinkHtml;\n",
       "        element.appendChild(docLink);\n",
       "      }\n",
       "    </script>\n",
       "  </div>\n",
       "\n",
       "\n",
       "<div id=\"df-a8ac61d7-6863-4a3f-a46e-1db286062094\">\n",
       "  <button class=\"colab-df-quickchart\" onclick=\"quickchart('df-a8ac61d7-6863-4a3f-a46e-1db286062094')\"\n",
       "            title=\"Suggest charts\"\n",
       "            style=\"display:none;\">\n",
       "\n",
       "<svg xmlns=\"http://www.w3.org/2000/svg\" height=\"24px\"viewBox=\"0 0 24 24\"\n",
       "     width=\"24px\">\n",
       "    <g>\n",
       "        <path d=\"M19 3H5c-1.1 0-2 .9-2 2v14c0 1.1.9 2 2 2h14c1.1 0 2-.9 2-2V5c0-1.1-.9-2-2-2zM9 17H7v-7h2v7zm4 0h-2V7h2v10zm4 0h-2v-4h2v4z\"/>\n",
       "    </g>\n",
       "</svg>\n",
       "  </button>\n",
       "\n",
       "<style>\n",
       "  .colab-df-quickchart {\n",
       "      --bg-color: #E8F0FE;\n",
       "      --fill-color: #1967D2;\n",
       "      --hover-bg-color: #E2EBFA;\n",
       "      --hover-fill-color: #174EA6;\n",
       "      --disabled-fill-color: #AAA;\n",
       "      --disabled-bg-color: #DDD;\n",
       "  }\n",
       "\n",
       "  [theme=dark] .colab-df-quickchart {\n",
       "      --bg-color: #3B4455;\n",
       "      --fill-color: #D2E3FC;\n",
       "      --hover-bg-color: #434B5C;\n",
       "      --hover-fill-color: #FFFFFF;\n",
       "      --disabled-bg-color: #3B4455;\n",
       "      --disabled-fill-color: #666;\n",
       "  }\n",
       "\n",
       "  .colab-df-quickchart {\n",
       "    background-color: var(--bg-color);\n",
       "    border: none;\n",
       "    border-radius: 50%;\n",
       "    cursor: pointer;\n",
       "    display: none;\n",
       "    fill: var(--fill-color);\n",
       "    height: 32px;\n",
       "    padding: 0;\n",
       "    width: 32px;\n",
       "  }\n",
       "\n",
       "  .colab-df-quickchart:hover {\n",
       "    background-color: var(--hover-bg-color);\n",
       "    box-shadow: 0 1px 2px rgba(60, 64, 67, 0.3), 0 1px 3px 1px rgba(60, 64, 67, 0.15);\n",
       "    fill: var(--button-hover-fill-color);\n",
       "  }\n",
       "\n",
       "  .colab-df-quickchart-complete:disabled,\n",
       "  .colab-df-quickchart-complete:disabled:hover {\n",
       "    background-color: var(--disabled-bg-color);\n",
       "    fill: var(--disabled-fill-color);\n",
       "    box-shadow: none;\n",
       "  }\n",
       "\n",
       "  .colab-df-spinner {\n",
       "    border: 2px solid var(--fill-color);\n",
       "    border-color: transparent;\n",
       "    border-bottom-color: var(--fill-color);\n",
       "    animation:\n",
       "      spin 1s steps(1) infinite;\n",
       "  }\n",
       "\n",
       "  @keyframes spin {\n",
       "    0% {\n",
       "      border-color: transparent;\n",
       "      border-bottom-color: var(--fill-color);\n",
       "      border-left-color: var(--fill-color);\n",
       "    }\n",
       "    20% {\n",
       "      border-color: transparent;\n",
       "      border-left-color: var(--fill-color);\n",
       "      border-top-color: var(--fill-color);\n",
       "    }\n",
       "    30% {\n",
       "      border-color: transparent;\n",
       "      border-left-color: var(--fill-color);\n",
       "      border-top-color: var(--fill-color);\n",
       "      border-right-color: var(--fill-color);\n",
       "    }\n",
       "    40% {\n",
       "      border-color: transparent;\n",
       "      border-right-color: var(--fill-color);\n",
       "      border-top-color: var(--fill-color);\n",
       "    }\n",
       "    60% {\n",
       "      border-color: transparent;\n",
       "      border-right-color: var(--fill-color);\n",
       "    }\n",
       "    80% {\n",
       "      border-color: transparent;\n",
       "      border-right-color: var(--fill-color);\n",
       "      border-bottom-color: var(--fill-color);\n",
       "    }\n",
       "    90% {\n",
       "      border-color: transparent;\n",
       "      border-bottom-color: var(--fill-color);\n",
       "    }\n",
       "  }\n",
       "</style>\n",
       "\n",
       "  <script>\n",
       "    async function quickchart(key) {\n",
       "      const quickchartButtonEl =\n",
       "        document.querySelector('#' + key + ' button');\n",
       "      quickchartButtonEl.disabled = true;  // To prevent multiple clicks.\n",
       "      quickchartButtonEl.classList.add('colab-df-spinner');\n",
       "      try {\n",
       "        const charts = await google.colab.kernel.invokeFunction(\n",
       "            'suggestCharts', [key], {});\n",
       "      } catch (error) {\n",
       "        console.error('Error during call to suggestCharts:', error);\n",
       "      }\n",
       "      quickchartButtonEl.classList.remove('colab-df-spinner');\n",
       "      quickchartButtonEl.classList.add('colab-df-quickchart-complete');\n",
       "    }\n",
       "    (() => {\n",
       "      let quickchartButtonEl =\n",
       "        document.querySelector('#df-a8ac61d7-6863-4a3f-a46e-1db286062094 button');\n",
       "      quickchartButtonEl.style.display =\n",
       "        google.colab.kernel.accessAllowed ? 'block' : 'none';\n",
       "    })();\n",
       "  </script>\n",
       "</div>\n",
       "\n",
       "    </div>\n",
       "  </div>\n"
      ],
      "text/plain": [
       "                                 file  Unnamed: 0  \\\n",
       "0                  BeiNacht-RioReiser       12991   \n",
       "1  RetratoEmBrancoePreto-ChicoBuarque        1211   \n",
       "2   Disorder-2007Remaster-JoyDivision        7311   \n",
       "3       BonnieAndClyde-VermillionLies       27605   \n",
       "4             TurningWorld-SteveRoach       21476   \n",
       "\n",
       "                                    uri  danceability  energy  key  loudness  \\\n",
       "0  spotify:track:1uHwyibZtAYFwtFuRboomt         0.648   0.243    9   -16.473   \n",
       "1  spotify:track:2SddU3HytJdbjTqSNVasY6         0.493   0.462    2    -8.773   \n",
       "2  spotify:track:5fbQCQt91LsVgXusFS0CCD         0.320   0.798   10    -7.078   \n",
       "3  spotify:track:6YFtkgjVwyu74TS5eBvnVN         0.566   0.355    4    -8.261   \n",
       "4  spotify:track:2NZ8RIm64njysnW6OceMuO         0.510   0.422    8   -23.591   \n",
       "\n",
       "   mode  speechiness  acousticness  ...    tempo  duration_ms  time_signature  \\\n",
       "0     1       0.0395       0.39400  ...  121.318       365200               4   \n",
       "1     1       0.0306       0.62400  ...  104.237       199067               3   \n",
       "2     0       0.1240       0.00033  ...   84.696       209040               4   \n",
       "3     1       0.0961       0.92500  ...   82.260       166853               4   \n",
       "4     1       0.0366       0.64200  ...   89.456       463840               4   \n",
       "\n",
       "   chorus_hit  sections  target                                  bucket  \\\n",
       "0    61.45136        12       0                  BeiNacht-RioReiser.wav   \n",
       "1    56.13959         9       0  RetratoEmBrancoePreto-ChicoBuarque.wav   \n",
       "2    19.35025         8       0   Disorder-2007Remaster-JoyDivision.wav   \n",
       "3    41.20301         9       0       BonnieAndClyde-VermillionLies.wav   \n",
       "4    32.64560        21       0             TurningWorld-SteveRoach.wav   \n",
       "\n",
       "   genre                                             lyrics popularity  \n",
       "0    r&b  2 ContributorsBei Nacht Lyrics[Strophe I:]\\nOh...          0  \n",
       "1    pop  4 ContributorsRetrato em Branco e Preto Lyrics...          0  \n",
       "2   rock  3 ContributorsReflections on the Revolution in...          0  \n",
       "3    pop  1 ContributorBonnie and clyde LyricsMy Dear Cl...          0  \n",
       "4    r&b  1 ContributorBismuth Lyrics[Open Int. Beach Ho...          0  \n",
       "\n",
       "[5 rows x 23 columns]"
      ]
     },
     "execution_count": 22,
     "metadata": {},
     "output_type": "execute_result"
    }
   ],
   "source": [
    "y.head()"
   ]
  },
  {
   "cell_type": "code",
   "execution_count": 23,
   "metadata": {
    "id": "9t7gLINxZ5TD"
   },
   "outputs": [],
   "source": [
    "y_genre = []\n",
    "y_popularity = []\n",
    "y_danceability =[]\n",
    "y_energy = []\n",
    "\n",
    "for index, row in y.iterrows():\n",
    "    y_popularity.append(row[\"popularity\"])\n",
    "    y_genre.append((row[\"genre\"]))\n",
    "    y_danceability.append(row[\"danceability\"])\n",
    "    y_energy.append(row[\"energy\"])\n"
   ]
  },
  {
   "cell_type": "code",
   "execution_count": 24,
   "metadata": {
    "id": "RSuUur2sZ9y_"
   },
   "outputs": [],
   "source": [
    "y_genre = np.array(y_genre)\n",
    "y_popularity = np.array(y_popularity)\n",
    "y_danceability = np.array(y_danceability)\n",
    "y_energy = np.array(y_energy)"
   ]
  },
  {
   "cell_type": "code",
   "execution_count": 25,
   "metadata": {
    "id": "9YfVTzSnaEzs"
   },
   "outputs": [],
   "source": [
    "from sklearn.preprocessing import LabelEncoder\n",
    "label_encoder = LabelEncoder()\n",
    "y_genre = label_encoder.fit_transform(y_genre)"
   ]
  },
  {
   "cell_type": "code",
   "execution_count": 26,
   "metadata": {
    "colab": {
     "base_uri": "https://localhost:8080/"
    },
    "id": "BH0-9CR6kFKA",
    "outputId": "37df5a03-60e3-435d-ea90-a07283420ab7"
   },
   "outputs": [
    {
     "name": "stdout",
     "output_type": "stream",
     "text": [
      "7\n"
     ]
    }
   ],
   "source": [
    "num_unique_genres = len(label_encoder.classes_)\n",
    "print(num_unique_genres)"
   ]
  },
  {
   "cell_type": "markdown",
   "metadata": {
    "id": "MMV7MEkvEuFi"
   },
   "source": [
    "# Train-test split"
   ]
  },
  {
   "cell_type": "code",
   "execution_count": 27,
   "metadata": {
    "colab": {
     "base_uri": "https://localhost:8080/"
    },
    "id": "-nB-E5yfkGxN",
    "outputId": "c4b176d9-a3a4-4617-f50b-7f68c994463a"
   },
   "outputs": [
    {
     "data": {
      "text/plain": [
       "5006"
      ]
     },
     "execution_count": 27,
     "metadata": {},
     "output_type": "execute_result"
    }
   ],
   "source": [
    "total_elements = len(X_sound)\n",
    "total_elements"
   ]
  },
  {
   "cell_type": "code",
   "execution_count": 28,
   "metadata": {
    "colab": {
     "base_uri": "https://localhost:8080/"
    },
    "id": "n0asmKLSCAFk",
    "outputId": "6fcb9593-297c-4e3c-a6e2-8b3173ebe6b5"
   },
   "outputs": [
    {
     "name": "stdout",
     "output_type": "stream",
     "text": [
      "1001\n",
      "4005\n"
     ]
    }
   ],
   "source": [
    "import random\n",
    "num_test_indices = int(0.20 * total_elements)\n",
    "test_indices = random.sample(range(total_elements), num_test_indices)\n",
    "train_indices = [i for i in range(total_elements) if i not in test_indices]\n",
    "print(len(test_indices))\n",
    "print(len(train_indices))"
   ]
  },
  {
   "cell_type": "code",
   "execution_count": 29,
   "metadata": {
    "id": "diwLotMfCAHw"
   },
   "outputs": [],
   "source": [
    "X_sound_train = X_sound.iloc[train_indices]\n",
    "X_image_spectogram_train = X_image_spectogram[train_indices]\n",
    "X_lyrics_train = X_lyrics[train_indices]\n",
    "\n",
    "\n",
    "X_sound_test = X_sound.iloc[test_indices]\n",
    "X_image_spectogram_test = X_image_spectogram[test_indices]\n",
    "X_lyrics_test = X_lyrics[test_indices]"
   ]
  },
  {
   "cell_type": "code",
   "execution_count": 30,
   "metadata": {
    "id": "4SqU4F3uCAKa"
   },
   "outputs": [],
   "source": [
    "y_genre_train = [y_genre[i] for i in train_indices]\n",
    "y_popularity_train = [y_popularity[i] for i in train_indices]\n",
    "y_danceability_train = [y_danceability[i] for i in train_indices]\n",
    "y_energy_train = [y_energy[i] for i in train_indices]\n",
    "\n",
    "y_genre_test = [y_genre[i] for i in test_indices]\n",
    "y_popularity_test = [y_popularity[i] for i in test_indices]\n",
    "y_danceability_test = [y_danceability[i] for i in test_indices]\n",
    "y_energy_test = [y_energy[i] for i in test_indices]"
   ]
  },
  {
   "cell_type": "code",
   "execution_count": 30,
   "metadata": {
    "id": "zdpzPmcgjsAL"
   },
   "outputs": [],
   "source": []
  },
  {
   "cell_type": "code",
   "execution_count": 30,
   "metadata": {
    "id": "tzbpYKykjsCf"
   },
   "outputs": [],
   "source": []
  },
  {
   "cell_type": "markdown",
   "metadata": {
    "id": "R9NI5fkLHLdF"
   },
   "source": [
    "# Model Definition - UnFrozen Weights for Image & Text"
   ]
  },
  {
   "cell_type": "code",
   "execution_count": 31,
   "metadata": {
    "id": "W1oPMn8ajsEx"
   },
   "outputs": [],
   "source": [
    "import torch"
   ]
  },
  {
   "cell_type": "code",
   "execution_count": 32,
   "metadata": {
    "id": "NKgUUbvbjsHD"
   },
   "outputs": [],
   "source": [
    "device = torch.device(\"cuda\" if torch.cuda.is_available() else \"cpu\")\n"
   ]
  },
  {
   "cell_type": "code",
   "execution_count": 33,
   "metadata": {
    "colab": {
     "base_uri": "https://localhost:8080/"
    },
    "id": "yPvSBQHpjxTr",
    "outputId": "64a1003b-5702-40fe-8c58-fcc345159e53"
   },
   "outputs": [
    {
     "data": {
      "text/plain": [
       "device(type='cuda')"
      ]
     },
     "execution_count": 33,
     "metadata": {},
     "output_type": "execute_result"
    }
   ],
   "source": [
    "device"
   ]
  },
  {
   "cell_type": "code",
   "execution_count": 34,
   "metadata": {
    "id": "hqLLA-UkuVx3"
   },
   "outputs": [],
   "source": [
    "import os\n",
    "os.environ['CUDA_LAUNCH_BLOCKING'] = '1'"
   ]
  },
  {
   "cell_type": "code",
   "execution_count": 35,
   "metadata": {
    "colab": {
     "base_uri": "https://localhost:8080/",
     "height": 1000,
     "referenced_widgets": [
      "45b49d38b5a44ae3acd0a7a36b515d7c",
      "6d73a27e2e9b44159668cd17dd74b730",
      "72bd79e6541944f7839aa8f0bf25eaa5",
      "a73509a111cd44b0aa0fdb487b1b78d2",
      "7a8a337d26c54a118278811e3c2e1626",
      "cb90da45d7224b30912bc241642136c4",
      "1605979274e94c97a366e2236393e92f",
      "c74cd7df62a14d74ac093a20cec7093a",
      "8613257a916f46ba9bd805ce33455010",
      "09bf5bbcabf14a5ab12239ac543b9e02",
      "75df8bde524b40528708ba79d4d09f8d",
      "9b0d654202f8436b906f1660f43f6e04",
      "4b6ea17ae6e642b6ad0b6e09a6fcca62",
      "169ce0bd7b6843748f77697d12bc58d4",
      "0080f4b7f0d84eb48ddf184793b5f7cb",
      "1407aa9b91044ff78cdac63d58b2adff",
      "6a7b712f27e74e549f379f4946461e3e",
      "6c2fad251c8e449099e73cfd28def018",
      "a486f1afdf4c4e8bbf99faa6aa150799",
      "84e5eac55e7c4e0c964b8562df28a34a",
      "449962f05af04ca7985529c06ef7c60c",
      "f100dc063d3141f39cfc224eb340a3c2",
      "a275482c48464c4589c6a37df8c7fb10",
      "f59132dc5a2b4f5a946f7dca56bc74d3",
      "5cb336e479914e26916be0f32e246f84",
      "248b7a284ffb46b9b3e8b0bd8eb7f351",
      "8e10d5bcb46e41ba955fa7eaa8ed3abe",
      "fa75d993974b4f93a87c9798a852aa9f",
      "ea1cb4a926c848178fa47a0b13acc57a",
      "7f6f7735752542aa8ef64c98f6acad7c",
      "3ca86617d040474d9a7571e414a048d8",
      "3a7105ac45e3411abe804e3ee4ab373b",
      "925e10d864494a85a50f62261ce60e69",
      "b11d44e8b07742b1a147bdff4f073e34",
      "b2b6381c045f40ef8c1087f70af4f2a4",
      "95efc3a9dc5e401fbed80221632861e7",
      "212cc43632fb4209b9574b1133f62df6",
      "fd610b65863549c8b3b3a227d5cd5247",
      "1a9770cc8fd74aebb29489e716b8ea96",
      "256a3e30ce0944a598f81b2f1b8ac7ae",
      "26cc2c6cfccb44448026062c1456b9dc",
      "55464f00bd7d4465a02274406a4f8226",
      "36d354e370d44be086091988ea51ff82",
      "09afec5de32c40c3a298580433424a80",
      "0eda4742a10144bc9dac9ea1f241b140",
      "8dee8ed739df40e7aefa5c5d0b292b7b",
      "6018b849eb9f429b947f7e251b951f39",
      "a7614cd6a6084c15b0e251cccbd3bca9",
      "03f5c68729c24bedac6d99c6b5798993",
      "9bdc22d4804b42d4aefccd2bac11539d",
      "56ec0b4bdcbc45a7851b328f842f105a",
      "0eb189af603647fab1ff42970202bf8e",
      "ab8dca540d4543be9bced5923dedbc92",
      "cf33ef8fd2cf47c39d3618a9f278e856",
      "a41eb4dff1fe4ce38f495e2ab591cb6e"
     ]
    },
    "id": "zrEfvO3jyyh2",
    "outputId": "77524f0b-f2d9-4b0c-891e-79dd6e8e1613"
   },
   "outputs": [
    {
     "metadata": {
      "tags": null
     },
     "name": "stderr",
     "output_type": "stream",
     "text": [
      "Downloading: \"https://github.com/lukemelas/EfficientNet-PyTorch/releases/download/1.0/efficientnet-b0-355c32eb.pth\" to /root/.cache/torch/hub/checkpoints/efficientnet-b0-355c32eb.pth\n",
      "100%|██████████| 20.4M/20.4M [00:00<00:00, 157MB/s]\n"
     ]
    },
    {
     "metadata": {
      "tags": null
     },
     "name": "stdout",
     "output_type": "stream",
     "text": [
      "Loaded pretrained weights for efficientnet-b0\n"
     ]
    },
    {
     "metadata": {
      "tags": null
     },
     "name": "stderr",
     "output_type": "stream",
     "text": [
      "/usr/local/lib/python3.10/dist-packages/huggingface_hub/utils/_token.py:88: UserWarning: \n",
      "The secret `HF_TOKEN` does not exist in your Colab secrets.\n",
      "To authenticate with the Hugging Face Hub, create a token in your settings tab (https://huggingface.co/settings/tokens), set it as secret in your Google Colab and restart your session.\n",
      "You will be able to reuse this secret in all of your notebooks.\n",
      "Please note that authentication is recommended but still optional to access public models or datasets.\n",
      "  warnings.warn(\n"
     ]
    },
    {
     "data": {
      "application/vnd.jupyter.widget-view+json": {
       "model_id": "45b49d38b5a44ae3acd0a7a36b515d7c",
       "version_major": 2,
       "version_minor": 0
      },
      "text/plain": [
       "tokenizer_config.json:   0%|          | 0.00/48.0 [00:00<?, ?B/s]"
      ]
     },
     "metadata": {},
     "output_type": "display_data"
    },
    {
     "data": {
      "application/vnd.jupyter.widget-view+json": {
       "model_id": "9b0d654202f8436b906f1660f43f6e04",
       "version_major": 2,
       "version_minor": 0
      },
      "text/plain": [
       "vocab.txt:   0%|          | 0.00/232k [00:00<?, ?B/s]"
      ]
     },
     "metadata": {},
     "output_type": "display_data"
    },
    {
     "data": {
      "application/vnd.jupyter.widget-view+json": {
       "model_id": "a275482c48464c4589c6a37df8c7fb10",
       "version_major": 2,
       "version_minor": 0
      },
      "text/plain": [
       "tokenizer.json:   0%|          | 0.00/466k [00:00<?, ?B/s]"
      ]
     },
     "metadata": {},
     "output_type": "display_data"
    },
    {
     "data": {
      "application/vnd.jupyter.widget-view+json": {
       "model_id": "b11d44e8b07742b1a147bdff4f073e34",
       "version_major": 2,
       "version_minor": 0
      },
      "text/plain": [
       "config.json:   0%|          | 0.00/570 [00:00<?, ?B/s]"
      ]
     },
     "metadata": {},
     "output_type": "display_data"
    },
    {
     "data": {
      "application/vnd.jupyter.widget-view+json": {
       "model_id": "0eda4742a10144bc9dac9ea1f241b140",
       "version_major": 2,
       "version_minor": 0
      },
      "text/plain": [
       "model.safetensors:   0%|          | 0.00/440M [00:00<?, ?B/s]"
      ]
     },
     "metadata": {},
     "output_type": "display_data"
    },
    {
     "metadata": {
      "tags": null
     },
     "name": "stdout",
     "output_type": "stream",
     "text": [
      "<class 'pandas.core.frame.DataFrame'>\n"
     ]
    },
    {
     "metadata": {
      "tags": null
     },
     "name": "stderr",
     "output_type": "stream",
     "text": [
      "Token indices sequence length is longer than the specified maximum sequence length for this model (523 > 512). Running this sequence through the model will result in indexing errors\n"
     ]
    },
    {
     "name": "stdout",
     "output_type": "stream",
     "text": [
      "Epoch 1\n",
      "Genre loss: 1.8053431510925293\n",
      "Popularity loss: 0.6326919794082642\n",
      "Danceability loss: 0.024271395057439804\n",
      "Energy loss: 0.025418145582079887\n",
      "\n",
      "Epoch 2\n",
      "Genre loss: 1.7955483198165894\n",
      "Popularity loss: 0.6028652191162109\n",
      "Danceability loss: 0.02153797633945942\n",
      "Energy loss: 0.020151276141405106\n",
      "\n",
      "Epoch 3\n",
      "Genre loss: 1.8044459819793701\n",
      "Popularity loss: 0.5854495763778687\n",
      "Danceability loss: 0.022043786942958832\n",
      "Energy loss: 0.018061798065900803\n",
      "\n",
      "Epoch 4\n",
      "Genre loss: 1.7999769449234009\n",
      "Popularity loss: 0.5672398209571838\n",
      "Danceability loss: 0.016192946583032608\n",
      "Energy loss: 0.019172905012965202\n",
      "\n",
      "Epoch 5\n",
      "Genre loss: 1.7909047603607178\n",
      "Popularity loss: 0.54365074634552\n",
      "Danceability loss: 0.018532373011112213\n",
      "Energy loss: 0.01966906525194645\n",
      "\n",
      "Epoch 6\n",
      "Genre loss: 1.7997078895568848\n",
      "Popularity loss: 0.5188627243041992\n",
      "Danceability loss: 0.019145775586366653\n",
      "Energy loss: 0.018709594383835793\n",
      "\n",
      "Epoch 7\n",
      "Genre loss: 1.7764745950698853\n",
      "Popularity loss: 0.5356863737106323\n",
      "Danceability loss: 0.018998583778738976\n",
      "Energy loss: 0.016986925154924393\n",
      "\n",
      "Epoch 8\n",
      "Genre loss: 1.7959709167480469\n",
      "Popularity loss: 0.5219115018844604\n",
      "Danceability loss: 0.018371306359767914\n",
      "Energy loss: 0.01697923056781292\n",
      "\n",
      "Epoch 9\n",
      "Genre loss: 1.7741543054580688\n",
      "Popularity loss: 0.5228489637374878\n",
      "Danceability loss: 0.017879769206047058\n",
      "Energy loss: 0.015403149649500847\n",
      "\n",
      "Epoch 10\n",
      "Genre loss: 1.7604150772094727\n",
      "Popularity loss: 0.4661499857902527\n",
      "Danceability loss: 0.016753356903791428\n",
      "Energy loss: 0.015145068988204002\n",
      "\n"
     ]
    }
   ],
   "source": [
    "import torch\n",
    "import torch.nn as nn\n",
    "import torch.optim as optim\n",
    "\n",
    "# SoundModalityModel creates the sound embeddings based on the SLP features\n",
    "class SoundModalityModel(nn.Module):\n",
    "    def __init__(self, num_columns_X_sound):\n",
    "        super(SoundModalityModel, self).__init__()\n",
    "        self.sound_embedding = nn.Sequential(\n",
    "            nn.Linear(num_columns_X_sound, 64),\n",
    "            nn.ReLU(),\n",
    "            nn.Linear(64, 8),\n",
    "            nn.ReLU()\n",
    "        )\n",
    "\n",
    "    def forward(self, input_sound):\n",
    "        sound_embedding = self.sound_embedding(input_sound)\n",
    "        return sound_embedding\n",
    "\n",
    "\n",
    "class ImageModalityModel(nn.Module):\n",
    "    def __init__(self, embedding_size=8):\n",
    "        super(ImageModalityModel, self).__init__()\n",
    "        self.efficientnet = EfficientNet.from_pretrained('efficientnet-b0')\n",
    "\n",
    "        # Unfreeze the parameters of the layer preceding the fully connected layer\n",
    "        for param in self.efficientnet[-1].parameters():\n",
    "            param.requires_grad = True\n",
    "\n",
    "        # Replace the final fully connected layer with a new one\n",
    "        self.efficientnet._fc = nn.Linear(self.efficientnet._fc.in_features, embedding_size)\n",
    "        \n",
    "        # Unfreeze the parameters of the last layer\n",
    "        for param in self.efficientnet._fc.parameters():\n",
    "            param.requires_grad = True\n",
    "\n",
    "    def forward(self, input_image):\n",
    "        # Forward pass through EfficientNet\n",
    "        output = self.efficientnet(input_image)\n",
    "        return output\n",
    "\n",
    "class TextModalityModel(nn.Module):\n",
    "    def __init__(self, embedding_size=8, freeze_bert=True):\n",
    "        super(TextModalityModel, self).__init__()\n",
    "        self.tokenizer = BertTokenizer.from_pretrained('bert-base-uncased')\n",
    "        self.bert = BertModel.from_pretrained('bert-base-uncased')\n",
    "\n",
    "        # Freeze the BERT weights if freeze_bert is True\n",
    "        if freeze_bert:\n",
    "            for param in self.bert.parameters():\n",
    "                param.requires_grad = False\n",
    "\n",
    "        for param in self.bert.encoder.layer[-3:].parameters():\n",
    "                param.requires_grad = True\n",
    "\n",
    "        # Maps to size 8 embedding\n",
    "        self.fc = nn.Linear(self.bert.config.hidden_size, embedding_size)\n",
    "\n",
    "    def forward(self, input_ids, attention_mask=None):\n",
    "        # Forward pass through BERT\n",
    "        outputs = self.bert(input_ids, attention_mask=attention_mask)\n",
    "\n",
    "        # Extract the last hidden states\n",
    "        last_hidden_states = outputs.last_hidden_state\n",
    "\n",
    "        # Take the mean of the last hidden states (reduce it to 1 dimension)\n",
    "        mean_last_hidden_state = torch.mean(last_hidden_states, dim=1)\n",
    "\n",
    "        # Pass the mean last hidden states through the fully connected layer (maps to size 8 embedding)\n",
    "        output = self.fc(mean_last_hidden_state)\n",
    "\n",
    "        return output\n",
    "\n",
    "\n",
    "\n",
    "# Overall model that combines the embeddings from the three modalities and produces 4 outputs\n",
    "# Separate fully connected layers for genre, popularity, danceability, and energy\n",
    "class OverallModel(nn.Module):\n",
    "    def __init__(self, num_modalities, num_genres):\n",
    "        super(OverallModel, self).__init__()\n",
    "        self.concatenated_output_size = 8 * num_modalities\n",
    "        self.fc1 = nn.Linear(self.concatenated_output_size, 64)\n",
    "        self.fc2_genre = nn.Linear(64, num_genres)\n",
    "        self.fc3_popularity = nn.Linear(64, 1)\n",
    "        self.fc4_danceability = nn.Linear(64, 1)\n",
    "        self.fc5_energy = nn.Linear(64, 1)\n",
    "\n",
    "    def forward(self, sound_embedding, spec_embedding, text_embedding):\n",
    "        concatenated_embedding = torch.cat((sound_embedding, spec_embedding, text_embedding), dim=1)\n",
    "\n",
    "        x = torch.relu(self.fc1(concatenated_embedding))\n",
    "        genre_output = torch.softmax(self.fc2_genre(x), dim=-1)\n",
    "        popularity_output = torch.sigmoid(self.fc3_popularity(x))\n",
    "        danceability_output = torch.sigmoid(self.fc4_danceability(x))\n",
    "        energy_output = torch.sigmoid(self.fc5_energy(x))\n",
    "        return genre_output, popularity_output, danceability_output, energy_output\n",
    "\n",
    "num_modalities = 3 \n",
    "num_genres = num_unique_genres\n",
    "\n",
    "sound_model = SoundModalityModel(num_columns_X_sound).to(device)\n",
    "spec_model = ImageModalityModel().to(device)\n",
    "text_model = TextModalityModel().to(device)\n",
    "\n",
    "overall_model = OverallModel(num_modalities, num_genres).to(device)\n",
    "\n",
    "\n",
    "# Create optimizers for each of our models (modality models as well as genre, popularity, danceability, energy)\n",
    "optimizer_sound = optim.Adam(sound_model.parameters())\n",
    "optimizer_spec = optim.Adam(spec_model.parameters())\n",
    "\n",
    "optimizer_genre = optim.Adam(overall_model.fc2_genre.parameters())\n",
    "optimizer_popularity = optim.Adam(overall_model.fc3_popularity.parameters())\n",
    "optimizer_danceability = optim.Adam(overall_model.fc4_danceability.parameters())\n",
    "optimizer_energy = optim.Adam(overall_model.fc5_energy.parameters())\n",
    "\n",
    "# Define the criteria\n",
    "criterion_genre = nn.CrossEntropyLoss()\n",
    "criterion_popularity = nn.BCELoss()\n",
    "criterion_danceability = nn.MSELoss()\n",
    "criterion_energy = nn.MSELoss()\n",
    "\n",
    "# Compile our datasets\n",
    "X_sound_train = torch.tensor(X_sound_train.values, dtype=torch.float32).to(device)\n",
    "X_spec_train = torch.tensor(X_image_spectogram_train, dtype=torch.float32).to(device)\n",
    "X_lyrics_train = X_lyrics_train.tolist()\n",
    "y_genre_train = torch.tensor(y_genre_train, dtype=torch.long).to(device)\n",
    "y_danceability_train = torch.tensor(y_danceability_train, dtype=torch.float32).to(device)\n",
    "y_popularity_train = torch.tensor(y_popularity_train, dtype=torch.float32).to(device)\n",
    "y_energy_train = torch.tensor(y_energy_train, dtype=torch.float32).to(device)\n",
    "\n",
    "# Define basic parameters before training\n",
    "num_epochs = 10\n",
    "batch_size = 32\n",
    "num_training_samples = 5006 * 0.8\n",
    "num_training_batches = int(num_training_samples // batch_size)\n",
    "\n",
    "num_test_samples = 5006 - num_training_samples\n",
    "num_testing_batches = int(num_test_samples // batch_size)\n",
    "\n",
    "losses_genre = []\n",
    "losses_popularity = []\n",
    "losses_danceability = []\n",
    "losses_energy = []\n",
    "\n",
    "# Training loop\n",
    "for epoch in range(num_epochs):\n",
    "    for batch in range(num_training_batches):\n",
    "        start = batch * batch_size\n",
    "        end = min(start + batch_size, num_training_samples)\n",
    "\n",
    "        # Get data for this batch\n",
    "        batch_X_sound = X_sound_train[start:end]\n",
    "        batch_X_spec = X_spec_train[start:end]\n",
    "        batch_X_spec = batch_X_spec.permute(0, 3, 1, 2)\n",
    "\n",
    "        batch_X_lyric = X_lyrics_train[start:end]\n",
    "\n",
    "        max_length = max([len(text_model.tokenizer.encode(text)) for text in batch_X_lyric])\n",
    "        tokenized_sequences = [text_model.tokenizer.encode(text, padding='max_length', max_length=text_model.tokenizer.model_max_length, truncation=True) for text in batch_X_lyric]\n",
    "\n",
    "        # Generate attention masks\n",
    "        attention_masks = [[1 if token != 0 else 0 for token in seq] for seq in tokenized_sequences]\n",
    "\n",
    "        # Convert tokenized sequences and attention masks to tensors and move to device\n",
    "        batch_X_lyric = torch.tensor(tokenized_sequences, dtype=torch.long).to(device)\n",
    "        attention_masks = torch.tensor(attention_masks, dtype=torch.long).to(device)\n",
    "\n",
    "        batch_y_genre = y_genre_train[start:end]\n",
    "        batch_y_popularity = y_popularity_train[start:end]\n",
    "        batch_y_danceability = y_danceability_train[start:end]\n",
    "        batch_y_energy = y_energy_train[start:end]\n",
    "\n",
    "\n",
    "        # Zero the gradients\n",
    "        optimizer_sound.zero_grad()\n",
    "        optimizer_spec.zero_grad()\n",
    "\n",
    "\n",
    "        optimizer_genre.zero_grad()\n",
    "        optimizer_popularity.zero_grad()\n",
    "        optimizer_danceability.zero_grad()\n",
    "        optimizer_energy.zero_grad()\n",
    "\n",
    "        # Retrieve the four outputs given our embeddings\n",
    "        sound_embedding = sound_model(batch_X_sound)\n",
    "        spec_embedding = spec_model(batch_X_spec)\n",
    "        text_embedding = text_model(batch_X_lyric, attention_masks)\n",
    "\n",
    "\n",
    "        genre_output, popularity_output, danceability_output, energy_output = overall_model(sound_embedding,\n",
    "                                                                        spec_embedding,\n",
    "                                                                        text_embedding)\n",
    "\n",
    "        genre_output = genre_output.to(device)\n",
    "        batch_y_genre = batch_y_genre.to(device)\n",
    "\n",
    "        loss_genre = criterion_genre(genre_output, batch_y_genre.long())\n",
    "        loss_popularity = criterion_popularity(popularity_output.view(-1), batch_y_popularity)\n",
    "        loss_danceability = criterion_danceability(danceability_output.view(-1), batch_y_danceability)\n",
    "        loss_energy = criterion_energy(energy_output.view(-1), batch_y_energy)\n",
    "\n",
    "        # Backpropagate through the genre, popularity, danceability, and energy layers using their respective losses\n",
    "        # We retain graph because we are using the computation graph for multiple backprops\n",
    "        loss_genre.backward(retain_graph=True)\n",
    "        optimizer_genre.step()\n",
    "\n",
    "        loss_popularity.backward(retain_graph=True)\n",
    "        optimizer_popularity.step()\n",
    "\n",
    "        loss_danceability.backward(retain_graph=True)\n",
    "        optimizer_danceability.step()\n",
    "\n",
    "        loss_energy.backward(retain_graph=True)\n",
    "        optimizer_energy.step()\n",
    "\n",
    "        # Backpropagate through the sound modality model using the total loss\n",
    "        optimizer_sound.step()\n",
    "        optimizer_spec.step()\n",
    "\n",
    "    losses_genre.append(loss_genre.item())\n",
    "    losses_popularity.append(loss_popularity.item())\n",
    "    losses_danceability.append(loss_danceability.item())\n",
    "    losses_energy.append(loss_energy.item())\n",
    "\n",
    "    print(\"Epoch \" + str(epoch+1))\n",
    "    print(\"Genre loss: \" + str(loss_genre.item()))\n",
    "    print(\"Popularity loss: \" + str(loss_popularity.item()))\n",
    "    print(\"Danceability loss: \" + str(loss_danceability.item()))\n",
    "    print(\"Energy loss: \" + str(loss_energy.item()))\n",
    "    print(\"\")"
   ]
  },
  {
   "cell_type": "code",
   "execution_count": 36,
   "metadata": {
    "colab": {
     "base_uri": "https://localhost:8080/",
     "height": 472
    },
    "id": "VGnVdfIFy1Hr",
    "outputId": "91b9bb5d-4a25-4a23-98bf-387564afb7c7"
   },
   "outputs": [
    {
     "data": {
      "image/png": "[encoded data removed]",
      "text/plain": [
       "<Figure size 640x480 with 1 Axes>"
      ]
     },
     "metadata": {},
     "output_type": "display_data"
    }
   ],
   "source": [
    "import matplotlib.pyplot as plt\n",
    "epochs = range(1, 11)\n",
    "\n",
    "plt.plot(epochs, losses_genre, label='Genre', color='blue')\n",
    "\n",
    "# Add labels and legend\n",
    "plt.xlabel('Epoch')\n",
    "plt.ylabel('Loss')\n",
    "plt.title('Training Loss')\n",
    "\n",
    "# Show the plot\n",
    "plt.show()"
   ]
  },
  {
   "cell_type": "code",
   "execution_count": 37,
   "metadata": {
    "colab": {
     "base_uri": "https://localhost:8080/",
     "height": 472
    },
    "id": "tlgYyLEry34X",
    "outputId": "2486a2e2-8663-49a1-a634-23858b5eb70d"
   },
   "outputs": [
    {
     "data": {
      "image/png": "[encoded data removed]",
      "text/plain": [
       "<Figure size 640x480 with 1 Axes>"
      ]
     },
     "metadata": {},
     "output_type": "display_data"
    }
   ],
   "source": [
    "import matplotlib.pyplot as plt\n",
    "epochs = range(1, 11)\n",
    "\n",
    "plt.plot(epochs, losses_danceability, label='Danceability', color='red')\n",
    "plt.plot(epochs, losses_energy, label='Energy', color='purple')\n",
    "\n",
    "# Add labels and legend\n",
    "plt.xlabel('Epoch')\n",
    "plt.ylabel('Loss')\n",
    "plt.title('Training Loss')\n",
    "plt.legend()\n",
    "\n",
    "# Show the plot\n",
    "plt.show()"
   ]
  },
  {
   "cell_type": "code",
   "execution_count": 38,
   "metadata": {
    "colab": {
     "base_uri": "https://localhost:8080/",
     "height": 472
    },
    "id": "DubLwia-ziEL",
    "outputId": "f157d4d0-13c4-4f09-adac-d0f398c6b2ec"
   },
   "outputs": [
    {
     "data": {
      "image/png": "[encoded data removed]",
      "text/plain": [
       "<Figure size 640x480 with 1 Axes>"
      ]
     },
     "metadata": {},
     "output_type": "display_data"
    }
   ],
   "source": [
    "import matplotlib.pyplot as plt\n",
    "epochs = range(1, 11)\n",
    "\n",
    "plt.plot(epochs, losses_popularity, label='Popularity', color='green')\n",
    "\n",
    "# Add labels and legend\n",
    "plt.xlabel('Epoch')\n",
    "plt.ylabel('Loss')\n",
    "plt.title('Training Loss')\n",
    "\n",
    "# Show the plot\n",
    "plt.show()"
   ]
  },
  {
   "cell_type": "markdown",
   "metadata": {
    "id": "nsRUQlJtLP2g"
   },
   "source": [
    "# Test loop"
   ]
  },
  {
   "cell_type": "code",
   "execution_count": 39,
   "metadata": {
    "id": "UFZQ6gllSkMo"
   },
   "outputs": [],
   "source": [
    "from sklearn.metrics import accuracy_score, precision_score, recall_score, f1_score\n"
   ]
  },
  {
   "cell_type": "code",
   "execution_count": 40,
   "metadata": {
    "colab": {
     "base_uri": "https://localhost:8080/"
    },
    "id": "l22zyu2vLQoc",
    "outputId": "ca9697d0-4374-44b7-955c-8373e6607c69"
   },
   "outputs": [
    {
     "name": "stderr",
     "output_type": "stream",
     "text": [
      "/usr/local/lib/python3.10/dist-packages/sklearn/metrics/_classification.py:1344: UndefinedMetricWarning: Recall is ill-defined and being set to 0.0 in labels with no true samples. Use `zero_division` parameter to control this behavior.\n",
      "  _warn_prf(average, modifier, msg_start, len(result))\n",
      "/usr/local/lib/python3.10/dist-packages/sklearn/metrics/_classification.py:1344: UndefinedMetricWarning: Recall is ill-defined and being set to 0.0 in labels with no true samples. Use `zero_division` parameter to control this behavior.\n",
      "  _warn_prf(average, modifier, msg_start, len(result))\n",
      "/usr/local/lib/python3.10/dist-packages/sklearn/metrics/_classification.py:1344: UndefinedMetricWarning: Recall is ill-defined and being set to 0.0 in labels with no true samples. Use `zero_division` parameter to control this behavior.\n",
      "  _warn_prf(average, modifier, msg_start, len(result))\n",
      "/usr/local/lib/python3.10/dist-packages/sklearn/metrics/_classification.py:1344: UndefinedMetricWarning: Recall is ill-defined and being set to 0.0 in labels with no true samples. Use `zero_division` parameter to control this behavior.\n",
      "  _warn_prf(average, modifier, msg_start, len(result))\n",
      "/usr/local/lib/python3.10/dist-packages/sklearn/metrics/_classification.py:1344: UndefinedMetricWarning: Recall is ill-defined and being set to 0.0 in labels with no true samples. Use `zero_division` parameter to control this behavior.\n",
      "  _warn_prf(average, modifier, msg_start, len(result))\n",
      "/usr/local/lib/python3.10/dist-packages/sklearn/metrics/_classification.py:1344: UndefinedMetricWarning: Recall is ill-defined and being set to 0.0 in labels with no true samples. Use `zero_division` parameter to control this behavior.\n",
      "  _warn_prf(average, modifier, msg_start, len(result))\n",
      "/usr/local/lib/python3.10/dist-packages/sklearn/metrics/_classification.py:1344: UndefinedMetricWarning: Recall is ill-defined and being set to 0.0 in labels with no true samples. Use `zero_division` parameter to control this behavior.\n",
      "  _warn_prf(average, modifier, msg_start, len(result))\n",
      "/usr/local/lib/python3.10/dist-packages/sklearn/metrics/_classification.py:1344: UndefinedMetricWarning: Recall is ill-defined and being set to 0.0 in labels with no true samples. Use `zero_division` parameter to control this behavior.\n",
      "  _warn_prf(average, modifier, msg_start, len(result))\n",
      "/usr/local/lib/python3.10/dist-packages/sklearn/metrics/_classification.py:1344: UndefinedMetricWarning: Recall is ill-defined and being set to 0.0 in labels with no true samples. Use `zero_division` parameter to control this behavior.\n",
      "  _warn_prf(average, modifier, msg_start, len(result))\n",
      "/usr/local/lib/python3.10/dist-packages/sklearn/metrics/_classification.py:1344: UndefinedMetricWarning: Recall is ill-defined and being set to 0.0 in labels with no true samples. Use `zero_division` parameter to control this behavior.\n",
      "  _warn_prf(average, modifier, msg_start, len(result))\n",
      "/usr/local/lib/python3.10/dist-packages/sklearn/metrics/_classification.py:1344: UndefinedMetricWarning: Recall is ill-defined and being set to 0.0 in labels with no true samples. Use `zero_division` parameter to control this behavior.\n",
      "  _warn_prf(average, modifier, msg_start, len(result))\n",
      "/usr/local/lib/python3.10/dist-packages/sklearn/metrics/_classification.py:1344: UndefinedMetricWarning: Recall is ill-defined and being set to 0.0 in labels with no true samples. Use `zero_division` parameter to control this behavior.\n",
      "  _warn_prf(average, modifier, msg_start, len(result))\n",
      "/usr/local/lib/python3.10/dist-packages/sklearn/metrics/_classification.py:1344: UndefinedMetricWarning: Recall is ill-defined and being set to 0.0 in labels with no true samples. Use `zero_division` parameter to control this behavior.\n",
      "  _warn_prf(average, modifier, msg_start, len(result))\n",
      "/usr/local/lib/python3.10/dist-packages/sklearn/metrics/_classification.py:1344: UndefinedMetricWarning: Recall is ill-defined and being set to 0.0 in labels with no true samples. Use `zero_division` parameter to control this behavior.\n",
      "  _warn_prf(average, modifier, msg_start, len(result))\n",
      "/usr/local/lib/python3.10/dist-packages/sklearn/metrics/_classification.py:1344: UndefinedMetricWarning: Recall is ill-defined and being set to 0.0 in labels with no true samples. Use `zero_division` parameter to control this behavior.\n",
      "  _warn_prf(average, modifier, msg_start, len(result))\n",
      "/usr/local/lib/python3.10/dist-packages/sklearn/metrics/_classification.py:1344: UndefinedMetricWarning: Recall is ill-defined and being set to 0.0 in labels with no true samples. Use `zero_division` parameter to control this behavior.\n",
      "  _warn_prf(average, modifier, msg_start, len(result))\n",
      "/usr/local/lib/python3.10/dist-packages/sklearn/metrics/_classification.py:1344: UndefinedMetricWarning: Recall is ill-defined and being set to 0.0 in labels with no true samples. Use `zero_division` parameter to control this behavior.\n",
      "  _warn_prf(average, modifier, msg_start, len(result))\n",
      "/usr/local/lib/python3.10/dist-packages/sklearn/metrics/_classification.py:1344: UndefinedMetricWarning: Recall is ill-defined and being set to 0.0 in labels with no true samples. Use `zero_division` parameter to control this behavior.\n",
      "  _warn_prf(average, modifier, msg_start, len(result))\n",
      "/usr/local/lib/python3.10/dist-packages/sklearn/metrics/_classification.py:1344: UndefinedMetricWarning: Recall is ill-defined and being set to 0.0 in labels with no true samples. Use `zero_division` parameter to control this behavior.\n",
      "  _warn_prf(average, modifier, msg_start, len(result))\n",
      "/usr/local/lib/python3.10/dist-packages/sklearn/metrics/_classification.py:1344: UndefinedMetricWarning: Recall is ill-defined and being set to 0.0 in labels with no true samples. Use `zero_division` parameter to control this behavior.\n",
      "  _warn_prf(average, modifier, msg_start, len(result))\n",
      "/usr/local/lib/python3.10/dist-packages/sklearn/metrics/_classification.py:1344: UndefinedMetricWarning: Recall is ill-defined and being set to 0.0 in labels with no true samples. Use `zero_division` parameter to control this behavior.\n",
      "  _warn_prf(average, modifier, msg_start, len(result))\n",
      "/usr/local/lib/python3.10/dist-packages/sklearn/metrics/_classification.py:1344: UndefinedMetricWarning: Recall is ill-defined and being set to 0.0 in labels with no true samples. Use `zero_division` parameter to control this behavior.\n",
      "  _warn_prf(average, modifier, msg_start, len(result))\n",
      "/usr/local/lib/python3.10/dist-packages/sklearn/metrics/_classification.py:1344: UndefinedMetricWarning: Recall is ill-defined and being set to 0.0 in labels with no true samples. Use `zero_division` parameter to control this behavior.\n",
      "  _warn_prf(average, modifier, msg_start, len(result))\n",
      "/usr/local/lib/python3.10/dist-packages/sklearn/metrics/_classification.py:1344: UndefinedMetricWarning: Recall is ill-defined and being set to 0.0 in labels with no true samples. Use `zero_division` parameter to control this behavior.\n",
      "  _warn_prf(average, modifier, msg_start, len(result))\n",
      "/usr/local/lib/python3.10/dist-packages/sklearn/metrics/_classification.py:1344: UndefinedMetricWarning: Recall is ill-defined and being set to 0.0 in labels with no true samples. Use `zero_division` parameter to control this behavior.\n",
      "  _warn_prf(average, modifier, msg_start, len(result))\n",
      "/usr/local/lib/python3.10/dist-packages/sklearn/metrics/_classification.py:1344: UndefinedMetricWarning: Recall is ill-defined and being set to 0.0 in labels with no true samples. Use `zero_division` parameter to control this behavior.\n",
      "  _warn_prf(average, modifier, msg_start, len(result))\n",
      "/usr/local/lib/python3.10/dist-packages/sklearn/metrics/_classification.py:1344: UndefinedMetricWarning: Recall is ill-defined and being set to 0.0 in labels with no true samples. Use `zero_division` parameter to control this behavior.\n",
      "  _warn_prf(average, modifier, msg_start, len(result))\n",
      "/usr/local/lib/python3.10/dist-packages/sklearn/metrics/_classification.py:1344: UndefinedMetricWarning: Recall is ill-defined and being set to 0.0 in labels with no true samples. Use `zero_division` parameter to control this behavior.\n",
      "  _warn_prf(average, modifier, msg_start, len(result))\n",
      "/usr/local/lib/python3.10/dist-packages/sklearn/metrics/_classification.py:1344: UndefinedMetricWarning: Recall is ill-defined and being set to 0.0 in labels with no true samples. Use `zero_division` parameter to control this behavior.\n",
      "  _warn_prf(average, modifier, msg_start, len(result))\n",
      "/usr/local/lib/python3.10/dist-packages/sklearn/metrics/_classification.py:1344: UndefinedMetricWarning: Recall is ill-defined and being set to 0.0 in labels with no true samples. Use `zero_division` parameter to control this behavior.\n",
      "  _warn_prf(average, modifier, msg_start, len(result))\n",
      "/usr/local/lib/python3.10/dist-packages/sklearn/metrics/_classification.py:1344: UndefinedMetricWarning: Recall is ill-defined and being set to 0.0 in labels with no true samples. Use `zero_division` parameter to control this behavior.\n",
      "  _warn_prf(average, modifier, msg_start, len(result))\n",
      "/usr/local/lib/python3.10/dist-packages/sklearn/metrics/_classification.py:1344: UndefinedMetricWarning: Recall is ill-defined and being set to 0.0 in labels with no true samples. Use `zero_division` parameter to control this behavior.\n",
      "  _warn_prf(average, modifier, msg_start, len(result))\n",
      "/usr/local/lib/python3.10/dist-packages/sklearn/metrics/_classification.py:1344: UndefinedMetricWarning: Recall is ill-defined and being set to 0.0 in labels with no true samples. Use `zero_division` parameter to control this behavior.\n",
      "  _warn_prf(average, modifier, msg_start, len(result))\n",
      "/usr/local/lib/python3.10/dist-packages/sklearn/metrics/_classification.py:1344: UndefinedMetricWarning: Recall is ill-defined and being set to 0.0 in labels with no true samples. Use `zero_division` parameter to control this behavior.\n",
      "  _warn_prf(average, modifier, msg_start, len(result))\n",
      "/usr/local/lib/python3.10/dist-packages/sklearn/metrics/_classification.py:1344: UndefinedMetricWarning: Recall is ill-defined and being set to 0.0 in labels with no true samples. Use `zero_division` parameter to control this behavior.\n",
      "  _warn_prf(average, modifier, msg_start, len(result))\n",
      "/usr/local/lib/python3.10/dist-packages/sklearn/metrics/_classification.py:1344: UndefinedMetricWarning: Recall is ill-defined and being set to 0.0 in labels with no true samples. Use `zero_division` parameter to control this behavior.\n",
      "  _warn_prf(average, modifier, msg_start, len(result))\n",
      "/usr/local/lib/python3.10/dist-packages/sklearn/metrics/_classification.py:1344: UndefinedMetricWarning: Recall is ill-defined and being set to 0.0 in labels with no true samples. Use `zero_division` parameter to control this behavior.\n",
      "  _warn_prf(average, modifier, msg_start, len(result))\n",
      "/usr/local/lib/python3.10/dist-packages/sklearn/metrics/_classification.py:1344: UndefinedMetricWarning: Recall is ill-defined and being set to 0.0 in labels with no true samples. Use `zero_division` parameter to control this behavior.\n",
      "  _warn_prf(average, modifier, msg_start, len(result))\n",
      "/usr/local/lib/python3.10/dist-packages/sklearn/metrics/_classification.py:1344: UndefinedMetricWarning: Recall is ill-defined and being set to 0.0 in labels with no true samples. Use `zero_division` parameter to control this behavior.\n",
      "  _warn_prf(average, modifier, msg_start, len(result))\n",
      "/usr/local/lib/python3.10/dist-packages/sklearn/metrics/_classification.py:1344: UndefinedMetricWarning: Recall is ill-defined and being set to 0.0 in labels with no true samples. Use `zero_division` parameter to control this behavior.\n",
      "  _warn_prf(average, modifier, msg_start, len(result))\n",
      "/usr/local/lib/python3.10/dist-packages/sklearn/metrics/_classification.py:1344: UndefinedMetricWarning: Recall is ill-defined and being set to 0.0 in labels with no true samples. Use `zero_division` parameter to control this behavior.\n",
      "  _warn_prf(average, modifier, msg_start, len(result))\n",
      "/usr/local/lib/python3.10/dist-packages/sklearn/metrics/_classification.py:1344: UndefinedMetricWarning: Recall is ill-defined and being set to 0.0 in labels with no true samples. Use `zero_division` parameter to control this behavior.\n",
      "  _warn_prf(average, modifier, msg_start, len(result))\n",
      "/usr/local/lib/python3.10/dist-packages/sklearn/metrics/_classification.py:1344: UndefinedMetricWarning: Recall is ill-defined and being set to 0.0 in labels with no true samples. Use `zero_division` parameter to control this behavior.\n",
      "  _warn_prf(average, modifier, msg_start, len(result))\n",
      "/usr/local/lib/python3.10/dist-packages/sklearn/metrics/_classification.py:1344: UndefinedMetricWarning: Recall is ill-defined and being set to 0.0 in labels with no true samples. Use `zero_division` parameter to control this behavior.\n",
      "  _warn_prf(average, modifier, msg_start, len(result))\n",
      "/usr/local/lib/python3.10/dist-packages/sklearn/metrics/_classification.py:1344: UndefinedMetricWarning: Recall is ill-defined and being set to 0.0 in labels with no true samples. Use `zero_division` parameter to control this behavior.\n",
      "  _warn_prf(average, modifier, msg_start, len(result))\n",
      "/usr/local/lib/python3.10/dist-packages/sklearn/metrics/_classification.py:1344: UndefinedMetricWarning: Recall is ill-defined and being set to 0.0 in labels with no true samples. Use `zero_division` parameter to control this behavior.\n",
      "  _warn_prf(average, modifier, msg_start, len(result))\n",
      "/usr/local/lib/python3.10/dist-packages/sklearn/metrics/_classification.py:1344: UndefinedMetricWarning: Recall is ill-defined and being set to 0.0 in labels with no true samples. Use `zero_division` parameter to control this behavior.\n",
      "  _warn_prf(average, modifier, msg_start, len(result))\n",
      "/usr/local/lib/python3.10/dist-packages/sklearn/metrics/_classification.py:1344: UndefinedMetricWarning: Recall is ill-defined and being set to 0.0 in labels with no true samples. Use `zero_division` parameter to control this behavior.\n",
      "  _warn_prf(average, modifier, msg_start, len(result))\n",
      "/usr/local/lib/python3.10/dist-packages/sklearn/metrics/_classification.py:1344: UndefinedMetricWarning: Recall is ill-defined and being set to 0.0 in labels with no true samples. Use `zero_division` parameter to control this behavior.\n",
      "  _warn_prf(average, modifier, msg_start, len(result))\n",
      "/usr/local/lib/python3.10/dist-packages/sklearn/metrics/_classification.py:1344: UndefinedMetricWarning: Recall is ill-defined and being set to 0.0 in labels with no true samples. Use `zero_division` parameter to control this behavior.\n",
      "  _warn_prf(average, modifier, msg_start, len(result))\n",
      "/usr/local/lib/python3.10/dist-packages/sklearn/metrics/_classification.py:1344: UndefinedMetricWarning: Recall is ill-defined and being set to 0.0 in labels with no true samples. Use `zero_division` parameter to control this behavior.\n",
      "  _warn_prf(average, modifier, msg_start, len(result))\n",
      "/usr/local/lib/python3.10/dist-packages/sklearn/metrics/_classification.py:1344: UndefinedMetricWarning: Recall is ill-defined and being set to 0.0 in labels with no true samples. Use `zero_division` parameter to control this behavior.\n",
      "  _warn_prf(average, modifier, msg_start, len(result))\n",
      "/usr/local/lib/python3.10/dist-packages/sklearn/metrics/_classification.py:1344: UndefinedMetricWarning: Recall is ill-defined and being set to 0.0 in labels with no true samples. Use `zero_division` parameter to control this behavior.\n",
      "  _warn_prf(average, modifier, msg_start, len(result))\n",
      "/usr/local/lib/python3.10/dist-packages/sklearn/metrics/_classification.py:1344: UndefinedMetricWarning: Recall is ill-defined and being set to 0.0 in labels with no true samples. Use `zero_division` parameter to control this behavior.\n",
      "  _warn_prf(average, modifier, msg_start, len(result))\n",
      "/usr/local/lib/python3.10/dist-packages/sklearn/metrics/_classification.py:1344: UndefinedMetricWarning: Recall is ill-defined and being set to 0.0 in labels with no true samples. Use `zero_division` parameter to control this behavior.\n",
      "  _warn_prf(average, modifier, msg_start, len(result))\n",
      "/usr/local/lib/python3.10/dist-packages/sklearn/metrics/_classification.py:1344: UndefinedMetricWarning: Recall is ill-defined and being set to 0.0 in labels with no true samples. Use `zero_division` parameter to control this behavior.\n",
      "  _warn_prf(average, modifier, msg_start, len(result))\n",
      "/usr/local/lib/python3.10/dist-packages/sklearn/metrics/_classification.py:1344: UndefinedMetricWarning: Recall is ill-defined and being set to 0.0 in labels with no true samples. Use `zero_division` parameter to control this behavior.\n",
      "  _warn_prf(average, modifier, msg_start, len(result))\n",
      "/usr/local/lib/python3.10/dist-packages/sklearn/metrics/_classification.py:1344: UndefinedMetricWarning: Recall is ill-defined and being set to 0.0 in labels with no true samples. Use `zero_division` parameter to control this behavior.\n",
      "  _warn_prf(average, modifier, msg_start, len(result))\n",
      "/usr/local/lib/python3.10/dist-packages/sklearn/metrics/_classification.py:1344: UndefinedMetricWarning: Recall is ill-defined and being set to 0.0 in labels with no true samples. Use `zero_division` parameter to control this behavior.\n",
      "  _warn_prf(average, modifier, msg_start, len(result))\n",
      "/usr/local/lib/python3.10/dist-packages/sklearn/metrics/_classification.py:1344: UndefinedMetricWarning: Recall is ill-defined and being set to 0.0 in labels with no true samples. Use `zero_division` parameter to control this behavior.\n",
      "  _warn_prf(average, modifier, msg_start, len(result))\n"
     ]
    },
    {
     "name": "stdout",
     "output_type": "stream",
     "text": [
      "Evaluation Results:\n",
      "Average Genre loss: 1.6956\n",
      "Average Popularity loss: 0.6036\n",
      "Average Danceability loss: 0.0214\n",
      "Average Energy loss: 0.0278\n",
      " \n",
      "Average Accuracy Popularity: 0.5121\n",
      "Average Precision Popularity: 0.5000\n",
      "Average Recall Popularity: 0.2560\n",
      "Average F1 Popularity: 0.3364\n",
      " \n",
      "Average Accuracy Genre: 0.4677\n",
      "Average Precision Genre: 0.2756\n",
      "Average Recall Genre: 0.2247\n",
      "Average F1 Genre: 0.2382\n"
     ]
    },
    {
     "name": "stderr",
     "output_type": "stream",
     "text": [
      "/usr/local/lib/python3.10/dist-packages/sklearn/metrics/_classification.py:1344: UndefinedMetricWarning: Recall is ill-defined and being set to 0.0 in labels with no true samples. Use `zero_division` parameter to control this behavior.\n",
      "  _warn_prf(average, modifier, msg_start, len(result))\n",
      "/usr/local/lib/python3.10/dist-packages/sklearn/metrics/_classification.py:1344: UndefinedMetricWarning: Recall is ill-defined and being set to 0.0 in labels with no true samples. Use `zero_division` parameter to control this behavior.\n",
      "  _warn_prf(average, modifier, msg_start, len(result))\n"
     ]
    }
   ],
   "source": [
    "import pandas as pd\n",
    "\n",
    "# Create empty lists to store the outputs\n",
    "all_genre_outputs = []\n",
    "all_popularity_outputs = []\n",
    "all_danceability_outputs = []\n",
    "all_energy_outputs = []\n",
    "\n",
    "X_sound_test = torch.tensor(X_sound_test.values, dtype=torch.float32).to(device)\n",
    "X_spec_test = torch.tensor(X_image_spectogram_test, dtype=torch.float32).to(device)\n",
    "# X_album_test = torch.tensor(X_image_album_test, dtype=torch.float32).to(device)\n",
    "X_lyrics_test = X_lyrics_test.tolist()\n",
    "y_genre_test = torch.tensor(y_genre_test, dtype=torch.long).to(device)\n",
    "y_danceability_test = torch.tensor(y_danceability_test, dtype=torch.float32).to(device)\n",
    "y_popularity_test = torch.tensor(y_popularity_test, dtype=torch.float32).to(device)\n",
    "y_energy_test = torch.tensor(y_energy_test, dtype=torch.float32).to(device)\n",
    "\n",
    "# Evaluation loop\n",
    "with torch.no_grad():  # Disable gradient calculation\n",
    "    overall_model.eval()  # Set the model to evaluation mode\n",
    "    total_loss_genre = 0\n",
    "    total_loss_popularity = 0\n",
    "    total_loss_danceability = 0\n",
    "    total_loss_energy = 0\n",
    "    num_batches = 0\n",
    "\n",
    "    total_accuracy_genre = 0\n",
    "    total_precision_genre = 0\n",
    "    total_recall_genre = 0\n",
    "    total_f1_genre = 0\n",
    "\n",
    "\n",
    "    total_accuracy_pop = 0\n",
    "    total_precision_pop = 0\n",
    "    total_recall_pop =0\n",
    "    total_f1_pop =0\n",
    "\n",
    "    for batch in range(num_testing_batches):\n",
    "        start = batch * batch_size\n",
    "        end = min(start + batch_size, num_test_samples)\n",
    "\n",
    "        # Get data for this batch\n",
    "        batch_X_sound = X_sound_test[start:end]\n",
    "        # batch_X_album = X_album_test[start:end]\n",
    "        batch_X_spec = X_spec_test[start:end]\n",
    "        batch_X_spec = batch_X_spec.permute(0, 3, 1, 2)\n",
    "\n",
    "        batch_X_lyric = X_lyrics_test[start:end]\n",
    "\n",
    "        max_length = max([len(text_model.tokenizer.encode(text)) for text in batch_X_lyric])\n",
    "        tokenized_sequences = [text_model.tokenizer.encode(text, padding='max_length', max_length=text_model.tokenizer.model_max_length, truncation=True) for text in batch_X_lyric]\n",
    "\n",
    "        # Generate attention masks\n",
    "        attention_masks = [[1 if token != 0 else 0 for token in seq] for seq in tokenized_sequences]\n",
    "\n",
    "        # Convert tokenized sequences and attention masks to tensors and move to device\n",
    "        batch_X_lyric = torch.tensor(tokenized_sequences, dtype=torch.long).to(device)\n",
    "        attention_masks = torch.tensor(attention_masks, dtype=torch.long).to(device)\n",
    "\n",
    "        batch_y_genre = y_genre_test[start:end]\n",
    "        batch_y_popularity = y_popularity_test[start:end]\n",
    "        batch_y_danceability = y_danceability_test[start:end]\n",
    "        batch_y_energy = y_energy_test[start:end]\n",
    "\n",
    "        # Forward pass\n",
    "        sound_embedding = sound_model(batch_X_sound)\n",
    "        # album_embedding = album_model(batch_X_album)\n",
    "        spec_embedding = spec_model(batch_X_spec)\n",
    "        text_embedding = text_model(batch_X_lyric, attention_masks)\n",
    "\n",
    "        genre_output, popularity_output, danceability_output, energy_output = overall_model(sound_embedding,\n",
    "                                                                                            # album_embedding\n",
    "                                                                                            spec_embedding,\n",
    "                                                                                            text_embedding)\n",
    "\n",
    "\n",
    "\n",
    "        # Calculate loss\n",
    "        loss_genre = criterion_genre(genre_output, batch_y_genre.long())\n",
    "        loss_popularity = criterion_popularity(popularity_output.view(-1), batch_y_popularity)\n",
    "        loss_danceability = criterion_danceability(danceability_output.view(-1), batch_y_danceability)\n",
    "        loss_energy = criterion_energy(energy_output.view(-1), batch_y_energy)\n",
    "\n",
    "        total_loss_genre += loss_genre.item()\n",
    "        total_loss_popularity += loss_popularity.item()\n",
    "        total_loss_danceability += loss_danceability.item()\n",
    "        total_loss_energy += loss_energy.item()\n",
    "\n",
    "\n",
    "        # Calculating predicted genre label and popularity\n",
    "        _, preds_genre  = torch.max(genre_output, 1)\n",
    "        total_accuracy_genre += accuracy_score(preds_genre.cpu(), batch_y_genre.long().cpu())\n",
    "        total_precision_genre += precision_score(preds_genre.cpu(), batch_y_genre.long().cpu(), average = 'macro')\n",
    "        total_recall_genre += recall_score(preds_genre.cpu(), batch_y_genre.long().cpu(), average = 'macro')\n",
    "        total_f1_genre += f1_score(preds_genre.cpu(), batch_y_genre.long().cpu(), average = 'macro')\n",
    "\n",
    "        _, preds_pop = torch.max(popularity_output, 1)\n",
    "        total_accuracy_pop += accuracy_score(preds_pop.cpu(), batch_y_popularity.cpu())\n",
    "        total_precision_pop += precision_score(preds_pop.cpu(), batch_y_popularity.cpu(), average = 'macro')\n",
    "        total_recall_pop += recall_score(preds_pop.cpu(), batch_y_popularity.cpu(), average = 'macro')\n",
    "        total_f1_pop += f1_score(preds_pop.cpu(), batch_y_popularity.cpu(), average = 'macro')\n",
    "\n",
    "        # Save the outputs to lists\n",
    "        all_genre_outputs.extend(preds_genre.cpu().numpy())\n",
    "        all_popularity_outputs.extend(preds_pop.cpu().numpy())\n",
    "        all_danceability_outputs.extend(danceability_output.cpu().numpy())\n",
    "        all_energy_outputs.extend(energy_output.cpu().numpy())\n",
    "\n",
    "        num_batches += 1\n",
    "\n",
    "    # Calculate average loss\n",
    "    avg_loss_genre = total_loss_genre / num_batches\n",
    "    avg_loss_popularity = total_loss_popularity / num_batches\n",
    "    avg_loss_danceability = total_loss_danceability / num_batches\n",
    "    avg_loss_energy = total_loss_energy / num_batches\n",
    "\n",
    "    avg_acc_genre = total_accuracy_genre / num_batches\n",
    "    avg_precision_genre = total_precision_genre / num_batches\n",
    "    avg_recall_genre = total_recall_genre / num_batches\n",
    "    avg_f1_genre = total_f1_genre / num_batches\n",
    "\n",
    "    avg_acc_pop = total_accuracy_pop / num_batches\n",
    "    avg_precision_pop = total_precision_pop / num_batches\n",
    "    avg_recall_pop = total_recall_pop / num_batches\n",
    "    avg_f1_pop = total_f1_pop / num_batches\n",
    "\n",
    "    # Calculate the average accuracy, recall, precision and F1 score for genre & popularity\n",
    "\n",
    "\n",
    "    print(\"Evaluation Results:\")\n",
    "    print(\"Average Genre loss: {:.4f}\".format(avg_loss_genre))\n",
    "    print(\"Average Popularity loss: {:.4f}\".format(avg_loss_popularity))\n",
    "    print(\"Average Danceability loss: {:.4f}\".format(avg_loss_danceability))\n",
    "    print(\"Average Energy loss: {:.4f}\".format(avg_loss_energy))\n",
    "\n",
    "    print(\" \")\n",
    "    print(\"Average Accuracy Popularity: {:.4f}\".format(avg_acc_pop))\n",
    "    print(\"Average Precision Popularity: {:.4f}\".format(avg_precision_pop))\n",
    "    print(\"Average Recall Popularity: {:.4f}\".format(avg_recall_pop))\n",
    "    print(\"Average F1 Popularity: {:.4f}\".format(avg_f1_pop))\n",
    "\n",
    "    print(\" \")\n",
    "    print(\"Average Accuracy Genre: {:.4f}\".format(avg_acc_genre))\n",
    "    print(\"Average Precision Genre: {:.4f}\".format(avg_precision_genre))\n",
    "    print(\"Average Recall Genre: {:.4f}\".format(avg_recall_genre))\n",
    "    print(\"Average F1 Genre: {:.4f}\".format(avg_f1_genre))\n",
    "\n"
   ]
  },
  {
   "cell_type": "code",
   "execution_count": null,
   "metadata": {
    "id": "Zo_MnLagU6a7"
   },
   "outputs": [],
   "source": [
    "# Create a DataFrame to store the outputs\n",
    "\n",
    "results_df = pd.DataFrame({\n",
    "    'song_name' : y['file'][test_indices[0:len(all_genre_outputs)]],\n",
    "    'genre_output': all_genre_outputs,\n",
    "    'popularity_output': all_popularity_outputs,\n",
    "    'danceability_output': all_danceability_outputs,\n",
    "    'energy_output': all_energy_outputs\n",
    "})"
   ]
  },
  {
   "cell_type": "code",
   "execution_count": null,
   "metadata": {
    "id": "-yRM1KHrLyyO"
   },
   "outputs": [],
   "source": [
    "results_df.head()"
   ]
  },
  {
   "cell_type": "code",
   "execution_count": 43,
   "metadata": {
    "id": "fCJ_xzjmL4c7"
   },
   "outputs": [],
   "source": [
    "results_df.to_csv('data.csv', index=False)  # Set index=False to exclude row numbers\n"
   ]
  },
  {
   "cell_type": "code",
   "execution_count": null,
   "metadata": {
    "id": "04zHKPqTYXy1"
   },
   "outputs": [],
   "source": []
  }
 ],
 "metadata": {
  "accelerator": "GPU",
  "colab": {
   "gpuType": "T4",
   "provenance": []
  },
  "kernelspec": {
   "display_name": "Python 3 (ipykernel)",
   "language": "python",
   "name": "python3"
  },
  "language_info": {
   "codemirror_mode": {
    "name": "ipython",
    "version": 3
   },
   "file_extension": ".py",
   "mimetype": "text/x-python",
   "name": "python",
   "nbconvert_exporter": "python",
   "pygments_lexer": "ipython3",
   "version": "3.11.5"
  },
  "widgets": {
   "application/vnd.jupyter.widget-state+json": {
    "0080f4b7f0d84eb48ddf184793b5f7cb": {
     "model_module": "@jupyter-widgets/controls",
     "model_module_version": "1.5.0",
     "model_name": "HTMLModel",
     "state": {
      "_dom_classes": [],
      "_model_module": "@jupyter-widgets/controls",
      "_model_module_version": "1.5.0",
      "_model_name": "HTMLModel",
      "_view_count": null,
      "_view_module": "@jupyter-widgets/controls",
      "_view_module_version": "1.5.0",
      "_view_name": "HTMLView",
      "description": "",
      "description_tooltip": null,
      "layout": "IPY_MODEL_449962f05af04ca7985529c06ef7c60c",
      "placeholder": "​",
      "style": "IPY_MODEL_f100dc063d3141f39cfc224eb340a3c2",
      "value": " 232k/232k [00:00&lt;00:00, 3.32MB/s]"
     }
    },
    "03f5c68729c24bedac6d99c6b5798993": {
     "model_module": "@jupyter-widgets/base",
     "model_module_version": "1.2.0",
     "model_name": "LayoutModel",
     "state": {
      "_model_module": "@jupyter-widgets/base",
      "_model_module_version": "1.2.0",
      "_model_name": "LayoutModel",
      "_view_count": null,
      "_view_module": "@jupyter-widgets/base",
      "_view_module_version": "1.2.0",
      "_view_name": "LayoutView",
      "align_content": null,
      "align_items": null,
      "align_self": null,
      "border": null,
      "bottom": null,
      "display": null,
      "flex": null,
      "flex_flow": null,
      "grid_area": null,
      "grid_auto_columns": null,
      "grid_auto_flow": null,
      "grid_auto_rows": null,
      "grid_column": null,
      "grid_gap": null,
      "grid_row": null,
      "grid_template_areas": null,
      "grid_template_columns": null,
      "grid_template_rows": null,
      "height": null,
      "justify_content": null,
      "justify_items": null,
      "left": null,
      "margin": null,
      "max_height": null,
      "max_width": null,
      "min_height": null,
      "min_width": null,
      "object_fit": null,
      "object_position": null,
      "order": null,
      "overflow": null,
      "overflow_x": null,
      "overflow_y": null,
      "padding": null,
      "right": null,
      "top": null,
      "visibility": null,
      "width": null
     }
    },
    "09afec5de32c40c3a298580433424a80": {
     "model_module": "@jupyter-widgets/controls",
     "model_module_version": "1.5.0",
     "model_name": "DescriptionStyleModel",
     "state": {
      "_model_module": "@jupyter-widgets/controls",
      "_model_module_version": "1.5.0",
      "_model_name": "DescriptionStyleModel",
      "_view_count": null,
      "_view_module": "@jupyter-widgets/base",
      "_view_module_version": "1.2.0",
      "_view_name": "StyleView",
      "description_width": ""
     }
    },
    "09bf5bbcabf14a5ab12239ac543b9e02": {
     "model_module": "@jupyter-widgets/base",
     "model_module_version": "1.2.0",
     "model_name": "LayoutModel",
     "state": {
      "_model_module": "@jupyter-widgets/base",
      "_model_module_version": "1.2.0",
      "_model_name": "LayoutModel",
      "_view_count": null,
      "_view_module": "@jupyter-widgets/base",
      "_view_module_version": "1.2.0",
      "_view_name": "LayoutView",
      "align_content": null,
      "align_items": null,
      "align_self": null,
      "border": null,
      "bottom": null,
      "display": null,
      "flex": null,
      "flex_flow": null,
      "grid_area": null,
      "grid_auto_columns": null,
      "grid_auto_flow": null,
      "grid_auto_rows": null,
      "grid_column": null,
      "grid_gap": null,
      "grid_row": null,
      "grid_template_areas": null,
      "grid_template_columns": null,
      "grid_template_rows": null,
      "height": null,
      "justify_content": null,
      "justify_items": null,
      "left": null,
      "margin": null,
      "max_height": null,
      "max_width": null,
      "min_height": null,
      "min_width": null,
      "object_fit": null,
      "object_position": null,
      "order": null,
      "overflow": null,
      "overflow_x": null,
      "overflow_y": null,
      "padding": null,
      "right": null,
      "top": null,
      "visibility": null,
      "width": null
     }
    },
    "0eb189af603647fab1ff42970202bf8e": {
     "model_module": "@jupyter-widgets/base",
     "model_module_version": "1.2.0",
     "model_name": "LayoutModel",
     "state": {
      "_model_module": "@jupyter-widgets/base",
      "_model_module_version": "1.2.0",
      "_model_name": "LayoutModel",
      "_view_count": null,
      "_view_module": "@jupyter-widgets/base",
      "_view_module_version": "1.2.0",
      "_view_name": "LayoutView",
      "align_content": null,
      "align_items": null,
      "align_self": null,
      "border": null,
      "bottom": null,
      "display": null,
      "flex": null,
      "flex_flow": null,
      "grid_area": null,
      "grid_auto_columns": null,
      "grid_auto_flow": null,
      "grid_auto_rows": null,
      "grid_column": null,
      "grid_gap": null,
      "grid_row": null,
      "grid_template_areas": null,
      "grid_template_columns": null,
      "grid_template_rows": null,
      "height": null,
      "justify_content": null,
      "justify_items": null,
      "left": null,
      "margin": null,
      "max_height": null,
      "max_width": null,
      "min_height": null,
      "min_width": null,
      "object_fit": null,
      "object_position": null,
      "order": null,
      "overflow": null,
      "overflow_x": null,
      "overflow_y": null,
      "padding": null,
      "right": null,
      "top": null,
      "visibility": null,
      "width": null
     }
    },
    "0eda4742a10144bc9dac9ea1f241b140": {
     "model_module": "@jupyter-widgets/controls",
     "model_module_version": "1.5.0",
     "model_name": "HBoxModel",
     "state": {
      "_dom_classes": [],
      "_model_module": "@jupyter-widgets/controls",
      "_model_module_version": "1.5.0",
      "_model_name": "HBoxModel",
      "_view_count": null,
      "_view_module": "@jupyter-widgets/controls",
      "_view_module_version": "1.5.0",
      "_view_name": "HBoxView",
      "box_style": "",
      "children": [
       "IPY_MODEL_8dee8ed739df40e7aefa5c5d0b292b7b",
       "IPY_MODEL_6018b849eb9f429b947f7e251b951f39",
       "IPY_MODEL_a7614cd6a6084c15b0e251cccbd3bca9"
      ],
      "layout": "IPY_MODEL_03f5c68729c24bedac6d99c6b5798993"
     }
    },
    "1407aa9b91044ff78cdac63d58b2adff": {
     "model_module": "@jupyter-widgets/base",
     "model_module_version": "1.2.0",
     "model_name": "LayoutModel",
     "state": {
      "_model_module": "@jupyter-widgets/base",
      "_model_module_version": "1.2.0",
      "_model_name": "LayoutModel",
      "_view_count": null,
      "_view_module": "@jupyter-widgets/base",
      "_view_module_version": "1.2.0",
      "_view_name": "LayoutView",
      "align_content": null,
      "align_items": null,
      "align_self": null,
      "border": null,
      "bottom": null,
      "display": null,
      "flex": null,
      "flex_flow": null,
      "grid_area": null,
      "grid_auto_columns": null,
      "grid_auto_flow": null,
      "grid_auto_rows": null,
      "grid_column": null,
      "grid_gap": null,
      "grid_row": null,
      "grid_template_areas": null,
      "grid_template_columns": null,
      "grid_template_rows": null,
      "height": null,
      "justify_content": null,
      "justify_items": null,
      "left": null,
      "margin": null,
      "max_height": null,
      "max_width": null,
      "min_height": null,
      "min_width": null,
      "object_fit": null,
      "object_position": null,
      "order": null,
      "overflow": null,
      "overflow_x": null,
      "overflow_y": null,
      "padding": null,
      "right": null,
      "top": null,
      "visibility": null,
      "width": null
     }
    },
    "1605979274e94c97a366e2236393e92f": {
     "model_module": "@jupyter-widgets/controls",
     "model_module_version": "1.5.0",
     "model_name": "DescriptionStyleModel",
     "state": {
      "_model_module": "@jupyter-widgets/controls",
      "_model_module_version": "1.5.0",
      "_model_name": "DescriptionStyleModel",
      "_view_count": null,
      "_view_module": "@jupyter-widgets/base",
      "_view_module_version": "1.2.0",
      "_view_name": "StyleView",
      "description_width": ""
     }
    },
    "169ce0bd7b6843748f77697d12bc58d4": {
     "model_module": "@jupyter-widgets/controls",
     "model_module_version": "1.5.0",
     "model_name": "FloatProgressModel",
     "state": {
      "_dom_classes": [],
      "_model_module": "@jupyter-widgets/controls",
      "_model_module_version": "1.5.0",
      "_model_name": "FloatProgressModel",
      "_view_count": null,
      "_view_module": "@jupyter-widgets/controls",
      "_view_module_version": "1.5.0",
      "_view_name": "ProgressView",
      "bar_style": "success",
      "description": "",
      "description_tooltip": null,
      "layout": "IPY_MODEL_a486f1afdf4c4e8bbf99faa6aa150799",
      "max": 231508,
      "min": 0,
      "orientation": "horizontal",
      "style": "IPY_MODEL_84e5eac55e7c4e0c964b8562df28a34a",
      "value": 231508
     }
    },
    "1a9770cc8fd74aebb29489e716b8ea96": {
     "model_module": "@jupyter-widgets/base",
     "model_module_version": "1.2.0",
     "model_name": "LayoutModel",
     "state": {
      "_model_module": "@jupyter-widgets/base",
      "_model_module_version": "1.2.0",
      "_model_name": "LayoutModel",
      "_view_count": null,
      "_view_module": "@jupyter-widgets/base",
      "_view_module_version": "1.2.0",
      "_view_name": "LayoutView",
      "align_content": null,
      "align_items": null,
      "align_self": null,
      "border": null,
      "bottom": null,
      "display": null,
      "flex": null,
      "flex_flow": null,
      "grid_area": null,
      "grid_auto_columns": null,
      "grid_auto_flow": null,
      "grid_auto_rows": null,
      "grid_column": null,
      "grid_gap": null,
      "grid_row": null,
      "grid_template_areas": null,
      "grid_template_columns": null,
      "grid_template_rows": null,
      "height": null,
      "justify_content": null,
      "justify_items": null,
      "left": null,
      "margin": null,
      "max_height": null,
      "max_width": null,
      "min_height": null,
      "min_width": null,
      "object_fit": null,
      "object_position": null,
      "order": null,
      "overflow": null,
      "overflow_x": null,
      "overflow_y": null,
      "padding": null,
      "right": null,
      "top": null,
      "visibility": null,
      "width": null
     }
    },
    "212cc43632fb4209b9574b1133f62df6": {
     "model_module": "@jupyter-widgets/controls",
     "model_module_version": "1.5.0",
     "model_name": "HTMLModel",
     "state": {
      "_dom_classes": [],
      "_model_module": "@jupyter-widgets/controls",
      "_model_module_version": "1.5.0",
      "_model_name": "HTMLModel",
      "_view_count": null,
      "_view_module": "@jupyter-widgets/controls",
      "_view_module_version": "1.5.0",
      "_view_name": "HTMLView",
      "description": "",
      "description_tooltip": null,
      "layout": "IPY_MODEL_36d354e370d44be086091988ea51ff82",
      "placeholder": "​",
      "style": "IPY_MODEL_09afec5de32c40c3a298580433424a80",
      "value": " 570/570 [00:00&lt;00:00, 39.3kB/s]"
     }
    },
    "248b7a284ffb46b9b3e8b0bd8eb7f351": {
     "model_module": "@jupyter-widgets/controls",
     "model_module_version": "1.5.0",
     "model_name": "HTMLModel",
     "state": {
      "_dom_classes": [],
      "_model_module": "@jupyter-widgets/controls",
      "_model_module_version": "1.5.0",
      "_model_name": "HTMLModel",
      "_view_count": null,
      "_view_module": "@jupyter-widgets/controls",
      "_view_module_version": "1.5.0",
      "_view_name": "HTMLView",
      "description": "",
      "description_tooltip": null,
      "layout": "IPY_MODEL_3a7105ac45e3411abe804e3ee4ab373b",
      "placeholder": "​",
      "style": "IPY_MODEL_925e10d864494a85a50f62261ce60e69",
      "value": " 466k/466k [00:00&lt;00:00, 16.8MB/s]"
     }
    },
    "256a3e30ce0944a598f81b2f1b8ac7ae": {
     "model_module": "@jupyter-widgets/controls",
     "model_module_version": "1.5.0",
     "model_name": "DescriptionStyleModel",
     "state": {
      "_model_module": "@jupyter-widgets/controls",
      "_model_module_version": "1.5.0",
      "_model_name": "DescriptionStyleModel",
      "_view_count": null,
      "_view_module": "@jupyter-widgets/base",
      "_view_module_version": "1.2.0",
      "_view_name": "StyleView",
      "description_width": ""
     }
    },
    "26cc2c6cfccb44448026062c1456b9dc": {
     "model_module": "@jupyter-widgets/base",
     "model_module_version": "1.2.0",
     "model_name": "LayoutModel",
     "state": {
      "_model_module": "@jupyter-widgets/base",
      "_model_module_version": "1.2.0",
      "_model_name": "LayoutModel",
      "_view_count": null,
      "_view_module": "@jupyter-widgets/base",
      "_view_module_version": "1.2.0",
      "_view_name": "LayoutView",
      "align_content": null,
      "align_items": null,
      "align_self": null,
      "border": null,
      "bottom": null,
      "display": null,
      "flex": null,
      "flex_flow": null,
      "grid_area": null,
      "grid_auto_columns": null,
      "grid_auto_flow": null,
      "grid_auto_rows": null,
      "grid_column": null,
      "grid_gap": null,
      "grid_row": null,
      "grid_template_areas": null,
      "grid_template_columns": null,
      "grid_template_rows": null,
      "height": null,
      "justify_content": null,
      "justify_items": null,
      "left": null,
      "margin": null,
      "max_height": null,
      "max_width": null,
      "min_height": null,
      "min_width": null,
      "object_fit": null,
      "object_position": null,
      "order": null,
      "overflow": null,
      "overflow_x": null,
      "overflow_y": null,
      "padding": null,
      "right": null,
      "top": null,
      "visibility": null,
      "width": null
     }
    },
    "36d354e370d44be086091988ea51ff82": {
     "model_module": "@jupyter-widgets/base",
     "model_module_version": "1.2.0",
     "model_name": "LayoutModel",
     "state": {
      "_model_module": "@jupyter-widgets/base",
      "_model_module_version": "1.2.0",
      "_model_name": "LayoutModel",
      "_view_count": null,
      "_view_module": "@jupyter-widgets/base",
      "_view_module_version": "1.2.0",
      "_view_name": "LayoutView",
      "align_content": null,
      "align_items": null,
      "align_self": null,
      "border": null,
      "bottom": null,
      "display": null,
      "flex": null,
      "flex_flow": null,
      "grid_area": null,
      "grid_auto_columns": null,
      "grid_auto_flow": null,
      "grid_auto_rows": null,
      "grid_column": null,
      "grid_gap": null,
      "grid_row": null,
      "grid_template_areas": null,
      "grid_template_columns": null,
      "grid_template_rows": null,
      "height": null,
      "justify_content": null,
      "justify_items": null,
      "left": null,
      "margin": null,
      "max_height": null,
      "max_width": null,
      "min_height": null,
      "min_width": null,
      "object_fit": null,
      "object_position": null,
      "order": null,
      "overflow": null,
      "overflow_x": null,
      "overflow_y": null,
      "padding": null,
      "right": null,
      "top": null,
      "visibility": null,
      "width": null
     }
    },
    "3a7105ac45e3411abe804e3ee4ab373b": {
     "model_module": "@jupyter-widgets/base",
     "model_module_version": "1.2.0",
     "model_name": "LayoutModel",
     "state": {
      "_model_module": "@jupyter-widgets/base",
      "_model_module_version": "1.2.0",
      "_model_name": "LayoutModel",
      "_view_count": null,
      "_view_module": "@jupyter-widgets/base",
      "_view_module_version": "1.2.0",
      "_view_name": "LayoutView",
      "align_content": null,
      "align_items": null,
      "align_self": null,
      "border": null,
      "bottom": null,
      "display": null,
      "flex": null,
      "flex_flow": null,
      "grid_area": null,
      "grid_auto_columns": null,
      "grid_auto_flow": null,
      "grid_auto_rows": null,
      "grid_column": null,
      "grid_gap": null,
      "grid_row": null,
      "grid_template_areas": null,
      "grid_template_columns": null,
      "grid_template_rows": null,
      "height": null,
      "justify_content": null,
      "justify_items": null,
      "left": null,
      "margin": null,
      "max_height": null,
      "max_width": null,
      "min_height": null,
      "min_width": null,
      "object_fit": null,
      "object_position": null,
      "order": null,
      "overflow": null,
      "overflow_x": null,
      "overflow_y": null,
      "padding": null,
      "right": null,
      "top": null,
      "visibility": null,
      "width": null
     }
    },
    "3ca86617d040474d9a7571e414a048d8": {
     "model_module": "@jupyter-widgets/controls",
     "model_module_version": "1.5.0",
     "model_name": "ProgressStyleModel",
     "state": {
      "_model_module": "@jupyter-widgets/controls",
      "_model_module_version": "1.5.0",
      "_model_name": "ProgressStyleModel",
      "_view_count": null,
      "_view_module": "@jupyter-widgets/base",
      "_view_module_version": "1.2.0",
      "_view_name": "StyleView",
      "bar_color": null,
      "description_width": ""
     }
    },
    "449962f05af04ca7985529c06ef7c60c": {
     "model_module": "@jupyter-widgets/base",
     "model_module_version": "1.2.0",
     "model_name": "LayoutModel",
     "state": {
      "_model_module": "@jupyter-widgets/base",
      "_model_module_version": "1.2.0",
      "_model_name": "LayoutModel",
      "_view_count": null,
      "_view_module": "@jupyter-widgets/base",
      "_view_module_version": "1.2.0",
      "_view_name": "LayoutView",
      "align_content": null,
      "align_items": null,
      "align_self": null,
      "border": null,
      "bottom": null,
      "display": null,
      "flex": null,
      "flex_flow": null,
      "grid_area": null,
      "grid_auto_columns": null,
      "grid_auto_flow": null,
      "grid_auto_rows": null,
      "grid_column": null,
      "grid_gap": null,
      "grid_row": null,
      "grid_template_areas": null,
      "grid_template_columns": null,
      "grid_template_rows": null,
      "height": null,
      "justify_content": null,
      "justify_items": null,
      "left": null,
      "margin": null,
      "max_height": null,
      "max_width": null,
      "min_height": null,
      "min_width": null,
      "object_fit": null,
      "object_position": null,
      "order": null,
      "overflow": null,
      "overflow_x": null,
      "overflow_y": null,
      "padding": null,
      "right": null,
      "top": null,
      "visibility": null,
      "width": null
     }
    },
    "45b49d38b5a44ae3acd0a7a36b515d7c": {
     "model_module": "@jupyter-widgets/controls",
     "model_module_version": "1.5.0",
     "model_name": "HBoxModel",
     "state": {
      "_dom_classes": [],
      "_model_module": "@jupyter-widgets/controls",
      "_model_module_version": "1.5.0",
      "_model_name": "HBoxModel",
      "_view_count": null,
      "_view_module": "@jupyter-widgets/controls",
      "_view_module_version": "1.5.0",
      "_view_name": "HBoxView",
      "box_style": "",
      "children": [
       "IPY_MODEL_6d73a27e2e9b44159668cd17dd74b730",
       "IPY_MODEL_72bd79e6541944f7839aa8f0bf25eaa5",
       "IPY_MODEL_a73509a111cd44b0aa0fdb487b1b78d2"
      ],
      "layout": "IPY_MODEL_7a8a337d26c54a118278811e3c2e1626"
     }
    },
    "4b6ea17ae6e642b6ad0b6e09a6fcca62": {
     "model_module": "@jupyter-widgets/controls",
     "model_module_version": "1.5.0",
     "model_name": "HTMLModel",
     "state": {
      "_dom_classes": [],
      "_model_module": "@jupyter-widgets/controls",
      "_model_module_version": "1.5.0",
      "_model_name": "HTMLModel",
      "_view_count": null,
      "_view_module": "@jupyter-widgets/controls",
      "_view_module_version": "1.5.0",
      "_view_name": "HTMLView",
      "description": "",
      "description_tooltip": null,
      "layout": "IPY_MODEL_6a7b712f27e74e549f379f4946461e3e",
      "placeholder": "​",
      "style": "IPY_MODEL_6c2fad251c8e449099e73cfd28def018",
      "value": "vocab.txt: 100%"
     }
    },
    "55464f00bd7d4465a02274406a4f8226": {
     "model_module": "@jupyter-widgets/controls",
     "model_module_version": "1.5.0",
     "model_name": "ProgressStyleModel",
     "state": {
      "_model_module": "@jupyter-widgets/controls",
      "_model_module_version": "1.5.0",
      "_model_name": "ProgressStyleModel",
      "_view_count": null,
      "_view_module": "@jupyter-widgets/base",
      "_view_module_version": "1.2.0",
      "_view_name": "StyleView",
      "bar_color": null,
      "description_width": ""
     }
    },
    "56ec0b4bdcbc45a7851b328f842f105a": {
     "model_module": "@jupyter-widgets/controls",
     "model_module_version": "1.5.0",
     "model_name": "DescriptionStyleModel",
     "state": {
      "_model_module": "@jupyter-widgets/controls",
      "_model_module_version": "1.5.0",
      "_model_name": "DescriptionStyleModel",
      "_view_count": null,
      "_view_module": "@jupyter-widgets/base",
      "_view_module_version": "1.2.0",
      "_view_name": "StyleView",
      "description_width": ""
     }
    },
    "5cb336e479914e26916be0f32e246f84": {
     "model_module": "@jupyter-widgets/controls",
     "model_module_version": "1.5.0",
     "model_name": "FloatProgressModel",
     "state": {
      "_dom_classes": [],
      "_model_module": "@jupyter-widgets/controls",
      "_model_module_version": "1.5.0",
      "_model_name": "FloatProgressModel",
      "_view_count": null,
      "_view_module": "@jupyter-widgets/controls",
      "_view_module_version": "1.5.0",
      "_view_name": "ProgressView",
      "bar_style": "success",
      "description": "",
      "description_tooltip": null,
      "layout": "IPY_MODEL_7f6f7735752542aa8ef64c98f6acad7c",
      "max": 466062,
      "min": 0,
      "orientation": "horizontal",
      "style": "IPY_MODEL_3ca86617d040474d9a7571e414a048d8",
      "value": 466062
     }
    },
    "6018b849eb9f429b947f7e251b951f39": {
     "model_module": "@jupyter-widgets/controls",
     "model_module_version": "1.5.0",
     "model_name": "FloatProgressModel",
     "state": {
      "_dom_classes": [],
      "_model_module": "@jupyter-widgets/controls",
      "_model_module_version": "1.5.0",
      "_model_name": "FloatProgressModel",
      "_view_count": null,
      "_view_module": "@jupyter-widgets/controls",
      "_view_module_version": "1.5.0",
      "_view_name": "ProgressView",
      "bar_style": "success",
      "description": "",
      "description_tooltip": null,
      "layout": "IPY_MODEL_0eb189af603647fab1ff42970202bf8e",
      "max": 440449768,
      "min": 0,
      "orientation": "horizontal",
      "style": "IPY_MODEL_ab8dca540d4543be9bced5923dedbc92",
      "value": 440449768
     }
    },
    "6a7b712f27e74e549f379f4946461e3e": {
     "model_module": "@jupyter-widgets/base",
     "model_module_version": "1.2.0",
     "model_name": "LayoutModel",
     "state": {
      "_model_module": "@jupyter-widgets/base",
      "_model_module_version": "1.2.0",
      "_model_name": "LayoutModel",
      "_view_count": null,
      "_view_module": "@jupyter-widgets/base",
      "_view_module_version": "1.2.0",
      "_view_name": "LayoutView",
      "align_content": null,
      "align_items": null,
      "align_self": null,
      "border": null,
      "bottom": null,
      "display": null,
      "flex": null,
      "flex_flow": null,
      "grid_area": null,
      "grid_auto_columns": null,
      "grid_auto_flow": null,
      "grid_auto_rows": null,
      "grid_column": null,
      "grid_gap": null,
      "grid_row": null,
      "grid_template_areas": null,
      "grid_template_columns": null,
      "grid_template_rows": null,
      "height": null,
      "justify_content": null,
      "justify_items": null,
      "left": null,
      "margin": null,
      "max_height": null,
      "max_width": null,
      "min_height": null,
      "min_width": null,
      "object_fit": null,
      "object_position": null,
      "order": null,
      "overflow": null,
      "overflow_x": null,
      "overflow_y": null,
      "padding": null,
      "right": null,
      "top": null,
      "visibility": null,
      "width": null
     }
    },
    "6c2fad251c8e449099e73cfd28def018": {
     "model_module": "@jupyter-widgets/controls",
     "model_module_version": "1.5.0",
     "model_name": "DescriptionStyleModel",
     "state": {
      "_model_module": "@jupyter-widgets/controls",
      "_model_module_version": "1.5.0",
      "_model_name": "DescriptionStyleModel",
      "_view_count": null,
      "_view_module": "@jupyter-widgets/base",
      "_view_module_version": "1.2.0",
      "_view_name": "StyleView",
      "description_width": ""
     }
    },
    "6d73a27e2e9b44159668cd17dd74b730": {
     "model_module": "@jupyter-widgets/controls",
     "model_module_version": "1.5.0",
     "model_name": "HTMLModel",
     "state": {
      "_dom_classes": [],
      "_model_module": "@jupyter-widgets/controls",
      "_model_module_version": "1.5.0",
      "_model_name": "HTMLModel",
      "_view_count": null,
      "_view_module": "@jupyter-widgets/controls",
      "_view_module_version": "1.5.0",
      "_view_name": "HTMLView",
      "description": "",
      "description_tooltip": null,
      "layout": "IPY_MODEL_cb90da45d7224b30912bc241642136c4",
      "placeholder": "​",
      "style": "IPY_MODEL_1605979274e94c97a366e2236393e92f",
      "value": "tokenizer_config.json: 100%"
     }
    },
    "72bd79e6541944f7839aa8f0bf25eaa5": {
     "model_module": "@jupyter-widgets/controls",
     "model_module_version": "1.5.0",
     "model_name": "FloatProgressModel",
     "state": {
      "_dom_classes": [],
      "_model_module": "@jupyter-widgets/controls",
      "_model_module_version": "1.5.0",
      "_model_name": "FloatProgressModel",
      "_view_count": null,
      "_view_module": "@jupyter-widgets/controls",
      "_view_module_version": "1.5.0",
      "_view_name": "ProgressView",
      "bar_style": "success",
      "description": "",
      "description_tooltip": null,
      "layout": "IPY_MODEL_c74cd7df62a14d74ac093a20cec7093a",
      "max": 48,
      "min": 0,
      "orientation": "horizontal",
      "style": "IPY_MODEL_8613257a916f46ba9bd805ce33455010",
      "value": 48
     }
    },
    "75df8bde524b40528708ba79d4d09f8d": {
     "model_module": "@jupyter-widgets/controls",
     "model_module_version": "1.5.0",
     "model_name": "DescriptionStyleModel",
     "state": {
      "_model_module": "@jupyter-widgets/controls",
      "_model_module_version": "1.5.0",
      "_model_name": "DescriptionStyleModel",
      "_view_count": null,
      "_view_module": "@jupyter-widgets/base",
      "_view_module_version": "1.2.0",
      "_view_name": "StyleView",
      "description_width": ""
     }
    },
    "7a8a337d26c54a118278811e3c2e1626": {
     "model_module": "@jupyter-widgets/base",
     "model_module_version": "1.2.0",
     "model_name": "LayoutModel",
     "state": {
      "_model_module": "@jupyter-widgets/base",
      "_model_module_version": "1.2.0",
      "_model_name": "LayoutModel",
      "_view_count": null,
      "_view_module": "@jupyter-widgets/base",
      "_view_module_version": "1.2.0",
      "_view_name": "LayoutView",
      "align_content": null,
      "align_items": null,
      "align_self": null,
      "border": null,
      "bottom": null,
      "display": null,
      "flex": null,
      "flex_flow": null,
      "grid_area": null,
      "grid_auto_columns": null,
      "grid_auto_flow": null,
      "grid_auto_rows": null,
      "grid_column": null,
      "grid_gap": null,
      "grid_row": null,
      "grid_template_areas": null,
      "grid_template_columns": null,
      "grid_template_rows": null,
      "height": null,
      "justify_content": null,
      "justify_items": null,
      "left": null,
      "margin": null,
      "max_height": null,
      "max_width": null,
      "min_height": null,
      "min_width": null,
      "object_fit": null,
      "object_position": null,
      "order": null,
      "overflow": null,
      "overflow_x": null,
      "overflow_y": null,
      "padding": null,
      "right": null,
      "top": null,
      "visibility": null,
      "width": null
     }
    },
    "7f6f7735752542aa8ef64c98f6acad7c": {
     "model_module": "@jupyter-widgets/base",
     "model_module_version": "1.2.0",
     "model_name": "LayoutModel",
     "state": {
      "_model_module": "@jupyter-widgets/base",
      "_model_module_version": "1.2.0",
      "_model_name": "LayoutModel",
      "_view_count": null,
      "_view_module": "@jupyter-widgets/base",
      "_view_module_version": "1.2.0",
      "_view_name": "LayoutView",
      "align_content": null,
      "align_items": null,
      "align_self": null,
      "border": null,
      "bottom": null,
      "display": null,
      "flex": null,
      "flex_flow": null,
      "grid_area": null,
      "grid_auto_columns": null,
      "grid_auto_flow": null,
      "grid_auto_rows": null,
      "grid_column": null,
      "grid_gap": null,
      "grid_row": null,
      "grid_template_areas": null,
      "grid_template_columns": null,
      "grid_template_rows": null,
      "height": null,
      "justify_content": null,
      "justify_items": null,
      "left": null,
      "margin": null,
      "max_height": null,
      "max_width": null,
      "min_height": null,
      "min_width": null,
      "object_fit": null,
      "object_position": null,
      "order": null,
      "overflow": null,
      "overflow_x": null,
      "overflow_y": null,
      "padding": null,
      "right": null,
      "top": null,
      "visibility": null,
      "width": null
     }
    },
    "84e5eac55e7c4e0c964b8562df28a34a": {
     "model_module": "@jupyter-widgets/controls",
     "model_module_version": "1.5.0",
     "model_name": "ProgressStyleModel",
     "state": {
      "_model_module": "@jupyter-widgets/controls",
      "_model_module_version": "1.5.0",
      "_model_name": "ProgressStyleModel",
      "_view_count": null,
      "_view_module": "@jupyter-widgets/base",
      "_view_module_version": "1.2.0",
      "_view_name": "StyleView",
      "bar_color": null,
      "description_width": ""
     }
    },
    "8613257a916f46ba9bd805ce33455010": {
     "model_module": "@jupyter-widgets/controls",
     "model_module_version": "1.5.0",
     "model_name": "ProgressStyleModel",
     "state": {
      "_model_module": "@jupyter-widgets/controls",
      "_model_module_version": "1.5.0",
      "_model_name": "ProgressStyleModel",
      "_view_count": null,
      "_view_module": "@jupyter-widgets/base",
      "_view_module_version": "1.2.0",
      "_view_name": "StyleView",
      "bar_color": null,
      "description_width": ""
     }
    },
    "8dee8ed739df40e7aefa5c5d0b292b7b": {
     "model_module": "@jupyter-widgets/controls",
     "model_module_version": "1.5.0",
     "model_name": "HTMLModel",
     "state": {
      "_dom_classes": [],
      "_model_module": "@jupyter-widgets/controls",
      "_model_module_version": "1.5.0",
      "_model_name": "HTMLModel",
      "_view_count": null,
      "_view_module": "@jupyter-widgets/controls",
      "_view_module_version": "1.5.0",
      "_view_name": "HTMLView",
      "description": "",
      "description_tooltip": null,
      "layout": "IPY_MODEL_9bdc22d4804b42d4aefccd2bac11539d",
      "placeholder": "​",
      "style": "IPY_MODEL_56ec0b4bdcbc45a7851b328f842f105a",
      "value": "model.safetensors: 100%"
     }
    },
    "8e10d5bcb46e41ba955fa7eaa8ed3abe": {
     "model_module": "@jupyter-widgets/base",
     "model_module_version": "1.2.0",
     "model_name": "LayoutModel",
     "state": {
      "_model_module": "@jupyter-widgets/base",
      "_model_module_version": "1.2.0",
      "_model_name": "LayoutModel",
      "_view_count": null,
      "_view_module": "@jupyter-widgets/base",
      "_view_module_version": "1.2.0",
      "_view_name": "LayoutView",
      "align_content": null,
      "align_items": null,
      "align_self": null,
      "border": null,
      "bottom": null,
      "display": null,
      "flex": null,
      "flex_flow": null,
      "grid_area": null,
      "grid_auto_columns": null,
      "grid_auto_flow": null,
      "grid_auto_rows": null,
      "grid_column": null,
      "grid_gap": null,
      "grid_row": null,
      "grid_template_areas": null,
      "grid_template_columns": null,
      "grid_template_rows": null,
      "height": null,
      "justify_content": null,
      "justify_items": null,
      "left": null,
      "margin": null,
      "max_height": null,
      "max_width": null,
      "min_height": null,
      "min_width": null,
      "object_fit": null,
      "object_position": null,
      "order": null,
      "overflow": null,
      "overflow_x": null,
      "overflow_y": null,
      "padding": null,
      "right": null,
      "top": null,
      "visibility": null,
      "width": null
     }
    },
    "925e10d864494a85a50f62261ce60e69": {
     "model_module": "@jupyter-widgets/controls",
     "model_module_version": "1.5.0",
     "model_name": "DescriptionStyleModel",
     "state": {
      "_model_module": "@jupyter-widgets/controls",
      "_model_module_version": "1.5.0",
      "_model_name": "DescriptionStyleModel",
      "_view_count": null,
      "_view_module": "@jupyter-widgets/base",
      "_view_module_version": "1.2.0",
      "_view_name": "StyleView",
      "description_width": ""
     }
    },
    "95efc3a9dc5e401fbed80221632861e7": {
     "model_module": "@jupyter-widgets/controls",
     "model_module_version": "1.5.0",
     "model_name": "FloatProgressModel",
     "state": {
      "_dom_classes": [],
      "_model_module": "@jupyter-widgets/controls",
      "_model_module_version": "1.5.0",
      "_model_name": "FloatProgressModel",
      "_view_count": null,
      "_view_module": "@jupyter-widgets/controls",
      "_view_module_version": "1.5.0",
      "_view_name": "ProgressView",
      "bar_style": "success",
      "description": "",
      "description_tooltip": null,
      "layout": "IPY_MODEL_26cc2c6cfccb44448026062c1456b9dc",
      "max": 570,
      "min": 0,
      "orientation": "horizontal",
      "style": "IPY_MODEL_55464f00bd7d4465a02274406a4f8226",
      "value": 570
     }
    },
    "9b0d654202f8436b906f1660f43f6e04": {
     "model_module": "@jupyter-widgets/controls",
     "model_module_version": "1.5.0",
     "model_name": "HBoxModel",
     "state": {
      "_dom_classes": [],
      "_model_module": "@jupyter-widgets/controls",
      "_model_module_version": "1.5.0",
      "_model_name": "HBoxModel",
      "_view_count": null,
      "_view_module": "@jupyter-widgets/controls",
      "_view_module_version": "1.5.0",
      "_view_name": "HBoxView",
      "box_style": "",
      "children": [
       "IPY_MODEL_4b6ea17ae6e642b6ad0b6e09a6fcca62",
       "IPY_MODEL_169ce0bd7b6843748f77697d12bc58d4",
       "IPY_MODEL_0080f4b7f0d84eb48ddf184793b5f7cb"
      ],
      "layout": "IPY_MODEL_1407aa9b91044ff78cdac63d58b2adff"
     }
    },
    "9bdc22d4804b42d4aefccd2bac11539d": {
     "model_module": "@jupyter-widgets/base",
     "model_module_version": "1.2.0",
     "model_name": "LayoutModel",
     "state": {
      "_model_module": "@jupyter-widgets/base",
      "_model_module_version": "1.2.0",
      "_model_name": "LayoutModel",
      "_view_count": null,
      "_view_module": "@jupyter-widgets/base",
      "_view_module_version": "1.2.0",
      "_view_name": "LayoutView",
      "align_content": null,
      "align_items": null,
      "align_self": null,
      "border": null,
      "bottom": null,
      "display": null,
      "flex": null,
      "flex_flow": null,
      "grid_area": null,
      "grid_auto_columns": null,
      "grid_auto_flow": null,
      "grid_auto_rows": null,
      "grid_column": null,
      "grid_gap": null,
      "grid_row": null,
      "grid_template_areas": null,
      "grid_template_columns": null,
      "grid_template_rows": null,
      "height": null,
      "justify_content": null,
      "justify_items": null,
      "left": null,
      "margin": null,
      "max_height": null,
      "max_width": null,
      "min_height": null,
      "min_width": null,
      "object_fit": null,
      "object_position": null,
      "order": null,
      "overflow": null,
      "overflow_x": null,
      "overflow_y": null,
      "padding": null,
      "right": null,
      "top": null,
      "visibility": null,
      "width": null
     }
    },
    "a275482c48464c4589c6a37df8c7fb10": {
     "model_module": "@jupyter-widgets/controls",
     "model_module_version": "1.5.0",
     "model_name": "HBoxModel",
     "state": {
      "_dom_classes": [],
      "_model_module": "@jupyter-widgets/controls",
      "_model_module_version": "1.5.0",
      "_model_name": "HBoxModel",
      "_view_count": null,
      "_view_module": "@jupyter-widgets/controls",
      "_view_module_version": "1.5.0",
      "_view_name": "HBoxView",
      "box_style": "",
      "children": [
       "IPY_MODEL_f59132dc5a2b4f5a946f7dca56bc74d3",
       "IPY_MODEL_5cb336e479914e26916be0f32e246f84",
       "IPY_MODEL_248b7a284ffb46b9b3e8b0bd8eb7f351"
      ],
      "layout": "IPY_MODEL_8e10d5bcb46e41ba955fa7eaa8ed3abe"
     }
    },
    "a41eb4dff1fe4ce38f495e2ab591cb6e": {
     "model_module": "@jupyter-widgets/controls",
     "model_module_version": "1.5.0",
     "model_name": "DescriptionStyleModel",
     "state": {
      "_model_module": "@jupyter-widgets/controls",
      "_model_module_version": "1.5.0",
      "_model_name": "DescriptionStyleModel",
      "_view_count": null,
      "_view_module": "@jupyter-widgets/base",
      "_view_module_version": "1.2.0",
      "_view_name": "StyleView",
      "description_width": ""
     }
    },
    "a486f1afdf4c4e8bbf99faa6aa150799": {
     "model_module": "@jupyter-widgets/base",
     "model_module_version": "1.2.0",
     "model_name": "LayoutModel",
     "state": {
      "_model_module": "@jupyter-widgets/base",
      "_model_module_version": "1.2.0",
      "_model_name": "LayoutModel",
      "_view_count": null,
      "_view_module": "@jupyter-widgets/base",
      "_view_module_version": "1.2.0",
      "_view_name": "LayoutView",
      "align_content": null,
      "align_items": null,
      "align_self": null,
      "border": null,
      "bottom": null,
      "display": null,
      "flex": null,
      "flex_flow": null,
      "grid_area": null,
      "grid_auto_columns": null,
      "grid_auto_flow": null,
      "grid_auto_rows": null,
      "grid_column": null,
      "grid_gap": null,
      "grid_row": null,
      "grid_template_areas": null,
      "grid_template_columns": null,
      "grid_template_rows": null,
      "height": null,
      "justify_content": null,
      "justify_items": null,
      "left": null,
      "margin": null,
      "max_height": null,
      "max_width": null,
      "min_height": null,
      "min_width": null,
      "object_fit": null,
      "object_position": null,
      "order": null,
      "overflow": null,
      "overflow_x": null,
      "overflow_y": null,
      "padding": null,
      "right": null,
      "top": null,
      "visibility": null,
      "width": null
     }
    },
    "a73509a111cd44b0aa0fdb487b1b78d2": {
     "model_module": "@jupyter-widgets/controls",
     "model_module_version": "1.5.0",
     "model_name": "HTMLModel",
     "state": {
      "_dom_classes": [],
      "_model_module": "@jupyter-widgets/controls",
      "_model_module_version": "1.5.0",
      "_model_name": "HTMLModel",
      "_view_count": null,
      "_view_module": "@jupyter-widgets/controls",
      "_view_module_version": "1.5.0",
      "_view_name": "HTMLView",
      "description": "",
      "description_tooltip": null,
      "layout": "IPY_MODEL_09bf5bbcabf14a5ab12239ac543b9e02",
      "placeholder": "​",
      "style": "IPY_MODEL_75df8bde524b40528708ba79d4d09f8d",
      "value": " 48.0/48.0 [00:00&lt;00:00, 2.44kB/s]"
     }
    },
    "a7614cd6a6084c15b0e251cccbd3bca9": {
     "model_module": "@jupyter-widgets/controls",
     "model_module_version": "1.5.0",
     "model_name": "HTMLModel",
     "state": {
      "_dom_classes": [],
      "_model_module": "@jupyter-widgets/controls",
      "_model_module_version": "1.5.0",
      "_model_name": "HTMLModel",
      "_view_count": null,
      "_view_module": "@jupyter-widgets/controls",
      "_view_module_version": "1.5.0",
      "_view_name": "HTMLView",
      "description": "",
      "description_tooltip": null,
      "layout": "IPY_MODEL_cf33ef8fd2cf47c39d3618a9f278e856",
      "placeholder": "​",
      "style": "IPY_MODEL_a41eb4dff1fe4ce38f495e2ab591cb6e",
      "value": " 440M/440M [00:02&lt;00:00, 146MB/s]"
     }
    },
    "ab8dca540d4543be9bced5923dedbc92": {
     "model_module": "@jupyter-widgets/controls",
     "model_module_version": "1.5.0",
     "model_name": "ProgressStyleModel",
     "state": {
      "_model_module": "@jupyter-widgets/controls",
      "_model_module_version": "1.5.0",
      "_model_name": "ProgressStyleModel",
      "_view_count": null,
      "_view_module": "@jupyter-widgets/base",
      "_view_module_version": "1.2.0",
      "_view_name": "StyleView",
      "bar_color": null,
      "description_width": ""
     }
    },
    "b11d44e8b07742b1a147bdff4f073e34": {
     "model_module": "@jupyter-widgets/controls",
     "model_module_version": "1.5.0",
     "model_name": "HBoxModel",
     "state": {
      "_dom_classes": [],
      "_model_module": "@jupyter-widgets/controls",
      "_model_module_version": "1.5.0",
      "_model_name": "HBoxModel",
      "_view_count": null,
      "_view_module": "@jupyter-widgets/controls",
      "_view_module_version": "1.5.0",
      "_view_name": "HBoxView",
      "box_style": "",
      "children": [
       "IPY_MODEL_b2b6381c045f40ef8c1087f70af4f2a4",
       "IPY_MODEL_95efc3a9dc5e401fbed80221632861e7",
       "IPY_MODEL_212cc43632fb4209b9574b1133f62df6"
      ],
      "layout": "IPY_MODEL_fd610b65863549c8b3b3a227d5cd5247"
     }
    },
    "b2b6381c045f40ef8c1087f70af4f2a4": {
     "model_module": "@jupyter-widgets/controls",
     "model_module_version": "1.5.0",
     "model_name": "HTMLModel",
     "state": {
      "_dom_classes": [],
      "_model_module": "@jupyter-widgets/controls",
      "_model_module_version": "1.5.0",
      "_model_name": "HTMLModel",
      "_view_count": null,
      "_view_module": "@jupyter-widgets/controls",
      "_view_module_version": "1.5.0",
      "_view_name": "HTMLView",
      "description": "",
      "description_tooltip": null,
      "layout": "IPY_MODEL_1a9770cc8fd74aebb29489e716b8ea96",
      "placeholder": "​",
      "style": "IPY_MODEL_256a3e30ce0944a598f81b2f1b8ac7ae",
      "value": "config.json: 100%"
     }
    },
    "c74cd7df62a14d74ac093a20cec7093a": {
     "model_module": "@jupyter-widgets/base",
     "model_module_version": "1.2.0",
     "model_name": "LayoutModel",
     "state": {
      "_model_module": "@jupyter-widgets/base",
      "_model_module_version": "1.2.0",
      "_model_name": "LayoutModel",
      "_view_count": null,
      "_view_module": "@jupyter-widgets/base",
      "_view_module_version": "1.2.0",
      "_view_name": "LayoutView",
      "align_content": null,
      "align_items": null,
      "align_self": null,
      "border": null,
      "bottom": null,
      "display": null,
      "flex": null,
      "flex_flow": null,
      "grid_area": null,
      "grid_auto_columns": null,
      "grid_auto_flow": null,
      "grid_auto_rows": null,
      "grid_column": null,
      "grid_gap": null,
      "grid_row": null,
      "grid_template_areas": null,
      "grid_template_columns": null,
      "grid_template_rows": null,
      "height": null,
      "justify_content": null,
      "justify_items": null,
      "left": null,
      "margin": null,
      "max_height": null,
      "max_width": null,
      "min_height": null,
      "min_width": null,
      "object_fit": null,
      "object_position": null,
      "order": null,
      "overflow": null,
      "overflow_x": null,
      "overflow_y": null,
      "padding": null,
      "right": null,
      "top": null,
      "visibility": null,
      "width": null
     }
    },
    "cb90da45d7224b30912bc241642136c4": {
     "model_module": "@jupyter-widgets/base",
     "model_module_version": "1.2.0",
     "model_name": "LayoutModel",
     "state": {
      "_model_module": "@jupyter-widgets/base",
      "_model_module_version": "1.2.0",
      "_model_name": "LayoutModel",
      "_view_count": null,
      "_view_module": "@jupyter-widgets/base",
      "_view_module_version": "1.2.0",
      "_view_name": "LayoutView",
      "align_content": null,
      "align_items": null,
      "align_self": null,
      "border": null,
      "bottom": null,
      "display": null,
      "flex": null,
      "flex_flow": null,
      "grid_area": null,
      "grid_auto_columns": null,
      "grid_auto_flow": null,
      "grid_auto_rows": null,
      "grid_column": null,
      "grid_gap": null,
      "grid_row": null,
      "grid_template_areas": null,
      "grid_template_columns": null,
      "grid_template_rows": null,
      "height": null,
      "justify_content": null,
      "justify_items": null,
      "left": null,
      "margin": null,
      "max_height": null,
      "max_width": null,
      "min_height": null,
      "min_width": null,
      "object_fit": null,
      "object_position": null,
      "order": null,
      "overflow": null,
      "overflow_x": null,
      "overflow_y": null,
      "padding": null,
      "right": null,
      "top": null,
      "visibility": null,
      "width": null
     }
    },
    "cf33ef8fd2cf47c39d3618a9f278e856": {
     "model_module": "@jupyter-widgets/base",
     "model_module_version": "1.2.0",
     "model_name": "LayoutModel",
     "state": {
      "_model_module": "@jupyter-widgets/base",
      "_model_module_version": "1.2.0",
      "_model_name": "LayoutModel",
      "_view_count": null,
      "_view_module": "@jupyter-widgets/base",
      "_view_module_version": "1.2.0",
      "_view_name": "LayoutView",
      "align_content": null,
      "align_items": null,
      "align_self": null,
      "border": null,
      "bottom": null,
      "display": null,
      "flex": null,
      "flex_flow": null,
      "grid_area": null,
      "grid_auto_columns": null,
      "grid_auto_flow": null,
      "grid_auto_rows": null,
      "grid_column": null,
      "grid_gap": null,
      "grid_row": null,
      "grid_template_areas": null,
      "grid_template_columns": null,
      "grid_template_rows": null,
      "height": null,
      "justify_content": null,
      "justify_items": null,
      "left": null,
      "margin": null,
      "max_height": null,
      "max_width": null,
      "min_height": null,
      "min_width": null,
      "object_fit": null,
      "object_position": null,
      "order": null,
      "overflow": null,
      "overflow_x": null,
      "overflow_y": null,
      "padding": null,
      "right": null,
      "top": null,
      "visibility": null,
      "width": null
     }
    },
    "ea1cb4a926c848178fa47a0b13acc57a": {
     "model_module": "@jupyter-widgets/controls",
     "model_module_version": "1.5.0",
     "model_name": "DescriptionStyleModel",
     "state": {
      "_model_module": "@jupyter-widgets/controls",
      "_model_module_version": "1.5.0",
      "_model_name": "DescriptionStyleModel",
      "_view_count": null,
      "_view_module": "@jupyter-widgets/base",
      "_view_module_version": "1.2.0",
      "_view_name": "StyleView",
      "description_width": ""
     }
    },
    "f100dc063d3141f39cfc224eb340a3c2": {
     "model_module": "@jupyter-widgets/controls",
     "model_module_version": "1.5.0",
     "model_name": "DescriptionStyleModel",
     "state": {
      "_model_module": "@jupyter-widgets/controls",
      "_model_module_version": "1.5.0",
      "_model_name": "DescriptionStyleModel",
      "_view_count": null,
      "_view_module": "@jupyter-widgets/base",
      "_view_module_version": "1.2.0",
      "_view_name": "StyleView",
      "description_width": ""
     }
    },
    "f59132dc5a2b4f5a946f7dca56bc74d3": {
     "model_module": "@jupyter-widgets/controls",
     "model_module_version": "1.5.0",
     "model_name": "HTMLModel",
     "state": {
      "_dom_classes": [],
      "_model_module": "@jupyter-widgets/controls",
      "_model_module_version": "1.5.0",
      "_model_name": "HTMLModel",
      "_view_count": null,
      "_view_module": "@jupyter-widgets/controls",
      "_view_module_version": "1.5.0",
      "_view_name": "HTMLView",
      "description": "",
      "description_tooltip": null,
      "layout": "IPY_MODEL_fa75d993974b4f93a87c9798a852aa9f",
      "placeholder": "​",
      "style": "IPY_MODEL_ea1cb4a926c848178fa47a0b13acc57a",
      "value": "tokenizer.json: 100%"
     }
    },
    "fa75d993974b4f93a87c9798a852aa9f": {
     "model_module": "@jupyter-widgets/base",
     "model_module_version": "1.2.0",
     "model_name": "LayoutModel",
     "state": {
      "_model_module": "@jupyter-widgets/base",
      "_model_module_version": "1.2.0",
      "_model_name": "LayoutModel",
      "_view_count": null,
      "_view_module": "@jupyter-widgets/base",
      "_view_module_version": "1.2.0",
      "_view_name": "LayoutView",
      "align_content": null,
      "align_items": null,
      "align_self": null,
      "border": null,
      "bottom": null,
      "display": null,
      "flex": null,
      "flex_flow": null,
      "grid_area": null,
      "grid_auto_columns": null,
      "grid_auto_flow": null,
      "grid_auto_rows": null,
      "grid_column": null,
      "grid_gap": null,
      "grid_row": null,
      "grid_template_areas": null,
      "grid_template_columns": null,
      "grid_template_rows": null,
      "height": null,
      "justify_content": null,
      "justify_items": null,
      "left": null,
      "margin": null,
      "max_height": null,
      "max_width": null,
      "min_height": null,
      "min_width": null,
      "object_fit": null,
      "object_position": null,
      "order": null,
      "overflow": null,
      "overflow_x": null,
      "overflow_y": null,
      "padding": null,
      "right": null,
      "top": null,
      "visibility": null,
      "width": null
     }
    },
    "fd610b65863549c8b3b3a227d5cd5247": {
     "model_module": "@jupyter-widgets/base",
     "model_module_version": "1.2.0",
     "model_name": "LayoutModel",
     "state": {
      "_model_module": "@jupyter-widgets/base",
      "_model_module_version": "1.2.0",
      "_model_name": "LayoutModel",
      "_view_count": null,
      "_view_module": "@jupyter-widgets/base",
      "_view_module_version": "1.2.0",
      "_view_name": "LayoutView",
      "align_content": null,
      "align_items": null,
      "align_self": null,
      "border": null,
      "bottom": null,
      "display": null,
      "flex": null,
      "flex_flow": null,
      "grid_area": null,
      "grid_auto_columns": null,
      "grid_auto_flow": null,
      "grid_auto_rows": null,
      "grid_column": null,
      "grid_gap": null,
      "grid_row": null,
      "grid_template_areas": null,
      "grid_template_columns": null,
      "grid_template_rows": null,
      "height": null,
      "justify_content": null,
      "justify_items": null,
      "left": null,
      "margin": null,
      "max_height": null,
      "max_width": null,
      "min_height": null,
      "min_width": null,
      "object_fit": null,
      "object_position": null,
      "order": null,
      "overflow": null,
      "overflow_x": null,
      "overflow_y": null,
      "padding": null,
      "right": null,
      "top": null,
      "visibility": null,
      "width": null
     }
    }
   }
  }
 },
 "nbformat": 4,
 "nbformat_minor": 1
}
