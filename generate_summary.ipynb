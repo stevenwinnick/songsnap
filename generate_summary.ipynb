{
 "cells": [
  {
   "cell_type": "code",
   "execution_count": 31,
   "metadata": {
    "colab": {
     "base_uri": "https://localhost:8080/"
    },
    "id": "PeyvRmGblD57",
    "outputId": "1049f329-24e4-43ab-b09d-fb74a346fb45"
   },
   "outputs": [
    {
     "name": "stdout",
     "output_type": "stream",
     "text": [
      "Requirement already satisfied: openai in /usr/local/lib/python3.10/dist-packages (1.13.3)\n",
      "Requirement already satisfied: anyio<5,>=3.5.0 in /usr/local/lib/python3.10/dist-packages (from openai) (3.7.1)\n",
      "Requirement already satisfied: distro<2,>=1.7.0 in /usr/lib/python3/dist-packages (from openai) (1.7.0)\n",
      "Requirement already satisfied: httpx<1,>=0.23.0 in /usr/local/lib/python3.10/dist-packages (from openai) (0.27.0)\n",
      "Requirement already satisfied: pydantic<3,>=1.9.0 in /usr/local/lib/python3.10/dist-packages (from openai) (2.6.3)\n",
      "Requirement already satisfied: sniffio in /usr/local/lib/python3.10/dist-packages (from openai) (1.3.1)\n",
      "Requirement already satisfied: tqdm>4 in /usr/local/lib/python3.10/dist-packages (from openai) (4.66.2)\n",
      "Requirement already satisfied: typing-extensions<5,>=4.7 in /usr/local/lib/python3.10/dist-packages (from openai) (4.10.0)\n",
      "Requirement already satisfied: idna>=2.8 in /usr/local/lib/python3.10/dist-packages (from anyio<5,>=3.5.0->openai) (3.6)\n",
      "Requirement already satisfied: exceptiongroup in /usr/local/lib/python3.10/dist-packages (from anyio<5,>=3.5.0->openai) (1.2.0)\n",
      "Requirement already satisfied: certifi in /usr/local/lib/python3.10/dist-packages (from httpx<1,>=0.23.0->openai) (2024.2.2)\n",
      "Requirement already satisfied: httpcore==1.* in /usr/local/lib/python3.10/dist-packages (from httpx<1,>=0.23.0->openai) (1.0.4)\n",
      "Requirement already satisfied: h11<0.15,>=0.13 in /usr/local/lib/python3.10/dist-packages (from httpcore==1.*->httpx<1,>=0.23.0->openai) (0.14.0)\n",
      "Requirement already satisfied: annotated-types>=0.4.0 in /usr/local/lib/python3.10/dist-packages (from pydantic<3,>=1.9.0->openai) (0.6.0)\n",
      "Requirement already satisfied: pydantic-core==2.16.3 in /usr/local/lib/python3.10/dist-packages (from pydantic<3,>=1.9.0->openai) (2.16.3)\n",
      "Collecting python-dotenv\n",
      "  Downloading python_dotenv-1.0.1-py3-none-any.whl (19 kB)\n",
      "Installing collected packages: python-dotenv\n",
      "Successfully installed python-dotenv-1.0.1\n"
     ]
    }
   ],
   "source": [
    "!pip install openai\n",
    "!pip install python-dotenv"
   ]
  },
  {
   "cell_type": "code",
   "execution_count": 1,
   "metadata": {
    "colab": {
     "base_uri": "https://localhost:8080/",
     "height": 269
    },
    "id": "s-tHWgvDk_Mr",
    "outputId": "d503c439-a8d8-4219-d1f0-dd16f7509a0a"
   },
   "outputs": [],
   "source": [
    "import os\n",
    "from dotenv import load_dotenv\n",
    "from openai import OpenAI\n",
    "\n",
    "# Load environment variables from .env file\n",
    "# OPENAI_API_KEY=__\n",
    "load_dotenv()\n",
    "\n",
    "# Get API key from environment variable\n",
    "api_key = os.getenv(\"OPENAI_API_KEY\")\n",
    "if api_key is None:\n",
    "    raise ValueError(\"OPENAI_API_KEY environment variable is not set\")\n",
    "\n",
    "client = OpenAI(api_key=api_key)"
   ]
  },
  {
   "cell_type": "code",
   "execution_count": 11,
   "metadata": {
    "id": "9U3jYwQKqgru"
   },
   "outputs": [],
   "source": [
    "def generate_song_summary(song_info):\n",
    "    prompt = f\"\"\"Generate a fun and creative summary of the song {song_info['song_name']}. \\\\\n",
    "    This song is {'popular' if song_info['song_popularity'] else 'not popular'}. \\\\\n",
    "    The sentiment of the song is {song_info['sentiment']}. \\\\\n",
    "    The energy rating (between 0 and 1) of the song is {song_info['energy']}.\\\\\n",
    "    The danceability rating (between 0 and 1) of the song is {song_info['danceability']}.\\\\\n",
    "    Most importantly, state whether this song is popular or not. \\\\\n",
    "    Keep the summary to 50 words.\"\"\"\n",
    "\n",
    "    response = client.chat.completions.create(\n",
    "        model=\"gpt-3.5-turbo\",\n",
    "        messages=[\n",
    "            {\n",
    "                \"role\": \"system\",\n",
    "                \"content\": \"You are a helpful music assistant that provides information to users about songs.\"\n",
    "            },\n",
    "            {\n",
    "                \"role\": \"user\",\n",
    "                \"content\": prompt\n",
    "            },\n",
    "            {\n",
    "                \"role\": \"assistant\",\n",
    "                \"content\": f\"Sample data:\\nsong_name = \\\"{song_info['song_name']}\\\"\\nsong_popularity = {song_info['song_popularity']}\\nsentiment = \\\"{song_info['sentiment']}\\\"\\nenergy = {song_info['energy']}\\ndanceability = {song_info['danceability']}\"\n",
    "            }\n",
    "        ],\n",
    "        temperature=1,\n",
    "        max_tokens=256,\n",
    "        top_p=1,\n",
    "        frequency_penalty=0,\n",
    "        presence_penalty=0\n",
    "    )\n",
    "    return response"
   ]
  },
  {
   "cell_type": "code",
   "execution_count": 12,
   "metadata": {
    "colab": {
     "base_uri": "https://localhost:8080/"
    },
    "id": "hu2p2bRuqcy0",
    "outputId": "f75019f4-1971-4cbc-fb23-b509511fd5dd"
   },
   "outputs": [
    {
     "name": "stdout",
     "output_type": "stream",
     "text": [
      "Summary for Bohemian Rhapsody:\n",
      "\"Bohemian Rhapsody\" is a wildly popular and vibrant song that exudes happiness. With a high energy rating of 0.8 and moderate danceability at 0.5, it is a unique musical journey loved by many. Let its iconic verses and dynamic instrumentation transport you to another realm of music appreciation.\n",
      "\n",
      "Summary for Imagine:\n",
      "\"Imagine\" is a nostalgic and melancholic song with a gentle energy and moderate danceability. While not widely recognized, its emotive lyrics and soothing melody create a poignant listening experience for those who appreciate its wistful charm.\n",
      "\n",
      "Summary for Thriller:\n",
      "\"Thriller\" is a popular song that exudes anger with an energy rating of 0.9. Its high danceability score of 0.95 will have you moving to the beat. Get ready for a thrilling experience with this iconic track!\n",
      "\n"
     ]
    }
   ],
   "source": [
    "songs = [\n",
    "    {\"song_name\": \"Bohemian Rhapsody\", \n",
    "     \"song_popularity\": True, \n",
    "     \"sentiment\": \"happy\",\n",
    "     \"energy\": 0.8,\n",
    "     \"danceability\": 0.5\n",
    "    },\n",
    "    {\"song_name\": \"Imagine\", \n",
    "     \"song_popularity\": False, \n",
    "     \"sentiment\": \"sad\",\n",
    "     \"energy\": 0.2,\n",
    "     \"danceability\": 0.3\n",
    "    },\n",
    "    {\"song_name\": \"Thriller\", \n",
    "     \"song_popularity\": True, \n",
    "     \"sentiment\": \"angry\",\n",
    "     \"energy\": 0.9,\n",
    "     \"danceability\": 0.95\n",
    "    },\n",
    "]\n",
    "\n",
    "responses = []\n",
    "\n",
    "for song in songs:\n",
    "    responses.append(generate_song_summary(song))\n",
    "\n",
    "for idx, response in enumerate(responses):\n",
    "    print(f\"Summary for {songs[idx]['song_name']}:\")\n",
    "    print(response.choices[0].message.content)\n",
    "    print(\"\")"
   ]
  }
 ],
 "metadata": {
  "colab": {
   "provenance": []
  },
  "kernelspec": {
   "display_name": "Python 3 (ipykernel)",
   "language": "python",
   "name": "python3"
  },
  "language_info": {
   "codemirror_mode": {
    "name": "ipython",
    "version": 3
   },
   "file_extension": ".py",
   "mimetype": "text/x-python",
   "name": "python",
   "nbconvert_exporter": "python",
   "pygments_lexer": "ipython3",
   "version": "3.10.10"
  }
 },
 "nbformat": 4,
 "nbformat_minor": 1
}
