{
 "cells": [
  {
   "cell_type": "markdown",
   "id": "89ef8342",
   "metadata": {},
   "source": [
    "# Sentiment Analysis"
   ]
  },
  {
   "cell_type": "markdown",
   "id": "9381e032",
   "metadata": {},
   "source": [
    "#### Using distilbert-base-uncased-emotion\n",
    "\n",
    "https://huggingface.co/bhadresh-savani/distilbert-base-uncased-emotion?text=I+feel+a+bit+let+down\n",
    "\n",
    "- classifies emotional sentiment of the sentence (and accounts for context)\n",
    "- base of model is BERT. \n",
    "- output: joy, love, anger, fear, surprise. \n",
    "- DistiliBERT uses distillation to compress large models into smaller models so that it is 60% faster. \n",
    "- This model is fine tuned on tweet emotion dataset. "
   ]
  },
  {
   "cell_type": "markdown",
   "id": "36db36cb",
   "metadata": {},
   "source": [
    "### Import Libraries & Pretrained Model "
   ]
  },
  {
   "cell_type": "code",
   "execution_count": 1,
   "id": "15c77b01",
   "metadata": {},
   "outputs": [
    {
     "name": "stderr",
     "output_type": "stream",
     "text": [
      "2024-02-13 22:06:09.987776: I tensorflow/core/platform/cpu_feature_guard.cc:182] This TensorFlow binary is optimized to use available CPU instructions in performance-critical operations.\n",
      "To enable the following instructions: AVX2 FMA, in other operations, rebuild TensorFlow with the appropriate compiler flags.\n",
      "/Users/sanmatichoudhary/anaconda3/lib/python3.11/site-packages/transformers/utils/generic.py:260: UserWarning: torch.utils._pytree._register_pytree_node is deprecated. Please use torch.utils._pytree.register_pytree_node instead.\n",
      "  torch.utils._pytree._register_pytree_node(\n"
     ]
    },
    {
     "data": {
      "application/vnd.jupyter.widget-view+json": {
       "model_id": "8bb5ea054f0243c596c88ac2d8775db4",
       "version_major": 2,
       "version_minor": 0
      },
      "text/plain": [
       "Downloading config.json:   0%|          | 0.00/768 [00:00<?, ?B/s]"
      ]
     },
     "metadata": {},
     "output_type": "display_data"
    },
    {
     "data": {
      "application/vnd.jupyter.widget-view+json": {
       "model_id": "0bb45529b343478cb772f79a97ee56ad",
       "version_major": 2,
       "version_minor": 0
      },
      "text/plain": [
       "Downloading pytorch_model.bin:   0%|          | 0.00/268M [00:00<?, ?B/s]"
      ]
     },
     "metadata": {},
     "output_type": "display_data"
    },
    {
     "data": {
      "application/vnd.jupyter.widget-view+json": {
       "model_id": "d471522eeffc4056af31d4bfd821cce9",
       "version_major": 2,
       "version_minor": 0
      },
      "text/plain": [
       "Downloading tokenizer_config.json:   0%|          | 0.00/291 [00:00<?, ?B/s]"
      ]
     },
     "metadata": {},
     "output_type": "display_data"
    },
    {
     "data": {
      "application/vnd.jupyter.widget-view+json": {
       "model_id": "df72e2c8aef74df8bee077a3ae0dfaaf",
       "version_major": 2,
       "version_minor": 0
      },
      "text/plain": [
       "Downloading vocab.txt:   0%|          | 0.00/232k [00:00<?, ?B/s]"
      ]
     },
     "metadata": {},
     "output_type": "display_data"
    },
    {
     "data": {
      "application/vnd.jupyter.widget-view+json": {
       "model_id": "1e9ee73780c8406697e25a300d501ea9",
       "version_major": 2,
       "version_minor": 0
      },
      "text/plain": [
       "Downloading (…)cial_tokens_map.json:   0%|          | 0.00/112 [00:00<?, ?B/s]"
      ]
     },
     "metadata": {},
     "output_type": "display_data"
    },
    {
     "name": "stderr",
     "output_type": "stream",
     "text": [
      "/Users/sanmatichoudhary/anaconda3/lib/python3.11/site-packages/transformers/pipelines/text_classification.py:105: UserWarning: `return_all_scores` is now deprecated,  if want a similar functionality use `top_k=None` instead of `return_all_scores=True` or `top_k=1` instead of `return_all_scores=False`.\n",
      "  warnings.warn(\n"
     ]
    }
   ],
   "source": [
    "from transformers import pipeline\n",
    "\n",
    "classifier = pipeline(\"text-classification\",model='bhadresh-savani/distilbert-base-uncased-emotion', return_all_scores=True)\n"
   ]
  },
  {
   "cell_type": "markdown",
   "id": "1fc87250",
   "metadata": {},
   "source": [
    "### Examples Song Lyrics - "
   ]
  },
  {
   "cell_type": "markdown",
   "id": "5614659a",
   "metadata": {},
   "source": [
    "#### Happy by Pharrell Williams"
   ]
  },
  {
   "cell_type": "code",
   "execution_count": 2,
   "id": "cfcd4647",
   "metadata": {},
   "outputs": [],
   "source": [
    "lyrics = \"\"\"It might seem crazy what I'm 'bout to say\n",
    "Sunshine she's here, you can take a break\n",
    "I'm a hot air balloon that could go to space\n",
    "With the air, like I don't care, baby, by the way\n",
    "\n",
    "(Because I'm happy)\n",
    "Clap along if you feel like a room without a roof\n",
    "(Because I'm happy)\n",
    "Clap along if you feel like happiness is the truth\n",
    "(Because I'm happy)\n",
    "Clap along if you know what happiness is to you\n",
    "(Because I'm happy)\n",
    "Clap along if you feel like that's what you wanna do\n",
    "\n",
    "Here come bad news, talking this and that (Yeah!)\n",
    "Well, give me all you got, don't hold it back (Yeah!)\n",
    "Well, I should probably warn ya, I'll be just fine (Yeah!)\n",
    "No offense to you, don’t waste your time, here's why\n",
    "\n",
    "(Because I'm happy)\n",
    "Clap along if you feel like a room without a roof\n",
    "(Because I'm happy)\n",
    "Clap along if you feel like happiness is the truth\n",
    "(Because I'm happy)\n",
    "Clap along if you know what happiness is to you\n",
    "(Because I'm happy)\n",
    "Clap along if you feel like that's what you wanna do\n",
    "\"\"\"\n"
   ]
  },
  {
   "cell_type": "code",
   "execution_count": 3,
   "id": "fe9e5761",
   "metadata": {},
   "outputs": [
    {
     "name": "stdout",
     "output_type": "stream",
     "text": [
      "[[{'label': 'sadness', 'score': 0.000528879405464977}, {'label': 'joy', 'score': 0.9985353946685791}, {'label': 'love', 'score': 0.00043352681677788496}, {'label': 'anger', 'score': 0.00018609817198012024}, {'label': 'fear', 'score': 0.0001385931100230664}, {'label': 'surprise', 'score': 0.000177650639670901}]]\n"
     ]
    }
   ],
   "source": [
    "prediction = classifier(lyrics)\n",
    "print(prediction)"
   ]
  },
  {
   "cell_type": "code",
   "execution_count": 5,
   "id": "862262d9",
   "metadata": {},
   "outputs": [
    {
     "name": "stdout",
     "output_type": "stream",
     "text": [
      "joy\n"
     ]
    }
   ],
   "source": [
    "max_label = max(prediction[0], key=lambda x: x['score'])['label']\n",
    "print(max_label)"
   ]
  },
  {
   "cell_type": "markdown",
   "id": "b7f0562b",
   "metadata": {},
   "source": [
    "#### Wrecking Ball by Miley Cyrus"
   ]
  },
  {
   "cell_type": "code",
   "execution_count": 6,
   "id": "b6ef0527",
   "metadata": {},
   "outputs": [],
   "source": [
    "lyrics = \"\"\"\n",
    "[Verse 1]\n",
    "We clawed, we chained our hearts in vain\n",
    "We jumped, never asking why\n",
    "We kissed, I fell under your spell\n",
    "A love no one could deny\n",
    "\n",
    "[Pre-Chorus]\n",
    "Don't you ever say I just walked away\n",
    "I will always want you\n",
    "I can't live a lie, running for my life\n",
    "I will always want you\n",
    "\n",
    "[Chorus]\n",
    "I came in like a wrecking ball\n",
    "I never hit so hard in love\n",
    "All I wanted was to break your walls\n",
    "All you ever did was wreck me\n",
    "Yeah, you, you wreck me\n",
    "\n",
    "[Verse 2]\n",
    "I put you high up in the sky\n",
    "And now, you're not coming down\n",
    "It slowly turned, you let me burn\n",
    "And now, we're ashes on the ground\n",
    "\n",
    "[Pre-Chorus]\n",
    "Don't you ever say I just walked away\n",
    "I will always want you\n",
    "I can't live a lie, running for my life\n",
    "I will always want you\n",
    "\"\"\""
   ]
  },
  {
   "cell_type": "code",
   "execution_count": 7,
   "id": "322f2733",
   "metadata": {},
   "outputs": [
    {
     "name": "stdout",
     "output_type": "stream",
     "text": [
      "[[{'label': 'sadness', 'score': 0.40335676074028015}, {'label': 'joy', 'score': 0.007068042177706957}, {'label': 'love', 'score': 0.0018133686389774084}, {'label': 'anger', 'score': 0.5796093344688416}, {'label': 'fear', 'score': 0.007454819045960903}, {'label': 'surprise', 'score': 0.0006976505974307656}]]\n",
      "anger\n"
     ]
    }
   ],
   "source": [
    "prediction = classifier(lyrics)\n",
    "print(prediction)\n",
    "max_label = max(prediction[0], key=lambda x: x['score'])['label']\n",
    "print(max_label)"
   ]
  },
  {
   "cell_type": "markdown",
   "id": "71935b0b",
   "metadata": {},
   "source": [
    "#### Bad Guy by Billie Eilish"
   ]
  },
  {
   "cell_type": "code",
   "execution_count": null,
   "id": "81da1f60",
   "metadata": {},
   "outputs": [],
   "source": [
    "lyrics = \"\"\"\n",
    "[Verse 1]\n",
    "White shirt now red, my bloody nose\n",
    "Sleepin', you're on your tippy toes\n",
    "Creepin' around like no one knows\n",
    "Think you're so criminal\n",
    "Bruises on both my knees for you\n",
    "Don't say thank you or please\n",
    "I do what I want when I'm wanting to\n",
    "My soul? So cynical\n",
    "\n",
    "[Chorus]\n",
    "So you're a tough guy\n",
    "Like it really rough guy\n",
    "Just can't get enough guy\n",
    "Chest always so puffed guy\n",
    "I'm that bad type\n",
    "Make your mama sad type\n",
    "Make your girlfriend mad tight\n",
    "Might seduce your dad type\n",
    "I'm the bad guy\n",
    "Duh\n",
    "\n",
    "[Post-Chorus]\n",
    "I'm the bad guy\n",
    "\n",
    "[Verse 2]\n",
    "I like it when you take control\n",
    "Even if you know that you don't\n",
    "Own me, I'll let you play the role\n",
    "I'll be your animal\n",
    "My mommy likes to sing along with me\n",
    "But she won't sing this song\n",
    "If she reads all the lyrics\n",
    "She'll pity the men I know\n",
    "\n",
    "You might also like\n",
    "Pink Venom\n",
    "BLACKPINK\n",
    "BLACKPINK - Pink Venom (Romanized)\n",
    "Genius Romanizations\n",
    "BREAK MY SOUL\n",
    "Beyoncé\n",
    "\n",
    "[Chorus]\n",
    "So you're a tough guy\n",
    "Like it really rough guy\n",
    "Just can't get enough guy\n",
    "Chest always so puffed guy\n",
    "I'm that bad type\n",
    "Make your mama sad type\n",
    "Make your girlfriend mad tight\n",
    "Might seduce your dad type\n",
    "I'm the bad guy\n",
    "Duh\n",
    "\n",
    "[Post-Chorus]\n",
    "I'm the bad guy, duh\n",
    "I'm only good at bein' bad, bad\n",
    "\n",
    "[Bridge]\n",
    "I like when you get mad\n",
    "I guess I'm pretty glad that you're alone\n",
    "You said she's scared of me?\n",
    "I mean, I don't see what she sees\n",
    "But maybe it's 'cause I'm wearing your cologne\n",
    "\n",
    "[Outro]\n",
    "I'm a bad guy\n",
    "I'm, I'm a bad guy\n",
    "Bad guy, bad guy\n",
    "I'm a bad\n",
    "\"\"\""
   ]
  },
  {
   "cell_type": "code",
   "execution_count": 8,
   "id": "41273139",
   "metadata": {},
   "outputs": [
    {
     "name": "stdout",
     "output_type": "stream",
     "text": [
      "[[{'label': 'sadness', 'score': 0.40335676074028015}, {'label': 'joy', 'score': 0.007068042177706957}, {'label': 'love', 'score': 0.0018133686389774084}, {'label': 'anger', 'score': 0.5796093344688416}, {'label': 'fear', 'score': 0.007454819045960903}, {'label': 'surprise', 'score': 0.0006976505974307656}]]\n",
      "anger\n"
     ]
    }
   ],
   "source": [
    "prediction = classifier(lyrics)\n",
    "print(prediction)\n",
    "max_label = max(prediction[0], key=lambda x: x['score'])['label']\n",
    "print(max_label)"
   ]
  },
  {
   "cell_type": "code",
   "execution_count": null,
   "id": "27693f46",
   "metadata": {},
   "outputs": [],
   "source": []
  }
 ],
 "metadata": {
  "kernelspec": {
   "display_name": "Python 3 (ipykernel)",
   "language": "python",
   "name": "python3"
  },
  "language_info": {
   "codemirror_mode": {
    "name": "ipython",
    "version": 3
   },
   "file_extension": ".py",
   "mimetype": "text/x-python",
   "name": "python",
   "nbconvert_exporter": "python",
   "pygments_lexer": "ipython3",
   "version": "3.11.5"
  }
 },
 "nbformat": 4,
 "nbformat_minor": 5
}
