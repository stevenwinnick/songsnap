{
 "cells": [
  {
   "cell_type": "code",
   "execution_count": 1,
   "metadata": {},
   "outputs": [
    {
     "data": {
      "text/plain": [
       "'/Users/kevinwang/Desktop/ACV/songsnap'"
      ]
     },
     "execution_count": 1,
     "metadata": {},
     "output_type": "execute_result"
    }
   ],
   "source": [
    "pwd"
   ]
  },
  {
   "cell_type": "code",
   "execution_count": 27,
   "metadata": {},
   "outputs": [],
   "source": [
    "import pandas as pd\n",
    "import numpy as np"
   ]
  },
  {
   "cell_type": "code",
   "execution_count": 9,
   "metadata": {},
   "outputs": [],
   "source": [
    "df = pd.read_csv(\"data/archive/lyrics_cleaned.csv\")"
   ]
  },
  {
   "cell_type": "code",
   "execution_count": 4,
   "metadata": {},
   "outputs": [
    {
     "name": "stderr",
     "output_type": "stream",
     "text": [
      "/Users/kevinwang/Desktop/ACV/.venv/lib/python3.8/site-packages/tqdm/auto.py:21: TqdmWarning: IProgress not found. Please update jupyter and ipywidgets. See https://ipywidgets.readthedocs.io/en/stable/user_install.html\n",
      "  from .autonotebook import tqdm as notebook_tqdm\n"
     ]
    },
    {
     "name": "stdout",
     "output_type": "stream",
     "text": [
      "[[ 6.76568672e-02  6.34958744e-02  4.87131290e-02  7.93049783e-02\n",
      "   3.74480560e-02  2.65281671e-03  3.93749401e-02 -7.09848246e-03\n",
      "   5.93613870e-02  3.15370150e-02  6.00980930e-02 -5.29051833e-02\n",
      "   4.06067707e-02 -2.59308368e-02  2.98427641e-02  1.12690870e-03\n",
      "   7.35149458e-02 -5.03819473e-02 -1.22386612e-01  2.37028506e-02\n",
      "   2.97265034e-02  4.24769334e-02  2.56337989e-02  1.99519284e-03\n",
      "  -5.69191128e-02 -2.71599013e-02 -3.29035446e-02  6.60248548e-02\n",
      "   1.19007125e-01 -4.58791330e-02 -7.26215094e-02 -3.25839929e-02\n",
      "   5.23414202e-02  4.50553074e-02  8.25297739e-03  3.67023945e-02\n",
      "  -1.39415301e-02  6.53919429e-02 -2.64272522e-02  2.06336641e-04\n",
      "  -1.36643853e-02 -3.62809189e-02 -1.95043702e-02 -2.89738681e-02\n",
      "   3.94270793e-02 -8.84091631e-02  2.62423791e-03  1.36713954e-02\n",
      "   4.83062975e-02 -3.11565492e-02 -1.17329173e-01 -5.11690639e-02\n",
      "  -8.85287076e-02 -2.18961891e-02  1.42986327e-02  4.44167927e-02\n",
      "  -1.34814819e-02  7.43392333e-02  2.66383141e-02 -1.98762324e-02\n",
      "   1.79190915e-02 -1.06052542e-02 -9.04263258e-02  2.13269386e-02\n",
      "   1.41204819e-01 -6.47171540e-03 -1.40384864e-03 -1.53609356e-02\n",
      "  -8.73572230e-02  7.22173974e-02  2.01402437e-02  4.25587408e-02\n",
      "  -3.49013992e-02  3.19616229e-04 -8.02970678e-02 -3.27472128e-02\n",
      "   2.85268351e-02 -5.13658002e-02  1.09389238e-01  8.19328353e-02\n",
      "  -9.84039903e-02 -9.34094936e-02 -1.51292346e-02  4.51247878e-02\n",
      "   4.94171754e-02 -2.51867659e-02  1.57077294e-02 -1.29290730e-01\n",
      "   5.31893549e-03  4.02345555e-03 -2.34573185e-02 -6.72982857e-02\n",
      "   2.92280503e-02 -2.60845609e-02  1.30625051e-02 -3.11663970e-02\n",
      "  -4.82713841e-02 -5.58859669e-02 -3.87505330e-02  1.20010763e-01\n",
      "  -1.03924265e-02  4.89704832e-02  5.53537346e-02  4.49359491e-02\n",
      "  -4.00964543e-03 -1.02959730e-01 -2.92969048e-02 -5.83401769e-02\n",
      "   2.70472318e-02 -2.20169388e-02 -7.22241774e-02 -4.13869247e-02\n",
      "  -1.93298124e-02  2.73325178e-03  2.76999286e-04 -9.67588350e-02\n",
      "  -1.00574769e-01 -1.41922953e-02 -8.07891190e-02  4.53925356e-02\n",
      "   2.45039798e-02  5.97613454e-02 -7.38185719e-02  1.19843679e-02\n",
      "  -6.63403198e-02 -7.69044682e-02  3.85157093e-02 -5.59361962e-33\n",
      "   2.80013699e-02 -5.60784750e-02 -4.86601740e-02  2.15569660e-02\n",
      "   6.01980761e-02 -4.81403396e-02 -3.50246355e-02  1.93314049e-02\n",
      "  -1.75151937e-02 -3.89210694e-02 -3.81060247e-03 -1.70287620e-02\n",
      "   2.82099601e-02  1.28290234e-02  4.71601374e-02  6.21028915e-02\n",
      "  -6.43588603e-02  1.29285619e-01 -1.31231071e-02  5.23069762e-02\n",
      "  -3.73681001e-02  2.89094914e-02 -1.68981049e-02 -2.37330738e-02\n",
      "  -3.33491974e-02 -5.16763180e-02  1.55356620e-02  2.08803155e-02\n",
      "  -1.25371097e-02  4.59579229e-02  3.72720025e-02  2.80566867e-02\n",
      "  -5.90005331e-02 -1.16988663e-02  4.92182001e-02  4.70328443e-02\n",
      "   7.35487193e-02 -3.70529480e-02  3.98456585e-03  1.06411930e-02\n",
      "  -1.61618795e-04 -5.27166314e-02  2.75927410e-02 -3.92921790e-02\n",
      "   8.44717994e-02  4.86860834e-02 -4.85873036e-03  1.79948006e-02\n",
      "  -4.28569503e-02  1.23375515e-02  6.39958028e-03  4.04822677e-02\n",
      "   1.48887262e-02 -1.53941941e-02  7.62947872e-02  2.37044208e-02\n",
      "   4.45237309e-02  5.08195497e-02 -2.31252261e-03 -1.88737158e-02\n",
      "  -1.23335682e-02  4.66002859e-02 -5.63437976e-02  6.29926920e-02\n",
      "  -3.15535404e-02  3.24912220e-02  2.34673098e-02 -6.55437931e-02\n",
      "   2.01709103e-02  2.57082544e-02 -1.23868408e-02 -8.36498663e-03\n",
      "  -6.64377883e-02  9.43074152e-02 -3.57092358e-02 -3.42483222e-02\n",
      "  -6.66355388e-03 -8.01527686e-03 -3.09711266e-02  4.33012545e-02\n",
      "  -8.21395498e-03 -1.50795072e-01  3.07692401e-02  4.00718413e-02\n",
      "  -3.79294232e-02  1.93209748e-03  4.00530547e-02 -8.77074823e-02\n",
      "  -3.68491821e-02  8.57949909e-03 -3.19251679e-02 -1.25257513e-02\n",
      "   7.35538900e-02  1.34739769e-03  2.05919426e-02  2.71098017e-33\n",
      "  -5.18576801e-02  5.78361005e-02 -9.18985605e-02  3.94421816e-02\n",
      "   1.05576560e-01 -1.96912028e-02  6.18403256e-02 -7.63463899e-02\n",
      "   2.40880363e-02  9.40049365e-02 -1.16535500e-01  3.71198803e-02\n",
      "   5.22425100e-02 -3.95851815e-03  5.72214685e-02  5.32852532e-03\n",
      "   1.24016821e-01  1.39022190e-02 -1.10249696e-02  3.56053784e-02\n",
      "  -3.30754817e-02  8.16574097e-02 -1.52003886e-02  6.05584867e-02\n",
      "  -6.01397008e-02  3.26102823e-02 -3.48296575e-02 -1.69881545e-02\n",
      "  -9.74907726e-02 -2.71483287e-02  1.74709980e-03 -7.68982247e-02\n",
      "  -4.31858301e-02 -1.89985316e-02 -2.91660912e-02  5.77488244e-02\n",
      "   2.41821520e-02 -1.16901938e-02 -6.21434860e-02  2.84351576e-02\n",
      "  -2.37511485e-04 -2.51783170e-02  4.39638365e-03  8.12840387e-02\n",
      "   3.64184305e-02 -6.04006611e-02 -3.65517959e-02 -7.93748274e-02\n",
      "  -5.08526806e-03  6.69699311e-02 -1.17784336e-01  3.23743485e-02\n",
      "  -4.71252501e-02 -1.34460125e-02 -9.48445126e-02  8.24944302e-03\n",
      "  -1.06749069e-02 -6.81882426e-02  1.11814390e-03  2.48019584e-02\n",
      "  -6.35889471e-02  2.84492802e-02 -2.61303522e-02  8.58111903e-02\n",
      "   1.14682369e-01 -5.35345227e-02 -5.63588664e-02  4.26008590e-02\n",
      "   1.09454012e-02  2.09578797e-02  1.00131147e-01  3.26051265e-02\n",
      "  -1.84208825e-01 -3.93208191e-02 -6.91454262e-02 -6.38105497e-02\n",
      "  -6.56385273e-02 -6.41252706e-03 -4.79612574e-02 -7.68133551e-02\n",
      "   2.95384806e-02 -2.29948480e-02  4.17036563e-02 -2.50047687e-02\n",
      "  -4.54505719e-03 -4.17136624e-02 -1.32289650e-02 -6.38356954e-02\n",
      "  -2.46475334e-03 -1.37337241e-02  1.68976020e-02 -6.30398765e-02\n",
      "   8.98880586e-02  4.18171324e-02 -1.85687393e-02 -1.80442150e-08\n",
      "  -1.67997982e-02 -3.21578458e-02  6.30384609e-02 -4.13092002e-02\n",
      "   4.44819257e-02  2.02467572e-03  6.29593283e-02 -5.17373718e-03\n",
      "  -1.00443950e-02 -3.05641051e-02  3.52672525e-02  5.58581911e-02\n",
      "  -4.67125103e-02  3.45102474e-02  3.29577401e-02  4.30114083e-02\n",
      "   2.94361506e-02 -3.03164497e-02 -1.71107333e-02  7.37484843e-02\n",
      "  -5.47909886e-02  2.77515519e-02  6.20167330e-03  1.58800669e-02\n",
      "   3.42978351e-02 -5.15751587e-03  2.35079248e-02  7.53135681e-02\n",
      "   1.92843433e-02  3.36196162e-02  5.09103499e-02  1.52497068e-01\n",
      "   1.64207760e-02  2.70528384e-02  3.75163406e-02  2.18553729e-02\n",
      "   5.66333793e-02 -3.95747237e-02  7.12313429e-02 -5.41376993e-02\n",
      "   1.03782676e-03  2.11852994e-02 -3.56308594e-02  1.09017022e-01\n",
      "   2.76530045e-03  3.13997380e-02  1.38424488e-03 -3.45738493e-02\n",
      "  -4.59277742e-02  2.88084038e-02  7.16912560e-03  4.84684817e-02\n",
      "   2.61018537e-02 -9.44075827e-03  2.82169133e-02  3.48723903e-02\n",
      "   3.69098522e-02 -8.58945958e-03 -3.53205614e-02 -2.47857273e-02\n",
      "  -1.91920828e-02  3.80708463e-02  5.99653795e-02 -4.22286652e-02]\n",
      " [ 8.64385739e-02  1.02762632e-01  5.39451372e-03  2.04440206e-03\n",
      "  -9.96337924e-03  2.53855120e-02  4.92875502e-02 -3.06266006e-02\n",
      "   6.87254667e-02  1.01366015e-02  7.75397569e-02 -9.00807083e-02\n",
      "   6.10613450e-03 -5.69898523e-02  1.41714942e-02  2.80491542e-02\n",
      "  -8.68464485e-02  7.64399692e-02 -1.03491247e-01 -6.77438155e-02\n",
      "   6.99947029e-02  8.44251215e-02 -7.24919606e-03  1.04770269e-02\n",
      "   1.34020904e-02  6.77576885e-02 -9.42086130e-02 -3.71689983e-02\n",
      "   5.22617809e-02 -3.10853440e-02 -9.63406786e-02  1.57716777e-02\n",
      "   2.57866811e-02  7.85244852e-02  7.89949223e-02  1.91516932e-02\n",
      "   1.64357126e-02  3.10086017e-03  3.81311513e-02  2.37090811e-02\n",
      "   1.05389459e-02 -4.40644510e-02  4.41738404e-02 -2.58727353e-02\n",
      "   6.15378506e-02 -4.05427590e-02 -8.64140317e-02  3.19723114e-02\n",
      "  -8.90733558e-04 -2.44437084e-02 -9.19721201e-02  2.33939439e-02\n",
      "  -8.30293596e-02  4.41510826e-02 -2.49693133e-02  6.23020083e-02\n",
      "  -1.30348036e-03  7.51395077e-02  2.46385112e-02 -6.47243857e-02\n",
      "  -1.17727816e-01  3.83392125e-02 -9.11767706e-02  6.35446534e-02\n",
      "   7.62739629e-02 -8.80241171e-02  9.54561494e-03 -4.69717532e-02\n",
      "  -8.41740370e-02  3.88823673e-02 -1.14393607e-01  6.28855312e-03\n",
      "  -3.49361598e-02  2.39750296e-02 -3.31317261e-02 -1.57244168e-02\n",
      "  -3.78955565e-02 -8.81249085e-03  7.06118718e-02  3.28066200e-02\n",
      "   2.03672866e-03 -1.12278901e-01  6.79722428e-03  1.22765265e-02\n",
      "   3.35303694e-02 -1.36200348e-02 -2.25490090e-02 -2.25228872e-02\n",
      "  -2.03194432e-02  5.04297651e-02 -7.48653114e-02 -8.22822079e-02\n",
      "   7.65962452e-02  4.93392125e-02 -3.75553481e-02  1.44634517e-02\n",
      "  -5.72457574e-02 -1.79954618e-02  1.09697983e-01  1.19462803e-01\n",
      "   8.09197372e-04  6.17057569e-02  3.26322690e-02 -1.30780146e-01\n",
      "  -1.48636594e-01 -6.16232902e-02  4.33885902e-02  2.67128907e-02\n",
      "   1.39785949e-02 -3.94002572e-02 -2.52711475e-02  3.87741462e-03\n",
      "   3.58664766e-02 -6.15420826e-02  3.76660675e-02  2.67565325e-02\n",
      "  -3.82659324e-02 -3.54793482e-02 -2.39227470e-02  8.67977068e-02\n",
      "  -1.84063353e-02  7.71039054e-02  1.39866141e-03  7.00383037e-02\n",
      "  -4.77877818e-02 -7.89819732e-02  5.10813482e-02 -2.99868462e-33\n",
      "  -3.91646475e-02 -2.56215734e-03  1.65210459e-02  9.48940031e-03\n",
      "  -5.66219278e-02  6.57783300e-02 -4.77002524e-02  1.11661367e-02\n",
      "  -5.73558211e-02 -9.16255452e-03 -2.17521191e-02 -5.59531562e-02\n",
      "  -1.11422678e-02  9.32793766e-02  1.66765023e-02 -1.36723602e-02\n",
      "   4.34388369e-02  1.87244103e-03  7.29945023e-03  5.16331904e-02\n",
      "   4.80608568e-02  1.35341510e-01 -1.71739347e-02 -1.29698068e-02\n",
      "  -7.50109404e-02  2.61107944e-02  2.69801822e-02  7.83023948e-04\n",
      "  -4.87270057e-02  1.17842797e-02 -4.59580272e-02 -4.83213738e-02\n",
      "  -1.95670910e-02  1.93889365e-02  1.98806785e-02  1.67432260e-02\n",
      "   9.87801179e-02 -2.74088047e-02  2.34809034e-02  3.70236114e-03\n",
      "  -6.14514537e-02 -1.21231470e-03 -9.50473454e-03  9.25158523e-03\n",
      "   2.38443613e-02  8.61232132e-02  2.26789750e-02  5.45142451e-04\n",
      "   3.47130075e-02  6.25458173e-03 -6.92771329e-03  3.92400585e-02\n",
      "   1.15674902e-02  3.26279663e-02  6.22155555e-02  2.76114456e-02\n",
      "   1.86883677e-02  3.55805270e-02  4.11796123e-02  1.54782133e-02\n",
      "   4.22691256e-02  3.82248536e-02  1.00313295e-02 -2.83246078e-02\n",
      "   4.47052270e-02 -4.10458967e-02 -4.50553047e-03 -5.44734970e-02\n",
      "   2.62321066e-02  1.79862510e-02 -1.23118833e-01 -4.66951877e-02\n",
      "  -1.35913417e-02  6.46710098e-02  3.57349752e-03 -1.22233927e-02\n",
      "  -1.79382041e-02 -2.55502183e-02  2.37224177e-02  4.08667093e-03\n",
      "  -6.51475564e-02  4.43651900e-02  4.68596183e-02 -3.25174592e-02\n",
      "   4.02270816e-03 -3.97605123e-03  1.11939386e-02 -9.95597988e-02\n",
      "   3.33167911e-02  8.01060200e-02  9.42692161e-02 -6.38294369e-02\n",
      "   3.23151909e-02 -5.13553433e-02 -7.49873742e-03  5.30048448e-34\n",
      "  -4.13194783e-02  9.49646831e-02 -1.06401429e-01  4.96590547e-02\n",
      "  -3.41913961e-02 -3.16746011e-02 -1.71556398e-02  1.70097500e-03\n",
      "   5.79758026e-02 -1.21779635e-03 -1.68536808e-02 -5.16912974e-02\n",
      "   5.52998967e-02 -3.42647582e-02  3.08178850e-02 -3.10481414e-02\n",
      "   9.27532464e-02  3.72663438e-02 -2.37397738e-02  4.45893630e-02\n",
      "   1.46153737e-02  1.16239391e-01 -5.00112511e-02  3.88716348e-02\n",
      "   4.24752012e-03  2.56976336e-02  3.27243768e-02  4.29907590e-02\n",
      "  -1.36144636e-02  2.56122593e-02  1.06262341e-02 -8.46864432e-02\n",
      "  -9.52981859e-02  1.08399861e-01 -7.51600415e-02 -1.37773799e-02\n",
      "   6.37337863e-02 -4.49667033e-03 -3.25321257e-02  6.23613559e-02\n",
      "   3.48052830e-02 -3.54921930e-02 -2.00222246e-02  3.66608389e-02\n",
      "  -2.48837117e-02  1.01819178e-02 -7.01232925e-02 -4.31950875e-02\n",
      "   2.95332465e-02 -2.94965372e-04 -3.45386565e-02  1.46675911e-02\n",
      "  -9.83969867e-02 -4.70488332e-02 -8.85494426e-03 -8.89914483e-02\n",
      "   3.50995921e-02 -1.29602045e-01 -4.98865508e-02 -6.12047091e-02\n",
      "  -5.97797371e-02  9.46316496e-03  4.91217673e-02 -7.75026456e-02\n",
      "   8.09726641e-02 -4.79257554e-02  2.34380434e-03  7.57030994e-02\n",
      "  -2.40175910e-02 -1.52546242e-02  4.86739241e-02 -3.85968648e-02\n",
      "  -7.04831630e-02 -1.20347999e-02 -3.88790183e-02 -7.76016638e-02\n",
      "  -1.07243797e-02  1.04188044e-02 -2.13753935e-02 -9.17386338e-02\n",
      "  -1.11344922e-02 -2.96066497e-02  2.46458128e-02  4.65714559e-03\n",
      "  -1.63449626e-02 -3.95219661e-02  7.73373395e-02 -2.84733456e-02\n",
      "  -3.69935646e-03  8.27665552e-02 -1.10409111e-02  3.13984156e-02\n",
      "   5.35093918e-02  5.75145595e-02 -3.17621902e-02 -1.52911248e-08\n",
      "  -7.99661353e-02 -4.76797372e-02 -8.59788507e-02  5.69616146e-02\n",
      "  -4.08866070e-02  2.23832447e-02 -4.64446703e-03 -3.80130708e-02\n",
      "  -3.10670976e-02 -1.07278675e-02  1.97698865e-02  7.77004752e-03\n",
      "  -6.09474722e-03 -3.86376344e-02  2.80272104e-02  6.78138360e-02\n",
      "  -2.35350728e-02  3.21747921e-02  8.02536123e-03 -2.39107292e-02\n",
      "  -1.22002128e-03  3.14599276e-02 -5.24924062e-02 -8.06812011e-03\n",
      "   3.14771687e-03  5.11496663e-02 -4.44104485e-02  6.36013672e-02\n",
      "   3.85083929e-02  3.30433175e-02 -4.18728124e-03  4.95592840e-02\n",
      "  -5.69604710e-02 -6.49709441e-03 -2.49793604e-02 -1.60867013e-02\n",
      "   6.62288740e-02 -2.06310414e-02  1.08045734e-01  1.68547127e-02\n",
      "   1.43813230e-02 -1.32127134e-02 -1.29387394e-01  6.95216507e-02\n",
      "  -5.55773154e-02 -6.75413832e-02 -5.45817148e-03 -6.13589212e-03\n",
      "   3.90840992e-02 -6.28779680e-02  3.74063440e-02 -1.16570890e-02\n",
      "   1.29150031e-02 -5.52495196e-02  5.16075790e-02 -4.30839555e-03\n",
      "   5.80247454e-02  1.86945181e-02  2.27810461e-02  3.21665853e-02\n",
      "   5.37978709e-02  7.02849478e-02  7.49312267e-02 -8.41775239e-02]]\n"
     ]
    }
   ],
   "source": [
    "from sentence_transformers import SentenceTransformer\n",
    "sentences = [\"This is an example sentence\", \"Each sentence is converted\"]\n",
    "\n",
    "model = SentenceTransformer(\"all-MiniLM-L6-v2\")\n",
    "embeddings = model.encode(sentences)\n",
    "print(embeddings)"
   ]
  },
  {
   "cell_type": "code",
   "execution_count": 15,
   "metadata": {},
   "outputs": [],
   "source": [
    "sentence = df[\"lyrics_cleaned\"].loc[0]"
   ]
  },
  {
   "cell_type": "code",
   "execution_count": 16,
   "metadata": {},
   "outputs": [
    {
     "data": {
      "text/plain": [
       "array([-1.04844145e-01, -3.34747694e-03,  8.16690922e-02,  2.82637458e-02,\n",
       "        4.39169109e-02, -3.07423640e-02,  6.23075962e-02,  3.59399915e-02,\n",
       "       -1.53998062e-02, -1.34700479e-03, -2.48510614e-02, -5.41189872e-02,\n",
       "        1.74779594e-02, -8.09894502e-02,  2.55813673e-02,  7.02397749e-02,\n",
       "        5.41119017e-02,  5.27409427e-02, -5.23160249e-02, -4.79740761e-02,\n",
       "        5.36865601e-03,  1.59817487e-02, -2.66308151e-02,  6.59387708e-02,\n",
       "       -2.78206579e-02,  8.58431011e-02, -2.05724984e-02,  5.81547320e-02,\n",
       "       -8.07501525e-02,  1.68158729e-02, -1.49640143e-02, -5.87985944e-03,\n",
       "        4.50759567e-02, -1.27356928e-02, -6.22480400e-02, -2.10571270e-02,\n",
       "       -6.42275214e-02, -4.09622937e-02, -3.71705019e-03, -3.90396565e-02,\n",
       "        5.97707033e-02,  6.28942549e-02,  1.70495789e-02, -1.58487167e-02,\n",
       "       -1.77965742e-02, -4.37994394e-03, -3.90986959e-03,  7.03581423e-02,\n",
       "       -8.06459039e-03, -2.39380589e-03, -1.80154275e-02, -3.75672802e-02,\n",
       "        1.81106525e-03,  6.17847964e-02,  2.66246479e-02,  6.02984503e-02,\n",
       "        4.80736941e-02,  4.17264104e-02,  1.50614660e-02,  1.13246135e-01,\n",
       "       -2.33795797e-03, -2.76994836e-02,  3.14923376e-02, -4.35969308e-02,\n",
       "        3.10700126e-02, -3.84782068e-02,  2.97131874e-02,  7.39798546e-02,\n",
       "       -9.33577120e-02,  9.36431140e-02, -3.65756103e-03, -2.13960558e-02,\n",
       "       -2.33845282e-02,  7.35137332e-03, -2.21066959e-02,  2.73987930e-02,\n",
       "       -5.08581176e-02,  1.91085730e-02,  2.22866684e-02,  1.73876970e-03,\n",
       "       -6.48769364e-02,  1.77866556e-02,  4.20753956e-02, -8.92760009e-02,\n",
       "       -1.09122112e-01, -7.49711543e-02,  1.61850937e-02, -5.59799820e-02,\n",
       "        8.01860616e-02, -7.95380473e-02,  9.91757959e-03, -1.27863688e-02,\n",
       "       -2.47896891e-02,  1.39700826e-02, -5.95635641e-03, -6.41445071e-02,\n",
       "       -1.06796458e-01,  2.88503896e-02, -7.43882358e-02,  5.56087382e-02,\n",
       "        8.03479627e-02, -8.01080372e-03,  5.07546738e-02,  1.96726490e-02,\n",
       "        2.63525266e-02,  6.07862463e-03, -4.32537571e-02,  2.18723044e-02,\n",
       "        1.23158167e-03, -4.34768107e-03, -2.94058211e-02,  1.24491528e-02,\n",
       "        1.59979258e-02, -2.37390138e-02,  2.43238658e-02, -3.90792117e-02,\n",
       "        8.62797871e-02,  8.85511097e-03,  4.71905842e-02,  4.94088084e-02,\n",
       "       -8.49866681e-03, -4.71250974e-02,  1.71589646e-02,  2.91609447e-02,\n",
       "       -2.80069560e-02, -7.35594928e-02, -1.13505252e-01,  1.45306714e-33,\n",
       "        1.21994585e-01,  5.29979877e-02,  5.13602160e-02,  3.85524556e-02,\n",
       "        1.08555205e-01, -1.28748370e-02, -4.21599811e-03, -2.43158061e-02,\n",
       "       -1.02607841e-02, -1.12116905e-02, -1.70556009e-02, -2.17675585e-02,\n",
       "       -4.17919224e-03,  1.26915779e-02, -3.11967768e-02,  1.93078741e-02,\n",
       "        2.88718827e-02, -1.17861696e-01,  6.84317499e-02,  5.91638014e-02,\n",
       "       -7.46690631e-02,  8.21581576e-03, -7.46005354e-03, -8.36281702e-02,\n",
       "        3.44199948e-02, -4.44357097e-02, -4.39399533e-04,  2.84887431e-03,\n",
       "        4.86074500e-02,  7.72058126e-03, -3.24524939e-02, -3.24347941e-03,\n",
       "        7.66730830e-02,  3.80936004e-02, -5.81137203e-02, -7.10794628e-02,\n",
       "        3.60223209e-03, -6.09724559e-02, -9.37168151e-02, -3.11159808e-02,\n",
       "       -1.36435637e-02,  4.70265672e-02,  3.62952612e-03,  1.34017747e-02,\n",
       "       -5.79591729e-02, -1.60548985e-02, -1.10844418e-01,  7.13671371e-02,\n",
       "        8.07281882e-02, -3.71295996e-02,  3.88149992e-02, -3.51697914e-02,\n",
       "        4.59047891e-02, -3.11039435e-03,  6.20161928e-03,  3.70263830e-02,\n",
       "       -2.83307228e-02,  7.87408575e-02,  2.76093669e-02,  4.36939225e-02,\n",
       "       -5.72127849e-03, -7.27236718e-02,  6.90755770e-02, -1.54436141e-01,\n",
       "       -3.59905325e-02, -7.65743554e-02, -5.76677620e-02,  1.93380509e-02,\n",
       "        1.02099339e-02,  2.22218875e-02, -3.67345139e-02, -2.26343051e-03,\n",
       "       -5.75657971e-02, -1.59746315e-02,  5.29009886e-02, -6.87283352e-02,\n",
       "        6.16815351e-02, -3.26081440e-02,  1.51368473e-02, -2.32862141e-02,\n",
       "       -7.84199387e-02,  1.13977222e-02,  2.60310248e-02,  5.84872141e-02,\n",
       "       -3.06981318e-02, -8.38767961e-02,  4.50724289e-02,  1.15730576e-02,\n",
       "       -4.28220108e-02,  4.40422185e-02, -4.73637134e-02,  7.43082538e-02,\n",
       "        1.65276248e-02, -3.23743224e-02, -3.63442525e-02, -2.70397790e-33,\n",
       "        3.97016034e-02,  1.11759253e-01,  4.25061174e-02,  1.05466165e-01,\n",
       "       -9.07417201e-03, -7.63555020e-02,  1.16672395e-02,  9.60313305e-02,\n",
       "       -1.68146044e-02, -7.85667915e-03,  8.11573770e-03, -7.88180679e-02,\n",
       "        1.01443669e-02, -5.25932983e-02,  5.53273223e-02,  1.22103626e-02,\n",
       "        6.70687202e-03,  7.61905089e-02,  1.55548826e-02, -3.34591717e-02,\n",
       "       -5.64659238e-02,  9.13821831e-02,  9.75205451e-02,  8.30642693e-03,\n",
       "       -2.96086520e-02, -7.85293952e-02,  4.81564552e-02,  4.36663777e-02,\n",
       "        1.09551616e-01, -3.93091850e-02, -2.70087016e-03,  1.53046837e-02,\n",
       "       -1.37651697e-01,  1.34102087e-02,  1.05689578e-02, -2.33347584e-02,\n",
       "       -1.83379035e-02,  2.90062763e-02, -5.22088595e-02, -2.60786042e-02,\n",
       "       -1.08723849e-01, -1.60642003e-03, -9.71505232e-03,  1.78095158e-02,\n",
       "        9.67803504e-03, -3.56920585e-02,  1.24055892e-01,  8.50970075e-02,\n",
       "        1.10579543e-02, -7.88609032e-03,  6.77176490e-02, -1.23435587e-01,\n",
       "       -3.93539257e-02,  1.65836647e-01, -5.94358221e-02, -9.85261500e-02,\n",
       "        5.35400696e-02,  5.82623817e-02, -6.12693951e-02, -1.55346422e-02,\n",
       "        2.12956090e-02, -1.71507802e-02, -7.06158653e-02, -5.89482933e-02,\n",
       "       -3.40292715e-02,  9.35427786e-04,  3.07542644e-02, -4.97560874e-02,\n",
       "        2.48919819e-02,  7.47803599e-02, -5.38223796e-02,  8.13874602e-03,\n",
       "       -8.73793289e-02, -1.99795924e-02,  6.81204628e-03,  2.88744271e-02,\n",
       "       -1.89503282e-02, -2.08777525e-02, -4.58734706e-02, -2.72851456e-02,\n",
       "       -1.31485406e-02,  6.32582558e-03,  7.39710592e-03,  6.85384348e-02,\n",
       "        7.57737160e-02, -3.73650789e-02, -2.45909169e-02,  5.38778566e-02,\n",
       "       -3.18102278e-02, -2.20730081e-02,  1.83602013e-02, -2.15127636e-02,\n",
       "       -6.28808886e-03, -9.35805123e-03, -2.88372468e-02, -5.55724426e-08,\n",
       "        6.35534571e-03, -3.53851281e-02, -7.16197565e-02, -9.74441767e-02,\n",
       "        8.11182037e-02,  7.07055768e-03, -6.52596168e-03, -3.94105427e-02,\n",
       "        6.50948845e-03, -7.27249458e-02,  3.93153317e-02,  7.16443509e-02,\n",
       "        3.59597392e-02, -1.66220926e-02, -4.48341370e-02,  1.06194660e-01,\n",
       "        7.31624663e-03, -1.00538880e-03,  4.74900156e-02, -5.07052280e-02,\n",
       "        3.86279784e-02, -3.49698626e-02, -8.73372890e-03, -7.40546500e-03,\n",
       "       -3.05750184e-02, -3.30867502e-03, -3.07766292e-02, -1.19378902e-02,\n",
       "       -3.69133130e-02, -7.59496912e-02,  1.92131326e-02, -2.04516556e-02,\n",
       "        4.19843830e-02, -3.33777592e-02,  1.15722612e-01,  1.79982092e-02,\n",
       "        3.17608453e-02,  2.03750189e-02, -1.91577058e-02, -2.11979952e-02,\n",
       "       -7.63891498e-04,  1.87324325e-03,  1.19474538e-01,  3.70317101e-02,\n",
       "        3.89208412e-03, -9.61694196e-02,  8.92263502e-02,  4.17453684e-02,\n",
       "       -6.09556809e-02, -3.09296306e-02,  9.72478278e-03, -6.23886734e-02,\n",
       "       -3.22484821e-02,  4.39358577e-02, -6.58338889e-02, -6.59738807e-03,\n",
       "       -3.82709429e-02,  7.03339204e-02,  2.63643693e-02,  5.93945943e-02,\n",
       "        5.83008267e-02,  6.60451455e-03, -2.90999785e-02, -6.22035041e-02],\n",
       "      dtype=float32)"
      ]
     },
     "execution_count": 16,
     "metadata": {},
     "output_type": "execute_result"
    }
   ],
   "source": [
    "model.encode(sentence)"
   ]
  },
  {
   "cell_type": "code",
   "execution_count": 23,
   "metadata": {},
   "outputs": [
    {
     "data": {
      "text/plain": [
       "'[Intro]\\nOh-oh, oh-oh\\nOh-oh, oh-oh\\n\\n[Verse 1]\\nYou were in college working part time waitin\\' tables\\nLeft a small town, never looked back\\nI was a flight risk with a fear of falling\\nWonderin\\' why we bother with love if it never lasts\\n\\n[Pre-Chorus]\\nI say, \"Can you believe it?\"\\nAs we\\'re lyin\\' on the couch\\nThe moment I could see it\\nYes, yes, I can see it now\\n\\n[Chorus]\\nDo you remember, we were sittin\\' there by the water?\\nYou put your arm around me for the first time\\nYou made a rebel of a careless man\\'s careful daughter\\nYou are the best thing that\\'s ever been mine\\n\\n[Verse 2]\\nFlash forward and we\\'re takin\\' on the world together\\nAnd there\\'s a drawer of my things at your place\\nYou learn my secrets and you figure out why I\\'m guarded\\nYou say we\\'ll never make my parents\\' mistakes\\nSee Taylor Swift LiveGet tickets as low as $200You might also like[Pre-Chorus]\\nBut we got bills to pay\\nWe got nothing figured out\\nWhen it was hard to take\\nYes, yes, this is what I thought about\\n\\n[Chorus]\\nDo you remember, we were sittin\\' there by the water?\\nYou put your arm around me for the first time\\nYou made a rebel of a careless man\\'s careful daughter\\nYou are the best thing that\\'s ever been mine\\nDo you remember all the city lights on the water?\\nYou saw me start to believe for the first time\\nYou made a rebel of a careless man\\'s careful daughter\\nYou are the best thing that\\'s ever been mine\\n\\n[Post-Chorus]\\nOh-oh, oh-oh\\n\\n[Bridge]\\nAnd I remember that fight, 2:30AM\\nAs everything was slipping right out of our hands\\nI ran out crying and you followed me out into the street\\nBraced myself for the goodbye\\n\\'Cause that\\'s all I\\'ve ever known\\nThen you took me by surprise\\nYou said, \"I\\'ll never leave you alone\"\\n[Chorus]\\nYou said, \"I remember how we felt sitting by the water\\nAnd every time I look at you, it\\'s like the first time\\nI fell in love with a careless man\\'s careful daughter\\nShe is the best thing that\\'s ever been mine\"\\n\\n[Post-Chorus]\\nHold on, make it last\\nHold on, never turn back\\n(Hold on) You made a rebel of a careless man\\'s careful daughter (Make it last)\\n(Hold on) You are the best thing that\\'s ever been mine (Hold on)\\n\\n[Outro]\\nYes, yes, do you believe it? (Hold on)\\nYes, yes, we\\'re gonna make it now (Hold on)\\nYes, yes, I can see it\\nYes, yes, I can see it now45Embed'"
      ]
     },
     "execution_count": 23,
     "metadata": {},
     "output_type": "execute_result"
    }
   ],
   "source": [
    "def find_lyrics(artist, track):\n",
    "    row = df[(df[\"artist\"] == artist) & (df[\"track\"] == track)]\n",
    "    if len(row) == 0:\n",
    "        return None\n",
    "    return row.iloc[0][\"lyrics_cleaned\"]\n",
    "\n",
    "find_lyrics(\"Taylor Swift\", \"Mine\")"
   ]
  },
  {
   "cell_type": "code",
   "execution_count": 39,
   "metadata": {},
   "outputs": [
    {
     "data": {
      "text/plain": [
       "('[Intro]\\nOh-oh, oh-oh\\nOh-oh, oh-oh\\n\\n[Verse 1]\\nYou were in college working part time waitin\\' tables\\nLeft a small town, never looked back\\nI was a flight risk with a fear of falling\\nWonderin\\' why we bother with love if it never lasts\\n\\n[Pre-Chorus]\\nI say, \"Can you believe it?\"\\nAs we\\'re lyin\\' on the couch\\nThe moment I could see it\\nYes, yes, I can see it now\\n\\n[Chorus]\\nDo you remember, we were sittin\\' there by the water?\\nYou put your arm around me for the first time\\nYou made a rebel of a careless man\\'s careful daughter\\nYou are the best thing that\\'s ever been mine\\n\\n[Verse 2]\\nFlash forward and we\\'re takin\\' on the world together\\nAnd there\\'s a drawer of my things at your place\\nYou learn my secrets and you figure out why I\\'m guarded\\nYou say we\\'ll never make my parents\\' mistakes\\nSee Taylor Swift LiveGet tickets as low as $200You might also like[Pre-Chorus]\\nBut we got bills to pay\\nWe got nothing figured out\\nWhen it was hard to take\\nYes, yes, this is what I thought about\\n\\n[Chorus]\\nDo you remember, we were sittin\\' there by the water?\\nYou put your arm around me for the first time\\nYou made a rebel of a careless man\\'s careful daughter\\nYou are the best thing that\\'s ever been mine\\nDo you remember all the city lights on the water?\\nYou saw me start to believe for the first time\\nYou made a rebel of a careless man\\'s careful daughter\\nYou are the best thing that\\'s ever been mine\\n\\n[Post-Chorus]\\nOh-oh, oh-oh\\n\\n[Bridge]\\nAnd I remember that fight, 2:30AM\\nAs everything was slipping right out of our hands\\nI ran out crying and you followed me out into the street\\nBraced myself for the goodbye\\n\\'Cause that\\'s all I\\'ve ever known\\nThen you took me by surprise\\nYou said, \"I\\'ll never leave you alone\"\\n[Chorus]\\nYou said, \"I remember how we felt sitting by the water\\nAnd every time I look at you, it\\'s like the first time\\nI fell in love with a careless man\\'s careful daughter\\nShe is the best thing that\\'s ever been mine\"\\n\\n[Post-Chorus]\\nHold on, make it last\\nHold on, never turn back\\n(Hold on) You made a rebel of a careless man\\'s careful daughter (Make it last)\\n(Hold on) You are the best thing that\\'s ever been mine (Hold on)\\n\\n[Outro]\\nYes, yes, do you believe it? (Hold on)\\nYes, yes, we\\'re gonna make it now (Hold on)\\nYes, yes, I can see it\\nYes, yes, I can see it now45Embed',\n",
       " \"[Verse 1]\\nLoving him is like driving a new Maserati down a dead-end street\\nFaster than the wind, passionate as sin, ending so suddenly\\nLoving him is like trying to change your mind once you're already flying through the free fall\\nLike the colors in autumn, so bright just before they lose it all\\n\\n[Chorus]\\nLosing him was blue like I'd never known\\nMissing him was dark gray, all alone\\nForgetting him was like trying to know somebody you've never met\\nBut loving him was red\\n\\n[Post-Chorus]\\n(Red, red)\\n(Red, red)\\nLoving him was red\\n(Red, red)\\n(Red, red)\\n\\n[Verse 2]\\nTouching him was like realizing all you ever wanted was right there in front of you\\nMemorizing him was as easy as knowing all the words to your old favorite song\\nFighting with him was like trying to solve a crossword and realizing there's no right answer\\nRegretting him was like wishing you never found out that love could be that strong\\n\\n[Chorus]\\nLosing him was blue like I'd never known\\nMissing him was dark gray, all alone (Whoa)\\nForgetting him was like trying to know somebody you've never met\\nBut loving him was red\\nSee Taylor Swift LiveGet tickets as low as $200You might also like[Post-Chorus]\\n(Red, red)\\nOh, red (Red, red)\\nBurning red (Red, red)\\n(Red, red)\\n\\n[Bridge]\\nRemembering him comes in flashbacks and echoes\\nTell myself it's time now, gotta let go\\nBut moving on from him is impossible\\nWhen I still see it all in my head\\nIn burning red\\nBurning, it was red\\n\\n[Chorus]\\nOh, losing him was blue like I'd never known\\nMissing him was dark gray, all alone (Whoa)\\nForgetting him was like trying to know somebody you've never met\\n'Cause loving him was red\\n\\n[Post-Chorus]\\n(Red, red) Yeah, yeah, red (Red, red)\\nBurning red (Red, red)\\n(Red, red)\\n\\n[Breakdown]\\nAnd that's why (Red, red) he's spinning 'round in my head\\nComes back to me (Red, red), burning red\\n(Red, red) Yeah, yeah\\n(Red, red)\\n[Outro]\\nHis love was like driving a new Maserati down a dead-end street104Embed\",\n",
       " '[Intro]\\n\"Look, I was gonna go easy on you not to hurt your feelings\"\\n\"But I\\'m only going to get this one chance\" (Six minutes—, six minutes—)\\n\"Something\\'s wrong, I can feel it\" (Six minutes, Slim Shady, you\\'re on!)\\n\"Just a feeling I\\'ve got, like something\\'s about to happen, but I don\\'t know what.\\xa0\\nIf that means what I think it means, we\\'re in trouble, big trouble;\\xa0\\nAnd if he is as bananas as you say, I\\'m not taking any chances\"\\n\"You are just what the doc ordered\"\\n\\n[Chorus]\\nI\\'m beginnin\\' to feel like a Rap God, Rap God\\nAll my people from the front to the back nod, back nod\\nNow, who thinks their arms are long enough to slap box, slap box?\\nThey said I rap like a robot, so call me Rap-bot\\n[Verse 1]\\nBut for me to rap like a computer it must be in my genes\\nI got a laptop in my back pocket\\nMy pen\\'ll go off when I half-cock it\\nGot a fat knot from that rap profit\\nMade a livin\\' and a killin\\' off it\\nEver since Bill Clinton was still in office\\nWith Monica Lewinsky feelin\\' on his nutsack\\nI\\'m an MC still as honest\\nBut as rude and as indecent as all hell\\nSyllables, skill-a-holic (Kill \\'em all with)\\nThis flippity dippity-hippity hip-hop\\nYou don\\'t really wanna get into a pissin\\' match\\nWith this rappity brat, packin\\' a MAC in the back of the Ac\\'\\nBackpack rap crap, yap-yap, yackety-yack\\nAnd at the exact same time, I attempt these lyrical acrobat stunts while I\\'m practicin\\' that\\nI\\'ll still be able to break a motherfuckin\\' table\\nOver the back of a couple of faggots and crack it in half\\nOnly realized it was ironic, I was signed to Aftermath after the fact\\nHow could I not blow? All I do is drop F-bombs\\nFeel my wrath of attack\\nRappers are havin\\' a rough time period, here\\'s a maxi pad\\nIt\\'s actually disastrously bad for the wack\\nWhile I\\'m masterfully constructing this masterpièce\\nYou might also like[Chorus]\\n\\'Cause I\\'m beginnin\\' to feel like a Rap God, Rap God\\nAll my people from the front to the back nod, back nod\\nNow, who thinks their arms are long enough to slap box, slap box?\\nLet me show you maintainin\\' this shit ain\\'t that hard, that hard\\nEverybody want the key and the secret to rap immortality like Ι have got\\n\\n[Verse 2]\\nWell, to be truthful the blueprint\\'s\\nSimply rage and youthful exuberance\\nEverybody loves to root for a nuisance\\nHit the Earth like an asteroid\\nDid nothing but shoot for the Moon since (Pew!)\\nMCs get taken to school with this music\\n\\'Cause I use it as a vehicle to \"bus the rhyme\"\\nNow I lead a new school full of students\\nMe? I\\'m a product of Rakim\\nLakim Shabazz, 2Pac, N.W.A, Cube, hey Doc, Ren\\nYella, Eazy, thank you, they got Slim\\nInspired enough to one day grow up, blow up and be in a position\\nTo meet Run–D.M.C., and induct them\\nInto the motherfuckin\\' Rock and Roll Hall of Fame\\nEven though I\\'ll walk in the church and burst in a ball of flames\\nOnly Hall of Fame I\\'ll be inducted in is the alcohol of fame\\nOn the wall of shame\\nYou fags think it\\'s all a game, \\'til I walk a flock of flames\\nOff a plank and, tell me what in the fuck are you thinkin\\'?\\nLittle gay-lookin\\' boy\\nSo gay I can barely say it with a straight face, lookin\\' boy (Ha-ha!)\\nYou\\'re witnessin\\' a mass-occur\\nLike you\\'re watching a church gathering take place, lookin\\' boy\\n\"Oy vey, that boy\\'s gay!\"—that\\'s all they say, lookin\\' boy\\nYou get a thumbs up, pat on the back\\nAnd a \"way to go\" from your label every day, lookin\\' boy\\nHey, lookin\\' boy! What you say, lookin\\' boy?\\nI get a \"hell yeah\" from Dre, lookin\\' boy\\nI\\'ma work for everything I have, never asked nobody for shit\\nGet outta my face, lookin\\' boy!\\nBasically, boy, you\\'re never gonna be capable\\nOf keepin\\' up with the same pace, lookin\\' boy, \\'cause—\\n[Chorus]\\nI\\'m beginnin\\' to feel like a Rap God, Rap God\\nAll my people from the front to the back nod, back nod\\nThe way I\\'m racin\\' around the track, call me NASCAR, NASCAR\\nDale Earnhardt of the trailer park, the White Trash God\\nKneel before General Zod\\nThis planet\\'s Krypton—no, Asgard, Asgard\\n\\n[Verse 3]\\nSo you\\'ll be Thor and I\\'ll be Odin\\nYou rodent, I\\'m omnipotent\\nLet off, then I\\'m reloadin\\'\\nImmediately with these bombs I\\'m totin\\'\\nAnd I should not be woken\\nI\\'m the walkin\\' dead, but I\\'m just a talkin\\' head, a zombie floatin\\'\\nBut I got your mom deep-throatin\\'\\nI\\'m out my Ramen Noodle\\nWe have nothin\\' in common, poodle\\nI\\'m a Doberman, pinch yourself in the arm and pay homage, pupil\\nIt\\'s me, my honesty\\'s brutal\\nBut it\\'s honestly futile if I don\\'t utilize what I do though\\nFor good at least once in a while\\nSo I wanna make sure somewhere in this chicken scratch I scribble and doodle enough rhymes\\nTo maybe try to help get some people through tough times\\nBut I gotta keep a few punchlines\\nJust in case \\'cause even you unsigned\\nRappers are hungry lookin\\' at me like it\\'s lunchtime\\nI know there was a time where once I\\nWas king of the underground\\nBut I still rap like I\\'m on my Pharoahe Monch grind\\nSo I crunch rhymes, but sometimes when you combine\\nAppeal with the skin color of mine\\nYou get too big and here they come tryin\\'\\nTo censor you like that one line\\nI said on \"I\\'m Back\" from The Mathers LP 1 when I\\nTried to say I\\'ll take seven kids from Columbine\\nPut \\'em all in a line, add an AK-47, a revolver and a 9\\nSee if I get away with it now that I ain\\'t as big as I was, but I\\'m\\nMorphin\\' into an immortal, comin\\' through the portal\\nYou\\'re stuck in a time warp from 2004 though\\nAnd I don\\'t know what the fuck that you rhyme for\\nYou\\'re pointless as Rapunzel with fuckin\\' cornrows\\nYou write normal? Fuck being normal!\\nAnd I just bought a new raygun from the future\\nJust to come and shoot ya, like when Fabolous made Ray J mad\\n\\'Cause Fab said he looked like a fag at Mayweather\\'s pad\\nSingin\\' to a man while he played piano\\nMan, oh man, that was a 24/7 special on the cable channel\\nSo Ray J went straight to the radio station\\nThe very next day, \"Hey Fab, I\\'ma kill you!\"\\nLyrics comin\\' at you at supersonic speed (J.J. Fad)\\nUh, summa-lumma, dooma-lumma, you assumin\\' I\\'m a human\\nWhat I gotta do to get it through to you? I\\'m superhuman\\nInnovative and I\\'m made of rubber so that anything you say is ricochetin\\' off of me and it\\'ll glue to you and\\nI\\'m devastating, more than ever demonstrating\\nHow to give a motherfuckin\\' audience a feeling like it\\'s levitating\\nNever fading, and I know the haters are forever waiting\\nFor the day that they can say I fell off, they\\'ll be celebrating\\n\\'Cause I know the way to get \\'em motivated\\nI make elevating music, you make elevator music\\n\"Oh, he\\'s too mainstream.\"\\nWell, that\\'s what they do when they get jealous, they confuse it\\n\"It\\'s not hip-hop, it\\'s pop,\"—\\'cause I found a hella way to fuse it\\nWith rock, shock rap with Doc\\nThrow on \"Lose Yourself\" and make \\'em lose it\\n\"I don\\'t know how to make songs like that\\nI don\\'t know what words to use.\"\\nLet me know when it occurs to you\\nWhile I\\'m rippin\\' any one of these verses that versus you\\nIt\\'s curtains, I\\'m inadvertently hurtin\\' you\\nHow many verses I gotta murder to\\nProve that if you were half as nice, your songs you could sacrifice virgins too?!\\nUgh, school flunky, pill junkie\\nBut look at the accolades these skills brung me\\nFull of myself, but still hungry\\nI bully myself \\'cause I make me do what I put my mind to\\nAnd I\\'m a million leagues above you\\nIll when I speak in tongues, but it\\'s still tongue-in-cheek, fuck you\\nI\\'m drunk, so, Satan, take the fucking wheel\\nI\\'ma sleep in the front seat\\nBumpin\\' Heavy D and the Boyz, still \"Chunky but Funky\"\\nBut in my head there\\'s something I can feel tugging and struggling\\nAngels fight with devils and here\\'s what they want from me\\nThey\\'re askin\\' me to eliminate some of the women hate\\nBut if you take into consideration the bitter hatred\\nI have, then you may be a little patient\\nAnd more sympathetic to the situation\\nAnd understand the discrimination\\nBut fuck it, life\\'s handin\\' you lemons? Make lemonade then!\\nBut if I can\\'t batter the women\\nHow the fuck am I supposed to bake \\'em a cake then?\\nDon\\'t mistake him for Satan\\nIt\\'s a fatal mistake if you think I need to be overseas and take a vacation\\nTo trip a broad, and make her fall on her face and\\nDon\\'t be a retard—be a king? Think not\\nWhy be a king when you can be a god?6.8KEmbed',\n",
       " \"[Verse 1]\\nYou're on the phone with your girlfriend, she's upset\\nShe's going off about something that you said\\n'Cause she doesn't get your humor like I do\\nI'm in the room, it's a typical Tuesday night\\nI'm listening to the kind of music she doesn't like\\nAnd she'll never know your story like I do\\n\\n[Pre-Chorus]\\nBut she wears short skirts, I wear T-shirts\\nShe's Cheer Captain and I'm on the bleachers\\nDreaming 'bout the day when you wake up and find\\nThat what you're looking for has been here the whole time\\n\\n[Chorus]\\nIf you could see that I'm the one who understands you\\nBeen here all along, so why can't you see?\\nYou belong with me, you belong with me\\n\\n[Verse 2]\\nWalking the streets with you and your worn-out jeans\\nI can't help thinking this is how it ought to be\\nLaughing on a park bench, thinking to myself\\nHey, isn't this easy?\\nAnd you've got a smile that could light up this whole town\\nI haven't seen it in a while since she brought you down\\nYou say you're fine, I know you better than that\\nHey, whatcha doing with a girl like that?\\nSee Taylor Swift LiveGet tickets as low as $163You might also like[Pre-Chorus]\\nShe wears high heels, I wear sneakers\\nShe's Cheer Captain and I'm on the bleachers\\nDreaming 'bout the day when you wake up and find\\nThat what you're looking for has been here the whole time\\n\\n[Chorus]\\nIf you could see that I'm the one who understands you\\nBeen here all along, so why can't you see?\\nYou belong with me\\nStanding by and waiting at your back door\\nAll this time, how could you not know, baby?\\nYou belong with me, you belong with me\\n\\n[Bridge]\\nOh, I remember you driving to my house\\nIn the middle of the night\\nI'm the one who makes you laugh\\nWhen you know you're 'bout to cry\\nAnd I know your favorite songs\\nAnd you tell me 'bout your dreams\\nThink I know where you belong\\nThink I know it's with me\\n\\n[Chorus]\\nCan't you see that I'm the one who understands you\\nBeen here all along, so why can't you see?\\nYou belong with me\\nStanding by and waiting at your back door\\nAll this time, how could you not know, baby?\\nYou belong with me, you belong with me\\n[Outro]\\nYou belong with me\\nHave you ever thought just maybe\\nYou belong with me?\\nYou belong with me98Embed\",\n",
       " '[Verse 1]\\nWe were both young when I first saw you\\nI close my eyes and the flashback starts\\nI\\'m standing there\\nOn a balcony in summer air\\nSee the lights, see the party, the ball gowns\\nSee you make your way through the crowd\\nAnd say, \"Hello\"\\nLittle did I know\\n\\n[Pre-Chorus]\\nThat you were Romeo, you were throwing pebbles\\nAnd my daddy said, \"Stay away from Juliet\"\\nAnd I was crying on the staircase\\nBegging you, \"Please don\\'t go,\" and I said\\n\\n[Chorus]\\nRomeo, take me somewhere we can be alone\\nI\\'ll be waiting, all there\\'s left to do is run\\nYou\\'ll be the prince and I\\'ll be the princess\\nIt\\'s a love story, baby, just say, \"Yes\"\\n\\n[Verse 2]\\nSo I sneak out to the garden to see you\\nWe keep quiet \\'cause we\\'re dead if they knew\\nSo close your eyes\\nEscape this town for a little while, oh, oh\\nSee Taylor Swift LiveGet tickets as low as $197You might also like[Pre-Chorus]\\n\\'Cause you were Romeo, I was a scarlet letter\\nAnd my daddy said, \"Stay away from Juliet\"\\nBut you were everything to me\\nI was begging you, \"Please don\\'t go,\" and I said\\n\\n[Chorus]\\nRomeo, take me somewhere we can be alone\\nI\\'ll be waiting, all there\\'s left to do is run\\nYou\\'ll be the prince and I\\'ll be the princess\\nIt\\'s a love story, baby, just say, \"Yes\"\\nRomeo, save me, they\\'re trying to tell me how to feel\\nThis love is difficult, but it\\'s real\\nDon\\'t be afraid, we\\'ll make it out of this mess\\nIt\\'s a love story, baby, just say, \"Yes\"\\n\\n[Post-Chorus]\\nOh, oh\\n\\n[Bridge]\\nBut I got tired of waiting\\nWondering if you were ever coming around\\nMy faith in you was fading\\nWhen I met you on the outskirts of town and I said\\n\\n[Chorus]\\n\"Romeo, save me, I\\'ve been feeling so alone\\nI keep waiting for you, but you never come\\nIs this in my head? I don\\'t know what to think\"\\nHe knelt to the ground and pulled out a ring, and said\\n\"Marry me, Juliet, you\\'ll never have to be alone\\nI love you and that\\'s all I really know\\nI talked to your dad, go pick out a white dress\\nIt\\'s a love story, baby, just say \\'Yes\\'\"\\n[Outro]\\nOh, oh, oh\\nOh, oh, oh\\n\\'Cause we were both young when I first saw you178Embed',\n",
       " None)"
      ]
     },
     "execution_count": 39,
     "metadata": {},
     "output_type": "execute_result"
    }
   ],
   "source": [
    "a = find_lyrics(\"Taylor Swift\", \"Mine\")\n",
    "b = find_lyrics(\"Taylor Swift\", \"Red\")\n",
    "c = find_lyrics(\"Eminem\", \"Rap God\")\n",
    "d = find_lyrics(\"Taylor Swift\", \"You Belong With Me\")\n",
    "e = find_lyrics(\"Taylor Swift\", \"Love Story\")\n",
    "(a, b, c, d, e)"
   ]
  },
  {
   "cell_type": "code",
   "execution_count": 31,
   "metadata": {},
   "outputs": [
    {
     "name": "stdout",
     "output_type": "stream",
     "text": [
      "0.4755529\n",
      "0.32196778\n",
      "0.43251294\n"
     ]
    }
   ],
   "source": [
    "print(np.dot(model.encode(a), model.encode(b)))\n",
    "print(np.dot(model.encode(b), model.encode(c)))\n",
    "print(np.dot(model.encode(a), model.encode(c)))\n",
    "\n"
   ]
  },
  {
   "cell_type": "code",
   "execution_count": 40,
   "metadata": {},
   "outputs": [
    {
     "name": "stdout",
     "output_type": "stream",
     "text": [
      "0.5970006\n",
      "0.42917782\n"
     ]
    }
   ],
   "source": [
    "print(np.dot(model.encode(d), model.encode(e)))\n",
    "print(np.dot(model.encode(d), model.encode(c)))\n",
    "\n"
   ]
  }
 ],
 "metadata": {
  "kernelspec": {
   "display_name": ".venv",
   "language": "python",
   "name": "python3"
  },
  "language_info": {
   "codemirror_mode": {
    "name": "ipython",
    "version": 3
   },
   "file_extension": ".py",
   "mimetype": "text/x-python",
   "name": "python",
   "nbconvert_exporter": "python",
   "pygments_lexer": "ipython3",
   "version": "3.8.2"
  }
 },
 "nbformat": 4,
 "nbformat_minor": 2
}
